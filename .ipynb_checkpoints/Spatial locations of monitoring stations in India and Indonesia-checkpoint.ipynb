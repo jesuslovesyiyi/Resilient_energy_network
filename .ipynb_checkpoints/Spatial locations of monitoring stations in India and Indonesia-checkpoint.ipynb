{
 "cells": [
  {
   "cell_type": "markdown",
   "metadata": {
    "toc": true
   },
   "source": [
    "<h1>Table of Contents<span class=\"tocSkip\"></span></h1>\n",
    "<div class=\"toc\"><ul class=\"toc-item\"><li><span><a href=\"#Libraries\" data-toc-modified-id=\"Libraries-1\"><span class=\"toc-item-num\">1&nbsp;&nbsp;</span>Libraries</a></span></li><li><span><a href=\"#Locations-for-monitoring-stations\" data-toc-modified-id=\"Locations-for-monitoring-stations-2\"><span class=\"toc-item-num\">2&nbsp;&nbsp;</span>Locations for monitoring stations</a></span></li></ul></div>"
   ]
  },
  {
   "cell_type": "markdown",
   "metadata": {},
   "source": [
    "# Libraries"
   ]
  },
  {
   "cell_type": "code",
   "execution_count": 1,
   "metadata": {
    "ExecuteTime": {
     "end_time": "2023-09-20T18:53:04.010688Z",
     "start_time": "2023-09-20T18:53:02.950448Z"
    }
   },
   "outputs": [],
   "source": [
    "import os\n",
    "import pandas as pd"
   ]
  },
  {
   "cell_type": "markdown",
   "metadata": {},
   "source": [
    "Set working directory"
   ]
  },
  {
   "cell_type": "code",
   "execution_count": 4,
   "metadata": {
    "ExecuteTime": {
     "end_time": "2023-09-21T02:49:18.746136Z",
     "start_time": "2023-09-21T02:49:18.742570Z"
    }
   },
   "outputs": [],
   "source": [
    "working_dir = \"/Users/yiyihe/Desktop/WorldBank/India_energy_resilience/\"\n",
    "os.chdir(working_dir)"
   ]
  },
  {
   "cell_type": "markdown",
   "metadata": {},
   "source": [
    "# Locations for monitoring stations"
   ]
  },
  {
   "cell_type": "code",
   "execution_count": 22,
   "metadata": {
    "ExecuteTime": {
     "end_time": "2023-09-21T03:00:57.323435Z",
     "start_time": "2023-09-21T03:00:57.312661Z"
    }
   },
   "outputs": [
    {
     "name": "stdout",
     "output_type": "stream",
     "text": [
      "The bounding coordinates for India are:      30.69003032      13.00001241      72.98835982      94.20370787      \n",
      "The bounding coordinates for India are:      -6.126083659      -10.21126222      106.59950829999998      123.7179979      \n"
     ]
    }
   ],
   "source": [
    "india_station_csv_path = \"01_data/monitor_station_loc/ESMI_station_India_09062023.csv\"\n",
    "indonesia_station_csv_path = \"01_data/monitor_station_loc/ESMI_station_Indonesia_09032023.csv\"\n",
    "\n",
    "# Read the csvs of monitoring stations\n",
    "india_station_df = pd.read_csv(india_station_csv_path)\n",
    "indonesia_station_df = pd.read_csv(indonesia_station_csv_path)\n",
    "\n",
    "# Get the bounding coordinates of India and Indonesia\n",
    "# India\n",
    "# lat_max, lat_min, long_max, long_min\n",
    "print(f\"The bounding coordinates for India are:\\\n",
    "      {india_station_df.latitude.max()}\\\n",
    "      {india_station_df.latitude.min()}\\\n",
    "      {india_station_df.longtitude.min()}\\\n",
    "      {india_station_df.longtitude.max()}\\\n",
    "      \")\n",
    "\n",
    "# Indonesia\n",
    "# lat_max, lat_min, long_max, long_min\n",
    "print(f\"The bounding coordinates for India are:\\\n",
    "      {indonesia_station_df.latitude.max()}\\\n",
    "      {indonesia_station_df.latitude.min()}\\\n",
    "      {indonesia_station_df.longtitude.min()}\\\n",
    "      {indonesia_station_df.longtitude.max()}\\\n",
    "      \")\n"
   ]
  },
  {
   "cell_type": "code",
   "execution_count": null,
   "metadata": {},
   "outputs": [],
   "source": []
  }
 ],
 "metadata": {
  "kernelspec": {
   "display_name": "wb1",
   "language": "python",
   "name": "wb1"
  },
  "language_info": {
   "codemirror_mode": {
    "name": "ipython",
    "version": 3
   },
   "file_extension": ".py",
   "mimetype": "text/x-python",
   "name": "python",
   "nbconvert_exporter": "python",
   "pygments_lexer": "ipython3",
   "version": "3.9.0"
  },
  "toc": {
   "base_numbering": 1,
   "nav_menu": {},
   "number_sections": true,
   "sideBar": true,
   "skip_h1_title": false,
   "title_cell": "Table of Contents",
   "title_sidebar": "Contents",
   "toc_cell": true,
   "toc_position": {},
   "toc_section_display": true,
   "toc_window_display": true
  }
 },
 "nbformat": 4,
 "nbformat_minor": 4
}
