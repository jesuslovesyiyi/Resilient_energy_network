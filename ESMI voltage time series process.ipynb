{
 "cells": [
  {
   "cell_type": "markdown",
   "metadata": {
    "toc": true
   },
   "source": [
    "<h1>Table of Contents<span class=\"tocSkip\"></span></h1>\n",
    "<div class=\"toc\"><ul class=\"toc-item\"><li><span><a href=\"#Libraries\" data-toc-modified-id=\"Libraries-1\"><span class=\"toc-item-num\">1&nbsp;&nbsp;</span>Libraries</a></span></li><li><span><a href=\"#Data-scraper-from-ESMI\" data-toc-modified-id=\"Data-scraper-from-ESMI-2\"><span class=\"toc-item-num\">2&nbsp;&nbsp;</span>Data scraper from ESMI</a></span></li><li><span><a href=\"#Process-time-series\" data-toc-modified-id=\"Process-time-series-3\"><span class=\"toc-item-num\">3&nbsp;&nbsp;</span>Process time series</a></span><ul class=\"toc-item\"><li><span><a href=\"#Voltage-time-series-for-the-south\" data-toc-modified-id=\"Voltage-time-series-for-the-south-3.1\"><span class=\"toc-item-num\">3.1&nbsp;&nbsp;</span>Voltage time series for the south</a></span></li><li><span><a href=\"#Locations-for-the-data-points\" data-toc-modified-id=\"Locations-for-the-data-points-3.2\"><span class=\"toc-item-num\">3.2&nbsp;&nbsp;</span>Locations for the data points</a></span></li></ul></li><li><span><a href=\"#Scratch-book\" data-toc-modified-id=\"Scratch-book-4\"><span class=\"toc-item-num\">4&nbsp;&nbsp;</span>Scratch book</a></span></li></ul></div>"
   ]
  },
  {
   "cell_type": "markdown",
   "metadata": {},
   "source": [
    "# Libraries"
   ]
  },
  {
   "cell_type": "code",
   "execution_count": 63,
   "metadata": {
    "ExecuteTime": {
     "end_time": "2023-07-17T05:14:29.928385Z",
     "start_time": "2023-07-17T05:14:29.925179Z"
    }
   },
   "outputs": [],
   "source": [
    "import csv\n",
    "import numpy as np\n",
    "import sys\n",
    "from bs4 import BeautifulSoup\n",
    "import os\n",
    "from datetime import datetime\n",
    "from datetime import time, tzinfo, timedelta\n",
    "\n",
    "import requests\n",
    "import pandas as pd\n",
    "from tqdm import tqdm\n",
    "import re\n",
    "import pickle"
   ]
  },
  {
   "cell_type": "markdown",
   "metadata": {},
   "source": [
    "# Data scraper from ESMI\n"
   ]
  },
  {
   "cell_type": "code",
   "execution_count": null,
   "metadata": {},
   "outputs": [],
   "source": [
    "url_lists = []\n",
    "# \"Andhra Pradesh\",\"Assam\",\"Jharkhand\",\"Karnataka\",\"Maharashtra\",\"Odisha\" ,\"Punjab\",\"Tamil Nadu\",\"Telangana\" ,\"Uttar Pradesh\"\n",
    "\n",
    "# 'http://www.watchyourpower.org/reports.php?category_id=3&state=Andhra Pradesh&district=Jorhat'\n",
    "headers={\n",
    "    'user-agent': 'Mozilla/5.0 (Windows NT 10.0; Win64; x64) AppleWebKit/537.36 (KHTML, like Gecko) Chrome/103.0.0.0 Safari/537.36',\n",
    "    'Content-Type': 'application/json'\n",
    "    }\n",
    "#payload= {\"postType\":\"Both\",\"day\":\"Day1095\",\"sort\":\"InsOrRegDate\",\"order\":\"Descending\",\"size\":20,\"offset\":\"20\",\"pageSource\":\"search\"}\n",
    "\n",
    "for c in [2,3,4,5]:\n",
    "    api_url= f'http://www.watchyourpower.org/reports.php?category_id={c}'\n",
    "    print(api_url)\n",
    "    res=requests.post(api_url,headers=headers)\n",
    "    if res. ok:\n",
    "      text = res.text\n",
    "      text_list = text.split('<option value=\"\">-- Select  --</option>')[1].split('</select>')[0]\n",
    "      text_list = re.split('<option class=\"\" | >', text_list)\n",
    "      text_list2 = [elem[6:].replace('\\\"', '').replace(' ', '+')  for elem in text_list if elem.startswith(\"value=\")]\n",
    "    print(c,text_list2)\n",
    "\n",
    "    for id in text_list2:\n",
    "        result = []\n",
    "        for year in range(2004,2024):\n",
    "            for month in range(1,13):\n",
    "\n",
    "                next_month =  1 if month==12 else month+1\n",
    "                next_year = year + 1 if month==12 else year\n",
    "                url= f'http://www.watchyourpower.org/reports.php?category_id={c}&location_id={id}&from_date=13%2F{month_2dight[month]}%2F{year}&to_date=13%2F{month_2dight[next_month]}%2F{next_year}'\n",
    "                print(url)\n",
    "\n",
    "                # res=requests.post(url,headers=headers)\n",
    "                try:\n",
    "                    res=requests.post(url,headers=headers, timeout=5)\n",
    "                except requests.Timeout:\n",
    "                    # back off and retry\n",
    "                    pass\n",
    "                except requests.ConnectionError:\n",
    "                    pass\n",
    "                if res.ok:\n",
    "                  print('ok', year, month)\n",
    "                  text = res.text\n",
    "                  title= text.split('<title>')[1].split('for')[0]\n",
    "                  print(title)\n",
    "                  text_list = text.split('\\n')\n",
    "                  for elem in text_list:\n",
    "                      # print(type(elem),elem)\n",
    "                      if elem.startswith(\"\\t\\tvar linechartData\"):\n",
    "                          # print(elem[24:-3])\n",
    "                          voltage_list = elem[24:-3].split('},{')\n",
    "                          # print(voltage_list)\n",
    "                          for volt in tqdm(voltage_list):\n",
    "                              # print(volt)\n",
    "                              result.append(eval(\"{\"+volt+\"}\"))\n",
    "        print(len(result))\n",
    "        save = {'name': title, 'timeseris':result}\n",
    "        with open(f'{title}.pkl', 'wb') as f:\n",
    "            pickle.dump(save, f)"
   ]
  },
  {
   "cell_type": "markdown",
   "metadata": {},
   "source": [
    "# Process time series"
   ]
  },
  {
   "cell_type": "markdown",
   "metadata": {},
   "source": [
    "## Voltage time series for the south"
   ]
  },
  {
   "cell_type": "code",
   "execution_count": 121,
   "metadata": {
    "ExecuteTime": {
     "end_time": "2023-07-17T06:37:22.157061Z",
     "start_time": "2023-07-17T06:03:59.580498Z"
    }
   },
   "outputs": [
    {
     "name": "stderr",
     "output_type": "stream",
     "text": [
      "100%|██████████| 43/43 [33:22<00:00, 46.57s/it]\n"
     ]
    }
   ],
   "source": [
    "pkl_folder_dir = '../../save/'\n",
    "\n",
    "# Check for visited files\n",
    "save_folder_dir = '../../ESMI_csv/'\n",
    "file_id_visited = []\n",
    "for item in os.listdir(save_folder_dir):\n",
    "    file_id_visited.append(int(item.split('_')[0]))\n",
    "\n",
    "for item in tqdm(os.listdir(pkl_folder_dir)):\n",
    "    if int(item.split('.')[0]) in file_id_visited:\n",
    "        continue\n",
    "    else:\n",
    "        try:\n",
    "            # Load file\n",
    "            file = pickle.load(open(pkl_folder_dir + item, 'rb'))\n",
    "            raw_df = pd.DataFrame(file)\n",
    "\n",
    "            # Location name\n",
    "            location_name = pd.DataFrame(file)['name'].unique()[0]\n",
    "            state_name = location_name.split(' - ')[1].split(', ')[0]\n",
    "            district_name = location_name.split(' - ')[1].split(', ')[1]\n",
    "            location_name = location_name.split(' - ')[1].split(', ')[-1][:-1]\n",
    "            # check '/' in names\n",
    "            if '/' in state_name:\n",
    "                state_name = state_name.replace(\"/\", \"_\")\n",
    "            if '/' in district_name:\n",
    "                district_name = district_name.replace(\"/\", \"_\")\n",
    "            if '/' in location_name:\n",
    "                location_name = location_name.replace(\"/\", \"_\")\n",
    "\n",
    "            # Extract datetime and voltage data\n",
    "            df = raw_df[['timeseris']]\n",
    "            df['datetime'] = df.apply(lambda row: datetime.strptime(row['timeseris']['date'], '%a %b %d %Y %H:%M:%S'), axis=1)\n",
    "            df['voltage'] = df.apply(lambda row: row['timeseris']['voltage'], axis=1)\n",
    "\n",
    "            # Save dataframe to csv file\n",
    "            df.to_csv(f'../../ESMI_csv/{int(item[:-4])}_{state_name}_{district_name}_{location_name}.csv')\n",
    "        except FileNotFoundError:\n",
    "            print(item)\n"
   ]
  },
  {
   "cell_type": "markdown",
   "metadata": {},
   "source": [
    "## Locations for the data points"
   ]
  },
  {
   "cell_type": "code",
   "execution_count": null,
   "metadata": {},
   "outputs": [],
   "source": []
  },
  {
   "cell_type": "code",
   "execution_count": null,
   "metadata": {},
   "outputs": [],
   "source": []
  },
  {
   "cell_type": "code",
   "execution_count": null,
   "metadata": {},
   "outputs": [],
   "source": []
  },
  {
   "cell_type": "code",
   "execution_count": null,
   "metadata": {},
   "outputs": [],
   "source": []
  },
  {
   "cell_type": "code",
   "execution_count": null,
   "metadata": {},
   "outputs": [],
   "source": []
  },
  {
   "cell_type": "code",
   "execution_count": null,
   "metadata": {},
   "outputs": [],
   "source": []
  },
  {
   "cell_type": "markdown",
   "metadata": {},
   "source": [
    "# Scratch book"
   ]
  },
  {
   "cell_type": "code",
   "execution_count": null,
   "metadata": {},
   "outputs": [],
   "source": []
  },
  {
   "cell_type": "code",
   "execution_count": null,
   "metadata": {},
   "outputs": [],
   "source": []
  },
  {
   "cell_type": "code",
   "execution_count": null,
   "metadata": {},
   "outputs": [],
   "source": []
  }
 ],
 "metadata": {
  "kernelspec": {
   "display_name": "wb1",
   "language": "python",
   "name": "wb1"
  },
  "language_info": {
   "codemirror_mode": {
    "name": "ipython",
    "version": 3
   },
   "file_extension": ".py",
   "mimetype": "text/x-python",
   "name": "python",
   "nbconvert_exporter": "python",
   "pygments_lexer": "ipython3",
   "version": "3.9.0"
  },
  "toc": {
   "base_numbering": 1,
   "nav_menu": {},
   "number_sections": true,
   "sideBar": true,
   "skip_h1_title": false,
   "title_cell": "Table of Contents",
   "title_sidebar": "Contents",
   "toc_cell": true,
   "toc_position": {
    "height": "calc(100% - 180px)",
    "left": "10px",
    "top": "150px",
    "width": "273.188px"
   },
   "toc_section_display": true,
   "toc_window_display": true
  }
 },
 "nbformat": 4,
 "nbformat_minor": 4
}
