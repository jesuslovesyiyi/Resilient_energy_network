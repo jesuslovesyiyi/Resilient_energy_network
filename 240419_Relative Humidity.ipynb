{
 "cells": [
  {
   "cell_type": "code",
   "execution_count": 18,
   "id": "09b004d6",
   "metadata": {},
   "outputs": [],
   "source": [
    "import pandas as pd\n",
    "import math\n",
    "\n",
    "def calculate_saturation_pressure_water(t2m):\n",
    "    a1 = 611.21\n",
    "    a3 = 17.502\n",
    "    a4 = 32.19\n",
    "    T0 = 273.16\n",
    "    return a1 * t2m.apply(lambda x: math.exp(a3 * (x - T0) / (x - a4)))\n",
    "\n",
    "def calculate_saturation_pressure_ice(t2m):\n",
    "    a1 = 611.21\n",
    "    a3 = 22.587\n",
    "    a4 = -0.7\n",
    "    T0 = 273.16\n",
    "    return a1 * t2m.apply(lambda x: math.exp(a3 * (x - T0) / (x - a4)))\n",
    "\n",
    "def calculate_relative_humidity(t2m, p, q):\n",
    "    epsilon = 0.621981\n",
    "    esat_w = calculate_saturation_pressure_water(t2m)\n",
    "    esat_i = calculate_saturation_pressure_ice(t2m)\n",
    "    alpha = calculate_mixed_phase_parameter(t2m)\n",
    "    esat = alpha * esat_w + (1 - alpha) * esat_i\n",
    "    e = (p * q ** (1 / epsilon)) / (esat * (1 + q * (1 / epsilon - 1)))\n",
    "    RH = 100 * e\n",
    "    return RH\n",
    "\n",
    "def calculate_mixed_phase_parameter(t2m):\n",
    "    Tice = 250.16\n",
    "    T0 = 273.16\n",
    "    return t2m.apply(lambda x: 0 if x <= Tice else (1 if x >= T0 else ((x - Tice) / (T0 - Tice)) ** 2))\n",
    "\n",
    "def calculate_specific_humidity(t2m, p):\n",
    "    Rdry = 287.05  # Specific gas constant for dry air in J/(kg·K)\n",
    "    Rvap = 461.5   # Specific gas constant for water vapor in J/(kg·K)\n",
    "    esat = calculate_saturation_pressure_water(t2m)\n",
    "    q_sat = ((Rvap / Rdry) * esat) / (p - (1 - Rvap / Rdry) * esat)\n",
    "    return q_sat\n",
    "\n",
    "# Load the CSV file into a DataFrame\n",
    "df = pd.read_csv('D:/ESMI_Dataset/Final_Data/Panel_Data/panel_data_240417_test.csv')\n",
    "\n",
    "# Convert T to t2m (assuming T represents air temperature in Celsius)\n",
    "df['t2m'] += 273.15\n",
    "\n",
    "# Calculate specific humidity for each row\n",
    "df['Specific Humidity'] = calculate_specific_humidity(df['t2m'], df['sp'])\n",
    "\n",
    "# Calculate relative humidity for each row\n",
    "df['Relative Humidity'] = calculate_relative_humidity(df['t2m'], df['sp'], df['Specific Humidity'])\n",
    "\n",
    "# Save the DataFrame back to CSV\n",
    "df.to_csv('your_modified_file.csv', index=False)\n"
   ]
  }
 ],
 "metadata": {
  "kernelspec": {
   "display_name": "Python 3 (ipykernel)",
   "language": "python",
   "name": "python3"
  },
  "language_info": {
   "codemirror_mode": {
    "name": "ipython",
    "version": 3
   },
   "file_extension": ".py",
   "mimetype": "text/x-python",
   "name": "python",
   "nbconvert_exporter": "python",
   "pygments_lexer": "ipython3",
   "version": "3.11.4"
  }
 },
 "nbformat": 4,
 "nbformat_minor": 5
}
