{
 "cells": [
  {
   "cell_type": "markdown",
   "metadata": {
    "toc": true
   },
   "source": [
    "<h1>Table of Contents<span class=\"tocSkip\"></span></h1>\n",
    "<div class=\"toc\"><ul class=\"toc-item\"><li><span><a href=\"#Libraries\" data-toc-modified-id=\"Libraries-1\"><span class=\"toc-item-num\">1&nbsp;&nbsp;</span>Libraries</a></span></li><li><span><a href=\"#Data-scraper-for-ESMI\" data-toc-modified-id=\"Data-scraper-for-ESMI-2\"><span class=\"toc-item-num\">2&nbsp;&nbsp;</span>Data scraper for ESMI</a></span></li><li><span><a href=\"#India\" data-toc-modified-id=\"India-3\"><span class=\"toc-item-num\">3&nbsp;&nbsp;</span>India</a></span></li><li><span><a href=\"#Indonesia\" data-toc-modified-id=\"Indonesia-4\"><span class=\"toc-item-num\">4&nbsp;&nbsp;</span>Indonesia</a></span></li><li><span><a href=\"#Scratch-book\" data-toc-modified-id=\"Scratch-book-5\"><span class=\"toc-item-num\">5&nbsp;&nbsp;</span>Scratch book</a></span></li></ul></div>"
   ]
  },
  {
   "cell_type": "markdown",
   "metadata": {},
   "source": [
    "# Libraries"
   ]
  },
  {
   "cell_type": "code",
   "execution_count": 2,
   "metadata": {
    "ExecuteTime": {
     "end_time": "2023-07-29T01:13:15.018604Z",
     "start_time": "2023-07-29T01:13:13.341467Z"
    }
   },
   "outputs": [],
   "source": [
    "import os\n",
    "from datetime import datetime\n",
    "from datetime import time, tzinfo, timedelta\n",
    "import requests\n",
    "import pandas as pd\n",
    "from tqdm import tqdm\n",
    "import re\n",
    "import pickle"
   ]
  },
  {
   "cell_type": "markdown",
   "metadata": {},
   "source": [
    "# Data scraper for ESMI\n"
   ]
  },
  {
   "cell_type": "code",
   "execution_count": null,
   "metadata": {},
   "outputs": [],
   "source": [
    "session = requests.Session()\n",
    "login_url = 'http://www.watchyourpower.org/admin/'\n",
    "headers = {\n",
    "    'User-Agent': 'Mozilla/5.0 (Linux; Android 6.0; Nexus 5 Build/MRA58N) AppleWebKit/537.36 (KHTML, like Gecko) Chrome/114.0.0.0 Mobile Safari/537.36'\n",
    "}\n",
    "\n",
    "page_text = session.get(url=login_url,headers=headers)\n",
    "img_url = 'http://www.watchyourpower.org/captcha.php'\n",
    "img_data = session.get(url=img_url,headers=headers).content\n",
    "with open('./Code.jpg','wb') as fp:\n",
    "    fp.write(img_data)\n",
    "image = mpimg.imread(\"./Code.jpg\")\n",
    "plt.imshow(image)\n",
    "plt.show()\n",
    "img_code = input('Enter code：')\n",
    "username ='junrentschler'\n",
    "password ='jun@2018'\n",
    "data ={   'username': username,    'password': password, 'code':img_code, 'login': 'Login'}\n",
    "print(data)\n",
    "index = session.post(url=login_url, headers=headers, data=data)\n",
    "print(index)\n",
    "detial_url = 'http://www.watchyourpower.org/reports.php?category_id=3&location_id=119&from_date=13%2F01%2F2017&to_date=13%2F02%2F2017'\n",
    "detial_text = session.get(url=detial_url,headers=headers).text\n",
    "print(detial_text.find('Welcome'))\n",
    "if detial_text.find('Welcome') == -1:\n",
    "    exit()\n",
    "\n",
    "url_lists = []\n",
    "month_2dight={1:\"01\", 2:\"02\",3:\"03\",4:\"04\",5:\"05\", 6:\"06\",7:\"07\", 8:\"08\",9:\"09\",10:\"10\",11:\"11\", 12:\"12\"}\n",
    "\n",
    "for c in [2,3,4,5]:\n",
    "    api_url= f'http://www.watchyourpower.org/reports.php?category_id={c}'\n",
    "    print(api_url)\n",
    "    res=session.get(url=api_url,headers=headers)\n",
    "    if res. ok:\n",
    "        text = res.text\n",
    "        text_list = text.split('<option value=\"\">-- Select  --</option>')[1].split('</select>')[0]\n",
    "        text_list=re.split('<option class=\"\" | >', text_list)\n",
    "        text_list2 = [elem[6:].replace('\\\"', '').replace(' ', '+')  for elem in text_list if elem.startswith(\"value=\")]\n",
    "    print(c,text_list2)\n",
    "\n",
    "    for id in text_list2:\n",
    "        if os.path.exists(f'India_new/{id}.pkl'):\n",
    "            continue\n",
    "        result = []\n",
    "        for year in range(2004,2024):\n",
    "            for month in range(1,13):\n",
    "\n",
    "                next_month =  1 if month==12 else month+1\n",
    "                next_year = year + 1 if month==12 else year\n",
    "                url= f'http://www.watchyourpower.org/reports.php?category_id={c}&location_id={id}&from_date=13%2F{month_2dight[month]}%2F{year}&to_date=13%2F{month_2dight[next_month]}%2F{next_year}'\n",
    "                print(url)\n",
    "\n",
    "                # res=requests.post(url,headers=headers)\n",
    "                try:\n",
    "                    res=session.get(url=url,headers=headers, timeout=5)\n",
    "                except requests.Timeout:\n",
    "                    # back off and retry\n",
    "                    pass\n",
    "                except requests.ConnectionError:\n",
    "                    pass\n",
    "                if res.ok:\n",
    "                    print('ok', year, month)\n",
    "                    text = res.text\n",
    "                    title= text.split('<title>')[1].split('for')[0]\n",
    "                    print(title)\n",
    "                    text_list = text.split('\\n')\n",
    "                for elem in text_list:\n",
    "                      # print(type(elem),elem)\n",
    "                    if elem.startswith(\"\\t\\tvar linechartData\"):\n",
    "                        # print(elem[24:-3])\n",
    "                        voltage_list = elem[24:-3].split('},{')\n",
    "                        # print(voltage_list)\n",
    "                        for volt in tqdm(voltage_list):\n",
    "                            # print(volt)\n",
    "                            result.append(eval(\"{\"+volt.replace('null','\\\"null\\\"')+\"}\"))\n",
    "        print(len(result))\n",
    "        save = {'name': title, 'timeseris':result}\n",
    "        with open(f'India_new/{id}.pkl', 'wb') as f:\n",
    "            pickle.dump(save, f)"
   ]
  },
  {
   "cell_type": "markdown",
   "metadata": {},
   "source": [
    "# India"
   ]
  },
  {
   "cell_type": "code",
   "execution_count": null,
   "metadata": {},
   "outputs": [],
   "source": []
  },
  {
   "cell_type": "code",
   "execution_count": 41,
   "metadata": {
    "ExecuteTime": {
     "end_time": "2023-07-29T05:36:50.538714Z",
     "start_time": "2023-07-29T05:06:40.544241Z"
    }
   },
   "outputs": [
    {
     "name": "stderr",
     "output_type": "stream",
     "text": [
      "100%|██████████| 44/44 [30:09<00:00, 41.14s/it]\n"
     ]
    }
   ],
   "source": [
    "# Directory where the raw .pk files are stored\n",
    "india_pk_dir = '../../01_data/esmi_raw/india_pickle/'\n",
    "# Directory to save the processed csv files\n",
    "india_esmi_voltage_ts_dir = '../../01_data/esmi_processed/india_esmi_voltage/'\n",
    "\n",
    "# Record locations (list of location ids) that have been processed already\n",
    "loc_visited_lst = []\n",
    "for file in os.listdir(india_esmi_voltage_ts_dir):\n",
    "    loc_visited_lst.append(int(file[:3]))\n",
    "\n",
    "for item in tqdm(os.listdir(india_pk_dir)):\n",
    "    if item[-3:] == 'pkl':\n",
    "        if int(item[:3]) in loc_visited_lst:\n",
    "            continue\n",
    "        else:\n",
    "            #\n",
    "            # Load raw pickle files\n",
    "            file = pickle.load(open(india_pk_dir + item, 'rb'))\n",
    "            raw_df = pd.DataFrame(file)\n",
    "\n",
    "            # Extract name of the monitoring station: state, district, and location\n",
    "            full_name = pd.DataFrame(file)['name'].unique()[0]\n",
    "            # State\n",
    "            state_name = full_name.split(' - ')[1].split(', ')[0]\n",
    "            # District\n",
    "            district_name = full_name.split(' - ')[1].split(', ')[1]\n",
    "            # Location\n",
    "            location_name = full_name.split(' - ')[1].split(', ')[-1][:-1]\n",
    "\n",
    "            # check '/' in names\n",
    "            if '/' in state_name:\n",
    "                state_name = state_name.replace(\"/\", \"_\")\n",
    "            if '/' in district_name:\n",
    "                district_name = district_name.replace(\"/\", \"_\")\n",
    "            if '/' in location_name:\n",
    "                location_name = location_name.replace(\"/\", \"_\")\n",
    "\n",
    "            # Extract datetime and voltage data\n",
    "            df = raw_df[['timeseris']]\n",
    "            df['datetime'] = df.apply(lambda row: datetime.strptime(row['timeseris']['date'], '%a %b %d %Y %H:%M:%S'), axis=1)\n",
    "            df['voltage'] = df.apply(lambda row: row['timeseris']['voltage'], axis=1)\n",
    "\n",
    "            # Save to csv file\n",
    "            df[['datetime', 'voltage']].to_csv(india_esmi_voltage_ts_dir+f'{int(item[:-4])}_{state_name}_{district_name}_{location_name}.csv')\n",
    "\n",
    "    else:\n",
    "        continue\n",
    "\n"
   ]
  },
  {
   "cell_type": "code",
   "execution_count": null,
   "metadata": {},
   "outputs": [],
   "source": []
  },
  {
   "cell_type": "code",
   "execution_count": null,
   "metadata": {},
   "outputs": [],
   "source": []
  },
  {
   "cell_type": "markdown",
   "metadata": {},
   "source": [
    "# Indonesia"
   ]
  },
  {
   "cell_type": "code",
   "execution_count": 89,
   "metadata": {
    "ExecuteTime": {
     "end_time": "2023-07-29T07:22:46.672746Z",
     "start_time": "2023-07-29T07:16:16.011825Z"
    }
   },
   "outputs": [
    {
     "name": "stderr",
     "output_type": "stream",
     "text": [
      "100%|██████████| 28/28 [06:30<00:00, 13.95s/it]\n"
     ]
    }
   ],
   "source": [
    "# Preprocess data\n",
    "indonesia_csv_dir = '../../01_data/esmi_raw/indonesia_csv/'\n",
    "\n",
    "for csv in tqdm(os.listdir(indonesia_csv_dir)):\n",
    "    df = pd.read_csv(indonesia_csv_dir+csv, index_col=0)\n",
    "    df['datetime'] = df.apply(lambda row: datetime.strptime(row['date'] + str(str(row['hour']).rjust(2, \"0\")) + str(str(row['minute']-1).rjust(2, \"0\")), '%Y-%m-%d%H%M%S'), axis=1)\n",
    "    \n",
    "    # save to csv\n",
    "    df[['datetime', 'voltage']].to_csv('../../01_data/esmi_processed/indonesia_esmi_voltage/' + csv)"
   ]
  },
  {
   "cell_type": "code",
   "execution_count": null,
   "metadata": {},
   "outputs": [],
   "source": []
  },
  {
   "cell_type": "code",
   "execution_count": null,
   "metadata": {},
   "outputs": [],
   "source": []
  },
  {
   "cell_type": "code",
   "execution_count": null,
   "metadata": {},
   "outputs": [],
   "source": []
  },
  {
   "cell_type": "markdown",
   "metadata": {},
   "source": [
    "# Scratch book"
   ]
  },
  {
   "cell_type": "code",
   "execution_count": null,
   "metadata": {},
   "outputs": [],
   "source": []
  },
  {
   "cell_type": "code",
   "execution_count": null,
   "metadata": {},
   "outputs": [],
   "source": []
  },
  {
   "cell_type": "code",
   "execution_count": null,
   "metadata": {},
   "outputs": [],
   "source": []
  }
 ],
 "metadata": {
  "kernelspec": {
   "display_name": "wb1",
   "language": "python",
   "name": "wb1"
  },
  "language_info": {
   "codemirror_mode": {
    "name": "ipython",
    "version": 3
   },
   "file_extension": ".py",
   "mimetype": "text/x-python",
   "name": "python",
   "nbconvert_exporter": "python",
   "pygments_lexer": "ipython3",
   "version": "3.9.0"
  },
  "toc": {
   "base_numbering": 1,
   "nav_menu": {},
   "number_sections": true,
   "sideBar": true,
   "skip_h1_title": false,
   "title_cell": "Table of Contents",
   "title_sidebar": "Contents",
   "toc_cell": true,
   "toc_position": {
    "height": "calc(100% - 180px)",
    "left": "10px",
    "top": "150px",
    "width": "273.188px"
   },
   "toc_section_display": true,
   "toc_window_display": true
  }
 },
 "nbformat": 4,
 "nbformat_minor": 4
}
