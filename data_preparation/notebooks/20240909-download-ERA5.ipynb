{
 "cells": [
  {
   "cell_type": "code",
   "execution_count": null,
   "metadata": {},
   "outputs": [
    {
     "ename": "",
     "evalue": "",
     "output_type": "error",
     "traceback": [
      "\u001b[1;31mThe kernel died. Error: /nethome/tliu479/miniconda3/bin/python: No module named ipykernel_launcher... View Jupyter <a href='command:jupyter.viewOutput'>log</a> for further details."
     ]
    }
   ],
   "source": [
    "# ! pip install cdsapi\n",
    "\n",
    "import cdsapi\n",
    "import os\n",
    "import time"
   ]
  },
  {
   "cell_type": "code",
   "execution_count": null,
   "metadata": {},
   "outputs": [],
   "source": [
    "notebook_dir = os.getcwd()\n",
    "print(notebook_dir)"
   ]
  },
  {
   "cell_type": "code",
   "execution_count": null,
   "metadata": {},
   "outputs": [],
   "source": [
    "os.chdir('/nethome/tliu479/')"
   ]
  },
  {
   "cell_type": "code",
   "execution_count": null,
   "metadata": {},
   "outputs": [],
   "source": [
    "config_content = \"\"\"{\n",
    "    url: https://cds-beta.climate.copernicus.eu/api\n",
    "    key: a18d0e29-dcb1-4197-87ea-1cdbfdf4d9b9\n",
    "}\n",
    "\"\"\"\n",
    "\n",
    "# Write the content to .cdsapirc\n",
    "with open('.cdsapirc', 'w') as config_file:\n",
    "    config_file.write(config_content)\n",
    "\n",
    "print(\"Configuration file created successfully.\")\n"
   ]
  },
  {
   "cell_type": "code",
   "execution_count": null,
   "metadata": {},
   "outputs": [],
   "source": [
    "! ls"
   ]
  },
  {
   "cell_type": "code",
   "execution_count": null,
   "metadata": {},
   "outputs": [],
   "source": [
    "with open('/nethome/tliu479/.cdsapirc', 'r') as file:\n",
    "    print(file.read())"
   ]
  },
  {
   "cell_type": "code",
   "execution_count": null,
   "metadata": {},
   "outputs": [],
   "source": [
    "os.chdir(notebook_dir)"
   ]
  },
  {
   "cell_type": "code",
   "execution_count": null,
   "metadata": {},
   "outputs": [],
   "source": [
    "\n",
    "# Define the folder path where the GRIB files will be saved\n",
    "folder_path = '../data/raw/GRIB'\n",
    "\n",
    "# Ensure the folder exists (create if necessary)\n",
    "os.makedirs(folder_path, exist_ok=True)\n"
   ]
  },
  {
   "cell_type": "code",
   "execution_count": null,
   "metadata": {},
   "outputs": [],
   "source": [
    "c = cdsapi.Client()\n",
    "\n",
    "c.retrieve(\n",
    "    'reanalysis-era5-land',\n",
    "    {\n",
    "        'variable': '2m_temperature',\n",
    "        'year': '2023',\n",
    "        'day': '01',\n",
    "        'month': '01',\n",
    "        'time': '00:00',\n",
    "        'area': [\n",
    "            31.0954, 72.4750, 29.4319, 74.802\n",
    "        ],\n",
    "        'format': 'grib',\n",
    "    },\n",
    "    '2023.grib')\n",
    "\n",
    "print('finished')"
   ]
  },
  {
   "cell_type": "code",
   "execution_count": null,
   "metadata": {},
   "outputs": [],
   "source": [
    "\n",
    "\n",
    "# Define the folder path where the GRIB files will be saved\n",
    "folder_path = '../data/raw/GRIB'\n",
    "\n",
    "# Ensure the folder exists (create if necessary)\n",
    "os.makedirs(folder_path, exist_ok=True)\n",
    "\n",
    "def download_era5_data(start_year, end_year, area, variables):\n",
    "    \"\"\"\n",
    "    Downloads ERA5 data for a specified range of years, each day, and each hour of the day.\n",
    "    Tracks and prints the time taken for each download.\n",
    "    \n",
    "    Parameters:\n",
    "    - start_year (int): The starting year of the range.\n",
    "    - end_year (int): The ending year of the range.\n",
    "    - area (list): The bounding box for the area (North, West, South, East).\n",
    "    - variables (list): List of variables to download (e.g., 2m_temperature).\n",
    "    \"\"\"\n",
    "    # Loop through each year from start_year to end_year\n",
    "    for year in range(start_year, end_year + 1):\n",
    "        # Set the start and end dates for the current year\n",
    "        start_date = datetime(year, 1, 1)\n",
    "        end_date = datetime(year, 12, 31)\n",
    "\n",
    "        # Loop through each day in the current year\n",
    "        current_date = start_date\n",
    "        while current_date <= end_date:\n",
    "            # Extract the year, month, and day\n",
    "            year_str = current_date.strftime('%Y')\n",
    "            month_str = current_date.strftime('%m')\n",
    "            day_str = current_date.strftime('%d')\n",
    "\n",
    "            # Loop through all hours (00:00 to 23:00)\n",
    "            for hour in range(24):\n",
    "                # Format the hour as two digits\n",
    "                hour_str = f\"{hour:02d}:00\"\n",
    "\n",
    "                # Filename for the GRIB file, with the folder path included\n",
    "                filename = os.path.join(folder_path, f\"era5_land_{year_str}{month_str}{day_str}_{hour_str.replace(':', '')}.grib\")\n",
    "\n",
    "                # Initialize the CDS API client\n",
    "                c = cdsapi.Client()\n",
    "\n",
    "                # Start the timer\n",
    "                start_time = time.time()\n",
    "\n",
    "                # Make the API call to retrieve data for the specific day and hour\n",
    "                c.retrieve(\n",
    "                    'reanalysis-era5-land',\n",
    "                    {\n",
    "                        'variable': variables,\n",
    "                        'year': year_str,\n",
    "                        'month': month_str,\n",
    "                        'day': day_str,\n",
    "                        'time': hour_str,  # Request for this specific hour\n",
    "                        'area': area,\n",
    "                        'format': 'grib',\n",
    "                    },\n",
    "                    filename\n",
    "                )\n",
    "\n",
    "                # End the timer\n",
    "                end_time = time.time()\n",
    "\n",
    "                # Calculate the time taken\n",
    "                download_time = end_time - start_time\n",
    "\n",
    "                # Print a message when the file is saved, including the time taken\n",
    "                print(f\"Downloaded data for {year_str}-{month_str}-{day_str} {hour_str} and saved as {filename}\")\n",
    "                print(f\"Time taken for download: {download_time:.2f} seconds\")\n",
    "\n",
    "            # Move to the next day\n",
    "            current_date += timedelta(days=1)\n"
   ]
  },
  {
   "cell_type": "code",
   "execution_count": null,
   "metadata": {},
   "outputs": [],
   "source": [
    "# Parameters\n",
    "area = [31.0954, 72.4750, 12.4319, 94.802]  # North, West, South, East bounding box\n",
    "variables = ['2m_temperature', '10m_u_component_of_wind', '10m_v_component_of_wind', 'total_precipitation']\n",
    "\n",
    "# Call the function to download data from 2014 to 2024\n",
    "download_era5_data(2014, 2014, area, variables)"
   ]
  }
 ],
 "metadata": {
  "kernelspec": {
   "display_name": "Python 3 (ipykernel)",
   "language": "python",
   "name": "python3"
  },
  "language_info": {
   "name": "python",
   "version": "3.12.4"
  }
 },
 "nbformat": 4,
 "nbformat_minor": 2
}
