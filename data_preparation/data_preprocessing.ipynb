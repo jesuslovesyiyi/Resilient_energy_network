{
 "cells": [
  {
   "cell_type": "markdown",
   "id": "3312a839-2071-4b84-b7d1-27258ba537d9",
   "metadata": {},
   "source": [
    "# Creating Uniform Voltage Data\n",
    "Before we start working on our voltage data, we have to convert it into a uniform format.  \n",
    "\n",
    "## Table of Contents\n",
    "* [Converting Dataverse Voltage Data](#dataverse-voltage)\n",
    "\n",
    "## Voltage Data Formats\n",
    "The two main data sources in this project are the current operating ESMI station data, which is scraped from the Prayas ESMI website using the india_esmi_scraper.py scraper, as well as the Harvard Dataverse Data **(link?)**.  \n",
    "The two are formatted differently.  \n",
    "The Harvard Dataverse Data is formatted in a 60 x n grid, with each row being labelled with an hour in the day, from 0-23, and each of the columns being a minute of the hour from 0-59.  \n",
    "The scraped data is formatted in two columns, with the time column being the datetime down to the minute, and the voltage column being the voltage from 0-255.  \n",
    "\n",
    "I will be converting the dataverse data into the scraped data format.\n",
    "\n",
    "## ESMI and Harvard Dataverse ID\n",
    "In addition to having different data formats, the two data sources also use different numbering systems.  \n",
    "Harvard Dataverse uses the names of the 528 stations covered in the time period of the dataset, between 2014-2018.  \n",
    "The ESMI scraper uses the ESMI ids assigned in the dropdown elements used by the web scraper to select stations on the Prayas website.  \n",
    "\n",
    "The India station locations were all cross-referenced **(still need to document this)**, with duplicates and stations outside of the ERA5 dataset removed. Each of the newly-scraped ESMI stations was given an ID number proceeding 528 (the last number assigned to the Dataverse stations), with duplicates in the Dataverse data removed.  \n",
    "\n",
    "After this process, we have ids from 1-572 (with some missing because duplicates were removed), and a uniform data format.\n",
    "\n",
    "These files will all be stored in the india_processing/india_uniform directory, and their IDs can be referenced in the file *ESMI_India_538_locations.csv*."
   ]
  },
  {
   "cell_type": "code",
   "execution_count": 2,
   "id": "22221f6c-5464-493e-ac0b-f7b08613f63a",
   "metadata": {},
   "outputs": [],
   "source": [
    "import os\n",
    "import pandas as pd\n",
    "from tqdm import tqdm\n",
    "import shutil\n",
    "from datetime import datetime, timedelta\n",
    "import numpy as np\n",
    "import math"
   ]
  },
  {
   "cell_type": "markdown",
   "id": "52401f06-1f9d-4984-9f16-50373b2ecb86",
   "metadata": {},
   "source": [
    "## Converting Dataverse Voltage Data <a class=\"anchor\" id=\"dataverse-voltage\"></a>\n",
    "We first need to verify that all of the stations deemed to be in the ERA5 dataset's range is in either the Dataverse dataset or the ESMI dataset."
   ]
  },
  {
   "cell_type": "code",
   "execution_count": 3,
   "id": "d960bcc2-66bc-4dd7-9750-d7867b779325",
   "metadata": {},
   "outputs": [],
   "source": [
    "def strip_name(name, exceptions = None):\n",
    "    formatted = name.split('-')[0].split('[')[0].strip()\n",
    "    \n",
    "    if exceptions:\n",
    "        return exceptions(formatted) # run the name through the entered exceptions function, if provided\n",
    "    else:\n",
    "        return formatted"
   ]
  },
  {
   "cell_type": "code",
   "execution_count": 4,
   "id": "8e8d5526-4b14-40e4-bb08-d289b3b9e7f9",
   "metadata": {},
   "outputs": [],
   "source": [
    "# Import the location information table, which we can use to map between station_id, ESMI_ID, and station names.\n",
    "locations_path = \"../ESMI_India_538_locations.csv\"\n",
    "locations = pd.read_csv(locations_path, dtype={\"ESMI_ID\" : str, \"station_id\" : int}, usecols=[\"station_id\", \"ESMI_ID\", \"Location name\", \"District\", \"State\", \"Lat\", \"Lon\"])\n",
    "locations.rename(columns={\"Location name\": \"station_name\", \"District\" : \"district\", \"State\": \"state\", \"Lat\": \"lat\", \"Lon\": \"lon\"}, inplace=True)\n",
    "locations[\"station_name\"] = locations[\"station_name\"].apply(strip_name)"
   ]
  },
  {
   "cell_type": "code",
   "execution_count": 67,
   "id": "7913b62f-6a45-41f1-9d46-35bf2017f587",
   "metadata": {},
   "outputs": [
    {
     "name": "stderr",
     "output_type": "stream",
     "text": [
      "C:\\Users\\nytig\\AppData\\Local\\Temp\\ipykernel_7444\\557091671.py:6: DtypeWarning: Columns (3,4,5,6,7,8,9,10,11,12,13,14,15,16,17,18,19,20,21,22,23,24,25,26,27,28,29,30,31,32,33,34,35,36,37,38,39,40,41,42,43,44,45,46,47,48,49,50,51,52,53,54,55,56,57,58,59,60,61,62) have mixed types. Specify dtype option on import or set low_memory=False.\n",
      "  data = pd.read_csv(os.path.join(dataverse_dir, file))\n",
      "C:\\Users\\nytig\\AppData\\Local\\Temp\\ipykernel_7444\\557091671.py:6: DtypeWarning: Columns (4) have mixed types. Specify dtype option on import or set low_memory=False.\n",
      "  data = pd.read_csv(os.path.join(dataverse_dir, file))\n"
     ]
    }
   ],
   "source": [
    "# Get the unique names from all of the Harvard Dataverse spreadsheets\n",
    "dataverse_dir = \"../india_dataverse\"\n",
    "stations_found = set()\n",
    "for file in os.listdir(dataverse_dir):\n",
    "    if file.endswith('.csv'):\n",
    "        data = pd.read_csv(os.path.join(dataverse_dir, file))\n",
    "        stations_found.update(data[\"Location name\"].unique())\n",
    "\n",
    "stations_found = set([strip_name(x) for x in stations_found])"
   ]
  },
  {
   "cell_type": "code",
   "execution_count": 68,
   "id": "3261b543-a9c8-4527-8b2f-c4454c859d1c",
   "metadata": {},
   "outputs": [
    {
     "name": "stdout",
     "output_type": "stream",
     "text": [
      "{'Datalpara', 'Kardaitola', 'GNB road', 'Ulubari', 'Mihijam', 'Banjara Hills', 'Chanho', 'Borbheta', 'Dudhimati', 'Haider Nagar', 'Domadih', 'Rajdhani Masjid', 'Gohaibari', 'Tarun Nagar', 'Kothrud', 'Bilasipara', 'Lalmatia', 'Bamunimaidan', 'Bhurkunda', 'Besant Nagar', 'Kolebira', 'Zalim Khurd', 'Chouparan', 'Saheed Nagar', 'Nagaon', 'Ameerpet', 'Sahakar Nagar', 'Netarhat', 'Mahuadanr', 'Guwahati Club', 'Alipur', 'Vidya Nagar', 'ASEB Campus', 'Deopur', 'Perka', 'Tezpur', 'Khatorbari', 'Kairo', 'Nichinta', 'Capital Electrical Subdivision', 'Hedayetpur', 'Amrit Nagar', 'Satbarwa', 'Kapoorthla', 'Juri Par Shanti Path'}\n"
     ]
    },
    {
     "data": {
      "text/plain": [
       "45"
      ]
     },
     "execution_count": 68,
     "metadata": {},
     "output_type": "execute_result"
    }
   ],
   "source": [
    "# Add all of the station ids to a set to be checked against the available names/ids in either dataset\n",
    "station_names = set(locations[\"station_name\"])\n",
    "\n",
    "# Update, checking off all the names found in the dataverse name field\n",
    "stations_remaining = station_names.difference(stations_found)\n",
    "print(stations_remaining)\n",
    "len(stations_remaining)"
   ]
  },
  {
   "cell_type": "code",
   "execution_count": 69,
   "id": "05c58dc3-79b1-413b-8b76-8258fb2881b7",
   "metadata": {},
   "outputs": [],
   "source": [
    "# Get the station_ids of the stations still unaccounted for after the dataverse data\n",
    "station_ids_remaining = set(locations[(locations['station_name'].isin(stations_remaining))]['station_id'])"
   ]
  },
  {
   "cell_type": "code",
   "execution_count": 70,
   "id": "4ad546fc-7ede-4343-978e-a62a052037ad",
   "metadata": {
    "scrolled": true
   },
   "outputs": [
    {
     "name": "stdout",
     "output_type": "stream",
     "text": [
      "157    Hedayetpur\n",
      "Name: station_name, dtype: object\n",
      "85    Capital Electrical Subdivision\n",
      "Name: station_name, dtype: object\n",
      "45    Bamunimaidan\n",
      "Name: station_name, dtype: object\n",
      "137    GNB road\n",
      "Name: station_name, dtype: object\n",
      "459    Vidya Nagar\n",
      "Name: station_name, dtype: object\n",
      "449    Ulubari\n",
      "Name: station_name, dtype: object\n",
      "197    Juri Par Shanti Path\n",
      "Name: station_name, dtype: object\n",
      "26    ASEB Campus\n",
      "Name: station_name, dtype: object\n",
      "436    Tarun Nagar\n",
      "Name: station_name, dtype: object\n",
      "149    Guwahati Club\n",
      "Name: station_name, dtype: object\n",
      "139    Gohaibari\n",
      "Name: station_name, dtype: object\n",
      "113    Datalpara\n",
      "Name: station_name, dtype: object\n",
      "{'KT_4355', 'Zhirad', 'Capital Electrical Subdivision Guwahati', 'GNB road Guwahati', 'Karnataka_7', 'Dehradun_5', 'Sahakarnagar', 'Guwahati Club Guwahati', 'Betalbatim', 'Benaulim', 'Ameerpeth', 'Tilak Ali Ratnagiri', 'Gimhavne', 'Nepal _8193', 'Colva', 'Subhash road Ratnagiri', 'Faridabad_1', 'Sancole', 'Santacruz', 'Banjara hills Hyderabad', 'VidyaNagar', 'Siddhapura', 'Faridabad_2', 'ASEB Campus Guwahati', 'Besant Nagar Chennai', 'Faridabad_4', 'Kapoorthala', 'Bamunimaidan Guwahati', 'KT_8961', 'Saheed Nagar Bhubaneswar', 'Deccan Gymkhana Pune', 'Nepal _5791', 'Datalpara Guwahati', 'Gohaibari Guwahati', 'Juri Par Shanti Path Guwahati', 'Masipidi', 'Tarun Nagar Guwahati', 'Manjakuppam Cuddalore', 'Ulubari Guwahati', 'Faridabad_3', 'Nerul', 'Sayapettai Chinnasandhu', 'Carambolim', 'Miramar Panjim', 'Radgaon MIDC Ratnagiri', 'Nepal _6417', 'Nepal _4496', 'Hedayetpur Guwahati', 'Yadthare', 'Varanasi_7721', 'Nakre', 'MG Road Panjim', 'Brahmavar', 'Surakalpeth Cuddalore', 'Bhubaneswar_5', 'Devpur', 'Palamu_2', 'Maruti Vethika Road', 'Faridabad_5', 'Sukhbaderi (S)', 'Alwarpet', 'Uttardah (S)', 'Sukhbaderi (N)'}\n"
     ]
    }
   ],
   "source": [
    "# Print all of the station names that we haven't found but expected to, ids less than 529, because those we expect to find in \n",
    "for id in station_ids_remaining:\n",
    "    if int(id) < 529:\n",
    "        print(locations[locations['station_id'] == id]['station_name'].values[0])\n",
    "\n",
    "print(stations_found.difference(station_names))"
   ]
  },
  {
   "cell_type": "code",
   "execution_count": 5,
   "id": "c9c2f08b-6004-41a4-bfb5-d11b6a3d03f7",
   "metadata": {},
   "outputs": [],
   "source": [
    "# Function to deal with exceptions in name formatting\n",
    "def name_exceptions(name):\n",
    "    if name == \"VidyaNagar\":\n",
    "        return \"Vidya Nagar\"\n",
    "    if \"Guwahati\" in name: # Remove Guwahati from the end\n",
    "        return \" \".join(name.split(\" \")[:-1])\n",
    "    return name"
   ]
  },
  {
   "cell_type": "code",
   "execution_count": 72,
   "id": "9580c756-d254-4028-bca8-580a3f2e3ed2",
   "metadata": {},
   "outputs": [],
   "source": [
    "stations_found = set([strip_name(x, name_exceptions) for x in stations_found])\n",
    "stations_remaining = station_names.difference(stations_found)\n",
    "\n",
    "station_ids_remaining = set(locations[(locations['station_name'].isin(stations_remaining))]['station_id'])\n",
    "\n",
    "for id in station_ids_remaining:\n",
    "    if int(id) < 529:\n",
    "        print(locations[locations['station_id'] == id]['station_name'])"
   ]
  },
  {
   "cell_type": "code",
   "execution_count": 84,
   "id": "d3d015fe-fbb0-42c4-adde-18c128ce59cd",
   "metadata": {},
   "outputs": [],
   "source": [
    "esmi_dir = \"../india_esmi\"\n",
    "\n",
    "esmi_found = set() # set for the esmi_ids found\n",
    "for file in os.listdir(esmi_dir):\n",
    "    if file.endswith('.csv'):\n",
    "        esmi_found.add(file.split('+')[0])\n",
    "\n",
    "ids_found = set(locations[locations['ESMI_ID'].isin(esmi_found)]['station_id'])"
   ]
  },
  {
   "cell_type": "code",
   "execution_count": 85,
   "id": "be732879-1f23-4508-a7f7-4a5179c0cebf",
   "metadata": {},
   "outputs": [
    {
     "name": "stdout",
     "output_type": "stream",
     "text": [
      "set()\n"
     ]
    }
   ],
   "source": [
    "final_remaining = station_ids_remaining.difference(ids_found)\n",
    "print(final_remaining)"
   ]
  },
  {
   "cell_type": "markdown",
   "id": "77ab999d-eb0d-4d09-afe9-7fa3e58ea09a",
   "metadata": {},
   "source": [
    "Now that we have confirmed that all of the expected stations are present, we can move on to converting the data into the uniform format.  \n",
    "First, we can simply rename the ESMI stations according to their uniform station id."
   ]
  },
  {
   "cell_type": "code",
   "execution_count": 6,
   "id": "9ea1c8d6-54d4-47c2-b983-02dfd6b6fdcf",
   "metadata": {},
   "outputs": [],
   "source": [
    "uniform_dir = \"../india_processing/india_uniform\""
   ]
  },
  {
   "cell_type": "code",
   "execution_count": null,
   "id": "f96e4e31-d8e0-4911-9dc6-525c7be9559a",
   "metadata": {},
   "outputs": [],
   "source": [
    "for file in os.listdir(esmi_dir):\n",
    "    if file.endswith('.csv'):\n",
    "        esmi_id = file.split('+')[0]\n",
    "        uniform_id = locations[locations['ESMI_ID'] == esmi_id]['station_id'].values[0]\n",
    "\n",
    "        shutil.copy(os.path.join(esmi_dir, file), os.path.join(uniform_dir, f'station_{uniform_id}.csv'))"
   ]
  },
  {
   "cell_type": "markdown",
   "id": "e476e9dc-1d41-4afc-94d3-b40a532ef30f",
   "metadata": {},
   "source": [
    "Then, we convert the Dataverse format into our uniform format.  \n",
    "This involves taking each of the individual rows, taking the date and hour columns, along with the index of the minutes columns and transforming that into a vertical 2xn of datetime, voltage values, which can be concatenated together.  \n",
    "\n",
    "Then we will use our existing name parsing to section each of the sheets by station.  \n",
    "After this has been done for every station, we can save it to our uniform data location, taking care not to override any existing sheets, as the stations which are duplicate between ESMI and Dataverse, ESMI takes priority.\n",
    "\n",
    "Also, as we discovered later in the Cleanup section, the 2019Jan_Jun.csv has data quality problems which have to be address before we can incorporate it into our uniform dataset."
   ]
  },
  {
   "cell_type": "code",
   "execution_count": 8,
   "id": "4d758b78-db21-4324-bdff-3bf25b32d4fb",
   "metadata": {
    "scrolled": true
   },
   "outputs": [],
   "source": [
    "dataverse_dir = \"../india_dataverse/\"\n",
    "\n",
    "# Filter out just the locations that aren't actively scraped ESMI locations, so we avoid mapping them to a location number when processing dataverse data.\n",
    "rem_locations = locations[pd.isna(locations['ESMI_ID'])]\n",
    "name_to_station_id = dict(zip(rem_locations['station_name'].to_list(), rem_locations['station_id'].to_list())) # Create dictionary to make id lookup more efficient"
   ]
  },
  {
   "cell_type": "code",
   "execution_count": null,
   "id": "07645865",
   "metadata": {},
   "outputs": [],
   "source": [
    "\n",
    "for file in os.listdir(dataverse_dir):\n",
    "    if \"2019\" in file: # Skip 2019 for now\n",
    "        continue\n",
    "    print(file)\n",
    "    hd_df = pd.read_csv(os.path.join(dataverse_dir, file), header=0)\n",
    "\n",
    "    # Remove the weird excel export #VALUE! artifacts\n",
    "    hd_df.replace('#VALUE!', pd.NA, inplace=True)\n",
    "    hd_df.dropna(inplace=True)\n",
    "    hd_df.iloc[:, -60:] = hd_df.iloc[:, -60:].apply(pd.to_numeric)\n",
    "\n",
    "    # Merge the date and hour columns to create a pd datetime\n",
    "    if '/' in hd_df['Date'][0]:\n",
    "        hd_df.insert(loc=1, column='time', value=(pd.to_datetime(hd_df['Date'], format='%m/%d/%Y') + pd.to_timedelta(hd_df['Hour'], unit='h')))\n",
    "    elif '-' in hd_df['Date'][0]:\n",
    "        hd_df.insert(loc=1, column='time', value=(pd.to_datetime(hd_df['Date'], format='%d-%m-%Y') + pd.to_timedelta(hd_df['Hour'], unit='h')))\n",
    "    else:\n",
    "        print('Invalid date format')\n",
    "        break\n",
    "        \n",
    "    hd_df.drop(['Date', 'Hour'], axis=1, inplace=True)\n",
    "    \n",
    "    # Derive the uniform station_id from the station names\n",
    "    hd_df.rename(columns={'Location name': 'station_name'}, inplace=True)\n",
    "    \n",
    "    # Create a new column of uniform station_ids, assigning -1 if it is a station we have already discarded, so we can ignore it\n",
    "    hd_df.insert(loc=0, column='station_id', value=hd_df['station_name'].apply(lambda x : name_to_station_id.get(strip_name(x, exceptions=name_exceptions), -1)))\n",
    "    hd_df.drop('station_name', axis=1, inplace=True)\n",
    "    \n",
    "    unpivoted_rows = []\n",
    "    for index in tqdm(range(hd_df.shape[0])):\n",
    "        if hd_df.iloc[index, 0] == -1: # Skip irrelevant or already covered stations\n",
    "            continue\n",
    "            \n",
    "        unpivoted_row = hd_df.iloc[[index], :].melt(id_vars=['station_id', 'time'], ignore_index=True)\n",
    "        unpivoted_row['time'] = unpivoted_row['time'] + pd.to_timedelta(unpivoted_row['variable'].apply(lambda x : int(x.split(' ')[1])), unit='m')\n",
    "        \n",
    "        unpivoted_rows.append(unpivoted_row)\n",
    "    \n",
    "    unpivoted_df = pd.concat(unpivoted_rows)\n",
    "    unpivoted_df.drop('variable', axis=1, inplace=True)\n",
    "    unpivoted_df.rename(columns={'value': 'voltage'}, inplace=True)\n",
    "\n",
    "    # If the station_data already exists, append the new data on the end, otherwise, write directly to a new csv\n",
    "    for station_id in unpivoted_df['station_id'].unique():\n",
    "        output_path = os.path.join(uniform_dir, f'station_{station_id}.csv')\n",
    "        subset_df = unpivoted_df[unpivoted_df['station_id'] == station_id]\n",
    "        subset_df = subset_df.drop('station_id', axis=1)\n",
    "        \n",
    "        if os.path.exists(output_path):\n",
    "            station_df = pd.read_csv(output_path, header=0, parse_dates=['time'])\n",
    "            if station_df['time'].iloc[-1] < subset_df['time'].iloc[0]:\n",
    "                station_df = pd.concat((station_df, subset_df))\n",
    "                station_df.to_csv(output_path, index=False)\n",
    "        else:\n",
    "            subset_df.to_csv(output_path, index=False)\n",
    "    "
   ]
  },
  {
   "cell_type": "markdown",
   "id": "a46ec341",
   "metadata": {},
   "source": [
    "## Dealing with 2019Jan-Jun\n",
    "Because there are the presence of duplicate rows, both duplicate in the timestamp and station.\n",
    "I will just remove these duplicate rows.\n",
    "\n",
    "There is also the issue of erroneous voltage values, such as voltages of 535 or 999, which do not appear elsewhere in the dataverse dataset. I choose to simply ignore rows which contain values greater than 400 entirely, because in the way that we aggregate voltage data over hours or days, removal of a single datapoints is equivalent to removal of the entire hour anyways.\n",
    "\n",
    "We also take special care to simply remove the data of Bodireddypally-Prakasam and Kanheri Sarap, as the repeat rate is very high, and what can be salvaged may be questionable."
   ]
  },
  {
   "cell_type": "code",
   "execution_count": 20,
   "id": "ca23d37c",
   "metadata": {},
   "outputs": [
    {
     "name": "stdout",
     "output_type": "stream",
     "text": [
      "ESMI_harvard_dataverse_voltage_data_2019_Jan_Jun.csv\n"
     ]
    },
    {
     "name": "stderr",
     "output_type": "stream",
     "text": [
      "C:\\Users\\nytig\\AppData\\Local\\Temp\\ipykernel_6988\\4235707146.py:5: DtypeWarning: Columns (3,4,5,6,7,8,9,10,11,12,13,14,15,16,17,18,19,20,21,22,23,24,25,26,27,28,29,30,31,32,33,34,35,36,37,38,39,40,41,42,43,44,45,46,47,48,49,50,51,52,53,54,55,56,57,58,59,60,61,62) have mixed types. Specify dtype option on import or set low_memory=False.\n",
      "  hd_df = pd.read_csv(os.path.join(dataverse_dir, file), header=0)\n"
     ]
    },
    {
     "name": "stdout",
     "output_type": "stream",
     "text": [
      "116\n"
     ]
    },
    {
     "name": "stderr",
     "output_type": "stream",
     "text": [
      "100%|██████████| 2613/2613 [00:10<00:00, 249.21it/s]\n"
     ]
    },
    {
     "name": "stdout",
     "output_type": "stream",
     "text": [
      "195\n"
     ]
    },
    {
     "name": "stderr",
     "output_type": "stream",
     "text": [
      "100%|██████████| 3371/3371 [00:13<00:00, 245.16it/s]\n"
     ]
    },
    {
     "name": "stdout",
     "output_type": "stream",
     "text": [
      "140\n"
     ]
    },
    {
     "name": "stderr",
     "output_type": "stream",
     "text": [
      "100%|██████████| 3454/3454 [00:14<00:00, 240.42it/s]\n"
     ]
    },
    {
     "name": "stdout",
     "output_type": "stream",
     "text": [
      "458\n"
     ]
    },
    {
     "name": "stderr",
     "output_type": "stream",
     "text": [
      "100%|██████████| 4344/4344 [00:17<00:00, 241.38it/s]\n"
     ]
    },
    {
     "name": "stdout",
     "output_type": "stream",
     "text": [
      "509\n"
     ]
    },
    {
     "name": "stderr",
     "output_type": "stream",
     "text": [
      "100%|██████████| 4344/4344 [00:17<00:00, 249.30it/s]\n"
     ]
    },
    {
     "name": "stdout",
     "output_type": "stream",
     "text": [
      "172\n"
     ]
    },
    {
     "name": "stderr",
     "output_type": "stream",
     "text": [
      "100%|██████████| 3039/3039 [00:12<00:00, 237.94it/s]\n"
     ]
    },
    {
     "name": "stdout",
     "output_type": "stream",
     "text": [
      "72\n"
     ]
    },
    {
     "name": "stderr",
     "output_type": "stream",
     "text": [
      "100%|██████████| 4023/4023 [00:16<00:00, 248.75it/s]\n"
     ]
    },
    {
     "name": "stdout",
     "output_type": "stream",
     "text": [
      "158\n"
     ]
    },
    {
     "name": "stderr",
     "output_type": "stream",
     "text": [
      "100%|██████████| 400/400 [00:01<00:00, 256.89it/s]\n"
     ]
    },
    {
     "name": "stdout",
     "output_type": "stream",
     "text": [
      "32\n"
     ]
    },
    {
     "name": "stderr",
     "output_type": "stream",
     "text": [
      "100%|██████████| 4344/4344 [00:17<00:00, 243.44it/s]\n"
     ]
    },
    {
     "name": "stdout",
     "output_type": "stream",
     "text": [
      "65\n"
     ]
    },
    {
     "name": "stderr",
     "output_type": "stream",
     "text": [
      "100%|██████████| 4344/4344 [00:17<00:00, 246.74it/s]\n"
     ]
    },
    {
     "name": "stdout",
     "output_type": "stream",
     "text": [
      "392\n"
     ]
    },
    {
     "name": "stderr",
     "output_type": "stream",
     "text": [
      "100%|██████████| 1484/1484 [00:06<00:00, 243.40it/s]\n"
     ]
    },
    {
     "name": "stdout",
     "output_type": "stream",
     "text": [
      "155\n"
     ]
    },
    {
     "name": "stderr",
     "output_type": "stream",
     "text": [
      "100%|██████████| 4342/4342 [00:17<00:00, 242.30it/s]\n"
     ]
    },
    {
     "name": "stdout",
     "output_type": "stream",
     "text": [
      "42\n"
     ]
    },
    {
     "name": "stderr",
     "output_type": "stream",
     "text": [
      "100%|██████████| 4297/4297 [00:17<00:00, 247.74it/s]\n"
     ]
    },
    {
     "name": "stdout",
     "output_type": "stream",
     "text": [
      "206\n"
     ]
    },
    {
     "name": "stderr",
     "output_type": "stream",
     "text": [
      "100%|██████████| 3927/3927 [00:15<00:00, 252.38it/s]\n"
     ]
    },
    {
     "name": "stdout",
     "output_type": "stream",
     "text": [
      "393\n"
     ]
    },
    {
     "name": "stderr",
     "output_type": "stream",
     "text": [
      "100%|██████████| 4269/4269 [00:17<00:00, 246.52it/s]\n"
     ]
    },
    {
     "name": "stdout",
     "output_type": "stream",
     "text": [
      "332\n"
     ]
    },
    {
     "name": "stderr",
     "output_type": "stream",
     "text": [
      "100%|██████████| 3823/3823 [00:15<00:00, 246.14it/s]\n"
     ]
    },
    {
     "name": "stdout",
     "output_type": "stream",
     "text": [
      "68\n"
     ]
    },
    {
     "name": "stderr",
     "output_type": "stream",
     "text": [
      "100%|██████████| 703/703 [00:02<00:00, 242.75it/s]\n"
     ]
    },
    {
     "name": "stdout",
     "output_type": "stream",
     "text": [
      "26\n"
     ]
    },
    {
     "name": "stderr",
     "output_type": "stream",
     "text": [
      "100%|██████████| 4326/4326 [00:17<00:00, 249.04it/s]\n"
     ]
    },
    {
     "name": "stdout",
     "output_type": "stream",
     "text": [
      "150\n"
     ]
    },
    {
     "name": "stderr",
     "output_type": "stream",
     "text": [
      "100%|██████████| 4317/4317 [00:18<00:00, 237.42it/s]\n"
     ]
    },
    {
     "name": "stdout",
     "output_type": "stream",
     "text": [
      "117\n"
     ]
    },
    {
     "name": "stderr",
     "output_type": "stream",
     "text": [
      "100%|██████████| 4297/4297 [00:17<00:00, 242.98it/s]\n"
     ]
    },
    {
     "name": "stdout",
     "output_type": "stream",
     "text": [
      "76\n"
     ]
    },
    {
     "name": "stderr",
     "output_type": "stream",
     "text": [
      "100%|██████████| 3329/3329 [00:13<00:00, 241.09it/s]\n"
     ]
    },
    {
     "name": "stdout",
     "output_type": "stream",
     "text": [
      "27\n"
     ]
    },
    {
     "name": "stderr",
     "output_type": "stream",
     "text": [
      "100%|██████████| 211/211 [00:00<00:00, 247.65it/s]\n"
     ]
    },
    {
     "name": "stdout",
     "output_type": "stream",
     "text": [
      "215\n"
     ]
    },
    {
     "name": "stderr",
     "output_type": "stream",
     "text": [
      "100%|██████████| 4196/4196 [00:17<00:00, 242.32it/s]\n"
     ]
    },
    {
     "name": "stdout",
     "output_type": "stream",
     "text": [
      "251\n"
     ]
    },
    {
     "name": "stderr",
     "output_type": "stream",
     "text": [
      "100%|██████████| 4061/4061 [00:16<00:00, 242.21it/s]\n"
     ]
    },
    {
     "name": "stdout",
     "output_type": "stream",
     "text": [
      "432\n"
     ]
    },
    {
     "name": "stderr",
     "output_type": "stream",
     "text": [
      "100%|██████████| 4331/4331 [00:17<00:00, 243.50it/s]\n"
     ]
    },
    {
     "name": "stdout",
     "output_type": "stream",
     "text": [
      "217\n"
     ]
    },
    {
     "name": "stderr",
     "output_type": "stream",
     "text": [
      "100%|██████████| 4326/4326 [00:17<00:00, 242.59it/s]\n"
     ]
    },
    {
     "name": "stdout",
     "output_type": "stream",
     "text": [
      "328\n"
     ]
    },
    {
     "name": "stderr",
     "output_type": "stream",
     "text": [
      "100%|██████████| 3615/3615 [00:14<00:00, 245.38it/s]\n"
     ]
    },
    {
     "name": "stdout",
     "output_type": "stream",
     "text": [
      "410\n"
     ]
    },
    {
     "name": "stderr",
     "output_type": "stream",
     "text": [
      "100%|██████████| 4334/4334 [00:17<00:00, 248.15it/s]\n"
     ]
    },
    {
     "name": "stdout",
     "output_type": "stream",
     "text": [
      "294\n"
     ]
    },
    {
     "name": "stderr",
     "output_type": "stream",
     "text": [
      "100%|██████████| 2433/2433 [00:09<00:00, 247.86it/s]\n"
     ]
    },
    {
     "name": "stdout",
     "output_type": "stream",
     "text": [
      "112\n"
     ]
    },
    {
     "name": "stderr",
     "output_type": "stream",
     "text": [
      "100%|██████████| 3426/3426 [00:14<00:00, 242.33it/s]\n"
     ]
    },
    {
     "name": "stdout",
     "output_type": "stream",
     "text": [
      "287\n"
     ]
    },
    {
     "name": "stderr",
     "output_type": "stream",
     "text": [
      "100%|██████████| 3288/3288 [00:13<00:00, 241.64it/s]\n"
     ]
    },
    {
     "name": "stdout",
     "output_type": "stream",
     "text": [
      "232\n"
     ]
    },
    {
     "name": "stderr",
     "output_type": "stream",
     "text": [
      "100%|██████████| 3830/3830 [00:16<00:00, 235.57it/s]\n"
     ]
    },
    {
     "name": "stdout",
     "output_type": "stream",
     "text": [
      "47\n"
     ]
    },
    {
     "name": "stderr",
     "output_type": "stream",
     "text": [
      "100%|██████████| 1349/1349 [00:05<00:00, 242.10it/s]\n"
     ]
    },
    {
     "name": "stdout",
     "output_type": "stream",
     "text": [
      "456\n"
     ]
    },
    {
     "name": "stderr",
     "output_type": "stream",
     "text": [
      "100%|██████████| 2029/2029 [00:08<00:00, 238.13it/s]\n"
     ]
    },
    {
     "name": "stdout",
     "output_type": "stream",
     "text": [
      "369\n"
     ]
    },
    {
     "name": "stderr",
     "output_type": "stream",
     "text": [
      "100%|██████████| 4331/4331 [00:17<00:00, 241.84it/s]\n"
     ]
    },
    {
     "name": "stdout",
     "output_type": "stream",
     "text": [
      "237\n"
     ]
    },
    {
     "name": "stderr",
     "output_type": "stream",
     "text": [
      "100%|██████████| 4324/4324 [00:18<00:00, 239.95it/s]\n"
     ]
    },
    {
     "name": "stdout",
     "output_type": "stream",
     "text": [
      "469\n"
     ]
    },
    {
     "name": "stderr",
     "output_type": "stream",
     "text": [
      "100%|██████████| 4200/4200 [00:17<00:00, 239.99it/s]\n"
     ]
    },
    {
     "name": "stdout",
     "output_type": "stream",
     "text": [
      "267\n"
     ]
    },
    {
     "name": "stderr",
     "output_type": "stream",
     "text": [
      "100%|██████████| 4055/4055 [00:17<00:00, 237.25it/s]\n"
     ]
    },
    {
     "name": "stdout",
     "output_type": "stream",
     "text": [
      "162\n"
     ]
    },
    {
     "name": "stderr",
     "output_type": "stream",
     "text": [
      "100%|██████████| 3882/3882 [00:16<00:00, 233.14it/s]\n"
     ]
    },
    {
     "name": "stdout",
     "output_type": "stream",
     "text": [
      "92\n"
     ]
    },
    {
     "name": "stderr",
     "output_type": "stream",
     "text": [
      "100%|██████████| 4338/4338 [00:17<00:00, 242.69it/s]\n"
     ]
    },
    {
     "name": "stdout",
     "output_type": "stream",
     "text": [
      "354\n"
     ]
    },
    {
     "name": "stderr",
     "output_type": "stream",
     "text": [
      "100%|██████████| 449/449 [00:01<00:00, 251.54it/s]\n"
     ]
    },
    {
     "name": "stdout",
     "output_type": "stream",
     "text": [
      "247\n"
     ]
    },
    {
     "name": "stderr",
     "output_type": "stream",
     "text": [
      "100%|██████████| 4324/4324 [00:17<00:00, 245.31it/s]\n"
     ]
    },
    {
     "name": "stdout",
     "output_type": "stream",
     "text": [
      "50\n"
     ]
    },
    {
     "name": "stderr",
     "output_type": "stream",
     "text": [
      "100%|██████████| 3777/3777 [00:15<00:00, 237.69it/s]\n"
     ]
    },
    {
     "name": "stdout",
     "output_type": "stream",
     "text": [
      "277\n"
     ]
    },
    {
     "name": "stderr",
     "output_type": "stream",
     "text": [
      "100%|██████████| 4164/4164 [00:17<00:00, 237.66it/s]\n"
     ]
    },
    {
     "name": "stdout",
     "output_type": "stream",
     "text": [
      "238\n"
     ]
    },
    {
     "name": "stderr",
     "output_type": "stream",
     "text": [
      "100%|██████████| 4294/4294 [00:17<00:00, 251.16it/s]\n"
     ]
    },
    {
     "name": "stdout",
     "output_type": "stream",
     "text": [
      "334\n"
     ]
    },
    {
     "name": "stderr",
     "output_type": "stream",
     "text": [
      "100%|██████████| 1422/1422 [00:05<00:00, 252.17it/s]\n"
     ]
    },
    {
     "name": "stdout",
     "output_type": "stream",
     "text": [
      "273\n"
     ]
    },
    {
     "name": "stderr",
     "output_type": "stream",
     "text": [
      "100%|██████████| 2731/2731 [00:10<00:00, 248.65it/s]\n"
     ]
    },
    {
     "name": "stdout",
     "output_type": "stream",
     "text": [
      "487\n"
     ]
    },
    {
     "name": "stderr",
     "output_type": "stream",
     "text": [
      "100%|██████████| 3792/3792 [00:15<00:00, 251.03it/s]\n"
     ]
    },
    {
     "name": "stdout",
     "output_type": "stream",
     "text": [
      "201\n"
     ]
    },
    {
     "name": "stderr",
     "output_type": "stream",
     "text": [
      "100%|██████████| 275/275 [00:01<00:00, 252.99it/s]\n"
     ]
    },
    {
     "name": "stdout",
     "output_type": "stream",
     "text": [
      "243\n"
     ]
    },
    {
     "name": "stderr",
     "output_type": "stream",
     "text": [
      "100%|██████████| 4319/4319 [00:17<00:00, 246.34it/s]\n"
     ]
    },
    {
     "name": "stdout",
     "output_type": "stream",
     "text": [
      "523\n"
     ]
    },
    {
     "name": "stderr",
     "output_type": "stream",
     "text": [
      "100%|██████████| 2996/2996 [00:12<00:00, 235.88it/s]\n"
     ]
    },
    {
     "name": "stdout",
     "output_type": "stream",
     "text": [
      "517\n"
     ]
    },
    {
     "name": "stderr",
     "output_type": "stream",
     "text": [
      "100%|██████████| 3417/3417 [00:13<00:00, 244.40it/s]\n"
     ]
    },
    {
     "name": "stdout",
     "output_type": "stream",
     "text": [
      "524\n"
     ]
    },
    {
     "name": "stderr",
     "output_type": "stream",
     "text": [
      "100%|██████████| 3431/3431 [00:13<00:00, 245.59it/s]\n"
     ]
    },
    {
     "name": "stdout",
     "output_type": "stream",
     "text": [
      "391\n"
     ]
    },
    {
     "name": "stderr",
     "output_type": "stream",
     "text": [
      "100%|██████████| 3586/3586 [00:14<00:00, 253.95it/s]\n"
     ]
    },
    {
     "name": "stdout",
     "output_type": "stream",
     "text": [
      "128\n"
     ]
    },
    {
     "name": "stderr",
     "output_type": "stream",
     "text": [
      "100%|██████████| 4330/4330 [00:17<00:00, 251.63it/s]\n"
     ]
    },
    {
     "name": "stdout",
     "output_type": "stream",
     "text": [
      "317\n"
     ]
    },
    {
     "name": "stderr",
     "output_type": "stream",
     "text": [
      "100%|██████████| 1057/1057 [00:04<00:00, 257.43it/s]\n"
     ]
    },
    {
     "name": "stdout",
     "output_type": "stream",
     "text": [
      "318\n"
     ]
    },
    {
     "name": "stderr",
     "output_type": "stream",
     "text": [
      "100%|██████████| 4210/4210 [00:16<00:00, 252.39it/s]\n"
     ]
    },
    {
     "name": "stdout",
     "output_type": "stream",
     "text": [
      "6\n"
     ]
    },
    {
     "name": "stderr",
     "output_type": "stream",
     "text": [
      "100%|██████████| 2889/2889 [00:11<00:00, 249.76it/s]\n"
     ]
    },
    {
     "name": "stdout",
     "output_type": "stream",
     "text": [
      "85\n"
     ]
    },
    {
     "name": "stderr",
     "output_type": "stream",
     "text": [
      "100%|██████████| 2393/2393 [00:09<00:00, 254.96it/s]\n"
     ]
    },
    {
     "name": "stdout",
     "output_type": "stream",
     "text": [
      "234\n"
     ]
    },
    {
     "name": "stderr",
     "output_type": "stream",
     "text": [
      "100%|██████████| 1380/1380 [00:05<00:00, 258.14it/s]\n"
     ]
    },
    {
     "name": "stdout",
     "output_type": "stream",
     "text": [
      "515\n"
     ]
    },
    {
     "name": "stderr",
     "output_type": "stream",
     "text": [
      "100%|██████████| 3562/3562 [00:14<00:00, 249.13it/s]\n"
     ]
    },
    {
     "name": "stdout",
     "output_type": "stream",
     "text": [
      "13\n"
     ]
    },
    {
     "name": "stderr",
     "output_type": "stream",
     "text": [
      "100%|██████████| 4074/4074 [00:16<00:00, 248.37it/s]\n"
     ]
    },
    {
     "name": "stdout",
     "output_type": "stream",
     "text": [
      "154\n"
     ]
    },
    {
     "name": "stderr",
     "output_type": "stream",
     "text": [
      "100%|██████████| 3132/3132 [00:12<00:00, 248.96it/s]\n"
     ]
    },
    {
     "name": "stdout",
     "output_type": "stream",
     "text": [
      "179\n"
     ]
    },
    {
     "name": "stderr",
     "output_type": "stream",
     "text": [
      "100%|██████████| 2870/2870 [00:11<00:00, 251.51it/s]\n"
     ]
    },
    {
     "name": "stdout",
     "output_type": "stream",
     "text": [
      "144\n"
     ]
    },
    {
     "name": "stderr",
     "output_type": "stream",
     "text": [
      "100%|██████████| 3673/3673 [00:14<00:00, 254.69it/s]\n"
     ]
    },
    {
     "name": "stdout",
     "output_type": "stream",
     "text": [
      "176\n"
     ]
    },
    {
     "name": "stderr",
     "output_type": "stream",
     "text": [
      "100%|██████████| 3433/3433 [00:13<00:00, 249.74it/s]\n"
     ]
    },
    {
     "name": "stdout",
     "output_type": "stream",
     "text": [
      "90\n"
     ]
    },
    {
     "name": "stderr",
     "output_type": "stream",
     "text": [
      "100%|██████████| 3494/3494 [00:14<00:00, 240.82it/s]\n"
     ]
    },
    {
     "name": "stdout",
     "output_type": "stream",
     "text": [
      "35\n"
     ]
    },
    {
     "name": "stderr",
     "output_type": "stream",
     "text": [
      "100%|██████████| 4293/4293 [00:17<00:00, 245.96it/s]\n"
     ]
    },
    {
     "name": "stdout",
     "output_type": "stream",
     "text": [
      "345\n"
     ]
    },
    {
     "name": "stderr",
     "output_type": "stream",
     "text": [
      "100%|██████████| 3694/3694 [00:14<00:00, 249.70it/s]\n"
     ]
    },
    {
     "name": "stdout",
     "output_type": "stream",
     "text": [
      "511\n"
     ]
    },
    {
     "name": "stderr",
     "output_type": "stream",
     "text": [
      "100%|██████████| 3599/3599 [00:14<00:00, 245.36it/s]\n"
     ]
    },
    {
     "name": "stdout",
     "output_type": "stream",
     "text": [
      "306\n"
     ]
    },
    {
     "name": "stderr",
     "output_type": "stream",
     "text": [
      "100%|██████████| 2396/2396 [00:09<00:00, 245.79it/s]\n"
     ]
    },
    {
     "name": "stdout",
     "output_type": "stream",
     "text": [
      "108\n"
     ]
    },
    {
     "name": "stderr",
     "output_type": "stream",
     "text": [
      "100%|██████████| 3892/3892 [00:16<00:00, 243.00it/s]\n"
     ]
    },
    {
     "name": "stdout",
     "output_type": "stream",
     "text": [
      "353\n"
     ]
    },
    {
     "name": "stderr",
     "output_type": "stream",
     "text": [
      "100%|██████████| 4237/4237 [00:17<00:00, 243.04it/s]\n"
     ]
    },
    {
     "name": "stdout",
     "output_type": "stream",
     "text": [
      "316\n"
     ]
    },
    {
     "name": "stderr",
     "output_type": "stream",
     "text": [
      "100%|██████████| 4290/4290 [00:17<00:00, 240.71it/s]\n"
     ]
    },
    {
     "name": "stdout",
     "output_type": "stream",
     "text": [
      "285\n"
     ]
    },
    {
     "name": "stderr",
     "output_type": "stream",
     "text": [
      "100%|██████████| 1677/1677 [00:06<00:00, 241.43it/s]\n"
     ]
    },
    {
     "name": "stdout",
     "output_type": "stream",
     "text": [
      "177\n"
     ]
    },
    {
     "name": "stderr",
     "output_type": "stream",
     "text": [
      "100%|██████████| 3397/3397 [00:13<00:00, 244.13it/s]\n"
     ]
    },
    {
     "name": "stdout",
     "output_type": "stream",
     "text": [
      "476\n"
     ]
    },
    {
     "name": "stderr",
     "output_type": "stream",
     "text": [
      "100%|██████████| 3507/3507 [00:14<00:00, 240.44it/s]\n"
     ]
    },
    {
     "name": "stdout",
     "output_type": "stream",
     "text": [
      "211\n"
     ]
    },
    {
     "name": "stderr",
     "output_type": "stream",
     "text": [
      "100%|██████████| 4141/4141 [00:16<00:00, 245.75it/s]\n"
     ]
    },
    {
     "name": "stdout",
     "output_type": "stream",
     "text": [
      "461\n"
     ]
    },
    {
     "name": "stderr",
     "output_type": "stream",
     "text": [
      "100%|██████████| 4300/4300 [00:17<00:00, 245.39it/s]\n"
     ]
    },
    {
     "name": "stdout",
     "output_type": "stream",
     "text": [
      "464\n"
     ]
    },
    {
     "name": "stderr",
     "output_type": "stream",
     "text": [
      "100%|██████████| 4277/4277 [00:17<00:00, 241.26it/s]\n"
     ]
    },
    {
     "name": "stdout",
     "output_type": "stream",
     "text": [
      "355\n"
     ]
    },
    {
     "name": "stderr",
     "output_type": "stream",
     "text": [
      "100%|██████████| 4274/4274 [00:17<00:00, 237.82it/s]\n"
     ]
    },
    {
     "name": "stdout",
     "output_type": "stream",
     "text": [
      "228\n"
     ]
    },
    {
     "name": "stderr",
     "output_type": "stream",
     "text": [
      "100%|██████████| 3818/3818 [00:15<00:00, 245.47it/s]\n"
     ]
    },
    {
     "name": "stdout",
     "output_type": "stream",
     "text": [
      "163\n"
     ]
    },
    {
     "name": "stderr",
     "output_type": "stream",
     "text": [
      "100%|██████████| 657/657 [00:02<00:00, 234.89it/s]\n"
     ]
    },
    {
     "name": "stdout",
     "output_type": "stream",
     "text": [
      "444\n"
     ]
    },
    {
     "name": "stderr",
     "output_type": "stream",
     "text": [
      "100%|██████████| 3162/3162 [00:13<00:00, 238.30it/s]\n"
     ]
    },
    {
     "name": "stdout",
     "output_type": "stream",
     "text": [
      "463\n"
     ]
    },
    {
     "name": "stderr",
     "output_type": "stream",
     "text": [
      "100%|██████████| 3891/3891 [00:15<00:00, 244.13it/s]\n"
     ]
    },
    {
     "name": "stdout",
     "output_type": "stream",
     "text": [
      "522\n"
     ]
    },
    {
     "name": "stderr",
     "output_type": "stream",
     "text": [
      "100%|██████████| 2914/2914 [00:12<00:00, 238.46it/s]\n"
     ]
    },
    {
     "name": "stdout",
     "output_type": "stream",
     "text": [
      "472\n"
     ]
    },
    {
     "name": "stderr",
     "output_type": "stream",
     "text": [
      "100%|██████████| 3155/3155 [00:12<00:00, 245.32it/s]\n"
     ]
    },
    {
     "name": "stdout",
     "output_type": "stream",
     "text": [
      "222\n"
     ]
    },
    {
     "name": "stderr",
     "output_type": "stream",
     "text": [
      "100%|██████████| 4273/4273 [00:17<00:00, 245.75it/s]\n"
     ]
    },
    {
     "name": "stdout",
     "output_type": "stream",
     "text": [
      "33\n"
     ]
    },
    {
     "name": "stderr",
     "output_type": "stream",
     "text": [
      "100%|██████████| 3771/3771 [00:15<00:00, 236.82it/s]\n"
     ]
    },
    {
     "name": "stdout",
     "output_type": "stream",
     "text": [
      "492\n"
     ]
    },
    {
     "name": "stderr",
     "output_type": "stream",
     "text": [
      "100%|██████████| 4151/4151 [00:17<00:00, 235.56it/s]\n"
     ]
    },
    {
     "name": "stdout",
     "output_type": "stream",
     "text": [
      "121\n"
     ]
    },
    {
     "name": "stderr",
     "output_type": "stream",
     "text": [
      "100%|██████████| 2526/2526 [00:11<00:00, 228.13it/s]\n"
     ]
    },
    {
     "name": "stdout",
     "output_type": "stream",
     "text": [
      "521\n"
     ]
    },
    {
     "name": "stderr",
     "output_type": "stream",
     "text": [
      "100%|██████████| 4268/4268 [00:18<00:00, 229.34it/s]\n"
     ]
    },
    {
     "name": "stdout",
     "output_type": "stream",
     "text": [
      "224\n"
     ]
    },
    {
     "name": "stderr",
     "output_type": "stream",
     "text": [
      "100%|██████████| 3302/3302 [00:13<00:00, 236.92it/s]\n"
     ]
    },
    {
     "name": "stdout",
     "output_type": "stream",
     "text": [
      "439\n"
     ]
    },
    {
     "name": "stderr",
     "output_type": "stream",
     "text": [
      "100%|██████████| 1495/1495 [00:06<00:00, 221.33it/s]\n"
     ]
    },
    {
     "name": "stdout",
     "output_type": "stream",
     "text": [
      "164\n"
     ]
    },
    {
     "name": "stderr",
     "output_type": "stream",
     "text": [
      "100%|██████████| 4327/4327 [00:18<00:00, 231.68it/s]\n"
     ]
    },
    {
     "name": "stdout",
     "output_type": "stream",
     "text": [
      "496\n"
     ]
    },
    {
     "name": "stderr",
     "output_type": "stream",
     "text": [
      "100%|██████████| 731/731 [00:03<00:00, 228.18it/s]\n"
     ]
    },
    {
     "name": "stdout",
     "output_type": "stream",
     "text": [
      "421\n"
     ]
    },
    {
     "name": "stderr",
     "output_type": "stream",
     "text": [
      "100%|██████████| 4044/4044 [00:17<00:00, 231.10it/s]\n"
     ]
    },
    {
     "name": "stdout",
     "output_type": "stream",
     "text": [
      "520\n"
     ]
    },
    {
     "name": "stderr",
     "output_type": "stream",
     "text": [
      "100%|██████████| 2658/2658 [00:11<00:00, 226.58it/s]\n"
     ]
    },
    {
     "name": "stdout",
     "output_type": "stream",
     "text": [
      "202\n"
     ]
    },
    {
     "name": "stderr",
     "output_type": "stream",
     "text": [
      "100%|██████████| 2972/2972 [00:12<00:00, 231.93it/s]\n"
     ]
    },
    {
     "name": "stdout",
     "output_type": "stream",
     "text": [
      "512\n"
     ]
    },
    {
     "name": "stderr",
     "output_type": "stream",
     "text": [
      "100%|██████████| 3622/3622 [00:17<00:00, 208.04it/s]\n"
     ]
    },
    {
     "name": "stdout",
     "output_type": "stream",
     "text": [
      "248\n"
     ]
    },
    {
     "name": "stderr",
     "output_type": "stream",
     "text": [
      "100%|██████████| 4141/4141 [00:18<00:00, 228.21it/s]\n"
     ]
    },
    {
     "name": "stdout",
     "output_type": "stream",
     "text": [
      "475\n"
     ]
    },
    {
     "name": "stderr",
     "output_type": "stream",
     "text": [
      "100%|██████████| 4084/4084 [00:16<00:00, 240.60it/s]\n"
     ]
    },
    {
     "name": "stdout",
     "output_type": "stream",
     "text": [
      "7\n"
     ]
    },
    {
     "name": "stderr",
     "output_type": "stream",
     "text": [
      "100%|██████████| 4318/4318 [00:17<00:00, 247.47it/s]\n"
     ]
    },
    {
     "name": "stdout",
     "output_type": "stream",
     "text": [
      "343\n"
     ]
    },
    {
     "name": "stderr",
     "output_type": "stream",
     "text": [
      "100%|██████████| 4277/4277 [00:17<00:00, 243.13it/s]\n"
     ]
    },
    {
     "name": "stdout",
     "output_type": "stream",
     "text": [
      "205\n"
     ]
    },
    {
     "name": "stderr",
     "output_type": "stream",
     "text": [
      "100%|██████████| 3212/3212 [00:14<00:00, 226.04it/s]\n"
     ]
    },
    {
     "name": "stdout",
     "output_type": "stream",
     "text": [
      "36\n"
     ]
    },
    {
     "name": "stderr",
     "output_type": "stream",
     "text": [
      "100%|██████████| 4313/4313 [00:18<00:00, 234.54it/s]\n"
     ]
    },
    {
     "name": "stdout",
     "output_type": "stream",
     "text": [
      "333\n"
     ]
    },
    {
     "name": "stderr",
     "output_type": "stream",
     "text": [
      "100%|██████████| 3467/3467 [00:14<00:00, 238.28it/s]\n"
     ]
    },
    {
     "name": "stdout",
     "output_type": "stream",
     "text": [
      "403\n"
     ]
    },
    {
     "name": "stderr",
     "output_type": "stream",
     "text": [
      "100%|██████████| 4124/4124 [00:17<00:00, 241.00it/s]\n"
     ]
    },
    {
     "name": "stdout",
     "output_type": "stream",
     "text": [
      "480\n"
     ]
    },
    {
     "name": "stderr",
     "output_type": "stream",
     "text": [
      "100%|██████████| 4086/4086 [00:16<00:00, 241.77it/s]\n"
     ]
    },
    {
     "name": "stdout",
     "output_type": "stream",
     "text": [
      "83\n"
     ]
    },
    {
     "name": "stderr",
     "output_type": "stream",
     "text": [
      "100%|██████████| 4311/4311 [00:17<00:00, 242.35it/s]\n"
     ]
    },
    {
     "name": "stdout",
     "output_type": "stream",
     "text": [
      "137\n"
     ]
    },
    {
     "name": "stderr",
     "output_type": "stream",
     "text": [
      "100%|██████████| 4010/4010 [00:17<00:00, 229.81it/s]\n"
     ]
    },
    {
     "name": "stdout",
     "output_type": "stream",
     "text": [
      "226\n"
     ]
    },
    {
     "name": "stderr",
     "output_type": "stream",
     "text": [
      "100%|██████████| 3040/3040 [00:15<00:00, 197.99it/s]\n"
     ]
    },
    {
     "name": "stdout",
     "output_type": "stream",
     "text": [
      "389\n"
     ]
    },
    {
     "name": "stderr",
     "output_type": "stream",
     "text": [
      "100%|██████████| 1705/1705 [00:08<00:00, 199.25it/s]\n"
     ]
    },
    {
     "name": "stdout",
     "output_type": "stream",
     "text": [
      "435\n"
     ]
    },
    {
     "name": "stderr",
     "output_type": "stream",
     "text": [
      "100%|██████████| 4077/4077 [00:17<00:00, 229.88it/s]\n"
     ]
    },
    {
     "name": "stdout",
     "output_type": "stream",
     "text": [
      "233\n"
     ]
    },
    {
     "name": "stderr",
     "output_type": "stream",
     "text": [
      "100%|██████████| 4309/4309 [00:19<00:00, 224.37it/s]\n"
     ]
    },
    {
     "name": "stdout",
     "output_type": "stream",
     "text": [
      "105\n"
     ]
    },
    {
     "name": "stderr",
     "output_type": "stream",
     "text": [
      "100%|██████████| 4170/4170 [00:18<00:00, 228.51it/s]\n"
     ]
    },
    {
     "name": "stdout",
     "output_type": "stream",
     "text": [
      "160\n"
     ]
    },
    {
     "name": "stderr",
     "output_type": "stream",
     "text": [
      "100%|██████████| 4157/4157 [00:17<00:00, 238.38it/s]\n"
     ]
    },
    {
     "name": "stdout",
     "output_type": "stream",
     "text": [
      "101\n"
     ]
    },
    {
     "name": "stderr",
     "output_type": "stream",
     "text": [
      "100%|██████████| 1542/1542 [00:06<00:00, 238.90it/s]\n"
     ]
    },
    {
     "name": "stdout",
     "output_type": "stream",
     "text": [
      "356\n"
     ]
    },
    {
     "name": "stderr",
     "output_type": "stream",
     "text": [
      "100%|██████████| 4008/4008 [00:16<00:00, 245.03it/s]\n"
     ]
    },
    {
     "name": "stdout",
     "output_type": "stream",
     "text": [
      "339\n"
     ]
    },
    {
     "name": "stderr",
     "output_type": "stream",
     "text": [
      "100%|██████████| 3919/3919 [00:15<00:00, 247.20it/s]\n"
     ]
    },
    {
     "name": "stdout",
     "output_type": "stream",
     "text": [
      "4\n"
     ]
    },
    {
     "name": "stderr",
     "output_type": "stream",
     "text": [
      "100%|██████████| 4315/4315 [00:17<00:00, 242.45it/s]\n"
     ]
    },
    {
     "name": "stdout",
     "output_type": "stream",
     "text": [
      "204\n"
     ]
    },
    {
     "name": "stderr",
     "output_type": "stream",
     "text": [
      "100%|██████████| 4312/4312 [00:17<00:00, 247.02it/s]\n"
     ]
    },
    {
     "name": "stdout",
     "output_type": "stream",
     "text": [
      "518\n"
     ]
    },
    {
     "name": "stderr",
     "output_type": "stream",
     "text": [
      "100%|██████████| 3448/3448 [00:13<00:00, 253.45it/s]\n"
     ]
    },
    {
     "name": "stdout",
     "output_type": "stream",
     "text": [
      "519\n"
     ]
    },
    {
     "name": "stderr",
     "output_type": "stream",
     "text": [
      "100%|██████████| 3320/3320 [00:13<00:00, 249.00it/s]\n"
     ]
    },
    {
     "name": "stdout",
     "output_type": "stream",
     "text": [
      "96\n"
     ]
    },
    {
     "name": "stderr",
     "output_type": "stream",
     "text": [
      "100%|██████████| 4153/4153 [00:17<00:00, 239.53it/s]\n"
     ]
    },
    {
     "name": "stdout",
     "output_type": "stream",
     "text": [
      "361\n"
     ]
    },
    {
     "name": "stderr",
     "output_type": "stream",
     "text": [
      "100%|██████████| 4320/4320 [00:17<00:00, 246.84it/s]\n"
     ]
    },
    {
     "name": "stdout",
     "output_type": "stream",
     "text": [
      "252\n"
     ]
    },
    {
     "name": "stderr",
     "output_type": "stream",
     "text": [
      "100%|██████████| 4211/4211 [00:17<00:00, 247.22it/s]\n"
     ]
    },
    {
     "name": "stdout",
     "output_type": "stream",
     "text": [
      "465\n"
     ]
    },
    {
     "name": "stderr",
     "output_type": "stream",
     "text": [
      "100%|██████████| 1457/1457 [00:05<00:00, 248.35it/s]\n"
     ]
    },
    {
     "name": "stdout",
     "output_type": "stream",
     "text": [
      "41\n"
     ]
    },
    {
     "name": "stderr",
     "output_type": "stream",
     "text": [
      "100%|██████████| 3440/3440 [00:13<00:00, 249.48it/s]\n"
     ]
    },
    {
     "name": "stdout",
     "output_type": "stream",
     "text": [
      "21\n"
     ]
    },
    {
     "name": "stderr",
     "output_type": "stream",
     "text": [
      "100%|██████████| 3210/3210 [00:13<00:00, 231.02it/s]\n"
     ]
    },
    {
     "name": "stdout",
     "output_type": "stream",
     "text": [
      "225\n"
     ]
    },
    {
     "name": "stderr",
     "output_type": "stream",
     "text": [
      "100%|██████████| 3803/3803 [00:15<00:00, 246.57it/s]\n"
     ]
    },
    {
     "name": "stdout",
     "output_type": "stream",
     "text": [
      "156\n"
     ]
    },
    {
     "name": "stderr",
     "output_type": "stream",
     "text": [
      "100%|██████████| 3134/3134 [00:12<00:00, 247.93it/s]\n"
     ]
    },
    {
     "name": "stdout",
     "output_type": "stream",
     "text": [
      "374\n"
     ]
    },
    {
     "name": "stderr",
     "output_type": "stream",
     "text": [
      "100%|██████████| 4218/4218 [00:16<00:00, 253.17it/s]\n"
     ]
    },
    {
     "name": "stdout",
     "output_type": "stream",
     "text": [
      "23\n"
     ]
    },
    {
     "name": "stderr",
     "output_type": "stream",
     "text": [
      "100%|██████████| 953/953 [00:03<00:00, 257.64it/s]\n"
     ]
    },
    {
     "name": "stdout",
     "output_type": "stream",
     "text": [
      "311\n"
     ]
    },
    {
     "name": "stderr",
     "output_type": "stream",
     "text": [
      "100%|██████████| 4282/4282 [00:17<00:00, 249.56it/s]\n"
     ]
    },
    {
     "name": "stdout",
     "output_type": "stream",
     "text": [
      "67\n"
     ]
    },
    {
     "name": "stderr",
     "output_type": "stream",
     "text": [
      "100%|██████████| 4182/4182 [00:17<00:00, 245.92it/s]\n"
     ]
    },
    {
     "name": "stdout",
     "output_type": "stream",
     "text": [
      "325\n"
     ]
    },
    {
     "name": "stderr",
     "output_type": "stream",
     "text": [
      "100%|██████████| 4199/4199 [00:16<00:00, 250.42it/s]\n"
     ]
    },
    {
     "name": "stdout",
     "output_type": "stream",
     "text": [
      "528\n"
     ]
    },
    {
     "name": "stderr",
     "output_type": "stream",
     "text": [
      "100%|██████████| 3274/3274 [00:13<00:00, 234.55it/s]\n"
     ]
    },
    {
     "name": "stdout",
     "output_type": "stream",
     "text": [
      "17\n"
     ]
    },
    {
     "name": "stderr",
     "output_type": "stream",
     "text": [
      "100%|██████████| 4330/4330 [00:18<00:00, 235.88it/s]\n"
     ]
    },
    {
     "name": "stdout",
     "output_type": "stream",
     "text": [
      "262\n"
     ]
    },
    {
     "name": "stderr",
     "output_type": "stream",
     "text": [
      "100%|██████████| 4046/4046 [00:17<00:00, 235.93it/s]\n"
     ]
    },
    {
     "name": "stdout",
     "output_type": "stream",
     "text": [
      "508\n"
     ]
    },
    {
     "name": "stderr",
     "output_type": "stream",
     "text": [
      "100%|██████████| 4344/4344 [00:17<00:00, 244.13it/s]\n"
     ]
    },
    {
     "name": "stdout",
     "output_type": "stream",
     "text": [
      "25\n"
     ]
    },
    {
     "name": "stderr",
     "output_type": "stream",
     "text": [
      "100%|██████████| 4344/4344 [00:17<00:00, 250.08it/s]\n"
     ]
    },
    {
     "name": "stdout",
     "output_type": "stream",
     "text": [
      "424\n"
     ]
    },
    {
     "name": "stderr",
     "output_type": "stream",
     "text": [
      "100%|██████████| 4344/4344 [00:17<00:00, 249.14it/s]\n"
     ]
    },
    {
     "name": "stdout",
     "output_type": "stream",
     "text": [
      "48\n"
     ]
    },
    {
     "name": "stderr",
     "output_type": "stream",
     "text": [
      "100%|██████████| 4344/4344 [00:17<00:00, 248.53it/s]\n"
     ]
    },
    {
     "name": "stdout",
     "output_type": "stream",
     "text": [
      "376\n"
     ]
    },
    {
     "name": "stderr",
     "output_type": "stream",
     "text": [
      "100%|██████████| 4344/4344 [00:17<00:00, 250.68it/s]\n"
     ]
    },
    {
     "name": "stdout",
     "output_type": "stream",
     "text": [
      "196\n"
     ]
    },
    {
     "name": "stderr",
     "output_type": "stream",
     "text": [
      "100%|██████████| 4269/4269 [00:17<00:00, 241.20it/s]\n"
     ]
    },
    {
     "name": "stdout",
     "output_type": "stream",
     "text": [
      "56\n"
     ]
    },
    {
     "name": "stderr",
     "output_type": "stream",
     "text": [
      "100%|██████████| 4340/4340 [00:17<00:00, 247.24it/s]\n"
     ]
    },
    {
     "name": "stdout",
     "output_type": "stream",
     "text": [
      "498\n"
     ]
    },
    {
     "name": "stderr",
     "output_type": "stream",
     "text": [
      "100%|██████████| 4244/4244 [00:16<00:00, 251.68it/s]\n"
     ]
    },
    {
     "name": "stdout",
     "output_type": "stream",
     "text": [
      "380\n"
     ]
    },
    {
     "name": "stderr",
     "output_type": "stream",
     "text": [
      "100%|██████████| 39/39 [00:00<00:00, 258.28it/s]\n"
     ]
    },
    {
     "name": "stdout",
     "output_type": "stream",
     "text": [
      "426\n"
     ]
    },
    {
     "name": "stderr",
     "output_type": "stream",
     "text": [
      "100%|██████████| 4344/4344 [00:17<00:00, 253.92it/s]\n"
     ]
    },
    {
     "name": "stdout",
     "output_type": "stream",
     "text": [
      "427\n"
     ]
    },
    {
     "name": "stderr",
     "output_type": "stream",
     "text": [
      "100%|██████████| 4344/4344 [00:17<00:00, 255.21it/s]\n"
     ]
    },
    {
     "name": "stdout",
     "output_type": "stream",
     "text": [
      "425\n"
     ]
    },
    {
     "name": "stderr",
     "output_type": "stream",
     "text": [
      "100%|██████████| 4332/4332 [00:17<00:00, 250.11it/s]\n"
     ]
    },
    {
     "name": "stdout",
     "output_type": "stream",
     "text": [
      "186\n"
     ]
    },
    {
     "name": "stderr",
     "output_type": "stream",
     "text": [
      "100%|██████████| 4344/4344 [00:17<00:00, 249.96it/s]\n"
     ]
    },
    {
     "name": "stdout",
     "output_type": "stream",
     "text": [
      "14\n"
     ]
    },
    {
     "name": "stderr",
     "output_type": "stream",
     "text": [
      "100%|██████████| 4344/4344 [00:17<00:00, 250.89it/s]\n"
     ]
    },
    {
     "name": "stdout",
     "output_type": "stream",
     "text": [
      "274\n"
     ]
    },
    {
     "name": "stderr",
     "output_type": "stream",
     "text": [
      "100%|██████████| 4344/4344 [00:16<00:00, 258.03it/s]\n"
     ]
    },
    {
     "name": "stdout",
     "output_type": "stream",
     "text": [
      "12\n"
     ]
    },
    {
     "name": "stderr",
     "output_type": "stream",
     "text": [
      "100%|██████████| 3999/3999 [00:16<00:00, 246.59it/s]\n"
     ]
    },
    {
     "name": "stdout",
     "output_type": "stream",
     "text": [
      "289\n"
     ]
    },
    {
     "name": "stderr",
     "output_type": "stream",
     "text": [
      "100%|██████████| 4306/4306 [00:18<00:00, 227.26it/s]\n"
     ]
    },
    {
     "name": "stdout",
     "output_type": "stream",
     "text": [
      "495\n"
     ]
    },
    {
     "name": "stderr",
     "output_type": "stream",
     "text": [
      "100%|██████████| 4344/4344 [00:18<00:00, 237.77it/s]\n"
     ]
    },
    {
     "name": "stdout",
     "output_type": "stream",
     "text": [
      "250\n"
     ]
    },
    {
     "name": "stderr",
     "output_type": "stream",
     "text": [
      "100%|██████████| 3056/3056 [00:12<00:00, 241.35it/s]\n"
     ]
    },
    {
     "name": "stdout",
     "output_type": "stream",
     "text": [
      "468\n"
     ]
    },
    {
     "name": "stderr",
     "output_type": "stream",
     "text": [
      "100%|██████████| 4344/4344 [00:18<00:00, 239.29it/s]\n"
     ]
    },
    {
     "name": "stdout",
     "output_type": "stream",
     "text": [
      "146\n"
     ]
    },
    {
     "name": "stderr",
     "output_type": "stream",
     "text": [
      "100%|██████████| 4343/4343 [00:18<00:00, 240.79it/s]\n"
     ]
    },
    {
     "name": "stdout",
     "output_type": "stream",
     "text": [
      "344\n"
     ]
    },
    {
     "name": "stderr",
     "output_type": "stream",
     "text": [
      "100%|██████████| 4344/4344 [00:18<00:00, 240.14it/s]\n"
     ]
    },
    {
     "name": "stdout",
     "output_type": "stream",
     "text": [
      "70\n"
     ]
    },
    {
     "name": "stderr",
     "output_type": "stream",
     "text": [
      "100%|██████████| 3749/3749 [00:15<00:00, 236.82it/s]\n"
     ]
    },
    {
     "name": "stdout",
     "output_type": "stream",
     "text": [
      "446\n"
     ]
    },
    {
     "name": "stderr",
     "output_type": "stream",
     "text": [
      "100%|██████████| 4344/4344 [00:18<00:00, 238.44it/s]\n"
     ]
    },
    {
     "name": "stdout",
     "output_type": "stream",
     "text": [
      "122\n"
     ]
    },
    {
     "name": "stderr",
     "output_type": "stream",
     "text": [
      "100%|██████████| 4344/4344 [00:18<00:00, 238.57it/s]\n"
     ]
    },
    {
     "name": "stdout",
     "output_type": "stream",
     "text": [
      "16\n"
     ]
    },
    {
     "name": "stderr",
     "output_type": "stream",
     "text": [
      "100%|██████████| 4344/4344 [00:17<00:00, 241.40it/s]\n"
     ]
    },
    {
     "name": "stdout",
     "output_type": "stream",
     "text": [
      "149\n"
     ]
    },
    {
     "name": "stderr",
     "output_type": "stream",
     "text": [
      "100%|██████████| 4344/4344 [00:18<00:00, 241.01it/s]\n"
     ]
    },
    {
     "name": "stdout",
     "output_type": "stream",
     "text": [
      "336\n"
     ]
    },
    {
     "name": "stderr",
     "output_type": "stream",
     "text": [
      "100%|██████████| 272/272 [00:01<00:00, 247.05it/s]\n"
     ]
    },
    {
     "name": "stdout",
     "output_type": "stream",
     "text": [
      "301\n"
     ]
    },
    {
     "name": "stderr",
     "output_type": "stream",
     "text": [
      "100%|██████████| 4344/4344 [00:18<00:00, 240.67it/s]\n"
     ]
    },
    {
     "name": "stdout",
     "output_type": "stream",
     "text": [
      "57\n"
     ]
    },
    {
     "name": "stderr",
     "output_type": "stream",
     "text": [
      "100%|██████████| 4344/4344 [00:17<00:00, 241.46it/s]\n"
     ]
    },
    {
     "name": "stdout",
     "output_type": "stream",
     "text": [
      "31\n"
     ]
    },
    {
     "name": "stderr",
     "output_type": "stream",
     "text": [
      "100%|██████████| 4344/4344 [00:18<00:00, 240.28it/s]\n"
     ]
    },
    {
     "name": "stdout",
     "output_type": "stream",
     "text": [
      "516\n"
     ]
    },
    {
     "name": "stderr",
     "output_type": "stream",
     "text": [
      "100%|██████████| 3492/3492 [00:14<00:00, 243.76it/s]\n"
     ]
    },
    {
     "name": "stdout",
     "output_type": "stream",
     "text": [
      "30\n"
     ]
    },
    {
     "name": "stderr",
     "output_type": "stream",
     "text": [
      "100%|██████████| 4025/4025 [00:16<00:00, 243.55it/s]\n"
     ]
    },
    {
     "name": "stdout",
     "output_type": "stream",
     "text": [
      "404\n"
     ]
    },
    {
     "name": "stderr",
     "output_type": "stream",
     "text": [
      "100%|██████████| 4344/4344 [00:18<00:00, 240.69it/s]\n"
     ]
    },
    {
     "name": "stdout",
     "output_type": "stream",
     "text": [
      "437\n"
     ]
    },
    {
     "name": "stderr",
     "output_type": "stream",
     "text": [
      "100%|██████████| 3845/3845 [00:16<00:00, 239.98it/s]\n"
     ]
    },
    {
     "name": "stdout",
     "output_type": "stream",
     "text": [
      "191\n"
     ]
    },
    {
     "name": "stderr",
     "output_type": "stream",
     "text": [
      "100%|██████████| 4328/4328 [00:17<00:00, 240.75it/s]\n"
     ]
    },
    {
     "name": "stdout",
     "output_type": "stream",
     "text": [
      "193\n"
     ]
    },
    {
     "name": "stderr",
     "output_type": "stream",
     "text": [
      "100%|██████████| 4326/4326 [00:18<00:00, 238.45it/s]\n"
     ]
    },
    {
     "name": "stdout",
     "output_type": "stream",
     "text": [
      "190\n"
     ]
    },
    {
     "name": "stderr",
     "output_type": "stream",
     "text": [
      "100%|██████████| 2961/2961 [00:12<00:00, 237.01it/s]\n"
     ]
    },
    {
     "name": "stdout",
     "output_type": "stream",
     "text": [
      "197\n"
     ]
    },
    {
     "name": "stderr",
     "output_type": "stream",
     "text": [
      "100%|██████████| 4344/4344 [00:17<00:00, 242.70it/s]\n"
     ]
    },
    {
     "name": "stdout",
     "output_type": "stream",
     "text": [
      "44\n"
     ]
    },
    {
     "name": "stderr",
     "output_type": "stream",
     "text": [
      "100%|██████████| 4344/4344 [00:18<00:00, 235.98it/s]\n"
     ]
    },
    {
     "name": "stdout",
     "output_type": "stream",
     "text": [
      "494\n"
     ]
    },
    {
     "name": "stderr",
     "output_type": "stream",
     "text": [
      "100%|██████████| 1215/1215 [00:05<00:00, 239.50it/s]\n"
     ]
    },
    {
     "name": "stdout",
     "output_type": "stream",
     "text": [
      "377\n"
     ]
    },
    {
     "name": "stderr",
     "output_type": "stream",
     "text": [
      "100%|██████████| 4160/4160 [00:17<00:00, 239.95it/s]\n"
     ]
    },
    {
     "name": "stdout",
     "output_type": "stream",
     "text": [
      "200\n"
     ]
    },
    {
     "name": "stderr",
     "output_type": "stream",
     "text": [
      "100%|██████████| 4279/4279 [00:17<00:00, 239.91it/s]\n"
     ]
    },
    {
     "name": "stdout",
     "output_type": "stream",
     "text": [
      "268\n"
     ]
    },
    {
     "name": "stderr",
     "output_type": "stream",
     "text": [
      "100%|██████████| 4207/4207 [00:17<00:00, 241.17it/s]\n"
     ]
    },
    {
     "name": "stdout",
     "output_type": "stream",
     "text": [
      "399\n"
     ]
    },
    {
     "name": "stderr",
     "output_type": "stream",
     "text": [
      "100%|██████████| 636/636 [00:02<00:00, 234.69it/s]\n"
     ]
    },
    {
     "name": "stdout",
     "output_type": "stream",
     "text": [
      "77\n"
     ]
    },
    {
     "name": "stderr",
     "output_type": "stream",
     "text": [
      "100%|██████████| 3677/3677 [00:15<00:00, 242.68it/s]\n"
     ]
    },
    {
     "name": "stdout",
     "output_type": "stream",
     "text": [
      "442\n"
     ]
    },
    {
     "name": "stderr",
     "output_type": "stream",
     "text": [
      "100%|██████████| 4344/4344 [00:18<00:00, 238.86it/s]\n"
     ]
    },
    {
     "name": "stdout",
     "output_type": "stream",
     "text": [
      "526\n"
     ]
    },
    {
     "name": "stderr",
     "output_type": "stream",
     "text": [
      "100%|██████████| 4172/4172 [00:17<00:00, 244.32it/s]\n"
     ]
    },
    {
     "name": "stdout",
     "output_type": "stream",
     "text": [
      "227\n"
     ]
    },
    {
     "name": "stderr",
     "output_type": "stream",
     "text": [
      "100%|██████████| 4344/4344 [00:18<00:00, 241.05it/s]\n"
     ]
    },
    {
     "name": "stdout",
     "output_type": "stream",
     "text": [
      "119\n"
     ]
    },
    {
     "name": "stderr",
     "output_type": "stream",
     "text": [
      "100%|██████████| 4344/4344 [00:18<00:00, 238.87it/s]\n"
     ]
    },
    {
     "name": "stdout",
     "output_type": "stream",
     "text": [
      "159\n"
     ]
    },
    {
     "name": "stderr",
     "output_type": "stream",
     "text": [
      "100%|██████████| 4326/4326 [00:18<00:00, 240.26it/s]\n"
     ]
    },
    {
     "name": "stdout",
     "output_type": "stream",
     "text": [
      "107\n"
     ]
    },
    {
     "name": "stderr",
     "output_type": "stream",
     "text": [
      "100%|██████████| 4344/4344 [00:17<00:00, 242.06it/s]\n"
     ]
    },
    {
     "name": "stdout",
     "output_type": "stream",
     "text": [
      "527\n"
     ]
    },
    {
     "name": "stderr",
     "output_type": "stream",
     "text": [
      "100%|██████████| 4170/4170 [00:17<00:00, 243.55it/s]\n"
     ]
    },
    {
     "name": "stdout",
     "output_type": "stream",
     "text": [
      "253\n"
     ]
    },
    {
     "name": "stderr",
     "output_type": "stream",
     "text": [
      "100%|██████████| 4344/4344 [00:18<00:00, 233.19it/s]\n"
     ]
    },
    {
     "name": "stdout",
     "output_type": "stream",
     "text": [
      "375\n"
     ]
    },
    {
     "name": "stderr",
     "output_type": "stream",
     "text": [
      "100%|██████████| 4344/4344 [00:18<00:00, 238.68it/s]\n"
     ]
    },
    {
     "name": "stdout",
     "output_type": "stream",
     "text": [
      "358\n"
     ]
    },
    {
     "name": "stderr",
     "output_type": "stream",
     "text": [
      "100%|██████████| 2857/2857 [00:11<00:00, 242.11it/s]\n"
     ]
    },
    {
     "name": "stdout",
     "output_type": "stream",
     "text": [
      "479\n"
     ]
    },
    {
     "name": "stderr",
     "output_type": "stream",
     "text": [
      "100%|██████████| 4213/4213 [00:17<00:00, 240.27it/s]\n"
     ]
    },
    {
     "name": "stdout",
     "output_type": "stream",
     "text": [
      "115\n"
     ]
    },
    {
     "name": "stderr",
     "output_type": "stream",
     "text": [
      "100%|██████████| 3902/3902 [00:16<00:00, 242.13it/s]\n"
     ]
    },
    {
     "name": "stdout",
     "output_type": "stream",
     "text": [
      "125\n"
     ]
    },
    {
     "name": "stderr",
     "output_type": "stream",
     "text": [
      "100%|██████████| 873/873 [00:03<00:00, 239.51it/s]\n"
     ]
    },
    {
     "name": "stdout",
     "output_type": "stream",
     "text": [
      "74\n"
     ]
    },
    {
     "name": "stderr",
     "output_type": "stream",
     "text": [
      "100%|██████████| 2806/2806 [00:11<00:00, 241.65it/s]\n"
     ]
    },
    {
     "name": "stdout",
     "output_type": "stream",
     "text": [
      "212\n"
     ]
    },
    {
     "name": "stderr",
     "output_type": "stream",
     "text": [
      "100%|██████████| 693/693 [00:02<00:00, 236.22it/s]\n"
     ]
    },
    {
     "name": "stdout",
     "output_type": "stream",
     "text": [
      "194\n"
     ]
    },
    {
     "name": "stderr",
     "output_type": "stream",
     "text": [
      "100%|██████████| 4344/4344 [00:17<00:00, 244.19it/s]\n"
     ]
    },
    {
     "name": "stdout",
     "output_type": "stream",
     "text": [
      "81\n"
     ]
    },
    {
     "name": "stderr",
     "output_type": "stream",
     "text": [
      "100%|██████████| 2313/2313 [00:09<00:00, 240.38it/s]\n"
     ]
    },
    {
     "name": "stdout",
     "output_type": "stream",
     "text": [
      "506\n"
     ]
    },
    {
     "name": "stderr",
     "output_type": "stream",
     "text": [
      "100%|██████████| 1753/1753 [00:07<00:00, 240.63it/s]\n"
     ]
    },
    {
     "name": "stdout",
     "output_type": "stream",
     "text": [
      "99\n"
     ]
    },
    {
     "name": "stderr",
     "output_type": "stream",
     "text": [
      "100%|██████████| 5/5 [00:00<00:00, 238.10it/s]\n"
     ]
    },
    {
     "name": "stdout",
     "output_type": "stream",
     "text": [
      "514\n"
     ]
    },
    {
     "name": "stderr",
     "output_type": "stream",
     "text": [
      "100%|██████████| 3690/3690 [00:15<00:00, 238.80it/s]\n"
     ]
    },
    {
     "name": "stdout",
     "output_type": "stream",
     "text": [
      "513\n"
     ]
    },
    {
     "name": "stderr",
     "output_type": "stream",
     "text": [
      "100%|██████████| 3164/3164 [00:13<00:00, 241.69it/s]\n"
     ]
    },
    {
     "name": "stdout",
     "output_type": "stream",
     "text": [
      "473\n"
     ]
    },
    {
     "name": "stderr",
     "output_type": "stream",
     "text": [
      "100%|██████████| 2906/2906 [00:12<00:00, 240.20it/s]\n"
     ]
    },
    {
     "name": "stdout",
     "output_type": "stream",
     "text": [
      "109\n"
     ]
    },
    {
     "name": "stderr",
     "output_type": "stream",
     "text": [
      "100%|██████████| 3318/3318 [00:13<00:00, 238.11it/s]\n"
     ]
    },
    {
     "name": "stdout",
     "output_type": "stream",
     "text": [
      "417\n"
     ]
    },
    {
     "name": "stderr",
     "output_type": "stream",
     "text": [
      "100%|██████████| 1117/1117 [00:04<00:00, 237.71it/s]\n"
     ]
    },
    {
     "name": "stdout",
     "output_type": "stream",
     "text": [
      "438\n"
     ]
    },
    {
     "name": "stderr",
     "output_type": "stream",
     "text": [
      "100%|██████████| 4257/4257 [00:17<00:00, 239.88it/s]\n"
     ]
    },
    {
     "name": "stdout",
     "output_type": "stream",
     "text": [
      "501\n"
     ]
    },
    {
     "name": "stderr",
     "output_type": "stream",
     "text": [
      "100%|██████████| 437/437 [00:01<00:00, 243.32it/s]\n"
     ]
    },
    {
     "name": "stdout",
     "output_type": "stream",
     "text": [
      "272\n"
     ]
    },
    {
     "name": "stderr",
     "output_type": "stream",
     "text": [
      "100%|██████████| 3174/3174 [00:13<00:00, 242.09it/s]\n"
     ]
    },
    {
     "name": "stdout",
     "output_type": "stream",
     "text": [
      "169\n"
     ]
    },
    {
     "name": "stderr",
     "output_type": "stream",
     "text": [
      "100%|██████████| 1007/1007 [00:04<00:00, 248.83it/s]\n"
     ]
    },
    {
     "name": "stdout",
     "output_type": "stream",
     "text": [
      "231\n"
     ]
    },
    {
     "name": "stderr",
     "output_type": "stream",
     "text": [
      "100%|██████████| 596/596 [00:02<00:00, 225.74it/s]\n"
     ]
    },
    {
     "name": "stdout",
     "output_type": "stream",
     "text": [
      "43\n"
     ]
    },
    {
     "name": "stderr",
     "output_type": "stream",
     "text": [
      "100%|██████████| 7/7 [00:00<00:00, 233.31it/s]\n"
     ]
    },
    {
     "name": "stdout",
     "output_type": "stream",
     "text": [
      "395\n"
     ]
    },
    {
     "name": "stderr",
     "output_type": "stream",
     "text": [
      "100%|██████████| 132/132 [00:00<00:00, 242.74it/s]\n"
     ]
    },
    {
     "name": "stdout",
     "output_type": "stream",
     "text": [
      "220\n"
     ]
    },
    {
     "name": "stderr",
     "output_type": "stream",
     "text": [
      "100%|██████████| 3838/3838 [00:15<00:00, 241.97it/s]\n"
     ]
    },
    {
     "name": "stdout",
     "output_type": "stream",
     "text": [
      "39\n"
     ]
    },
    {
     "name": "stderr",
     "output_type": "stream",
     "text": [
      "100%|██████████| 31/31 [00:00<00:00, 191.36it/s]\n"
     ]
    },
    {
     "name": "stdout",
     "output_type": "stream",
     "text": [
      "362\n"
     ]
    },
    {
     "name": "stderr",
     "output_type": "stream",
     "text": [
      "100%|██████████| 2517/2517 [00:10<00:00, 243.94it/s]\n"
     ]
    },
    {
     "name": "stdout",
     "output_type": "stream",
     "text": [
      "143\n"
     ]
    },
    {
     "name": "stderr",
     "output_type": "stream",
     "text": [
      "100%|██████████| 1744/1744 [00:07<00:00, 236.22it/s]\n"
     ]
    },
    {
     "name": "stdout",
     "output_type": "stream",
     "text": [
      "18\n"
     ]
    },
    {
     "name": "stderr",
     "output_type": "stream",
     "text": [
      "100%|██████████| 206/206 [00:00<00:00, 248.19it/s]\n"
     ]
    },
    {
     "name": "stdout",
     "output_type": "stream",
     "text": [
      "281\n"
     ]
    },
    {
     "name": "stderr",
     "output_type": "stream",
     "text": [
      "100%|██████████| 2/2 [00:00<00:00, 125.01it/s]\n"
     ]
    },
    {
     "name": "stdout",
     "output_type": "stream",
     "text": [
      "368\n"
     ]
    },
    {
     "name": "stderr",
     "output_type": "stream",
     "text": [
      "100%|██████████| 3275/3275 [00:13<00:00, 244.87it/s]\n"
     ]
    },
    {
     "name": "stdout",
     "output_type": "stream",
     "text": [
      "53\n"
     ]
    },
    {
     "name": "stderr",
     "output_type": "stream",
     "text": [
      "100%|██████████| 2586/2586 [00:10<00:00, 238.00it/s]\n"
     ]
    },
    {
     "name": "stdout",
     "output_type": "stream",
     "text": [
      "185\n"
     ]
    },
    {
     "name": "stderr",
     "output_type": "stream",
     "text": [
      "100%|██████████| 1379/1379 [00:05<00:00, 236.96it/s]\n"
     ]
    },
    {
     "name": "stdout",
     "output_type": "stream",
     "text": [
      "157\n"
     ]
    },
    {
     "name": "stderr",
     "output_type": "stream",
     "text": [
      "100%|██████████| 2296/2296 [00:09<00:00, 239.46it/s]\n"
     ]
    },
    {
     "name": "stdout",
     "output_type": "stream",
     "text": [
      "78\n"
     ]
    },
    {
     "name": "stderr",
     "output_type": "stream",
     "text": [
      "100%|██████████| 189/189 [00:00<00:00, 239.51it/s]\n"
     ]
    },
    {
     "name": "stdout",
     "output_type": "stream",
     "text": [
      "298\n"
     ]
    },
    {
     "name": "stderr",
     "output_type": "stream",
     "text": [
      "100%|██████████| 88/88 [00:00<00:00, 238.48it/s]\n"
     ]
    },
    {
     "name": "stdout",
     "output_type": "stream",
     "text": [
      "97\n"
     ]
    },
    {
     "name": "stderr",
     "output_type": "stream",
     "text": [
      "100%|██████████| 168/168 [00:00<00:00, 240.69it/s]\n"
     ]
    },
    {
     "name": "stdout",
     "output_type": "stream",
     "text": [
      "467\n"
     ]
    },
    {
     "name": "stderr",
     "output_type": "stream",
     "text": [
      "100%|██████████| 2761/2761 [00:11<00:00, 237.30it/s]\n"
     ]
    },
    {
     "name": "stdout",
     "output_type": "stream",
     "text": [
      "299\n"
     ]
    },
    {
     "name": "stderr",
     "output_type": "stream",
     "text": [
      "100%|██████████| 164/164 [00:00<00:00, 244.41it/s]\n"
     ]
    },
    {
     "name": "stdout",
     "output_type": "stream",
     "text": [
      "338\n"
     ]
    },
    {
     "name": "stderr",
     "output_type": "stream",
     "text": [
      "100%|██████████| 12/12 [00:00<00:00, 214.28it/s]\n"
     ]
    },
    {
     "name": "stdout",
     "output_type": "stream",
     "text": [
      "214\n"
     ]
    },
    {
     "name": "stderr",
     "output_type": "stream",
     "text": [
      "100%|██████████| 421/421 [00:01<00:00, 242.93it/s]\n"
     ]
    }
   ],
   "source": [
    "for file in os.listdir(dataverse_dir):\n",
    "    if not \"2019\" in file: # Only operate on the 2019 dataset\n",
    "        continue\n",
    "    print(file)\n",
    "    hd_df = pd.read_csv(os.path.join(dataverse_dir, file), header=0)\n",
    "\n",
    "    # Remove the weird excel export #VALUE! artifacts\n",
    "    hd_df.replace('#VALUE!', pd.NA, inplace=True)\n",
    "    hd_df.dropna(inplace=True)\n",
    "    hd_df.iloc[:, -60:] = hd_df.iloc[:, -60:].apply(pd.to_numeric)\n",
    "    hd_df.iloc[:, -60:][hd_df.iloc[:, -60:] > 400] = pd.NA\n",
    "    hd_df.dropna(inplace=True) # Ignore rows with values greater than 400 \n",
    "\n",
    "    # Merge the date and hour columns to create a pd datetime\n",
    "    if '/' in hd_df['Date'][0]:\n",
    "        hd_df.insert(loc=1, column='time', value=(pd.to_datetime(hd_df['Date'], format='%m/%d/%Y') + pd.to_timedelta(hd_df['Hour'], unit='h')))\n",
    "    elif '-' in hd_df['Date'][0]:\n",
    "        hd_df.insert(loc=1, column='time', value=(pd.to_datetime(hd_df['Date'], format='%d-%m-%Y') + pd.to_timedelta(hd_df['Hour'], unit='h')))\n",
    "    else:\n",
    "        print('Invalid date format')\n",
    "        break\n",
    "        \n",
    "    hd_df.drop(['Date', 'Hour'], axis=1, inplace=True)\n",
    "    \n",
    "    # Derive the uniform station_id from the station names\n",
    "    hd_df.rename(columns={'Location name': 'station_name'}, inplace=True)\n",
    "    \n",
    "    # Create a new column of uniform station_ids, assigning -1 if it is a station we have already discarded, so we can ignore it\n",
    "    hd_df.insert(loc=0, column='station_id', value=hd_df['station_name'].apply(lambda x : name_to_station_id.get(strip_name(x, exceptions=name_exceptions), -1)))\n",
    "    hd_df.drop('station_name', axis=1, inplace=True)\n",
    "\n",
    "    hd_df = hd_df[hd_df['station_id'] != -1]\n",
    "    hd_df = hd_df[hd_df['station_id'] != 223]\n",
    "    hd_df = hd_df[hd_df['station_id'] != 86] # Remove all the high error rate and irrelevant stations\n",
    "\n",
    "    station_ids = hd_df['station_id'].unique()\n",
    "    \n",
    "    stations_2019 = {}\n",
    "    for station_id in station_ids:\n",
    "        print(station_id)\n",
    "        unpivoted_rows = []\n",
    "        station_df = hd_df[hd_df['station_id'] == station_id]\n",
    "\n",
    "        station_df = station_df[~station_df.duplicated(subset=['time'], keep=False)] # Remove duplicate times\n",
    "\n",
    "        for index in tqdm(range(station_df.shape[0])):\n",
    "            unpivoted_row = station_df.iloc[[index], :].melt(id_vars=['station_id', 'time'], ignore_index=True)\n",
    "            unpivoted_row['time'] = unpivoted_row['time'] + pd.to_timedelta(unpivoted_row['variable'].apply(lambda x : int(x.split(' ')[1])), unit='m')\n",
    "            unpivoted_rows.append(unpivoted_row)\n",
    "\n",
    "        unpivoted_df = pd.concat(unpivoted_rows)\n",
    "        unpivoted_df.drop('variable', axis=1, inplace=True)\n",
    "        unpivoted_df.rename(columns={'value': 'voltage'}, inplace=True)\n",
    "\n",
    "        stations_2019[station_id] = unpivoted_df"
   ]
  },
  {
   "cell_type": "markdown",
   "id": "d1da525b",
   "metadata": {},
   "source": [
    "### Inspecting the Quality of the Post-2019 Data\n",
    "We have reason to believe that the data quality post-2019 would be lower than that of before, because the program which pertained to the harvard dataverse sites ended in 2019. Just for a first order check before we incorporate the 2019 data, I will see if the mean and std of the voltage is substantially different before and after 2019."
   ]
  },
  {
   "cell_type": "code",
   "execution_count": 30,
   "id": "4cea2c4b",
   "metadata": {},
   "outputs": [],
   "source": [
    "station_ids = []\n",
    "mean_diffs = []\n",
    "mean1s = []\n",
    "mean2s = []\n",
    "std_diffs = []\n",
    "std1s = []\n",
    "std2s = []\n",
    "\n",
    "for station_id in stations_2019.keys():\n",
    "    output_path = os.path.join(uniform_dir, f'station_{station_id}.csv')\n",
    "    station_df_new = stations_2019[station_id]\n",
    "    \n",
    "    if os.path.exists(output_path):\n",
    "        station_df = pd.read_csv(output_path, header=0, parse_dates=['time'])\n",
    "        station_ids.append(station_id)\n",
    "        mean1 = station_df['voltage'].mean()\n",
    "        mean1s.append(mean1)\n",
    "        mean2 = station_df_new['voltage'].mean()\n",
    "        mean2s.append(mean2)\n",
    "\n",
    "        mean_diffs.append(np.abs(mean1 - mean2))\n",
    "\n",
    "        std1 = station_df['voltage'].std()\n",
    "        std1s.append(std1)\n",
    "        std2 = station_df_new['voltage'].std()\n",
    "        std2s.append(std2)\n",
    "\n",
    "        std_diffs.append(np.abs(std1 - std2))\n"
   ]
  },
  {
   "cell_type": "code",
   "execution_count": 34,
   "id": "97b51edc",
   "metadata": {},
   "outputs": [
    {
     "name": "stdout",
     "output_type": "stream",
     "text": [
      "Mean Differences\n",
      "[ 66.86783524 100.22082143  98.36311681  37.29250032  49.31260174\n",
      "  79.76807313  74.52002874 175.2608046  239.52322478 242.16721693]\n",
      "[0.95419399 1.0269152  1.0873201  1.17463552 1.40466063 1.51603714\n",
      " 1.68559889 4.38305177 7.22517917 9.97748979]\n"
     ]
    }
   ],
   "source": [
    "mean_diffs_arr = np.array(mean_diffs)\n",
    "means1_arr = np.array(mean1s)\n",
    "means2_arr = np.array(mean2s)\n",
    "std_diffs_arr = np.array(std_diffs)\n",
    "std1s_arr = np.array(std1s)\n",
    "std2s_arr = np.array(std2s)\n",
    "\n",
    "mean_diffs_normalized = mean_diffs_arr / std1s_arr\n",
    "sorted_diffs = np.argsort(mean_diffs_normalized)\n",
    "\n",
    "print(\"Mean Differences\")\n",
    "print(mean_diffs_arr[sorted_diffs[-10:]])\n",
    "print(mean_diffs_normalized[sorted_diffs[-10:]])"
   ]
  },
  {
   "cell_type": "markdown",
   "id": "b1a78030",
   "metadata": {},
   "source": [
    "Seeing as how some of the mean diffs are more than one full standard deviation, I think that Changmin's theory about the poor data quality of the 2019 dataset is valid, and for the time being, I will just save them to their own separate dataset."
   ]
  },
  {
   "cell_type": "code",
   "execution_count": 35,
   "id": "bccee023",
   "metadata": {},
   "outputs": [],
   "source": [
    "# If the station_data already exists, append the new data on the end, otherwise, write directly to a new csv\n",
    "post_2019_dir = \"../india_processing/india_uniform_2019\"\n",
    "\n",
    "for station_id, station_df in stations_2019.items():\n",
    "    output_path = os.path.join(post_2019_dir, f'station_{station_id}.csv') \n",
    "    station_df.to_csv(output_path, index=False)"
   ]
  },
  {
   "cell_type": "markdown",
   "id": "0b4a1d6c-9619-458e-8476-03bc4342120c",
   "metadata": {},
   "source": [
    "# Aggregating Voltage Data into Usable Metrics <a class=\"anchor\" id=\"aggregation\"></a>\n",
    "Before we can perform any analysis on correlation between weather factors and power outages in India, we first aggregate the power data into something that can be used.  \n",
    "\n",
    "The data being processed here is the station data that comes directly from the india_esmi_scraper or from the modified Harvard Dataverse station data.  \n",
    "ESMI data comes minute-wise, and ERA5 weather data comes hour-wise, so it is necessary to minimally convert the ESMI data to hourly data.  \n",
    "Additionally, the ESMI data is not complete, meaning we have to apply our discretion when choosing the times and stations with which to perform our analysis.  \n",
    "To give ourselves the maximum flexibility, we will process the data into 7 versions:  \n",
    "- Outage Events: timestamped with outage beginning and duration\n",
    "- Hourly Data: each complete hour with the percentage of the time period being spent at voltage = 0\n",
    "- Daily Aggregate Outage Events: each complete day with the frequency of power outage events and average duration of said events, aggregated from the first outage events dataset\n",
    "- Interpolated Minute-wise Data: because the data is incomplete, but in some cases may only be minorly incomplete, we can set some arbitrary threshold of missing minutes that we are willing to interpolate, and save that interpolated minutewise data\n",
    "- Interpolated Hourly Data: the same procedure to acquire the hourly data except apply to the interpolated data\n",
    "- Interpolated Outages: the same procedure used to acquire the outages, except applied to the interpolated data\n",
    "- Interpolated Daily Aggregate Outage Events: the same procedure used to acquire the daily aggregate outage frequency and duration, except applied to the interpolated data"
   ]
  },
  {
   "cell_type": "markdown",
   "id": "1d31a35f-e635-446e-845a-e94a8a4fbb40",
   "metadata": {},
   "source": [
    "## Interpolation Experiments <a class=\"anchor\" id=\"interpolation\"></a>\n",
    "First, let's determine what our interpolation method should be by looking at the shape of the voltage curves"
   ]
  },
  {
   "cell_type": "code",
   "execution_count": 7,
   "id": "5863655e-c154-41e1-ae2a-67843978a4e2",
   "metadata": {},
   "outputs": [
    {
     "data": {
      "text/html": [
       "<div>\n",
       "<style scoped>\n",
       "    .dataframe tbody tr th:only-of-type {\n",
       "        vertical-align: middle;\n",
       "    }\n",
       "\n",
       "    .dataframe tbody tr th {\n",
       "        vertical-align: top;\n",
       "    }\n",
       "\n",
       "    .dataframe thead th {\n",
       "        text-align: right;\n",
       "    }\n",
       "</style>\n",
       "<table border=\"1\" class=\"dataframe\">\n",
       "  <thead>\n",
       "    <tr style=\"text-align: right;\">\n",
       "      <th></th>\n",
       "      <th>time</th>\n",
       "      <th>voltage</th>\n",
       "    </tr>\n",
       "  </thead>\n",
       "  <tbody>\n",
       "    <tr>\n",
       "      <th>0</th>\n",
       "      <td>2014-11-24 09:00:00</td>\n",
       "      <td>241.0</td>\n",
       "    </tr>\n",
       "    <tr>\n",
       "      <th>1</th>\n",
       "      <td>2014-11-24 09:01:00</td>\n",
       "      <td>241.0</td>\n",
       "    </tr>\n",
       "    <tr>\n",
       "      <th>2</th>\n",
       "      <td>2014-11-24 09:02:00</td>\n",
       "      <td>241.0</td>\n",
       "    </tr>\n",
       "    <tr>\n",
       "      <th>3</th>\n",
       "      <td>2014-11-24 09:03:00</td>\n",
       "      <td>242.0</td>\n",
       "    </tr>\n",
       "    <tr>\n",
       "      <th>4</th>\n",
       "      <td>2014-11-24 09:04:00</td>\n",
       "      <td>242.0</td>\n",
       "    </tr>\n",
       "  </tbody>\n",
       "</table>\n",
       "</div>"
      ],
      "text/plain": [
       "                 time  voltage\n",
       "0 2014-11-24 09:00:00    241.0\n",
       "1 2014-11-24 09:01:00    241.0\n",
       "2 2014-11-24 09:02:00    241.0\n",
       "3 2014-11-24 09:03:00    242.0\n",
       "4 2014-11-24 09:04:00    242.0"
      ]
     },
     "execution_count": 7,
     "metadata": {},
     "output_type": "execute_result"
    }
   ],
   "source": [
    "sample_path = os.path.join(uniform_dir, 'station_12.csv')\n",
    "sample_df = pd.read_csv(sample_path, header=0, index_col=None, parse_dates=['time'])\n",
    "sample_df.head()"
   ]
  },
  {
   "cell_type": "code",
   "execution_count": 20,
   "id": "3cbba5cc-268b-4003-9732-4e6c1c2ac850",
   "metadata": {},
   "outputs": [
    {
     "data": {
      "text/plain": [
       "<Axes: xlabel='time', ylabel='voltage'>"
      ]
     },
     "execution_count": 20,
     "metadata": {},
     "output_type": "execute_result"
    },
    {
     "data": {
      "image/png": "[encoded data removed]",
      "text/plain": [
       "<Figure size 640x480 with 1 Axes>"
      ]
     },
     "metadata": {},
     "output_type": "display_data"
    }
   ],
   "source": [
    "sample_df[0:50].plot(kind='scatter', x='time', y='voltage')"
   ]
  },
  {
   "cell_type": "markdown",
   "id": "f7c13b80-e44a-47cc-abee-43559118ce95",
   "metadata": {},
   "source": [
    "We can see that while the overall trend is linear, at the two or three minute level, the data tends to take an almost stepwise format, staying at a value for one or two minutes before advancing to the next one.  \n",
    "So, for my first pass, I'll be looking to perform some form of nearest-value fill, just filling either end of a missing range with either it's beginning or end value.  \n",
    "Please note that I would only apply this form of interpolation to short quantities of missing information, one to three minutes, not large sequences."
   ]
  },
  {
   "cell_type": "code",
   "execution_count": 26,
   "id": "031aaf0f-3beb-4482-8e33-b9f955d3b2c5",
   "metadata": {},
   "outputs": [],
   "source": [
    "def interpolate(begin_range, end_range, begin_value, end_value, mode='nearfill'):\n",
    "    # begin_range and end_range are both included in the original series\n",
    "    # the output will be a dataframe including both begin_range and end_range, as well as the filled values in between\n",
    "    times = [begin_range]\n",
    "    voltages = [begin_value]\n",
    "    difference = round((end_range - begin_range).seconds / 60)\n",
    "    if mode == 'nearfill':\n",
    "        for i in range(1, difference):\n",
    "            curr_time = begin_range + timedelta(minutes=i)\n",
    "            times.append(curr_time)\n",
    "            if i <= int(difference / 2):\n",
    "                voltages.append(begin_value)\n",
    "            else:\n",
    "                voltages.append(end_value)\n",
    "        times.append(end_range)\n",
    "        voltages.append(end_value)\n",
    "\n",
    "    output_df = pd.DataFrame({'time': times, 'voltage': voltages})\n",
    "    return output_df"
   ]
  },
  {
   "cell_type": "markdown",
   "id": "25a0edc2-67a6-45f2-a89d-1f78f0c5a448",
   "metadata": {},
   "source": [
    "Now we can begin looping through all of the uniform data points, saving all of these relevant datasets."
   ]
  },
  {
   "cell_type": "code",
   "execution_count": 51,
   "id": "bb8b570e-089c-4733-8369-1be656cc75b2",
   "metadata": {},
   "outputs": [
    {
     "name": "stdout",
     "output_type": "stream",
     "text": [
      "Station 1/536: station_1.csv\n",
      "time\n",
      "60.0         225039\n",
      "82860.0           4\n",
      "342060.0          1\n",
      "313260.0          1\n",
      "165660.0          1\n",
      "183660.0          1\n",
      "3891660.0         1\n",
      "3733260.0         1\n",
      "126060.0          1\n",
      "50460.0           1\n",
      "136860.0          1\n",
      "7260.0            1\n",
      "1065660.0         1\n",
      "489660.0          1\n",
      "1980060.0         1\n",
      "169260.0          1\n",
      "2696460.0         1\n",
      "237660.0          1\n",
      "Name: count, dtype: int64\n",
      "Station 2/536: station_10.csv\n",
      "time\n",
      "60.0         117883\n",
      "3660.0            3\n",
      "169260.0          2\n",
      "284460.0          1\n",
      "39660.0           1\n",
      "1465260.0         1\n",
      "410460.0          1\n",
      "291660.0          1\n",
      "14460.0           1\n",
      "511260.0          1\n",
      "147660.0          1\n",
      "248460.0          1\n",
      "82860.0           1\n",
      "61260.0           1\n",
      "Name: count, dtype: int64\n",
      "Station 3/536: station_100.csv\n",
      "time\n",
      "60.0          47469\n",
      "10860.0          12\n",
      "32460.0          10\n",
      "36060.0           8\n",
      "21660.0           4\n",
      "14460.0           3\n",
      "7260.0            3\n",
      "18060.0           2\n",
      "28860.0           2\n",
      "1962060.0         1\n",
      "86460.0           1\n",
      "201660.0          1\n",
      "25260.0           1\n",
      "17510460.0        1\n",
      "1292460.0         1\n",
      "Name: count, dtype: int64\n",
      "Station 4/536: station_101.csv\n",
      "time\n",
      " 60.0       440269\n",
      "-3540.0          6\n",
      " 3660.0          3\n",
      " 14460.0         1\n",
      "Name: count, dtype: int64\n",
      "Station 5/536: station_102.csv\n",
      "time\n",
      "60.0         1016075\n",
      "3660.0             4\n",
      "7260.0             2\n",
      "10860.0            2\n",
      "259260.0           1\n",
      "979260.0           1\n",
      "140460.0           1\n",
      "396060.0           1\n",
      "648060.0           1\n",
      "1533660.0          1\n",
      "410460.0           1\n",
      "507660.0           1\n",
      "100860.0           1\n",
      "28860.0            1\n",
      "39660.0            1\n",
      "25260.0            1\n",
      "1242060.0          1\n",
      "219660.0           1\n",
      "144060.0           1\n",
      "435660.0           1\n",
      "Name: count, dtype: int64\n",
      "Station 6/536: station_103.csv\n",
      "time\n",
      "60.0    20699\n",
      "Name: count, dtype: int64\n",
      "Station 7/536: station_104.csv\n",
      "time\n",
      "60.0         334378\n",
      "3312060.0         1\n",
      "Name: count, dtype: int64\n",
      "Station 8/536: station_105.csv\n",
      "time\n",
      " 60.0       637898\n",
      "-3540.0        819\n",
      " 82860.0        37\n",
      " 3660.0         32\n",
      " 14460.0        13\n",
      " 7260.0          8\n",
      " 18060.0         3\n",
      " 10860.0         3\n",
      " 25260.0         2\n",
      " 21660.0         2\n",
      "-79140.0         1\n",
      " 64860.0         1\n",
      "Name: count, dtype: int64\n",
      "Station 9/536: station_106.csv\n",
      "time\n",
      "60.0         379495\n",
      "565260.0          1\n",
      "2030460.0         1\n",
      "108060.0          1\n",
      "1249260.0         1\n",
      "Name: count, dtype: int64\n",
      "Station 10/536: station_107.csv\n",
      "time\n",
      " 60.0         1423835\n",
      "-3540.0          3933\n",
      " 82860.0          169\n",
      " 205260.0           1\n",
      " 1206060.0          1\n",
      "Name: count, dtype: int64\n",
      "Station 11/536: station_108.csv\n",
      "time\n",
      " 60.0        1044838\n",
      "-3540.0         3867\n",
      " 82860.0         183\n",
      " 3660.0          154\n",
      " 7260.0           33\n",
      " 10860.0           7\n",
      " 14460.0           3\n",
      " 36060.0           2\n",
      " 21660.0           2\n",
      " 18060.0           1\n",
      " 50460.0           1\n",
      " 133260.0          1\n",
      " 25260.0           1\n",
      " 90060.0           1\n",
      " 39660.0           1\n",
      " 43260.0           1\n",
      " 28860.0           1\n",
      " 54060.0           1\n",
      " 241260.0          1\n",
      "Name: count, dtype: int64\n",
      "Station 12/536: station_109.csv\n",
      "time\n",
      " 60.0         1415527\n",
      "-3540.0          3217\n",
      " 82860.0          185\n",
      " 7260.0           134\n",
      " 3660.0            88\n",
      " 10860.0           81\n",
      " 14460.0           27\n",
      " 18060.0           10\n",
      " 25260.0            7\n",
      " 21660.0            5\n",
      " 32460.0            3\n",
      " 39660.0            3\n",
      " 64860.0            2\n",
      " 50460.0            2\n",
      " 54060.0            2\n",
      " 108060.0           1\n",
      " 1414860.0          1\n",
      " 129660.0           1\n",
      " 1353660.0          1\n",
      " 86460.0            1\n",
      " 46860.0            1\n",
      "Name: count, dtype: int64\n",
      "Station 13/536: station_11.csv\n",
      "time\n",
      "60.0      1114788\n",
      "3660.0         11\n",
      "Name: count, dtype: int64\n",
      "Station 14/536: station_110.csv\n",
      "time\n",
      "60.0         996639\n",
      "345660.0          2\n",
      "212460.0          1\n",
      "936060.0          1\n",
      "169260.0          1\n",
      "291660.0          1\n",
      "514860.0          1\n",
      "1252860.0         1\n",
      "151260.0          1\n",
      "118860.0          1\n",
      "183660.0          1\n",
      "1256460.0         1\n",
      "428460.0          1\n",
      "266460.0          1\n",
      "687660.0          1\n",
      "172860.0          1\n",
      "162060.0          1\n",
      "86460.0           1\n",
      "2584860.0         1\n",
      "14460.0           1\n",
      "Name: count, dtype: int64\n",
      "Station 15/536: station_111.csv\n",
      "time\n",
      "60.0        359098\n",
      "385260.0         1\n",
      "Name: count, dtype: int64\n",
      "Station 16/536: station_112.csv\n",
      "time\n",
      " 60.0          1416701\n",
      "-3540.0              7\n",
      " 3660.0              2\n",
      " 594060.0            1\n",
      " 172860.0            1\n",
      " 374460.0            1\n",
      " 21672060.0          1\n",
      " 198060.0            1\n",
      " 241260.0            1\n",
      " 1051260.0           1\n",
      " 10860.0             1\n",
      " 432060.0            1\n",
      "Name: count, dtype: int64\n",
      "Station 17/536: station_113.csv\n",
      "time\n",
      "60.0       174238\n",
      "86460.0         1\n",
      "Name: count, dtype: int64\n",
      "Station 18/536: station_115.csv\n",
      "time\n",
      " 60.0         1915596\n",
      "-3540.0          4202\n",
      " 82860.0          178\n",
      " 21660.0            2\n",
      " 3660.0             2\n",
      " 28860.0            2\n",
      " 9079260.0          1\n",
      " 183660.0           1\n",
      " 712860.0           1\n",
      " 39660.0            1\n",
      " 619260.0           1\n",
      " 471660.0           1\n",
      " 374460.0           1\n",
      " 126060.0           1\n",
      " 320460.0           1\n",
      " 457260.0           1\n",
      " 262860.0           1\n",
      " 54060.0            1\n",
      " 43260.0            1\n",
      " 198060.0           1\n",
      " 140460.0           1\n",
      " 223260.0           1\n",
      " 601260.0           1\n",
      "Name: count, dtype: int64\n",
      "Station 19/536: station_116.csv\n",
      "time\n",
      " 60.0          1255461\n",
      "-3540.0           1338\n",
      " 82860.0            60\n",
      " 3660.0              5\n",
      " 21660.0             3\n",
      " 7260.0              2\n",
      " 79260.0             1\n",
      " 20556060.0          1\n",
      " 133260.0            1\n",
      " 5529660.0           1\n",
      " 10860.0             1\n",
      " 18060.0             1\n",
      " 14460.0             1\n",
      " 565260.0            1\n",
      " 428460.0            1\n",
      " 10191660.0          1\n",
      "Name: count, dtype: int64\n",
      "Station 20/536: station_117.csv\n",
      "time\n",
      " 60.0         1814380\n",
      "-3540.0          4193\n",
      " 82860.0          183\n",
      " 3660.0             5\n",
      " 7260.0             3\n",
      " 1821660.0          1\n",
      " 327660.0           1\n",
      " 50460.0            1\n",
      " 25260.0            1\n",
      " 10860.0            1\n",
      " 14460.0            1\n",
      " 838860.0           1\n",
      " 140460.0           1\n",
      " 1771260.0          1\n",
      " 273660.0           1\n",
      " 1130460.0          1\n",
      " 1371660.0          1\n",
      " 75660.0            1\n",
      " 1612860.0          1\n",
      " 115260.0           1\n",
      "Name: count, dtype: int64\n",
      "Station 21/536: station_118.csv\n",
      "time\n",
      "60.0        1276072\n",
      "792060.0          1\n",
      "608460.0          1\n",
      "68460.0           1\n",
      "126060.0          1\n",
      "158460.0          1\n",
      "165660.0          1\n",
      "111660.0          1\n",
      "Name: count, dtype: int64\n",
      "Station 22/536: station_119.csv\n",
      "time\n",
      " 60.0         1425156\n",
      "-3540.0          3933\n",
      " 82860.0          169\n",
      " 1206060.0          1\n",
      "Name: count, dtype: int64\n",
      "Station 23/536: station_12.csv\n",
      "time\n",
      " 60.0          2263524\n",
      "-3540.0           3933\n",
      " 82860.0           169\n",
      " 86460.0             2\n",
      " 17884860.0          1\n",
      " 3660.0              1\n",
      " 583260.0            1\n",
      " 176460.0            1\n",
      " 3772860.0           1\n",
      " 39660.0             1\n",
      " 68460.0             1\n",
      " 1018860.0           1\n",
      " 72060.0             1\n",
      " 43260.0             1\n",
      " 1206060.0           1\n",
      "Name: count, dtype: int64\n",
      "Station 24/536: station_120.csv\n",
      "time\n",
      "60.0         363113\n",
      "3660.0            2\n",
      "18060.0           1\n",
      "133260.0          1\n",
      "2581260.0         1\n",
      "694860.0          1\n",
      "Name: count, dtype: int64\n",
      "Station 25/536: station_121.csv\n",
      "time\n",
      " 60.0         626046\n",
      "-3540.0          248\n",
      " 3660.0           30\n",
      " 7260.0           20\n",
      " 82860.0          13\n",
      " 10860.0           9\n",
      " 39660.0           7\n",
      " 72060.0           6\n",
      " 18060.0           6\n",
      " 32460.0           6\n",
      " 36060.0           6\n",
      " 14460.0           5\n",
      " 133260.0          4\n",
      " 25260.0           3\n",
      " 64860.0           3\n",
      " 75660.0           3\n",
      " 57660.0           3\n",
      " 86460.0           2\n",
      " 50460.0           2\n",
      " 21660.0           2\n",
      " 266460.0          2\n",
      " 212460.0          2\n",
      " 90060.0           2\n",
      " 129660.0          1\n",
      " 126060.0          1\n",
      " 428460.0          1\n",
      " 687660.0          1\n",
      " 1281660.0         1\n",
      " 345660.0          1\n",
      " 93660.0           1\n",
      " 248460.0          1\n",
      " 122460.0          1\n",
      " 28860.0           1\n",
      " 291660.0          1\n",
      " 79260.0           1\n",
      " 162060.0          1\n",
      " 43260.0           1\n",
      " 183660.0          1\n",
      " 46860.0           1\n",
      " 226860.0          1\n",
      " 201660.0          1\n",
      " 406860.0          1\n",
      " 597660.0          1\n",
      " 439260.0          1\n",
      " 68460.0           1\n",
      " 140460.0          1\n",
      " 205260.0          1\n",
      " 1573260.0         1\n",
      " 104460.0          1\n",
      " 198060.0          1\n",
      " 100860.0          1\n",
      " 342060.0          1\n",
      "Name: count, dtype: int64\n",
      "Station 26/536: station_122.csv\n",
      "time\n",
      " 60.0         1572413\n",
      "-3540.0          3858\n",
      " 82860.0          165\n",
      " 86460.0            1\n",
      " 1206060.0          1\n",
      " 342060.0           1\n",
      "Name: count, dtype: int64\n",
      "Station 27/536: station_123.csv\n",
      "time\n",
      "60.0    32759\n",
      "Name: count, dtype: int64\n",
      "Station 28/536: station_124.csv\n",
      "time\n",
      "60.0         323477\n",
      "82860.0           6\n",
      "28860.0           3\n",
      "14460.0           2\n",
      "342060.0          2\n",
      "75660.0           2\n",
      "255660.0          2\n",
      "165660.0          1\n",
      "579660.0          1\n",
      "532860.0          1\n",
      "50460.0           1\n",
      "140460.0          1\n",
      "64860.0           1\n",
      "428460.0          1\n",
      "79260.0           1\n",
      "183660.0          1\n",
      "525660.0          1\n",
      "946860.0          1\n",
      "72060.0           1\n",
      "32460.0           1\n",
      "3660.0            1\n",
      "266460.0          1\n",
      "730860.0          1\n",
      "662460.0          1\n",
      "547260.0          1\n",
      "144060.0          1\n",
      "597660.0          1\n",
      "601260.0          1\n",
      "723660.0          1\n",
      "774060.0          1\n",
      "1897260.0         1\n",
      "54060.0           1\n",
      "Name: count, dtype: int64\n",
      "Station 29/536: station_125.csv\n",
      "time\n",
      "60.0       445484\n",
      "3660.0          8\n",
      "7260.0          5\n",
      "14460.0         2\n",
      "Name: count, dtype: int64\n",
      "Station 30/536: station_127.csv\n",
      "time\n",
      "60.0         1175805\n",
      "1900860.0          1\n",
      "223260.0           1\n",
      "2458860.0          1\n",
      "1422060.0          1\n",
      "986460.0           1\n",
      "86460.0            1\n",
      "1854060.0          1\n",
      "2988060.0          1\n",
      "3660.0             1\n",
      "4093260.0          1\n",
      "795660.0           1\n",
      "154860.0           1\n",
      "273660.0           1\n",
      "396060.0           1\n",
      "Name: count, dtype: int64\n",
      "Station 31/536: station_128.csv\n",
      "time\n",
      " 60.0         1311095\n",
      "-3540.0          2658\n",
      " 82860.0          115\n",
      " 774060.0           2\n",
      " 158460.0           1\n",
      " 187260.0           1\n",
      " 147660.0           1\n",
      " 86460.0            1\n",
      " 10860.0            1\n",
      " 28860.0            1\n",
      " 3660.0             1\n",
      " 7260.0             1\n",
      " 4316460.0          1\n",
      "Name: count, dtype: int64\n",
      "Station 32/536: station_129.csv\n",
      "time\n",
      "60.0        809926\n",
      "28860.0          4\n",
      "25260.0          3\n",
      "36060.0          1\n",
      "32460.0          1\n",
      "115260.0         1\n",
      "180060.0         1\n",
      "86460.0          1\n",
      "162060.0         1\n",
      "Name: count, dtype: int64\n",
      "Station 33/536: station_13.csv\n",
      "time\n",
      " 60.0         2460292\n",
      "-3540.0          3815\n",
      " 82860.0          166\n",
      " 3660.0            13\n",
      " 25260.0            4\n",
      " 32460.0            4\n",
      " 370860.0           2\n",
      " 21660.0            2\n",
      " 514860.0           2\n",
      " 28860.0            2\n",
      " 9298860.0          1\n",
      " 7260.0             1\n",
      " 655260.0           1\n",
      " 36060.0            1\n",
      " 108060.0           1\n",
      " 306060.0           1\n",
      " 295260.0           1\n",
      " 259260.0           1\n",
      " 504060.0           1\n",
      " 136860.0           1\n",
      " 349260.0           1\n",
      " 100860.0           1\n",
      " 79260.0            1\n",
      " 219660.0           1\n",
      " 86460.0            1\n",
      " 244860.0           1\n",
      " 428460.0           1\n",
      "Name: count, dtype: int64\n",
      "Station 34/536: station_130.csv\n",
      "time\n",
      "60.0         15238\n",
      "1026060.0        1\n",
      "Name: count, dtype: int64\n",
      "Station 35/536: station_131.csv\n",
      "time\n",
      "60.0        695395\n",
      "86460.0          3\n",
      "180060.0         1\n",
      "Name: count, dtype: int64\n",
      "Station 36/536: station_132.csv\n",
      "time\n",
      "60.0        126382\n",
      "3660.0          28\n",
      "14460.0          2\n",
      "7260.0           2\n",
      "10860.0          1\n",
      "18060.0          1\n",
      "100860.0         1\n",
      "36060.0          1\n",
      "432060.0         1\n",
      "Name: count, dtype: int64\n",
      "Station 37/536: station_133.csv\n",
      "time\n",
      "60.0          652970\n",
      "10860.0            1\n",
      "15919260.0         1\n",
      "284460.0           1\n",
      "216060.0           1\n",
      "226860.0           1\n",
      "280860.0           1\n",
      "176460.0           1\n",
      "230460.0           1\n",
      "781260.0           1\n",
      "Name: count, dtype: int64\n",
      "Station 38/536: station_134.csv\n",
      "time\n",
      "60.0    20639\n",
      "Name: count, dtype: int64\n",
      "Station 39/536: station_135.csv\n",
      "time\n",
      "60.0        559426\n",
      "3660.0           4\n",
      "590460.0         1\n",
      "14460.0          1\n",
      "25260.0          1\n",
      "36060.0          1\n",
      "75660.0          1\n",
      "115260.0         1\n",
      "108060.0         1\n",
      "97260.0          1\n",
      "147660.0         1\n",
      "Name: count, dtype: int64\n",
      "Station 40/536: station_136.csv\n",
      "time\n",
      "60.0    71099\n",
      "Name: count, dtype: int64\n",
      "Station 41/536: station_137.csv\n",
      "time\n",
      " 60.0         909064\n",
      "-3540.0         3980\n",
      " 3660.0          186\n",
      " 82860.0         184\n",
      " 7260.0           54\n",
      " 10860.0          13\n",
      " 14460.0           5\n",
      " 28860.0           3\n",
      " 601260.0          1\n",
      "-89940.0           1\n",
      "-176340.0          1\n",
      " 169260.0          1\n",
      " 345660.0          1\n",
      " 64860.0           1\n",
      "-345540.0          1\n",
      " 4053660.0         1\n",
      " 3196860.0         1\n",
      "-608340.0          1\n",
      "Name: count, dtype: int64\n",
      "Station 42/536: station_138.csv\n",
      "time\n",
      "60.0          1053226\n",
      "3660.0              2\n",
      "11779260.0          1\n",
      "79260.0             1\n",
      "378060.0            1\n",
      "61260.0             1\n",
      "864060.0            1\n",
      "7260.0              1\n",
      "2246460.0           1\n",
      "151260.0            1\n",
      "6912060.0           1\n",
      "201660.0            1\n",
      "3801660.0           1\n",
      "Name: count, dtype: int64\n",
      "Station 43/536: station_14.csv\n",
      "time\n",
      " 60.0         1611988\n",
      "-3540.0          3876\n",
      " 82860.0          166\n",
      " 280860.0           1\n",
      " 86460.0            1\n",
      " 410460.0           1\n",
      " 169260.0           1\n",
      " 507660.0           1\n",
      " 7124460.0          1\n",
      " 4492860.0          1\n",
      " 1206060.0          1\n",
      " 255660.0           1\n",
      "Name: count, dtype: int64\n",
      "Station 44/536: station_140.csv\n",
      "time\n",
      " 60.0          1823146\n",
      "-3540.0            829\n",
      " 82860.0            36\n",
      " 3660.0             30\n",
      " 7260.0              6\n",
      " 10860.0             3\n",
      " 100860.0            1\n",
      " 237660.0            1\n",
      " 2761260.0           1\n",
      " 151260.0            1\n",
      " 126060.0            1\n",
      " 18060.0             1\n",
      " 14460.0             1\n",
      " 1666860.0           1\n",
      " 11214060.0          1\n",
      "Name: count, dtype: int64\n",
      "Station 45/536: station_141.csv\n",
      "time\n",
      "60.0        678412\n",
      "3660.0           4\n",
      "7260.0           1\n",
      "140460.0         1\n",
      "50460.0          1\n",
      "Name: count, dtype: int64\n",
      "Station 46/536: station_142.csv\n",
      "time\n",
      "60.0        96957\n",
      "104460.0        1\n",
      "100860.0        1\n",
      "Name: count, dtype: int64\n",
      "Station 47/536: station_143.csv\n",
      "time\n",
      " 60.0          149689\n",
      "-3540.0             2\n",
      " 8024460.0          1\n",
      " 21902460.0         1\n",
      " 252060.0           1\n",
      " 4334460.0          1\n",
      " 46860.0            1\n",
      " 21660.0            1\n",
      " 15775260.0         1\n",
      " 169260.0           1\n",
      "Name: count, dtype: int64\n",
      "Station 48/536: station_144.csv\n",
      "time\n",
      " 60.0        1034267\n",
      "-3540.0         3506\n",
      " 82860.0         179\n",
      " 3660.0           38\n",
      " 7260.0           33\n",
      " 10860.0          22\n",
      " 18060.0          14\n",
      " 21660.0          14\n",
      " 14460.0          13\n",
      " 25260.0           8\n",
      " 28860.0           7\n",
      " 54060.0           4\n",
      " 36060.0           3\n",
      " 169260.0          2\n",
      "-604740.0          1\n",
      " 608460.0          1\n",
      " 730860.0          1\n",
      " 39660.0           1\n",
      " 68460.0           1\n",
      " 100860.0          1\n",
      " 79260.0           1\n",
      " 32460.0           1\n",
      " 126060.0          1\n",
      "Name: count, dtype: int64\n",
      "Station 49/536: station_145.csv\n",
      "time\n",
      "60.0        760315\n",
      "18060.0          1\n",
      "165660.0         1\n",
      "3660.0           1\n",
      "273660.0         1\n",
      "Name: count, dtype: int64\n",
      "Station 50/536: station_146.csv\n",
      "time\n",
      " 60.0         2371942\n",
      "-3540.0          3934\n",
      " 82860.0          169\n",
      " 86460.0            2\n",
      " 72060.0            1\n",
      " 270060.0           1\n",
      " 2667660.0          1\n",
      " 1353660.0          1\n",
      " 954060.0           1\n",
      " 1170060.0          1\n",
      " 2779260.0          1\n",
      " 1227660.0          1\n",
      " 1432860.0          1\n",
      " 1594860.0          1\n",
      " 3660.0             1\n",
      " 1206060.0          1\n",
      "Name: count, dtype: int64\n",
      "Station 51/536: station_147.csv\n",
      "time\n",
      "60.0        295798\n",
      "126060.0         1\n",
      "Name: count, dtype: int64\n",
      "Station 52/536: station_149.csv\n",
      "time\n",
      " 60.0         1418659\n",
      "-3540.0          1360\n",
      " 82860.0           58\n",
      " 86460.0            1\n",
      " 1206060.0          1\n",
      "Name: count, dtype: int64\n",
      "Station 53/536: station_15.csv\n",
      "time\n",
      "60.0          518335\n",
      "439260.0           1\n",
      "13838460.0         1\n",
      "374460.0           1\n",
      "86460.0            1\n",
      "Name: count, dtype: int64\n",
      "Station 54/536: station_150.csv\n",
      "time\n",
      " 60.0         2002154\n",
      "-3540.0          4245\n",
      " 82860.0          183\n",
      " 3660.0            29\n",
      " 7260.0             8\n",
      " 21660.0            5\n",
      " 10860.0            4\n",
      " 25260.0            2\n",
      " 14460.0            2\n",
      " 2430060.0          1\n",
      " 363660.0           1\n",
      " 28860.0            1\n",
      " 97260.0            1\n",
      " 18060.0            1\n",
      " 176460.0           1\n",
      " 39660.0            1\n",
      "Name: count, dtype: int64\n",
      "Station 55/536: station_151.csv\n",
      "time\n",
      "60.0        541075\n",
      "86460.0          1\n",
      "57660.0          1\n",
      "140460.0         1\n",
      "82860.0          1\n",
      "Name: count, dtype: int64\n",
      "Station 56/536: station_152.csv\n",
      "time\n",
      "60.0          110320\n",
      "18060.0            2\n",
      "3660.0             2\n",
      "1382460.0          1\n",
      "525660.0           1\n",
      "1216860.0          1\n",
      "90060.0            1\n",
      "723660.0           1\n",
      "262860.0           1\n",
      "21636060.0         1\n",
      "2030460.0          1\n",
      "1177260.0          1\n",
      "1872060.0          1\n",
      "5277660.0          1\n",
      "586860.0           1\n",
      "3322860.0          1\n",
      "1422060.0          1\n",
      "14378460.0         1\n",
      "Name: count, dtype: int64\n",
      "Station 57/536: station_153.csv\n",
      "time\n",
      "60.0         1208143\n",
      "3660.0             6\n",
      "439260.0           1\n",
      "4518060.0          1\n",
      "1123260.0          1\n",
      "86460.0            1\n",
      "288060.0           1\n",
      "363660.0           1\n",
      "1756860.0          1\n",
      "255660.0           1\n",
      "1850460.0          1\n",
      "6195660.0          1\n",
      "Name: count, dtype: int64\n",
      "Station 58/536: station_154.csv\n"
     ]
    },
    {
     "ename": "KeyboardInterrupt",
     "evalue": "",
     "output_type": "error",
     "traceback": [
      "\u001b[1;31m---------------------------------------------------------------------------\u001b[0m",
      "\u001b[1;31mKeyboardInterrupt\u001b[0m                         Traceback (most recent call last)",
      "Cell \u001b[1;32mIn[51], line 8\u001b[0m\n\u001b[0;32m      6\u001b[0m station_df \u001b[38;5;241m=\u001b[39m pd\u001b[38;5;241m.\u001b[39mread_csv(os\u001b[38;5;241m.\u001b[39mpath\u001b[38;5;241m.\u001b[39mjoin(uniform_dir, file), header\u001b[38;5;241m=\u001b[39m\u001b[38;5;241m0\u001b[39m, index_col\u001b[38;5;241m=\u001b[39m\u001b[38;5;28;01mFalse\u001b[39;00m, parse_dates\u001b[38;5;241m=\u001b[39m[\u001b[38;5;124m'\u001b[39m\u001b[38;5;124mtime\u001b[39m\u001b[38;5;124m'\u001b[39m])\n\u001b[0;32m      7\u001b[0m time_difference \u001b[38;5;241m=\u001b[39m station_df[\u001b[38;5;124m'\u001b[39m\u001b[38;5;124mtime\u001b[39m\u001b[38;5;124m'\u001b[39m]\u001b[38;5;241m.\u001b[39mdiff()\n\u001b[1;32m----> 8\u001b[0m \u001b[38;5;28mprint\u001b[39m(\u001b[43mtime_difference\u001b[49m\u001b[38;5;241;43m.\u001b[39;49m\u001b[43mapply\u001b[49m\u001b[43m(\u001b[49m\u001b[38;5;28;43;01mlambda\u001b[39;49;00m\u001b[43m \u001b[49m\u001b[43mx\u001b[49m\u001b[43m \u001b[49m\u001b[43m:\u001b[49m\u001b[43m \u001b[49m\u001b[43mx\u001b[49m\u001b[38;5;241;43m.\u001b[39;49m\u001b[43mtotal_seconds\u001b[49m\u001b[43m(\u001b[49m\u001b[43m)\u001b[49m\u001b[43m)\u001b[49m\u001b[38;5;241m.\u001b[39mvalue_counts())\n",
      "File \u001b[1;32m~\\miniconda3\\envs\\res_energy_net\\lib\\site-packages\\pandas\\core\\series.py:4908\u001b[0m, in \u001b[0;36mSeries.apply\u001b[1;34m(self, func, convert_dtype, args, by_row, **kwargs)\u001b[0m\n\u001b[0;32m   4780\u001b[0m \u001b[38;5;28;01mdef\u001b[39;00m \u001b[38;5;21mapply\u001b[39m(\n\u001b[0;32m   4781\u001b[0m     \u001b[38;5;28mself\u001b[39m,\n\u001b[0;32m   4782\u001b[0m     func: AggFuncType,\n\u001b[1;32m   (...)\u001b[0m\n\u001b[0;32m   4787\u001b[0m     \u001b[38;5;241m*\u001b[39m\u001b[38;5;241m*\u001b[39mkwargs,\n\u001b[0;32m   4788\u001b[0m ) \u001b[38;5;241m-\u001b[39m\u001b[38;5;241m>\u001b[39m DataFrame \u001b[38;5;241m|\u001b[39m Series:\n\u001b[0;32m   4789\u001b[0m \u001b[38;5;250m    \u001b[39m\u001b[38;5;124;03m\"\"\"\u001b[39;00m\n\u001b[0;32m   4790\u001b[0m \u001b[38;5;124;03m    Invoke function on values of Series.\u001b[39;00m\n\u001b[0;32m   4791\u001b[0m \n\u001b[1;32m   (...)\u001b[0m\n\u001b[0;32m   4906\u001b[0m \u001b[38;5;124;03m    dtype: float64\u001b[39;00m\n\u001b[0;32m   4907\u001b[0m \u001b[38;5;124;03m    \"\"\"\u001b[39;00m\n\u001b[1;32m-> 4908\u001b[0m     \u001b[38;5;28;01mreturn\u001b[39;00m \u001b[43mSeriesApply\u001b[49m\u001b[43m(\u001b[49m\n\u001b[0;32m   4909\u001b[0m \u001b[43m        \u001b[49m\u001b[38;5;28;43mself\u001b[39;49m\u001b[43m,\u001b[49m\n\u001b[0;32m   4910\u001b[0m \u001b[43m        \u001b[49m\u001b[43mfunc\u001b[49m\u001b[43m,\u001b[49m\n\u001b[0;32m   4911\u001b[0m \u001b[43m        \u001b[49m\u001b[43mconvert_dtype\u001b[49m\u001b[38;5;241;43m=\u001b[39;49m\u001b[43mconvert_dtype\u001b[49m\u001b[43m,\u001b[49m\n\u001b[0;32m   4912\u001b[0m \u001b[43m        \u001b[49m\u001b[43mby_row\u001b[49m\u001b[38;5;241;43m=\u001b[39;49m\u001b[43mby_row\u001b[49m\u001b[43m,\u001b[49m\n\u001b[0;32m   4913\u001b[0m \u001b[43m        \u001b[49m\u001b[43margs\u001b[49m\u001b[38;5;241;43m=\u001b[39;49m\u001b[43margs\u001b[49m\u001b[43m,\u001b[49m\n\u001b[0;32m   4914\u001b[0m \u001b[43m        \u001b[49m\u001b[43mkwargs\u001b[49m\u001b[38;5;241;43m=\u001b[39;49m\u001b[43mkwargs\u001b[49m\u001b[43m,\u001b[49m\n\u001b[0;32m   4915\u001b[0m \u001b[43m    \u001b[49m\u001b[43m)\u001b[49m\u001b[38;5;241;43m.\u001b[39;49m\u001b[43mapply\u001b[49m\u001b[43m(\u001b[49m\u001b[43m)\u001b[49m\n",
      "File \u001b[1;32m~\\miniconda3\\envs\\res_energy_net\\lib\\site-packages\\pandas\\core\\apply.py:1427\u001b[0m, in \u001b[0;36mSeriesApply.apply\u001b[1;34m(self)\u001b[0m\n\u001b[0;32m   1424\u001b[0m     \u001b[38;5;28;01mreturn\u001b[39;00m \u001b[38;5;28mself\u001b[39m\u001b[38;5;241m.\u001b[39mapply_compat()\n\u001b[0;32m   1426\u001b[0m \u001b[38;5;66;03m# self.func is Callable\u001b[39;00m\n\u001b[1;32m-> 1427\u001b[0m \u001b[38;5;28;01mreturn\u001b[39;00m \u001b[38;5;28;43mself\u001b[39;49m\u001b[38;5;241;43m.\u001b[39;49m\u001b[43mapply_standard\u001b[49m\u001b[43m(\u001b[49m\u001b[43m)\u001b[49m\n",
      "File \u001b[1;32m~\\miniconda3\\envs\\res_energy_net\\lib\\site-packages\\pandas\\core\\apply.py:1507\u001b[0m, in \u001b[0;36mSeriesApply.apply_standard\u001b[1;34m(self)\u001b[0m\n\u001b[0;32m   1501\u001b[0m \u001b[38;5;66;03m# row-wise access\u001b[39;00m\n\u001b[0;32m   1502\u001b[0m \u001b[38;5;66;03m# apply doesn't have a `na_action` keyword and for backward compat reasons\u001b[39;00m\n\u001b[0;32m   1503\u001b[0m \u001b[38;5;66;03m# we need to give `na_action=\"ignore\"` for categorical data.\u001b[39;00m\n\u001b[0;32m   1504\u001b[0m \u001b[38;5;66;03m# TODO: remove the `na_action=\"ignore\"` when that default has been changed in\u001b[39;00m\n\u001b[0;32m   1505\u001b[0m \u001b[38;5;66;03m#  Categorical (GH51645).\u001b[39;00m\n\u001b[0;32m   1506\u001b[0m action \u001b[38;5;241m=\u001b[39m \u001b[38;5;124m\"\u001b[39m\u001b[38;5;124mignore\u001b[39m\u001b[38;5;124m\"\u001b[39m \u001b[38;5;28;01mif\u001b[39;00m \u001b[38;5;28misinstance\u001b[39m(obj\u001b[38;5;241m.\u001b[39mdtype, CategoricalDtype) \u001b[38;5;28;01melse\u001b[39;00m \u001b[38;5;28;01mNone\u001b[39;00m\n\u001b[1;32m-> 1507\u001b[0m mapped \u001b[38;5;241m=\u001b[39m \u001b[43mobj\u001b[49m\u001b[38;5;241;43m.\u001b[39;49m\u001b[43m_map_values\u001b[49m\u001b[43m(\u001b[49m\n\u001b[0;32m   1508\u001b[0m \u001b[43m    \u001b[49m\u001b[43mmapper\u001b[49m\u001b[38;5;241;43m=\u001b[39;49m\u001b[43mcurried\u001b[49m\u001b[43m,\u001b[49m\u001b[43m \u001b[49m\u001b[43mna_action\u001b[49m\u001b[38;5;241;43m=\u001b[39;49m\u001b[43maction\u001b[49m\u001b[43m,\u001b[49m\u001b[43m \u001b[49m\u001b[43mconvert\u001b[49m\u001b[38;5;241;43m=\u001b[39;49m\u001b[38;5;28;43mself\u001b[39;49m\u001b[38;5;241;43m.\u001b[39;49m\u001b[43mconvert_dtype\u001b[49m\n\u001b[0;32m   1509\u001b[0m \u001b[43m\u001b[49m\u001b[43m)\u001b[49m\n\u001b[0;32m   1511\u001b[0m \u001b[38;5;28;01mif\u001b[39;00m \u001b[38;5;28mlen\u001b[39m(mapped) \u001b[38;5;129;01mand\u001b[39;00m \u001b[38;5;28misinstance\u001b[39m(mapped[\u001b[38;5;241m0\u001b[39m], ABCSeries):\n\u001b[0;32m   1512\u001b[0m     \u001b[38;5;66;03m# GH#43986 Need to do list(mapped) in order to get treated as nested\u001b[39;00m\n\u001b[0;32m   1513\u001b[0m     \u001b[38;5;66;03m#  See also GH#25959 regarding EA support\u001b[39;00m\n\u001b[0;32m   1514\u001b[0m     \u001b[38;5;28;01mreturn\u001b[39;00m obj\u001b[38;5;241m.\u001b[39m_constructor_expanddim(\u001b[38;5;28mlist\u001b[39m(mapped), index\u001b[38;5;241m=\u001b[39mobj\u001b[38;5;241m.\u001b[39mindex)\n",
      "File \u001b[1;32m~\\miniconda3\\envs\\res_energy_net\\lib\\site-packages\\pandas\\core\\base.py:919\u001b[0m, in \u001b[0;36mIndexOpsMixin._map_values\u001b[1;34m(self, mapper, na_action, convert)\u001b[0m\n\u001b[0;32m    916\u001b[0m arr \u001b[38;5;241m=\u001b[39m \u001b[38;5;28mself\u001b[39m\u001b[38;5;241m.\u001b[39m_values\n\u001b[0;32m    918\u001b[0m \u001b[38;5;28;01mif\u001b[39;00m \u001b[38;5;28misinstance\u001b[39m(arr, ExtensionArray):\n\u001b[1;32m--> 919\u001b[0m     \u001b[38;5;28;01mreturn\u001b[39;00m \u001b[43marr\u001b[49m\u001b[38;5;241;43m.\u001b[39;49m\u001b[43mmap\u001b[49m\u001b[43m(\u001b[49m\u001b[43mmapper\u001b[49m\u001b[43m,\u001b[49m\u001b[43m \u001b[49m\u001b[43mna_action\u001b[49m\u001b[38;5;241;43m=\u001b[39;49m\u001b[43mna_action\u001b[49m\u001b[43m)\u001b[49m\n\u001b[0;32m    921\u001b[0m \u001b[38;5;28;01mreturn\u001b[39;00m algorithms\u001b[38;5;241m.\u001b[39mmap_array(arr, mapper, na_action\u001b[38;5;241m=\u001b[39mna_action, convert\u001b[38;5;241m=\u001b[39mconvert)\n",
      "File \u001b[1;32m~\\miniconda3\\envs\\res_energy_net\\lib\\site-packages\\pandas\\core\\arrays\\_mixins.py:81\u001b[0m, in \u001b[0;36mravel_compat.<locals>.method\u001b[1;34m(self, *args, **kwargs)\u001b[0m\n\u001b[0;32m     78\u001b[0m \u001b[38;5;129m@wraps\u001b[39m(meth)\n\u001b[0;32m     79\u001b[0m \u001b[38;5;28;01mdef\u001b[39;00m \u001b[38;5;21mmethod\u001b[39m(\u001b[38;5;28mself\u001b[39m, \u001b[38;5;241m*\u001b[39margs, \u001b[38;5;241m*\u001b[39m\u001b[38;5;241m*\u001b[39mkwargs):\n\u001b[0;32m     80\u001b[0m     \u001b[38;5;28;01mif\u001b[39;00m \u001b[38;5;28mself\u001b[39m\u001b[38;5;241m.\u001b[39mndim \u001b[38;5;241m==\u001b[39m \u001b[38;5;241m1\u001b[39m:\n\u001b[1;32m---> 81\u001b[0m         \u001b[38;5;28;01mreturn\u001b[39;00m meth(\u001b[38;5;28mself\u001b[39m, \u001b[38;5;241m*\u001b[39margs, \u001b[38;5;241m*\u001b[39m\u001b[38;5;241m*\u001b[39mkwargs)\n\u001b[0;32m     83\u001b[0m     flags \u001b[38;5;241m=\u001b[39m \u001b[38;5;28mself\u001b[39m\u001b[38;5;241m.\u001b[39m_ndarray\u001b[38;5;241m.\u001b[39mflags\n\u001b[0;32m     84\u001b[0m     flat \u001b[38;5;241m=\u001b[39m \u001b[38;5;28mself\u001b[39m\u001b[38;5;241m.\u001b[39mravel(\u001b[38;5;124m\"\u001b[39m\u001b[38;5;124mK\u001b[39m\u001b[38;5;124m\"\u001b[39m)\n",
      "File \u001b[1;32m~\\miniconda3\\envs\\res_energy_net\\lib\\site-packages\\pandas\\core\\arrays\\datetimelike.py:738\u001b[0m, in \u001b[0;36mDatetimeLikeArrayMixin.map\u001b[1;34m(self, mapper, na_action)\u001b[0m\n\u001b[0;32m    734\u001b[0m \u001b[38;5;129m@ravel_compat\u001b[39m\n\u001b[0;32m    735\u001b[0m \u001b[38;5;28;01mdef\u001b[39;00m \u001b[38;5;21mmap\u001b[39m(\u001b[38;5;28mself\u001b[39m, mapper, na_action\u001b[38;5;241m=\u001b[39m\u001b[38;5;28;01mNone\u001b[39;00m):\n\u001b[0;32m    736\u001b[0m     \u001b[38;5;28;01mfrom\u001b[39;00m \u001b[38;5;21;01mpandas\u001b[39;00m \u001b[38;5;28;01mimport\u001b[39;00m Index\n\u001b[1;32m--> 738\u001b[0m     result \u001b[38;5;241m=\u001b[39m \u001b[43mmap_array\u001b[49m\u001b[43m(\u001b[49m\u001b[38;5;28;43mself\u001b[39;49m\u001b[43m,\u001b[49m\u001b[43m \u001b[49m\u001b[43mmapper\u001b[49m\u001b[43m,\u001b[49m\u001b[43m \u001b[49m\u001b[43mna_action\u001b[49m\u001b[38;5;241;43m=\u001b[39;49m\u001b[43mna_action\u001b[49m\u001b[43m)\u001b[49m\n\u001b[0;32m    739\u001b[0m     result \u001b[38;5;241m=\u001b[39m Index(result)\n\u001b[0;32m    741\u001b[0m     \u001b[38;5;28;01mif\u001b[39;00m \u001b[38;5;28misinstance\u001b[39m(result, ABCMultiIndex):\n",
      "File \u001b[1;32m~\\miniconda3\\envs\\res_energy_net\\lib\\site-packages\\pandas\\core\\algorithms.py:1741\u001b[0m, in \u001b[0;36mmap_array\u001b[1;34m(arr, mapper, na_action, convert)\u001b[0m\n\u001b[0;32m   1738\u001b[0m     \u001b[38;5;28;01mreturn\u001b[39;00m arr\u001b[38;5;241m.\u001b[39mcopy()\n\u001b[0;32m   1740\u001b[0m \u001b[38;5;66;03m# we must convert to python types\u001b[39;00m\n\u001b[1;32m-> 1741\u001b[0m values \u001b[38;5;241m=\u001b[39m \u001b[43marr\u001b[49m\u001b[38;5;241;43m.\u001b[39;49m\u001b[43mastype\u001b[49m\u001b[43m(\u001b[49m\u001b[38;5;28;43mobject\u001b[39;49m\u001b[43m,\u001b[49m\u001b[43m \u001b[49m\u001b[43mcopy\u001b[49m\u001b[38;5;241;43m=\u001b[39;49m\u001b[38;5;28;43;01mFalse\u001b[39;49;00m\u001b[43m)\u001b[49m\n\u001b[0;32m   1742\u001b[0m \u001b[38;5;28;01mif\u001b[39;00m na_action \u001b[38;5;129;01mis\u001b[39;00m \u001b[38;5;28;01mNone\u001b[39;00m:\n\u001b[0;32m   1743\u001b[0m     \u001b[38;5;28;01mreturn\u001b[39;00m lib\u001b[38;5;241m.\u001b[39mmap_infer(values, mapper, convert\u001b[38;5;241m=\u001b[39mconvert)\n",
      "File \u001b[1;32m~\\miniconda3\\envs\\res_energy_net\\lib\\site-packages\\pandas\\core\\arrays\\timedeltas.py:363\u001b[0m, in \u001b[0;36mTimedeltaArray.astype\u001b[1;34m(self, dtype, copy)\u001b[0m\n\u001b[0;32m    357\u001b[0m     \u001b[38;5;28;01melse\u001b[39;00m:\n\u001b[0;32m    358\u001b[0m         \u001b[38;5;28;01mraise\u001b[39;00m \u001b[38;5;167;01mValueError\u001b[39;00m(\n\u001b[0;32m    359\u001b[0m             \u001b[38;5;124mf\u001b[39m\u001b[38;5;124m\"\u001b[39m\u001b[38;5;124mCannot convert from \u001b[39m\u001b[38;5;132;01m{\u001b[39;00m\u001b[38;5;28mself\u001b[39m\u001b[38;5;241m.\u001b[39mdtype\u001b[38;5;132;01m}\u001b[39;00m\u001b[38;5;124m to \u001b[39m\u001b[38;5;132;01m{\u001b[39;00mdtype\u001b[38;5;132;01m}\u001b[39;00m\u001b[38;5;124m. \u001b[39m\u001b[38;5;124m\"\u001b[39m\n\u001b[0;32m    360\u001b[0m             \u001b[38;5;124m\"\u001b[39m\u001b[38;5;124mSupported resolutions are \u001b[39m\u001b[38;5;124m'\u001b[39m\u001b[38;5;124ms\u001b[39m\u001b[38;5;124m'\u001b[39m\u001b[38;5;124m, \u001b[39m\u001b[38;5;124m'\u001b[39m\u001b[38;5;124mms\u001b[39m\u001b[38;5;124m'\u001b[39m\u001b[38;5;124m, \u001b[39m\u001b[38;5;124m'\u001b[39m\u001b[38;5;124mus\u001b[39m\u001b[38;5;124m'\u001b[39m\u001b[38;5;124m, \u001b[39m\u001b[38;5;124m'\u001b[39m\u001b[38;5;124mns\u001b[39m\u001b[38;5;124m'\u001b[39m\u001b[38;5;124m\"\u001b[39m\n\u001b[0;32m    361\u001b[0m         )\n\u001b[1;32m--> 363\u001b[0m \u001b[38;5;28;01mreturn\u001b[39;00m \u001b[43mdtl\u001b[49m\u001b[38;5;241;43m.\u001b[39;49m\u001b[43mDatetimeLikeArrayMixin\u001b[49m\u001b[38;5;241;43m.\u001b[39;49m\u001b[43mastype\u001b[49m\u001b[43m(\u001b[49m\u001b[38;5;28;43mself\u001b[39;49m\u001b[43m,\u001b[49m\u001b[43m \u001b[49m\u001b[43mdtype\u001b[49m\u001b[43m,\u001b[49m\u001b[43m \u001b[49m\u001b[43mcopy\u001b[49m\u001b[38;5;241;43m=\u001b[39;49m\u001b[43mcopy\u001b[49m\u001b[43m)\u001b[49m\n",
      "\u001b[1;31mKeyboardInterrupt\u001b[0m: "
     ]
    }
   ],
   "source": [
    "station_files = os.listdir(uniform_dir)\n",
    "num_stations = len(station_files)\n",
    "for index, file in enumerate(station_files):\n",
    "    print(f'Station {index + 1}/{num_stations}: {file}')\n",
    "\n",
    "    station_df = pd.read_csv(os.path.join(uniform_dir, file), header=0, index_col=False, parse_dates=['time'])\n",
    "    time_difference = station_df['time'].diff()\n",
    "    print(time_difference.apply(lambda x : x.total_seconds()).value_counts())"
   ]
  },
  {
   "cell_type": "markdown",
   "id": "303da180-1f25-4736-986e-b45a2a338366",
   "metadata": {},
   "source": [
    "It looks like the shorter gaps in time largely don't exist, so we will be ditching interpolation, as we don't have an effective way to accurately fill the typical gaps of an hour or more."
   ]
  },
  {
   "cell_type": "markdown",
   "id": "25e7983b-94be-46a3-923a-fbbe85446aa4",
   "metadata": {},
   "source": [
    "Next we can make the aggregate hourly and daily statistics.  \n",
    "The aggregate statistic for hourly is the percentage duration of outage in the hour, and for daily, we will both do gross duration, as well as a measurement of outage frequency (discrete events) and average outage duration."
   ]
  },
  {
   "cell_type": "code",
   "execution_count": 36,
   "id": "fa48bd13-196f-4701-9aa2-afe74478e00c",
   "metadata": {},
   "outputs": [],
   "source": [
    "hourly_dir = \"../india_processing/india_hourly\""
   ]
  },
  {
   "cell_type": "code",
   "execution_count": 37,
   "id": "8a7fd440-3287-494b-976e-fafc960a535d",
   "metadata": {},
   "outputs": [
    {
     "name": "stdout",
     "output_type": "stream",
     "text": [
      "Station 1/536: station_1.csv\n",
      "Station 2/536: station_10.csv\n",
      "Station 3/536: station_100.csv\n",
      "Station 4/536: station_101.csv\n",
      "Station 5/536: station_102.csv\n",
      "Station 6/536: station_103.csv\n",
      "Station 7/536: station_104.csv\n",
      "Station 8/536: station_105.csv\n",
      "Station 9/536: station_106.csv\n",
      "Station 10/536: station_107.csv\n",
      "Station 11/536: station_108.csv\n",
      "Station 12/536: station_109.csv\n",
      "Station 13/536: station_11.csv\n",
      "Station 14/536: station_110.csv\n",
      "Station 15/536: station_111.csv\n",
      "Station 16/536: station_112.csv\n",
      "Station 17/536: station_113.csv\n",
      "Station 18/536: station_115.csv\n",
      "Station 19/536: station_116.csv\n",
      "Station 20/536: station_117.csv\n",
      "Station 21/536: station_118.csv\n",
      "Station 22/536: station_119.csv\n",
      "Station 23/536: station_12.csv\n",
      "Station 24/536: station_120.csv\n",
      "Station 25/536: station_121.csv\n",
      "Station 26/536: station_122.csv\n",
      "Station 27/536: station_123.csv\n",
      "Station 28/536: station_124.csv\n",
      "Station 29/536: station_125.csv\n",
      "Station 30/536: station_127.csv\n",
      "Station 31/536: station_128.csv\n",
      "Station 32/536: station_129.csv\n",
      "Station 33/536: station_13.csv\n",
      "Station 34/536: station_130.csv\n",
      "Station 35/536: station_131.csv\n",
      "Station 36/536: station_132.csv\n",
      "Station 37/536: station_133.csv\n",
      "Station 38/536: station_134.csv\n",
      "Station 39/536: station_135.csv\n",
      "Station 40/536: station_136.csv\n",
      "Station 41/536: station_137.csv\n",
      "Station 42/536: station_138.csv\n",
      "Station 43/536: station_14.csv\n",
      "Station 44/536: station_140.csv\n",
      "Station 45/536: station_141.csv\n",
      "Station 46/536: station_142.csv\n",
      "Station 47/536: station_143.csv\n",
      "Station 48/536: station_144.csv\n",
      "Station 49/536: station_145.csv\n",
      "Station 50/536: station_146.csv\n",
      "Station 51/536: station_147.csv\n",
      "Station 52/536: station_149.csv\n",
      "Station 53/536: station_15.csv\n",
      "Station 54/536: station_150.csv\n",
      "Station 55/536: station_151.csv\n",
      "Station 56/536: station_152.csv\n",
      "Station 57/536: station_153.csv\n",
      "Station 58/536: station_154.csv\n",
      "Station 59/536: station_155.csv\n",
      "Station 60/536: station_156.csv\n",
      "Station 61/536: station_157.csv\n",
      "Station 62/536: station_158.csv\n",
      "Station 63/536: station_159.csv\n",
      "Station 64/536: station_16.csv\n",
      "Station 65/536: station_160.csv\n",
      "Station 66/536: station_161.csv\n",
      "Station 67/536: station_162.csv\n",
      "Station 68/536: station_163.csv\n",
      "Station 69/536: station_164.csv\n",
      "Station 70/536: station_165.csv\n",
      "Station 71/536: station_166.csv\n",
      "Station 72/536: station_167.csv\n",
      "Station 73/536: station_168.csv\n",
      "Station 74/536: station_169.csv\n",
      "Station 75/536: station_17.csv\n",
      "Station 76/536: station_170.csv\n",
      "Station 77/536: station_171.csv\n",
      "Station 78/536: station_172.csv\n",
      "Station 79/536: station_173.csv\n",
      "Station 80/536: station_174.csv\n",
      "Station 81/536: station_175.csv\n",
      "Station 82/536: station_176.csv\n",
      "Station 83/536: station_177.csv\n",
      "Station 84/536: station_178.csv\n",
      "Station 85/536: station_179.csv\n",
      "Station 86/536: station_18.csv\n",
      "Station 87/536: station_180.csv\n",
      "Station 88/536: station_181.csv\n",
      "Station 89/536: station_182.csv\n",
      "Station 90/536: station_183.csv\n",
      "Station 91/536: station_184.csv\n",
      "Station 92/536: station_185.csv\n",
      "Station 93/536: station_186.csv\n",
      "Station 94/536: station_187.csv\n",
      "Station 95/536: station_188.csv\n",
      "Station 96/536: station_189.csv\n",
      "Station 97/536: station_190.csv\n",
      "Station 98/536: station_191.csv\n",
      "Station 99/536: station_192.csv\n",
      "Station 100/536: station_193.csv\n",
      "Station 101/536: station_194.csv\n",
      "Station 102/536: station_195.csv\n",
      "Station 103/536: station_196.csv\n",
      "Station 104/536: station_197.csv\n",
      "Station 105/536: station_198.csv\n",
      "Station 106/536: station_199.csv\n",
      "Station 107/536: station_2.csv\n",
      "Station 108/536: station_20.csv\n",
      "Station 109/536: station_200.csv\n",
      "Station 110/536: station_201.csv\n",
      "Station 111/536: station_202.csv\n",
      "Station 112/536: station_203.csv\n",
      "Station 113/536: station_204.csv\n",
      "Station 114/536: station_205.csv\n",
      "Station 115/536: station_206.csv\n",
      "Station 116/536: station_207.csv\n",
      "Station 117/536: station_208.csv\n",
      "Station 118/536: station_209.csv\n",
      "Station 119/536: station_21.csv\n",
      "Station 120/536: station_210.csv\n",
      "Station 121/536: station_211.csv\n",
      "Station 122/536: station_212.csv\n",
      "Station 123/536: station_213.csv\n",
      "Station 124/536: station_214.csv\n",
      "Station 125/536: station_215.csv\n",
      "Station 126/536: station_216.csv\n",
      "Station 127/536: station_217.csv\n",
      "Station 128/536: station_218.csv\n",
      "Station 129/536: station_219.csv\n",
      "Station 130/536: station_22.csv\n",
      "Station 131/536: station_220.csv\n",
      "Station 132/536: station_221.csv\n",
      "Station 133/536: station_222.csv\n",
      "Station 134/536: station_223.csv\n",
      "Station 135/536: station_224.csv\n",
      "Station 136/536: station_225.csv\n",
      "Station 137/536: station_226.csv\n",
      "Station 138/536: station_227.csv\n",
      "Station 139/536: station_228.csv\n",
      "Station 140/536: station_23.csv\n",
      "Station 141/536: station_230.csv\n",
      "Station 142/536: station_231.csv\n",
      "Station 143/536: station_232.csv\n",
      "Station 144/536: station_233.csv\n",
      "Station 145/536: station_234.csv\n",
      "Station 146/536: station_235.csv\n",
      "Station 147/536: station_236.csv\n",
      "Station 148/536: station_237.csv\n",
      "Station 149/536: station_238.csv\n",
      "Station 150/536: station_239.csv\n",
      "Station 151/536: station_24.csv\n",
      "Station 152/536: station_240.csv\n",
      "Station 153/536: station_241.csv\n",
      "Station 154/536: station_242.csv\n",
      "Station 155/536: station_243.csv\n",
      "Station 156/536: station_244.csv\n",
      "Station 157/536: station_245.csv\n",
      "Station 158/536: station_246.csv\n",
      "Station 159/536: station_247.csv\n",
      "Station 160/536: station_248.csv\n",
      "Station 161/536: station_249.csv\n",
      "Station 162/536: station_25.csv\n",
      "Station 163/536: station_250.csv\n",
      "Station 164/536: station_251.csv\n",
      "Station 165/536: station_252.csv\n",
      "Station 166/536: station_253.csv\n",
      "Station 167/536: station_254.csv\n",
      "Station 168/536: station_255.csv\n",
      "Station 169/536: station_256.csv\n",
      "Station 170/536: station_257.csv\n",
      "Station 171/536: station_258.csv\n",
      "Station 172/536: station_259.csv\n",
      "Station 173/536: station_26.csv\n",
      "Station 174/536: station_260.csv\n",
      "Station 175/536: station_261.csv\n",
      "Station 176/536: station_262.csv\n",
      "Station 177/536: station_263.csv\n",
      "Station 178/536: station_264.csv\n",
      "Station 179/536: station_265.csv\n",
      "Station 180/536: station_266.csv\n",
      "Station 181/536: station_267.csv\n",
      "Station 182/536: station_268.csv\n",
      "Station 183/536: station_269.csv\n",
      "Station 184/536: station_27.csv\n",
      "Station 185/536: station_270.csv\n",
      "Station 186/536: station_271.csv\n",
      "Station 187/536: station_272.csv\n",
      "Station 188/536: station_273.csv\n",
      "Station 189/536: station_274.csv\n",
      "Station 190/536: station_275.csv\n",
      "Station 191/536: station_276.csv\n",
      "Station 192/536: station_277.csv\n",
      "Station 193/536: station_278.csv\n",
      "Station 194/536: station_279.csv\n",
      "Station 195/536: station_28.csv\n",
      "Station 196/536: station_280.csv\n",
      "Station 197/536: station_281.csv\n",
      "Station 198/536: station_283.csv\n",
      "Station 199/536: station_284.csv\n",
      "Station 200/536: station_285.csv\n",
      "Station 201/536: station_286.csv\n",
      "Station 202/536: station_287.csv\n",
      "Station 203/536: station_289.csv\n",
      "Station 204/536: station_29.csv\n",
      "Station 205/536: station_290.csv\n",
      "Station 206/536: station_291.csv\n",
      "Station 207/536: station_292.csv\n",
      "Station 208/536: station_293.csv\n",
      "Station 209/536: station_294.csv\n",
      "Station 210/536: station_295.csv\n",
      "Station 211/536: station_296.csv\n",
      "Station 212/536: station_297.csv\n",
      "Station 213/536: station_298.csv\n",
      "Station 214/536: station_299.csv\n",
      "Station 215/536: station_3.csv\n",
      "Station 216/536: station_30.csv\n",
      "Station 217/536: station_300.csv\n",
      "Station 218/536: station_301.csv\n",
      "Station 219/536: station_303.csv\n",
      "Station 220/536: station_304.csv\n",
      "Station 221/536: station_305.csv\n",
      "Station 222/536: station_306.csv\n",
      "Station 223/536: station_307.csv\n",
      "Station 224/536: station_309.csv\n",
      "Station 225/536: station_31.csv\n",
      "Station 226/536: station_310.csv\n",
      "Station 227/536: station_311.csv\n",
      "Station 228/536: station_312.csv\n",
      "Station 229/536: station_313.csv\n",
      "Station 230/536: station_314.csv\n",
      "Station 231/536: station_315.csv\n",
      "Station 232/536: station_316.csv\n",
      "Station 233/536: station_317.csv\n",
      "Station 234/536: station_318.csv\n",
      "Station 235/536: station_319.csv\n",
      "Station 236/536: station_32.csv\n",
      "Station 237/536: station_321.csv\n",
      "Station 238/536: station_322.csv\n",
      "Station 239/536: station_323.csv\n",
      "Station 240/536: station_324.csv\n",
      "Station 241/536: station_325.csv\n",
      "Station 242/536: station_326.csv\n",
      "Station 243/536: station_328.csv\n",
      "Station 244/536: station_329.csv\n",
      "Station 245/536: station_33.csv\n",
      "Station 246/536: station_330.csv\n",
      "Station 247/536: station_331.csv\n",
      "Station 248/536: station_332.csv\n",
      "Station 249/536: station_333.csv\n",
      "Station 250/536: station_334.csv\n",
      "Station 251/536: station_335.csv\n",
      "Station 252/536: station_336.csv\n",
      "Station 253/536: station_337.csv\n",
      "Station 254/536: station_338.csv\n",
      "Station 255/536: station_339.csv\n",
      "Station 256/536: station_34.csv\n",
      "Station 257/536: station_340.csv\n",
      "Station 258/536: station_341.csv\n",
      "Station 259/536: station_343.csv\n",
      "Station 260/536: station_344.csv\n",
      "Station 261/536: station_345.csv\n",
      "Station 262/536: station_346.csv\n",
      "Station 263/536: station_347.csv\n",
      "Station 264/536: station_348.csv\n",
      "Station 265/536: station_349.csv\n",
      "Station 266/536: station_35.csv\n",
      "Station 267/536: station_350.csv\n",
      "Station 268/536: station_351.csv\n",
      "Station 269/536: station_352.csv\n",
      "Station 270/536: station_353.csv\n",
      "Station 271/536: station_354.csv\n",
      "Station 272/536: station_355.csv\n",
      "Station 273/536: station_356.csv\n",
      "Station 274/536: station_358.csv\n",
      "Station 275/536: station_359.csv\n",
      "Station 276/536: station_36.csv\n",
      "Station 277/536: station_360.csv\n",
      "Station 278/536: station_361.csv\n",
      "Station 279/536: station_362.csv\n",
      "Station 280/536: station_363.csv\n",
      "Station 281/536: station_365.csv\n",
      "Station 282/536: station_366.csv\n",
      "Station 283/536: station_367.csv\n",
      "Station 284/536: station_368.csv\n",
      "Station 285/536: station_369.csv\n",
      "Station 286/536: station_37.csv\n",
      "Station 287/536: station_370.csv\n",
      "Station 288/536: station_372.csv\n",
      "Station 289/536: station_373.csv\n",
      "Station 290/536: station_374.csv\n",
      "Station 291/536: station_375.csv\n",
      "Station 292/536: station_376.csv\n",
      "Station 293/536: station_377.csv\n",
      "Station 294/536: station_378.csv\n",
      "Station 295/536: station_379.csv\n",
      "Station 296/536: station_38.csv\n",
      "Station 297/536: station_380.csv\n",
      "Station 298/536: station_381.csv\n",
      "Station 299/536: station_382.csv\n",
      "Station 300/536: station_383.csv\n",
      "Station 301/536: station_384.csv\n",
      "Station 302/536: station_385.csv\n",
      "Station 303/536: station_386.csv\n",
      "Station 304/536: station_387.csv\n",
      "Station 305/536: station_388.csv\n",
      "Station 306/536: station_389.csv\n",
      "Station 307/536: station_39.csv\n",
      "Station 308/536: station_390.csv\n",
      "Station 309/536: station_391.csv\n",
      "Station 310/536: station_392.csv\n",
      "Station 311/536: station_393.csv\n",
      "Station 312/536: station_394.csv\n",
      "Station 313/536: station_395.csv\n",
      "Station 314/536: station_397.csv\n",
      "Station 315/536: station_398.csv\n",
      "Station 316/536: station_399.csv\n",
      "Station 317/536: station_4.csv\n",
      "Station 318/536: station_40.csv\n",
      "Station 319/536: station_401.csv\n",
      "Station 320/536: station_402.csv\n",
      "Station 321/536: station_403.csv\n",
      "Station 322/536: station_404.csv\n",
      "Station 323/536: station_405.csv\n",
      "Station 324/536: station_406.csv\n",
      "Station 325/536: station_407.csv\n",
      "Station 326/536: station_408.csv\n",
      "Station 327/536: station_409.csv\n",
      "Station 328/536: station_41.csv\n",
      "Station 329/536: station_410.csv\n",
      "Station 330/536: station_412.csv\n",
      "Station 331/536: station_413.csv\n",
      "Station 332/536: station_415.csv\n",
      "Station 333/536: station_416.csv\n",
      "Station 334/536: station_417.csv\n",
      "Station 335/536: station_418.csv\n",
      "Station 336/536: station_419.csv\n",
      "Station 337/536: station_42.csv\n",
      "Station 338/536: station_420.csv\n",
      "Station 339/536: station_421.csv\n",
      "Station 340/536: station_422.csv\n",
      "Station 341/536: station_423.csv\n",
      "Station 342/536: station_424.csv\n",
      "Station 343/536: station_425.csv\n",
      "Station 344/536: station_426.csv\n",
      "Station 345/536: station_427.csv\n",
      "Station 346/536: station_428.csv\n",
      "Station 347/536: station_43.csv\n",
      "Station 348/536: station_430.csv\n",
      "Station 349/536: station_431.csv\n",
      "Station 350/536: station_432.csv\n",
      "Station 351/536: station_433.csv\n",
      "Station 352/536: station_434.csv\n",
      "Station 353/536: station_435.csv\n",
      "Station 354/536: station_436.csv\n",
      "Station 355/536: station_437.csv\n",
      "Station 356/536: station_438.csv\n",
      "Station 357/536: station_439.csv\n",
      "Station 358/536: station_44.csv\n",
      "Station 359/536: station_440.csv\n",
      "Station 360/536: station_441.csv\n",
      "Station 361/536: station_442.csv\n",
      "Station 362/536: station_444.csv\n",
      "Station 363/536: station_445.csv\n",
      "Station 364/536: station_446.csv\n",
      "Station 365/536: station_447.csv\n",
      "Station 366/536: station_448.csv\n",
      "Station 367/536: station_449.csv\n",
      "Station 368/536: station_45.csv\n",
      "Station 369/536: station_450.csv\n",
      "Station 370/536: station_454.csv\n",
      "Station 371/536: station_455.csv\n",
      "Station 372/536: station_456.csv\n",
      "Station 373/536: station_457.csv\n",
      "Station 374/536: station_458.csv\n",
      "Station 375/536: station_46.csv\n",
      "Station 376/536: station_460.csv\n",
      "Station 377/536: station_461.csv\n",
      "Station 378/536: station_462.csv\n",
      "Station 379/536: station_463.csv\n",
      "Station 380/536: station_464.csv\n",
      "Station 381/536: station_465.csv\n",
      "Station 382/536: station_466.csv\n",
      "Station 383/536: station_467.csv\n",
      "Station 384/536: station_468.csv\n",
      "Station 385/536: station_469.csv\n",
      "Station 386/536: station_47.csv\n",
      "Station 387/536: station_470.csv\n",
      "Station 388/536: station_471.csv\n",
      "Station 389/536: station_472.csv\n",
      "Station 390/536: station_473.csv\n",
      "Station 391/536: station_474.csv\n",
      "Station 392/536: station_475.csv\n",
      "Station 393/536: station_476.csv\n",
      "Station 394/536: station_478.csv\n",
      "Station 395/536: station_479.csv\n",
      "Station 396/536: station_48.csv\n",
      "Station 397/536: station_480.csv\n",
      "Station 398/536: station_481.csv\n",
      "Station 399/536: station_482.csv\n",
      "Station 400/536: station_483.csv\n",
      "Station 401/536: station_484.csv\n",
      "Station 402/536: station_485.csv\n",
      "Station 403/536: station_486.csv\n",
      "Station 404/536: station_487.csv\n",
      "Station 405/536: station_488.csv\n",
      "Station 406/536: station_489.csv\n",
      "Station 407/536: station_49.csv\n",
      "Station 408/536: station_490.csv\n",
      "Station 409/536: station_491.csv\n",
      "Station 410/536: station_492.csv\n",
      "Station 411/536: station_493.csv\n",
      "Station 412/536: station_494.csv\n",
      "Station 413/536: station_495.csv\n",
      "Station 414/536: station_496.csv\n",
      "Station 415/536: station_498.csv\n",
      "Station 416/536: station_499.csv\n",
      "Station 417/536: station_5.csv\n",
      "Station 418/536: station_50.csv\n",
      "Station 419/536: station_500.csv\n",
      "Station 420/536: station_501.csv\n",
      "Station 421/536: station_502.csv\n",
      "Station 422/536: station_503.csv\n",
      "Station 423/536: station_504.csv\n",
      "Station 424/536: station_505.csv\n",
      "Station 425/536: station_506.csv\n",
      "Station 426/536: station_508.csv\n",
      "Station 427/536: station_509.csv\n",
      "Station 428/536: station_510.csv\n",
      "Station 429/536: station_511.csv\n",
      "Station 430/536: station_512.csv\n",
      "Station 431/536: station_513.csv\n",
      "Station 432/536: station_514.csv\n",
      "Station 433/536: station_515.csv\n",
      "Station 434/536: station_516.csv\n",
      "Station 435/536: station_517.csv\n",
      "Station 436/536: station_518.csv\n",
      "Station 437/536: station_519.csv\n",
      "Station 438/536: station_52.csv\n",
      "Station 439/536: station_520.csv\n",
      "Station 440/536: station_521.csv\n",
      "Station 441/536: station_522.csv\n",
      "Station 442/536: station_523.csv\n",
      "Station 443/536: station_524.csv\n",
      "Station 444/536: station_525.csv\n",
      "Station 445/536: station_526.csv\n",
      "Station 446/536: station_527.csv\n",
      "Station 447/536: station_528.csv\n",
      "Station 448/536: station_529.csv\n",
      "Station 449/536: station_53.csv\n",
      "Station 450/536: station_530.csv\n",
      "Station 451/536: station_531.csv\n",
      "Station 452/536: station_532.csv\n",
      "Station 453/536: station_533.csv\n",
      "Station 454/536: station_534.csv\n",
      "Station 455/536: station_535.csv\n",
      "Station 456/536: station_536.csv\n",
      "Station 457/536: station_537.csv\n",
      "Station 458/536: station_538.csv\n",
      "Station 459/536: station_539.csv\n",
      "Station 460/536: station_54.csv\n",
      "Station 461/536: station_540.csv\n",
      "Station 462/536: station_541.csv\n",
      "Station 463/536: station_542.csv\n",
      "Station 464/536: station_543.csv\n",
      "Station 465/536: station_544.csv\n",
      "Station 466/536: station_545.csv\n",
      "Station 467/536: station_546.csv\n",
      "Station 468/536: station_547.csv\n",
      "Station 469/536: station_548.csv\n",
      "Station 470/536: station_549.csv\n",
      "Station 471/536: station_55.csv\n",
      "Station 472/536: station_550.csv\n",
      "Station 473/536: station_551.csv\n",
      "Station 474/536: station_552.csv\n",
      "Station 475/536: station_553.csv\n",
      "Station 476/536: station_554.csv\n",
      "Station 477/536: station_555.csv\n",
      "Station 478/536: station_556.csv\n",
      "Station 479/536: station_557.csv\n",
      "Station 480/536: station_558.csv\n",
      "Station 481/536: station_559.csv\n",
      "Station 482/536: station_56.csv\n",
      "Station 483/536: station_560.csv\n",
      "Station 484/536: station_561.csv\n",
      "Station 485/536: station_562.csv\n",
      "Station 486/536: station_563.csv\n",
      "Station 487/536: station_564.csv\n",
      "Station 488/536: station_565.csv\n",
      "Station 489/536: station_566.csv\n",
      "Station 490/536: station_567.csv\n",
      "Station 491/536: station_568.csv\n",
      "Station 492/536: station_569.csv\n",
      "Station 493/536: station_57.csv\n",
      "Station 494/536: station_570.csv\n",
      "Station 495/536: station_571.csv\n",
      "Station 496/536: station_58.csv\n",
      "Station 497/536: station_59.csv\n",
      "Station 498/536: station_6.csv\n",
      "Station 499/536: station_60.csv\n",
      "Station 500/536: station_61.csv\n",
      "Station 501/536: station_62.csv\n",
      "Station 502/536: station_63.csv\n",
      "Station 503/536: station_65.csv\n",
      "Station 504/536: station_67.csv\n",
      "Station 505/536: station_68.csv\n",
      "Station 506/536: station_69.csv\n",
      "Station 507/536: station_7.csv\n",
      "Station 508/536: station_70.csv\n",
      "Station 509/536: station_71.csv\n",
      "Station 510/536: station_72.csv\n",
      "Station 511/536: station_73.csv\n",
      "Station 512/536: station_74.csv\n",
      "Station 513/536: station_75.csv\n",
      "Station 514/536: station_76.csv\n",
      "Station 515/536: station_77.csv\n",
      "Station 516/536: station_78.csv\n",
      "Station 517/536: station_79.csv\n",
      "Station 518/536: station_8.csv\n",
      "Station 519/536: station_81.csv\n",
      "Station 520/536: station_82.csv\n",
      "Station 521/536: station_83.csv\n",
      "Station 522/536: station_84.csv\n",
      "Station 523/536: station_85.csv\n",
      "Station 524/536: station_86.csv\n",
      "Station 525/536: station_87.csv\n",
      "Station 526/536: station_89.csv\n",
      "Station 527/536: station_9.csv\n",
      "Station 528/536: station_90.csv\n",
      "Station 529/536: station_91.csv\n",
      "Station 530/536: station_92.csv\n",
      "Station 531/536: station_94.csv\n",
      "Station 532/536: station_95.csv\n",
      "Station 533/536: station_96.csv\n",
      "Station 534/536: station_97.csv\n",
      "Station 535/536: station_98.csv\n",
      "Station 536/536: station_99.csv\n"
     ]
    }
   ],
   "source": [
    "# Loop through, getting to the next whole hour. If the position 60 minutes from it is not the next whole hour, we know that data is incomplete.\n",
    "station_files = os.listdir(uniform_dir)\n",
    "num_stations = len(station_files)\n",
    "for index, file in enumerate(station_files):\n",
    "    print(f'Station {index + 1}/{num_stations}: {file}')\n",
    "    station_df = pd.read_csv(os.path.join(uniform_dir, file), header=0, index_col=False, parse_dates=['time'])\n",
    "\n",
    "    hours = []\n",
    "    pct_blackout = []\n",
    "    index = 0\n",
    "    previous_hour = None\n",
    "    while index + 60 < station_df.shape[0]:\n",
    "        if previous_hour is None:\n",
    "            if station_df['time'][index].minute == 0 and station_df['time'][index].second == 0:\n",
    "                previous_hour = station_df['time'][index]\n",
    "        else:\n",
    "            # If the hour is complete, we take the percentage of that portion of the dataset that is 0 voltage, and save that with the datetime of the\n",
    "            # beginning of the one hour period\n",
    "            next_hour = previous_hour + timedelta(hours = 1, minutes = 0, seconds = 0)\n",
    "            if station_df['time'][index + 60] == next_hour:\n",
    "                hours.append(previous_hour)\n",
    "                pct = station_df['voltage'][index:index+60].value_counts().get(0, 0) / 60\n",
    "                pct_blackout.append(pct)\n",
    "                index = index + 60\n",
    "                previous_hour = next_hour\n",
    "            else:\n",
    "                # We can backtrack until we hit the next whole hour or before, then do the sixty minutes test again\n",
    "                while station_df['time'][index] >= next_hour:\n",
    "                    print(f'{station_df[\"time\"][index]}, {next_hour}')\n",
    "                    if station_df['time'][index] == next_hour:\n",
    "                        previous_hour = next_hour\n",
    "                        break\n",
    "                    else:\n",
    "                        index -= 1 \n",
    "                if station_df['time'][index] < next_hour:\n",
    "                    while index < station_df.shape[0]:\n",
    "                        curr_time = station_df['time'][index]\n",
    "                        if curr_time.minute == 0 and curr_time.second == 0 and curr_time > previous_hour:\n",
    "                            previous_hour = curr_time\n",
    "                            break\n",
    "                        else:\n",
    "                            index += 1\n",
    "\n",
    "    id = file.split('_')[1].split('.')[0]\n",
    "    hourly_df = pd.DataFrame({'hour': hours, 'pct_blackout': pct_blackout})\n",
    "    hourly_df.to_csv(os.path.join(hourly_dir, f'hourly_station_{id}.csv'), index=False)"
   ]
  },
  {
   "cell_type": "markdown",
   "id": "0c8e7f17-876d-4a23-bf73-6205486a4377",
   "metadata": {},
   "source": [
    "Next we can acquire the complete days and loop through to get the outages, which will be split along day boundaries to make the calculation of the aggregate measures simpler, as well as the gross duration."
   ]
  },
  {
   "cell_type": "code",
   "execution_count": 38,
   "id": "6c56b2ed-2a1f-451b-9b72-e446298d38fb",
   "metadata": {},
   "outputs": [],
   "source": [
    "daily_dir = \"../india_processing/india_daily\"\n",
    "outages_dir = \"../india_processing/india_outages\"\n",
    "agg_outages_dir = \"../india_processing/india_daily_aggregate_outages\""
   ]
  },
  {
   "cell_type": "code",
   "execution_count": 39,
   "id": "b4417556-776b-4fa2-a9f5-1e8f3696e5cc",
   "metadata": {},
   "outputs": [
    {
     "name": "stdout",
     "output_type": "stream",
     "text": [
      "Station 1/536: station_1.csv\n",
      "Station 2/536: station_10.csv\n",
      "Station 3/536: station_100.csv\n",
      "Station 4/536: station_101.csv\n",
      "Station 5/536: station_102.csv\n",
      "Station 6/536: station_103.csv\n",
      "Station 7/536: station_104.csv\n",
      "Station 8/536: station_105.csv\n",
      "Station 9/536: station_106.csv\n",
      "Station 10/536: station_107.csv\n",
      "Station 11/536: station_108.csv\n",
      "Station 12/536: station_109.csv\n",
      "Station 13/536: station_11.csv\n",
      "Station 14/536: station_110.csv\n",
      "Station 15/536: station_111.csv\n",
      "Station 16/536: station_112.csv\n",
      "Station 17/536: station_113.csv\n",
      "Station 18/536: station_115.csv\n",
      "Station 19/536: station_116.csv\n",
      "Station 20/536: station_117.csv\n",
      "Station 21/536: station_118.csv\n",
      "Station 22/536: station_119.csv\n",
      "Station 23/536: station_12.csv\n",
      "Station 24/536: station_120.csv\n",
      "Station 25/536: station_121.csv\n",
      "Station 26/536: station_122.csv\n",
      "Station 27/536: station_123.csv\n",
      "Station 28/536: station_124.csv\n",
      "Station 29/536: station_125.csv\n",
      "Station 30/536: station_127.csv\n",
      "Station 31/536: station_128.csv\n",
      "Station 32/536: station_129.csv\n",
      "Station 33/536: station_13.csv\n",
      "Station 34/536: station_130.csv\n",
      "Station 35/536: station_131.csv\n",
      "Station 36/536: station_132.csv\n",
      "Station 37/536: station_133.csv\n",
      "Station 38/536: station_134.csv\n",
      "Station 39/536: station_135.csv\n",
      "Station 40/536: station_136.csv\n",
      "Station 41/536: station_137.csv\n",
      "Station 42/536: station_138.csv\n",
      "Station 43/536: station_14.csv\n",
      "Station 44/536: station_140.csv\n",
      "Station 45/536: station_141.csv\n",
      "Station 46/536: station_142.csv\n",
      "Station 47/536: station_143.csv\n",
      "Station 48/536: station_144.csv\n",
      "Station 49/536: station_145.csv\n",
      "Station 50/536: station_146.csv\n",
      "Station 51/536: station_147.csv\n",
      "Station 52/536: station_149.csv\n",
      "Station 53/536: station_15.csv\n",
      "Station 54/536: station_150.csv\n",
      "Station 55/536: station_151.csv\n",
      "Station 56/536: station_152.csv\n",
      "Station 57/536: station_153.csv\n",
      "Station 58/536: station_154.csv\n",
      "Station 59/536: station_155.csv\n",
      "Station 60/536: station_156.csv\n",
      "Station 61/536: station_157.csv\n",
      "Station 62/536: station_158.csv\n",
      "Station 63/536: station_159.csv\n",
      "Station 64/536: station_16.csv\n",
      "Station 65/536: station_160.csv\n",
      "Station 66/536: station_161.csv\n",
      "Station 67/536: station_162.csv\n",
      "Station 68/536: station_163.csv\n",
      "Station 69/536: station_164.csv\n",
      "Station 70/536: station_165.csv\n",
      "Station 71/536: station_166.csv\n",
      "Station 72/536: station_167.csv\n",
      "Station 73/536: station_168.csv\n",
      "Station 74/536: station_169.csv\n",
      "Station 75/536: station_17.csv\n",
      "Station 76/536: station_170.csv\n",
      "Station 77/536: station_171.csv\n",
      "Station 78/536: station_172.csv\n",
      "Station 79/536: station_173.csv\n",
      "Station 80/536: station_174.csv\n",
      "Station 81/536: station_175.csv\n",
      "Station 82/536: station_176.csv\n",
      "Station 83/536: station_177.csv\n",
      "Station 84/536: station_178.csv\n",
      "Station 85/536: station_179.csv\n",
      "Station 86/536: station_18.csv\n",
      "Station 87/536: station_180.csv\n",
      "Station 88/536: station_181.csv\n",
      "Station 89/536: station_182.csv\n",
      "Station 90/536: station_183.csv\n",
      "Station 91/536: station_184.csv\n",
      "Station 92/536: station_185.csv\n",
      "Station 93/536: station_186.csv\n",
      "Station 94/536: station_187.csv\n",
      "Station 95/536: station_188.csv\n",
      "Station 96/536: station_189.csv\n",
      "Station 97/536: station_190.csv\n",
      "Station 98/536: station_191.csv\n",
      "Station 99/536: station_192.csv\n",
      "Station 100/536: station_193.csv\n",
      "Station 101/536: station_194.csv\n",
      "Station 102/536: station_195.csv\n",
      "Station 103/536: station_196.csv\n",
      "Station 104/536: station_197.csv\n",
      "Station 105/536: station_198.csv\n",
      "Station 106/536: station_199.csv\n",
      "Station 107/536: station_2.csv\n",
      "Station 108/536: station_20.csv\n",
      "Station 109/536: station_200.csv\n",
      "Station 110/536: station_201.csv\n",
      "Station 111/536: station_202.csv\n",
      "Station 112/536: station_203.csv\n",
      "Station 113/536: station_204.csv\n",
      "Station 114/536: station_205.csv\n",
      "Station 115/536: station_206.csv\n",
      "Station 116/536: station_207.csv\n",
      "Station 117/536: station_208.csv\n",
      "Station 118/536: station_209.csv\n",
      "Station 119/536: station_21.csv\n",
      "Station 120/536: station_210.csv\n",
      "Station 121/536: station_211.csv\n",
      "Station 122/536: station_212.csv\n",
      "Station 123/536: station_213.csv\n",
      "Station 124/536: station_214.csv\n",
      "Station 125/536: station_215.csv\n",
      "Station 126/536: station_216.csv\n",
      "Station 127/536: station_217.csv\n",
      "Station 128/536: station_218.csv\n",
      "Station 129/536: station_219.csv\n",
      "Station 130/536: station_22.csv\n",
      "Station 131/536: station_220.csv\n",
      "Station 132/536: station_221.csv\n",
      "Station 133/536: station_222.csv\n",
      "Station 134/536: station_223.csv\n",
      "Station 135/536: station_224.csv\n",
      "Station 136/536: station_225.csv\n",
      "Station 137/536: station_226.csv\n",
      "Station 138/536: station_227.csv\n",
      "Station 139/536: station_228.csv\n",
      "Station 140/536: station_23.csv\n",
      "Station 141/536: station_230.csv\n",
      "Station 142/536: station_231.csv\n",
      "Station 143/536: station_232.csv\n",
      "Station 144/536: station_233.csv\n",
      "Station 145/536: station_234.csv\n",
      "Station 146/536: station_235.csv\n",
      "Station 147/536: station_236.csv\n",
      "Station 148/536: station_237.csv\n",
      "Station 149/536: station_238.csv\n",
      "Station 150/536: station_239.csv\n",
      "Station 151/536: station_24.csv\n",
      "Station 152/536: station_240.csv\n",
      "Station 153/536: station_241.csv\n",
      "Station 154/536: station_242.csv\n",
      "Station 155/536: station_243.csv\n",
      "Station 156/536: station_244.csv\n",
      "Station 157/536: station_245.csv\n",
      "Station 158/536: station_246.csv\n",
      "Station 159/536: station_247.csv\n",
      "Station 160/536: station_248.csv\n",
      "Station 161/536: station_249.csv\n",
      "Station 162/536: station_25.csv\n",
      "Station 163/536: station_250.csv\n",
      "Station 164/536: station_251.csv\n",
      "Station 165/536: station_252.csv\n",
      "Station 166/536: station_253.csv\n",
      "Station 167/536: station_254.csv\n",
      "Station 168/536: station_255.csv\n",
      "Station 169/536: station_256.csv\n",
      "Station 170/536: station_257.csv\n",
      "Station 171/536: station_258.csv\n",
      "Station 172/536: station_259.csv\n",
      "Station 173/536: station_26.csv\n",
      "Station 174/536: station_260.csv\n",
      "Station 175/536: station_261.csv\n",
      "Station 176/536: station_262.csv\n",
      "Station 177/536: station_263.csv\n",
      "Station 178/536: station_264.csv\n",
      "Station 179/536: station_265.csv\n",
      "Station 180/536: station_266.csv\n",
      "Station 181/536: station_267.csv\n",
      "Station 182/536: station_268.csv\n",
      "Station 183/536: station_269.csv\n",
      "Station 184/536: station_27.csv\n",
      "Station 185/536: station_270.csv\n",
      "Station 186/536: station_271.csv\n",
      "Station 187/536: station_272.csv\n",
      "Station 188/536: station_273.csv\n",
      "Station 189/536: station_274.csv\n",
      "Station 190/536: station_275.csv\n",
      "Station 191/536: station_276.csv\n",
      "Station 192/536: station_277.csv\n",
      "Station 193/536: station_278.csv\n",
      "Station 194/536: station_279.csv\n",
      "Station 195/536: station_28.csv\n",
      "Station 196/536: station_280.csv\n",
      "Station 197/536: station_281.csv\n",
      "Station 198/536: station_283.csv\n",
      "Station 199/536: station_284.csv\n",
      "Station 200/536: station_285.csv\n",
      "Station 201/536: station_286.csv\n",
      "Station 202/536: station_287.csv\n",
      "Station 203/536: station_289.csv\n",
      "Station 204/536: station_29.csv\n",
      "Station 205/536: station_290.csv\n",
      "Station 206/536: station_291.csv\n",
      "Station 207/536: station_292.csv\n",
      "Station 208/536: station_293.csv\n",
      "Station 209/536: station_294.csv\n",
      "Station 210/536: station_295.csv\n",
      "Station 211/536: station_296.csv\n",
      "Station 212/536: station_297.csv\n",
      "Station 213/536: station_298.csv\n",
      "Station 214/536: station_299.csv\n",
      "Station 215/536: station_3.csv\n",
      "Station 216/536: station_30.csv\n",
      "Station 217/536: station_300.csv\n",
      "Station 218/536: station_301.csv\n",
      "Station 219/536: station_303.csv\n",
      "Station 220/536: station_304.csv\n",
      "Station 221/536: station_305.csv\n",
      "Station 222/536: station_306.csv\n",
      "Station 223/536: station_307.csv\n",
      "Station 224/536: station_309.csv\n",
      "Station 225/536: station_31.csv\n",
      "Station 226/536: station_310.csv\n",
      "Station 227/536: station_311.csv\n",
      "Station 228/536: station_312.csv\n",
      "Station 229/536: station_313.csv\n",
      "Station 230/536: station_314.csv\n",
      "Station 231/536: station_315.csv\n",
      "Station 232/536: station_316.csv\n",
      "Station 233/536: station_317.csv\n",
      "Station 234/536: station_318.csv\n",
      "Station 235/536: station_319.csv\n",
      "Station 236/536: station_32.csv\n",
      "Station 237/536: station_321.csv\n",
      "Station 238/536: station_322.csv\n",
      "Station 239/536: station_323.csv\n",
      "Station 240/536: station_324.csv\n",
      "Station 241/536: station_325.csv\n",
      "Station 242/536: station_326.csv\n",
      "Station 243/536: station_328.csv\n",
      "Station 244/536: station_329.csv\n",
      "Station 245/536: station_33.csv\n",
      "Station 246/536: station_330.csv\n",
      "Station 247/536: station_331.csv\n",
      "Station 248/536: station_332.csv\n",
      "Station 249/536: station_333.csv\n",
      "Station 250/536: station_334.csv\n",
      "Station 251/536: station_335.csv\n",
      "Station 252/536: station_336.csv\n",
      "Station 253/536: station_337.csv\n",
      "Station 254/536: station_338.csv\n",
      "Station 255/536: station_339.csv\n",
      "Station 256/536: station_34.csv\n",
      "Station 257/536: station_340.csv\n",
      "Station 258/536: station_341.csv\n",
      "Station 259/536: station_343.csv\n",
      "Station 260/536: station_344.csv\n",
      "Station 261/536: station_345.csv\n",
      "Station 262/536: station_346.csv\n",
      "Station 263/536: station_347.csv\n",
      "Station 264/536: station_348.csv\n",
      "Station 265/536: station_349.csv\n",
      "Station 266/536: station_35.csv\n",
      "Station 267/536: station_350.csv\n",
      "Station 268/536: station_351.csv\n",
      "Station 269/536: station_352.csv\n",
      "Station 270/536: station_353.csv\n",
      "Station 271/536: station_354.csv\n",
      "Station 272/536: station_355.csv\n",
      "Station 273/536: station_356.csv\n",
      "Station 274/536: station_358.csv\n",
      "Station 275/536: station_359.csv\n",
      "Station 276/536: station_36.csv\n",
      "Station 277/536: station_360.csv\n",
      "Station 278/536: station_361.csv\n",
      "Station 279/536: station_362.csv\n",
      "Station 280/536: station_363.csv\n",
      "Station 281/536: station_365.csv\n",
      "Station 282/536: station_366.csv\n",
      "Station 283/536: station_367.csv\n",
      "Station 284/536: station_368.csv\n",
      "Station 285/536: station_369.csv\n",
      "Station 286/536: station_37.csv\n",
      "Station 287/536: station_370.csv\n",
      "Station 288/536: station_372.csv\n",
      "Station 289/536: station_373.csv\n",
      "Station 290/536: station_374.csv\n",
      "Station 291/536: station_375.csv\n",
      "Station 292/536: station_376.csv\n",
      "Station 293/536: station_377.csv\n",
      "Station 294/536: station_378.csv\n",
      "Station 295/536: station_379.csv\n",
      "Station 296/536: station_38.csv\n",
      "Station 297/536: station_380.csv\n",
      "Station 298/536: station_381.csv\n",
      "Station 299/536: station_382.csv\n",
      "Station 300/536: station_383.csv\n",
      "Station 301/536: station_384.csv\n",
      "Station 302/536: station_385.csv\n",
      "Station 303/536: station_386.csv\n",
      "Station 304/536: station_387.csv\n",
      "Station 305/536: station_388.csv\n",
      "Station 306/536: station_389.csv\n",
      "Station 307/536: station_39.csv\n",
      "Station 308/536: station_390.csv\n",
      "Station 309/536: station_391.csv\n",
      "Station 310/536: station_392.csv\n",
      "Station 311/536: station_393.csv\n",
      "Station 312/536: station_394.csv\n",
      "Station 313/536: station_395.csv\n",
      "Station 314/536: station_397.csv\n",
      "Station 315/536: station_398.csv\n",
      "Station 316/536: station_399.csv\n",
      "Station 317/536: station_4.csv\n",
      "Station 318/536: station_40.csv\n",
      "Station 319/536: station_401.csv\n",
      "Station 320/536: station_402.csv\n",
      "Station 321/536: station_403.csv\n",
      "Station 322/536: station_404.csv\n",
      "Station 323/536: station_405.csv\n",
      "Station 324/536: station_406.csv\n",
      "Station 325/536: station_407.csv\n",
      "Station 326/536: station_408.csv\n",
      "Station 327/536: station_409.csv\n",
      "Station 328/536: station_41.csv\n",
      "Station 329/536: station_410.csv\n",
      "Station 330/536: station_412.csv\n",
      "Station 331/536: station_413.csv\n",
      "Station 332/536: station_415.csv\n",
      "Station 333/536: station_416.csv\n",
      "Station 334/536: station_417.csv\n",
      "Station 335/536: station_418.csv\n",
      "Station 336/536: station_419.csv\n",
      "Station 337/536: station_42.csv\n",
      "Station 338/536: station_420.csv\n",
      "Station 339/536: station_421.csv\n",
      "Station 340/536: station_422.csv\n",
      "Station 341/536: station_423.csv\n",
      "Station 342/536: station_424.csv\n",
      "Station 343/536: station_425.csv\n",
      "Station 344/536: station_426.csv\n",
      "Station 345/536: station_427.csv\n",
      "Station 346/536: station_428.csv\n",
      "Station 347/536: station_43.csv\n",
      "Station 348/536: station_430.csv\n",
      "Station 349/536: station_431.csv\n",
      "Station 350/536: station_432.csv\n",
      "Station 351/536: station_433.csv\n",
      "Station 352/536: station_434.csv\n",
      "Station 353/536: station_435.csv\n",
      "Station 354/536: station_436.csv\n",
      "Station 355/536: station_437.csv\n",
      "Station 356/536: station_438.csv\n",
      "Station 357/536: station_439.csv\n",
      "Station 358/536: station_44.csv\n",
      "Station 359/536: station_440.csv\n",
      "Station 360/536: station_441.csv\n",
      "Station 361/536: station_442.csv\n",
      "Station 362/536: station_444.csv\n",
      "Station 363/536: station_445.csv\n",
      "Station 364/536: station_446.csv\n",
      "Station 365/536: station_447.csv\n",
      "Station 366/536: station_448.csv\n",
      "Station 367/536: station_449.csv\n",
      "Station 368/536: station_45.csv\n",
      "Station 369/536: station_450.csv\n",
      "Station 370/536: station_454.csv\n",
      "Station 371/536: station_455.csv\n",
      "Station 372/536: station_456.csv\n",
      "Station 373/536: station_457.csv\n",
      "Station 374/536: station_458.csv\n",
      "Station 375/536: station_46.csv\n",
      "Station 376/536: station_460.csv\n",
      "Station 377/536: station_461.csv\n",
      "Station 378/536: station_462.csv\n",
      "Station 379/536: station_463.csv\n",
      "Station 380/536: station_464.csv\n",
      "Station 381/536: station_465.csv\n",
      "Station 382/536: station_466.csv\n",
      "Station 383/536: station_467.csv\n",
      "Station 384/536: station_468.csv\n",
      "Station 385/536: station_469.csv\n",
      "Station 386/536: station_47.csv\n",
      "Station 387/536: station_470.csv\n",
      "Station 388/536: station_471.csv\n",
      "Station 389/536: station_472.csv\n",
      "Station 390/536: station_473.csv\n",
      "Station 391/536: station_474.csv\n",
      "Station 392/536: station_475.csv\n",
      "Station 393/536: station_476.csv\n",
      "Station 394/536: station_478.csv\n",
      "Station 395/536: station_479.csv\n",
      "Station 396/536: station_48.csv\n",
      "Station 397/536: station_480.csv\n",
      "Station 398/536: station_481.csv\n",
      "Station 399/536: station_482.csv\n",
      "Station 400/536: station_483.csv\n",
      "Station 401/536: station_484.csv\n",
      "Station 402/536: station_485.csv\n",
      "Station 403/536: station_486.csv\n",
      "Station 404/536: station_487.csv\n",
      "Station 405/536: station_488.csv\n",
      "Station 406/536: station_489.csv\n",
      "Station 407/536: station_49.csv\n",
      "Station 408/536: station_490.csv\n",
      "Station 409/536: station_491.csv\n",
      "Station 410/536: station_492.csv\n",
      "Station 411/536: station_493.csv\n",
      "Station 412/536: station_494.csv\n",
      "Station 413/536: station_495.csv\n",
      "Station 414/536: station_496.csv\n",
      "Station 415/536: station_498.csv\n",
      "Station 416/536: station_499.csv\n",
      "Station 417/536: station_5.csv\n",
      "Station 418/536: station_50.csv\n",
      "Station 419/536: station_500.csv\n",
      "Station 420/536: station_501.csv\n",
      "Station 421/536: station_502.csv\n",
      "Station 422/536: station_503.csv\n",
      "Station 423/536: station_504.csv\n",
      "Station 424/536: station_505.csv\n",
      "Station 425/536: station_506.csv\n",
      "Station 426/536: station_508.csv\n",
      "Station 427/536: station_509.csv\n",
      "Station 428/536: station_510.csv\n",
      "Station 429/536: station_511.csv\n",
      "Station 430/536: station_512.csv\n",
      "Station 431/536: station_513.csv\n",
      "Station 432/536: station_514.csv\n",
      "Station 433/536: station_515.csv\n",
      "Station 434/536: station_516.csv\n",
      "Station 435/536: station_517.csv\n",
      "Station 436/536: station_518.csv\n",
      "Station 437/536: station_519.csv\n",
      "Station 438/536: station_52.csv\n",
      "Station 439/536: station_520.csv\n",
      "Station 440/536: station_521.csv\n",
      "Station 441/536: station_522.csv\n",
      "Station 442/536: station_523.csv\n",
      "Station 443/536: station_524.csv\n",
      "Station 444/536: station_525.csv\n",
      "Station 445/536: station_526.csv\n",
      "Station 446/536: station_527.csv\n",
      "Station 447/536: station_528.csv\n",
      "Station 448/536: station_529.csv\n",
      "Station 449/536: station_53.csv\n",
      "Station 450/536: station_530.csv\n",
      "Station 451/536: station_531.csv\n",
      "Station 452/536: station_532.csv\n",
      "Station 453/536: station_533.csv\n",
      "Station 454/536: station_534.csv\n",
      "Station 455/536: station_535.csv\n",
      "Station 456/536: station_536.csv\n",
      "Station 457/536: station_537.csv\n",
      "Station 458/536: station_538.csv\n",
      "Station 459/536: station_539.csv\n",
      "Station 460/536: station_54.csv\n",
      "Station 461/536: station_540.csv\n",
      "Station 462/536: station_541.csv\n",
      "Station 463/536: station_542.csv\n",
      "Station 464/536: station_543.csv\n",
      "Station 465/536: station_544.csv\n",
      "Station 466/536: station_545.csv\n",
      "Station 467/536: station_546.csv\n",
      "Station 468/536: station_547.csv\n",
      "Station 469/536: station_548.csv\n",
      "Station 470/536: station_549.csv\n",
      "Station 471/536: station_55.csv\n",
      "Station 472/536: station_550.csv\n",
      "Station 473/536: station_551.csv\n",
      "Station 474/536: station_552.csv\n",
      "Station 475/536: station_553.csv\n",
      "Station 476/536: station_554.csv\n",
      "Station 477/536: station_555.csv\n",
      "Station 478/536: station_556.csv\n",
      "Station 479/536: station_557.csv\n",
      "Station 480/536: station_558.csv\n",
      "Station 481/536: station_559.csv\n",
      "Station 482/536: station_56.csv\n",
      "Station 483/536: station_560.csv\n",
      "Station 484/536: station_561.csv\n",
      "Station 485/536: station_562.csv\n",
      "Station 486/536: station_563.csv\n",
      "Station 487/536: station_564.csv\n",
      "Station 488/536: station_565.csv\n",
      "Station 489/536: station_566.csv\n",
      "Station 490/536: station_567.csv\n",
      "Station 491/536: station_568.csv\n",
      "Station 492/536: station_569.csv\n",
      "Station 493/536: station_57.csv\n",
      "Station 494/536: station_570.csv\n",
      "Station 495/536: station_571.csv\n",
      "Station 496/536: station_58.csv\n",
      "Station 497/536: station_59.csv\n",
      "Station 498/536: station_6.csv\n",
      "Station 499/536: station_60.csv\n",
      "Station 500/536: station_61.csv\n",
      "Station 501/536: station_62.csv\n",
      "Station 502/536: station_63.csv\n",
      "Station 503/536: station_65.csv\n",
      "Station 504/536: station_67.csv\n",
      "Station 505/536: station_68.csv\n",
      "Station 506/536: station_69.csv\n",
      "Station 507/536: station_7.csv\n",
      "Station 508/536: station_70.csv\n",
      "Station 509/536: station_71.csv\n",
      "Station 510/536: station_72.csv\n",
      "Station 511/536: station_73.csv\n",
      "Station 512/536: station_74.csv\n",
      "Station 513/536: station_75.csv\n",
      "Station 514/536: station_76.csv\n",
      "Station 515/536: station_77.csv\n",
      "Station 516/536: station_78.csv\n",
      "Station 517/536: station_79.csv\n",
      "Station 518/536: station_8.csv\n",
      "Station 519/536: station_81.csv\n",
      "Station 520/536: station_82.csv\n",
      "Station 521/536: station_83.csv\n",
      "Station 522/536: station_84.csv\n",
      "Station 523/536: station_85.csv\n",
      "Station 524/536: station_86.csv\n",
      "Station 525/536: station_87.csv\n",
      "Station 526/536: station_89.csv\n",
      "Station 527/536: station_9.csv\n",
      "Station 528/536: station_90.csv\n",
      "Station 529/536: station_91.csv\n",
      "Station 530/536: station_92.csv\n",
      "Station 531/536: station_94.csv\n",
      "Station 532/536: station_95.csv\n",
      "Station 533/536: station_96.csv\n",
      "Station 534/536: station_97.csv\n",
      "Station 535/536: station_98.csv\n",
      "Station 536/536: station_99.csv\n"
     ]
    }
   ],
   "source": [
    "# Loop through, getting to the next whole hour. If the position 60 minutes from it is not the next whole hour, we know that data is incomplete.\n",
    "station_files = os.listdir(uniform_dir)\n",
    "num_stations = len(station_files)\n",
    "for index, file in enumerate(station_files):\n",
    "    print(f'Station {index + 1}/{num_stations}: {file}')\n",
    "    station_df = pd.read_csv(os.path.join(uniform_dir, file), header=0, index_col=False, parse_dates=['time'])\n",
    "\n",
    "    # Lists later converted into daily gross outage duration dataframe\n",
    "    days = []\n",
    "    pct_blackout = []\n",
    "\n",
    "    # Lists later converted into per station outages dataframe\n",
    "    outage_starts = []\n",
    "    outage_ends = []\n",
    "    outage_durations = []\n",
    "\n",
    "    # Lists later converted into per station daily aggregate outage dataframe\n",
    "    agg_outage_days = []\n",
    "    avg_outage_durations = []\n",
    "    outage_frequencies = []\n",
    "    index = 0\n",
    "    previous_day = None\n",
    "    while index + 1439 < station_df.shape[0]:\n",
    "        if previous_day is None:\n",
    "            if station_df['time'][index].hour == 0 and station_df['time'][index].minute == 0 and station_df['time'][index].second == 0:\n",
    "                previous_day = station_df['time'][index]\n",
    "            else:\n",
    "                index += 1\n",
    "        else:\n",
    "            # If the day is complete, we take the percentage of that portion of the dataset that is 0 voltage, and save that with the datetime of the\n",
    "            # beginning of the one hour period\n",
    "            end_of_hour = previous_day + timedelta(hours = 23, minutes = 59)\n",
    "            next_day = end_of_hour + timedelta(minutes = 1)\n",
    "            if station_df['time'][index + 1439] == end_of_hour:\n",
    "                days.append(previous_day)\n",
    "                pct = station_df['voltage'][index:index+1440].value_counts().get(0, 0) / 1440\n",
    "                pct_blackout.append(pct)\n",
    "\n",
    "                # In addition to getting the gross duration, we also loop through to get the outages for the station for this complete day\n",
    "                outage_starts_today = []\n",
    "                outage_ends_today = []\n",
    "                outage_durations_today = []\n",
    "                outage_start = None\n",
    "                outage_continuing = False\n",
    "                for i in range(index, index + 1440):\n",
    "                    if station_df['voltage'][i] == 0:\n",
    "                        if not outage_continuing: # outage start\n",
    "                            outage_start = station_df['time'][i]\n",
    "                            outage_continuing = True\n",
    "                    else:\n",
    "                        if outage_continuing: # outage end\n",
    "                            outage_end = station_df['time'][i]\n",
    "                            duration = outage_end - outage_start\n",
    "                            duration = duration.total_seconds() / 60\n",
    "\n",
    "                            outage_starts_today.append(outage_start)\n",
    "                            outage_ends_today.append(outage_end)\n",
    "                            outage_durations_today.append(duration)\n",
    "\n",
    "                            outage_continuing = False\n",
    "                            outage_start = None\n",
    "\n",
    "                # Append to overall station outages lists\n",
    "                outage_starts.extend(outage_starts_today)\n",
    "                outage_ends.extend(outage_ends_today)\n",
    "                outage_durations.extend(outage_durations_today)\n",
    "                \n",
    "                # Compute daily aggregate outage statistics\n",
    "                if len(outage_durations_today):\n",
    "                    avg_duration = np.mean(outage_durations_today)\n",
    "                else:\n",
    "                    avg_duration = 0\n",
    "                freq = len(outage_starts_today)\n",
    "\n",
    "                agg_outage_days.append(previous_day)\n",
    "                avg_outage_durations.append(avg_duration)\n",
    "                outage_frequencies.append(freq)\n",
    "                \n",
    "                index = index + 1440\n",
    "                previous_day = None # allow the script to reacquire the next day\n",
    "            else:\n",
    "                # We can backtrack until we hit the next whole hour or before, then do the 1439 minutes test again\n",
    "                while station_df['time'][index] >= next_day:\n",
    "                    if station_df['time'][index] == next_day:\n",
    "                        previous_day = next_day\n",
    "                        break\n",
    "                    else:\n",
    "                        index -= 1 \n",
    "                if station_df['time'][index] < next_day:\n",
    "                    while index < station_df.shape[0]:\n",
    "                        curr_time = station_df['time'][index]\n",
    "                        if curr_time.hour == 0 and curr_time.minute == 0 and curr_time.second == 0 and curr_time > previous_day:\n",
    "                            previous_day = curr_time\n",
    "                            break\n",
    "                        else:\n",
    "                            index += 1\n",
    "\n",
    "    id = file.split('_')[1].split('.')[0]\n",
    "    daily_df = pd.DataFrame({'date': days, 'pct_blackout': pct_blackout})\n",
    "    daily_df.to_csv(os.path.join(daily_dir, f'daily_station_duration_{id}.csv'), index=False)\n",
    "\n",
    "    outages_df = pd.DataFrame({'outage_start': outage_starts, 'outage_end': outage_ends, 'duration': outage_durations})\n",
    "    outages_df.to_csv(os.path.join(outages_dir, f'outages_station_{id}.csv'), index=False)\n",
    "\n",
    "    agg_outages_df = pd.DataFrame({'date': agg_outage_days, 'avg_duration': avg_outage_durations, 'freq': outage_frequencies})\n",
    "    agg_outages_df.to_csv(os.path.join(agg_outages_dir, f'agg_outages_station_{id}.csv'), index=False)"
   ]
  },
  {
   "cell_type": "markdown",
   "id": "226203d3-28d1-4f83-9679-a16d0f190724",
   "metadata": {},
   "source": [
    "# Extracting Weather Information for Relevant Stations from NetCDF4\n",
    "Voltage station coordinates determined:\n",
    "- Google Maps for neighborhood names\n",
    "- Referenced the existing stations in the same neighborhood for same data\n",
    "- ERA5 grid"
   ]
  },
  {
   "cell_type": "markdown",
   "id": "051e96b8",
   "metadata": {},
   "source": [
    "\n",
    "# Converting Hourly Weather Data into Daily Aggregate Data\n",
    "The two main operations that we have to do for the extraction of the hourly data is to take the difference between the current and previous total precpitations, as tp is an accumulation variable, meaning it is strictly increasing throughout the day and represents the total precipitation up to that point in the day.\n",
    "\n",
    "For the daily aggregate data, we simply take the average over a day of most of the weather variables, and for the tp accumulation variable, we take the value that is present at 12:00 AM the next day, which is confusingly the total accumulated precipitation for the previous day.\n",
    "\n",
    "In addition, we calculate a cluster of other weather variables, such as relative humidity."
   ]
  },
  {
   "cell_type": "code",
   "execution_count": 84,
   "id": "430a9bde-1e2d-410a-b3ab-23d79a428171",
   "metadata": {},
   "outputs": [],
   "source": [
    "def calculate_saturation_pressure_water(t2m):\n",
    "    a1 = 611.21\n",
    "    a3 = 17.502\n",
    "    a4 = 32.19\n",
    "    T0 = 273.16\n",
    "    return a1 * t2m.apply(lambda x: math.exp(a3 * (x - T0) / (x - a4)))\n",
    "\n",
    "def calculate_saturation_pressure_ice(t2m):\n",
    "    a1 = 611.21\n",
    "    a3 = 22.587\n",
    "    a4 = -0.7\n",
    "    T0 = 273.16\n",
    "    return a1 * t2m.apply(lambda x: math.exp(a3 * (x - T0) / (x - a4)))\n",
    "\n",
    "def calculate_mixed_phase_parameter(t2m):\n",
    "    Tice = 250.16\n",
    "    T0 = 273.16\n",
    "    return t2m.apply(lambda x: 0 if x <= Tice else (1 if x >= T0 else ((x - Tice) / (T0 - Tice)) ** 2))\n",
    "\n",
    "def calculate_specific_humidity(t2m, p):\n",
    "    Rdry = 287.05  # Specific gas constant for dry air in J/(kg·K)\n",
    "    Rvap = 461.5   # Specific gas constant for water vapor in J/(kg·K)\n",
    "    esat = calculate_saturation_pressure_water(t2m)\n",
    "    q_sat = ((Rvap / Rdry) * esat) / (p - (1 - Rvap / Rdry) * esat)\n",
    "    return q_sat\n",
    "\n",
    "def calculate_relative_humidity(t2m, p, q):\n",
    "    epsilon = 0.621981\n",
    "    esat_w = calculate_saturation_pressure_water(t2m)\n",
    "    esat_i = calculate_saturation_pressure_ice(t2m)\n",
    "    alpha = calculate_mixed_phase_parameter(t2m)\n",
    "    esat = alpha * esat_w + (1 - alpha) * esat_i\n",
    "    e = (p * q ** (1 / epsilon)) / (esat * (1 + q * (1 / epsilon - 1)))\n",
    "    RH = 100 * e\n",
    "    return RH"
   ]
  },
  {
   "cell_type": "code",
   "execution_count": 97,
   "id": "99e6b1d1-4c9c-4db8-b2d3-36cf09bb13fb",
   "metadata": {},
   "outputs": [
    {
     "name": "stderr",
     "output_type": "stream",
     "text": [
      " 30%|███       | 161/536 [00:58<02:10,  2.87it/s]"
     ]
    },
    {
     "name": "stdout",
     "output_type": "stream",
     "text": [
      "25\n"
     ]
    },
    {
     "name": "stderr",
     "output_type": "stream",
     "text": [
      " 32%|███▏      | 172/536 [01:03<02:06,  2.88it/s]"
     ]
    },
    {
     "name": "stdout",
     "output_type": "stream",
     "text": [
      "26\n"
     ]
    },
    {
     "name": "stderr",
     "output_type": "stream",
     "text": [
      " 34%|███▍      | 184/536 [01:06<01:53,  3.10it/s]"
     ]
    },
    {
     "name": "stdout",
     "output_type": "stream",
     "text": [
      "270\n",
      "271\n",
      "272\n"
     ]
    },
    {
     "name": "stderr",
     "output_type": "stream",
     "text": [
      " 40%|███▉      | 214/536 [01:16<01:53,  2.84it/s]"
     ]
    },
    {
     "name": "stdout",
     "output_type": "stream",
     "text": [
      "3\n"
     ]
    },
    {
     "name": "stderr",
     "output_type": "stream",
     "text": [
      "100%|██████████| 536/536 [03:27<00:00,  2.58it/s]\n"
     ]
    }
   ],
   "source": [
    "# Define the folder containing the hourly weather variables CSV files\n",
    "raw_weather_dir = \"E:\\Georgia Institute of Technology\\He, Yiyi - 01_data\\Final_version\\weather_india\"\n",
    "daily_dir = \"../india_processing/india_daily\"\n",
    "hourly_dir = \"../india_processing/india_hourly\"\n",
    "\n",
    "pd.set_option('mode.chained_assignment', None)\n",
    "\n",
    "# Create a sub-folder called 'daily'\n",
    "daily_weather_dir = os.path.join(raw_weather_dir, 'daily_new')\n",
    "hourly_weather_dir = os.path.join(raw_weather_dir, 'hourly')\n",
    "os.makedirs(raw_weather_dir, exist_ok=True)\n",
    "os.makedirs(daily_weather_dir, exist_ok=True)\n",
    "os.makedirs(hourly_weather_dir, exist_ok=True)\n",
    "\n",
    "# Get a list of all CSV files in the folder\n",
    "files = [file for file in os.listdir(daily_dir) if file.endswith('.csv')]\n",
    "\n",
    "# Iterate through each CSV file\n",
    "for file in tqdm(files):\n",
    "    station_id = file.split('_')[-1].split('.')[0]\n",
    "    padded_id = '0' * (3 - len(str(station_id))) + str(station_id)\n",
    "    # Read the CSV file into a DataFrame\n",
    "    voltage_df = pd.read_csv(os.path.join(daily_dir, file), index_col=False, parse_dates=['date'])\n",
    "    hourly_df = pd.read_csv(os.path.join(hourly_dir, f'hourly_station_{station_id}.csv'), index_col=False, parse_dates=['hour'])\n",
    "    try:\n",
    "        weather_df = pd.read_csv(os.path.join(raw_weather_dir, f'station_{padded_id}_data.csv'), index_col=False, parse_dates=['datetime'])\n",
    "    except:\n",
    "        print(station_id)\n",
    "        continue\n",
    "\n",
    "    ###### Calculation of the Hourly and Daily Total Precipitation #######\n",
    "    # Convert the total precipitation to mm\n",
    "    weather_df['tp'] = weather_df['tp'] * 1000\n",
    "\n",
    "    # Calculate total precipitation within an hour as the difference between the current hour and the previous, with the exception of 01:00, which would\n",
    "    # always be 0\n",
    "    weather_tp_time = weather_df[['datetime', 'tp']]\n",
    "    weather_tp_time = weather_tp_time.set_index('datetime')\n",
    "    tp_time_diff = weather_tp_time - weather_tp_time.shift(1)\n",
    "    hour_ones = tp_time_diff.index.time == datetime.time(datetime(year=1900, month=1, day=1, hour=1))\n",
    "    tp_time_diff.loc[hour_ones] = weather_tp_time.loc[hour_ones] # For 1:00 AM take the value from the original dataset, as it is the start of a new day\n",
    "    weather_df['tp_h'] = tp_time_diff['tp'].values\n",
    "\n",
    "    # Extract 'tp' value for 12:00 AM of the next day, which is when the accumulation variable is finished\n",
    "    last_hour_tp = weather_df[weather_df['datetime'].dt.hour == 0].groupby(weather_df['datetime'].dt.date)['tp'].last()\n",
    "    last_hour_tp = last_hour_tp.shift(-1)\n",
    "\n",
    "    ###### Hourly Aggregate Calcs #########\n",
    "\n",
    "    # Get only the dates that are required for the aggregation and windowing operations necessary, so, only the hours that are in the voltage dataset\n",
    "    # If the hours start at a time that \n",
    "    # additionally, in the case where the last hour in the dataframe is 11:00 PM, we want to include the next 12:00 AM so we have the daily acumulated\n",
    "    # precipitation\n",
    "    present_hours = hourly_df['hour']\n",
    "    desired_hours = [hourly_df['hour']]\n",
    "    if present_hours.iloc[-1].hour == 23:\n",
    "        desired_hours.append(pd.Series([present_hours.iloc[-1] + timedelta(hours=1)]))\n",
    "    if not present_hours.iloc[0].hour == 1:\n",
    "        desired_hours.insert(0, pd.Series([present_hours.iloc[0] - timedelta(hours=1)]))\n",
    "\n",
    "    desired_hours = pd.concat(desired_hours)\n",
    "\n",
    "    filtered_weather_df = weather_df.loc[weather_df['datetime'].isin(desired_hours)]\n",
    "\n",
    "    # Calculate wind speed\n",
    "    u_sq = filtered_weather_df['u10'] ** 2\n",
    "    v_sq = filtered_weather_df['v10'] ** 2\n",
    "    \n",
    "    # Calculate daily average wind speed\n",
    "    filtered_weather_df['wind'] = np.sqrt(u_sq + v_sq)\n",
    "    \n",
    "    # Convert T to t2m (assuming T represents air temperature in Celsius)\n",
    "    filtered_weather_df.rename(columns={'t2m' : 't2m_k'}, inplace=True)\n",
    "    \n",
    "    # Calculate specific humidity for each row\n",
    "    filtered_weather_df['sh'] = calculate_specific_humidity(filtered_weather_df['t2m_k'], filtered_weather_df['sp'])\n",
    "    \n",
    "    # Calculate relative humidity for each row\n",
    "    filtered_weather_df['rh'] = calculate_relative_humidity(filtered_weather_df['t2m_k'], filtered_weather_df['sp'], filtered_weather_df['sh'])\n",
    "    \n",
    "    # Convert the total precipitation to mm\n",
    "    filtered_weather_df['tp'] = filtered_weather_df['tp'] * 1000\n",
    "\n",
    "    hourly_weather_df = filtered_weather_df[['datetime', 't2m_k', 'd2m', 'wind', 'tp_h', 'e', 'sp', 'sh', 'rh']]\n",
    "    hourly_weather_df.rename(columns={'tp_h':'tp'}, inplace=True)\n",
    "    hourly_weather_df.dropna(inplace=True)\n",
    "    hourly_weather_df.to_csv(os.path.join(hourly_weather_dir, f'station_{padded_id}_data_hourly.csv'), index=False)\n",
    "    \n",
    "    ###### Daily Aggregate Calcs #########\n",
    "    \n",
    "    # Aggregate daily average for several variables, leaving out total precipitation, as it is an accumulating value\n",
    "    daily_weather_df = filtered_weather_df.groupby(filtered_weather_df['datetime'].dt.date)[['t2m_k', 'd2m', 'sp', 'wind', 'sh', 'rh', 'e']].mean()\n",
    "    \n",
    "    # Merge daily average, wind speed, and last hour tp columns\n",
    "    daily_weather_df = daily_weather_df.join(last_hour_tp, rsuffix='_last_hour')\n",
    "    daily_weather_df.insert(0, 'datetime', pd.to_datetime(daily_weather_df.index))\n",
    "    daily_weather_df.reset_index(drop=True, inplace=True)\n",
    "\n",
    "    daily_data_df = daily_weather_df.loc[daily_weather_df['datetime'].isin(voltage_df['date'])]    \n",
    "    daily_data_df.rename(columns={'datetime': 'date'}, inplace=True)\n",
    "    \n",
    "    # Save the aggregated daily weather variables to a new CSV file in the 'daily' sub-folder\n",
    "    daily_data_df.dropna(inplace=True)\n",
    "    daily_data_df.to_csv(os.path.join(daily_weather_dir, f'station_{padded_id}_data_daily.csv'), index=False)"
   ]
  },
  {
   "cell_type": "markdown",
   "id": "b952838f-fafc-4c28-a72e-40795fec50ad",
   "metadata": {},
   "source": [
    "# Joining Climate and Voltage Data\n",
    "After we have successfully gotten both the aggregate voltage data and climate data, we can quickly merge the datasets, first into station-wise datasets, and then into a mega panel data dataset, which is labelled with station_id, as well as the daily aggregate factors, daily gross duration, and daily climate.\n",
    "\n",
    "### Daily Data"
   ]
  },
  {
   "cell_type": "code",
   "execution_count": 98,
   "id": "fb00f8b3-7c21-464f-8ff7-886d7da57dfa",
   "metadata": {},
   "outputs": [],
   "source": [
    "daily_climate_dir = \"E:\\Georgia Institute of Technology\\He, Yiyi - 01_data\\Final_version\\weather_india\\daily_new\"\n",
    "panel_dir = '../india_panel/'\n",
    "station_panel_dir = '../india_panel/by_station'\n",
    "hourly_station_panel_dir = '../india_panel/by_station_hourly'"
   ]
  },
  {
   "cell_type": "code",
   "execution_count": 115,
   "id": "b8011115-fe3c-4fd7-8636-e48e753335c3",
   "metadata": {},
   "outputs": [
    {
     "name": "stdout",
     "output_type": "stream",
     "text": [
      "58\n",
      "Barra 2\n",
      "103\n",
      "Chichaliya\n",
      "130\n",
      "Dhangar Toli Chatra\n",
      "134\n",
      "Dhawatand\n",
      "386\n",
      "Rasuliya Hoshangabad\n",
      "405\n",
      "Salgaon\n",
      "518\n",
      "Kharsoma (N) Sultanpur\n",
      "563\n",
      "Netarhat\n"
     ]
    },
    {
     "name": "stderr",
     "output_type": "stream",
     "text": [
      "C:\\Users\\nytig\\AppData\\Local\\Temp\\ipykernel_6988\\2556627126.py:29: FutureWarning: The behavior of DataFrame concatenation with empty or all-NA entries is deprecated. In a future version, this will no longer exclude empty or all-NA columns when determining the result dtypes. To retain the old behavior, exclude the relevant entries before the concat operation.\n",
      "  all_stations_daily_panel_df = pd.concat(station_panel_daily_dfs)\n"
     ]
    }
   ],
   "source": [
    "station_panel_daily_dfs = []\n",
    "locations_renamed = locations.rename({'station_name': 'location'}, axis=1)\n",
    "for station_id in locations['station_id']:\n",
    "    if station_id in [25, 26, 270, 271, 272, 3, 497, 572]: # so jank, please fix/document\n",
    "        continue\n",
    "    \n",
    "    padded_id = '0' * (3 - len(str(station_id))) + str(station_id)\n",
    "    daily_weather_df = pd.read_csv(os.path.join(daily_climate_dir, f'station_{padded_id}_data_daily.csv'), index_col=False, parse_dates=['date'])\n",
    "    daily_df = pd.read_csv(os.path.join(daily_dir, f'daily_station_duration_{station_id}.csv'), index_col=False, parse_dates=['date'])\n",
    "    daily_agg_df = pd.read_csv(os.path.join(agg_outages_dir, f'agg_outages_station_{station_id}.csv'), index_col=False, parse_dates=['date'])\n",
    "\n",
    "    if daily_df.shape[0] < 15:\n",
    "        print(station_id)\n",
    "        station_location_index = locations_renamed['station_id'] == station_id\n",
    "        print(locations_renamed['location'][station_location_index].values[0])\n",
    "        continue\n",
    "\n",
    "    station_panel_df = daily_df.merge(daily_agg_df, on='date', ).merge(daily_weather_df, on='date')\n",
    "    station_panel_df.to_csv(os.path.join(station_panel_dir, f'station_panel_{station_id}.csv'), index=False)\n",
    "    station_location_index = locations_renamed['station_id'] == station_id\n",
    "    station_panel_df['station_id'] = locations_renamed['station_id'][station_location_index].values[0]\n",
    "    station_panel_df['location'] = locations_renamed['location'][station_location_index].values[0]\n",
    "    station_panel_df['district'] = locations_renamed['district'][station_location_index].values[0]\n",
    "    station_panel_df['state'] = locations_renamed['state'][station_location_index].values[0]\n",
    "    station_panel_df['lat'] = locations_renamed['lat'][station_location_index].values[0]\n",
    "    station_panel_df['lon'] = locations_renamed['lon'][station_location_index].values[0]\n",
    "    station_panel_daily_dfs.append(station_panel_df)\n",
    "    \n",
    "all_stations_daily_panel_df = pd.concat(station_panel_daily_dfs)"
   ]
  },
  {
   "cell_type": "code",
   "execution_count": 100,
   "id": "3c09c413-90ce-43e0-b1b2-175adfaf1594",
   "metadata": {},
   "outputs": [],
   "source": [
    "today = datetime.now().strftime(format=\"%m%d%y\")\n",
    "all_stations_daily_panel_df.to_csv(os.path.join(panel_dir, f'panel_daily_{today}.csv'), index=False)\n",
    "print(f'Total Station-Days: {all_stations_daily_panel_df.shape[0]}')"
   ]
  },
  {
   "cell_type": "markdown",
   "id": "6ee50ec4",
   "metadata": {},
   "source": [
    "### Hourly Data"
   ]
  },
  {
   "cell_type": "code",
   "execution_count": 107,
   "id": "2df5c508",
   "metadata": {},
   "outputs": [
    {
     "name": "stderr",
     "output_type": "stream",
     "text": [
      "C:\\Users\\nytig\\AppData\\Local\\Temp\\ipykernel_6988\\5468026.py:26: FutureWarning: The behavior of DataFrame concatenation with empty or all-NA entries is deprecated. In a future version, this will no longer exclude empty or all-NA columns when determining the result dtypes. To retain the old behavior, exclude the relevant entries before the concat operation.\n",
      "  all_stations_hourly_panel_df = pd.concat(station_panel_hourly_dfs)\n"
     ]
    }
   ],
   "source": [
    "station_panel_hourly_dfs = []\n",
    "locations_renamed = locations.rename({'station_name': 'location'}, axis=1)\n",
    "for station_id in locations['station_id']:\n",
    "    if station_id in [25, 26, 270, 271, 272, 3, 497, 572]: # so jank, please fix/document\n",
    "        continue\n",
    "    \n",
    "    padded_id = '0' * (3 - len(str(station_id))) + str(station_id)\n",
    "    hourly_weather_df = pd.read_csv(os.path.join(hourly_weather_dir, f'station_{padded_id}_data_hourly.csv'), index_col=False, parse_dates=['datetime'])\n",
    "    hourly_df = pd.read_csv(os.path.join(hourly_dir, f'hourly_station_{station_id}.csv'), index_col=False, parse_dates=['hour'])\n",
    "\n",
    "    if hourly_df.shape[0] < 15:\n",
    "        print(station_id)\n",
    "        continue\n",
    "\n",
    "    station_panel_df = hourly_df.merge(hourly_weather_df, left_on='hour', right_on='datetime')\n",
    "    station_panel_df.to_csv(os.path.join(hourly_station_panel_dir, f'station_hourly_panel_{station_id}.csv'), index=False)\n",
    "    station_location_index = locations_renamed['station_id'] == station_id\n",
    "    station_panel_df['station_id'] = locations_renamed['station_id'][station_location_index].values[0]\n",
    "    station_panel_df['location'] = locations_renamed['location'][station_location_index].values[0]\n",
    "    station_panel_df['district'] = locations_renamed['district'][station_location_index].values[0]\n",
    "    station_panel_df['state'] = locations_renamed['state'][station_location_index].values[0]\n",
    "    station_panel_df['lat'] = locations_renamed['lat'][station_location_index].values[0]\n",
    "    station_panel_df['lon'] = locations_renamed['lon'][station_location_index].values[0]\n",
    "    station_panel_hourly_dfs.append(station_panel_df)\n",
    "    \n",
    "all_stations_hourly_panel_df = pd.concat(station_panel_hourly_dfs)\n",
    "all_stations_hourly_panel_df.drop('hour', axis=1, inplace=True)\n",
    "all_stations_hourly_panel_df = all_stations_hourly_panel_df[['datetime'] + [col for col in all_stations_hourly_panel_df.columns if col != 'datetime']]"
   ]
  },
  {
   "cell_type": "code",
   "execution_count": 108,
   "id": "bca2430d",
   "metadata": {},
   "outputs": [],
   "source": [
    "today = datetime.now().strftime(format=\"%m%d%y\")\n",
    "all_stations_hourly_panel_df.to_csv(os.path.join(panel_dir, f'panel_hourly_{today}.csv'), index=False)\n",
    "print(f'Total Station-Hours: {all_stations_hourly_panel_df.shape[0]}')"
   ]
  },
  {
   "cell_type": "markdown",
   "id": "59e713b4-3f19-4697-9fdf-aef748ea2815",
   "metadata": {},
   "source": [
    "## Cleanup\n",
    "Some data anamolies were located during analysis and need to be cleaned up.\n",
    "The first is to ensure that the times in the harvard dataverse dataset are strictly increasing, and if not, remove them entirely.\n",
    "This can be done manually if the number of cases where this strange outlier is present is small, as we were under the impression that the dataverse datasets were complete.\n",
    "\n",
    "We discovered that the entire 2019July_Dec sheet is invalid, as all of the hour values is 0, so that entire sheet can be discarded.\n",
    "\n",
    "Additionally we have to check if any of the station rows are duplicate. In the case where they are duplicate and the voltage values are identical, we can simply delete one entry.\n",
    "However, when there are two conflicting values, we simply have to delete both."
   ]
  },
  {
   "cell_type": "code",
   "execution_count": 24,
   "id": "4631a69a",
   "metadata": {},
   "outputs": [
    {
     "name": "stdout",
     "output_type": "stream",
     "text": [
      "ESMI_harvard_dataverse_voltage_data_2014.csv\n",
      "ESMI_harvard_dataverse_voltage_data_2015.csv\n",
      "ESMI_harvard_dataverse_voltage_data_2016 Jan-Jun.csv\n",
      "ESMI_harvard_dataverse_voltage_data_2016_Jul_Dec.csv\n",
      "ESMI_harvard_dataverse_voltage_data_2017_Jan_Apr.csv\n",
      "ESMI_harvard_dataverse_voltage_data_2017_May_Aug.csv\n",
      "ESMI_harvard_dataverse_voltage_data_2017_Sep_Dec.csv\n",
      "ESMI_harvard_dataverse_voltage_data_2018_Jan_May.csv\n",
      "ESMI_harvard_dataverse_voltage_data_2018_Jun-Aug.csv\n",
      "ESMI_harvard_dataverse_voltage_data_2018_Sep_Dec.csv\n"
     ]
    }
   ],
   "source": [
    "dataverse_dir = \"../india_dataverse/\"\n",
    "\n",
    "for file in os.listdir(dataverse_dir):\n",
    "    print(file)\n",
    "    hd_df = pd.read_csv(os.path.join(dataverse_dir, file), header=0)\n",
    "\n",
    "    # Remove the weird excel export #VALUE! artifacts\n",
    "    hd_df.replace('#VALUE!', pd.NA, inplace=True)\n",
    "    hd_df.dropna(inplace=True)\n",
    "    hd_df.iloc[:, -60:] = hd_df.iloc[:, -60:].apply(pd.to_numeric)\n",
    "\n",
    "    # Merge the date and hour columns to create a pd datetime\n",
    "    if '/' in hd_df['Date'][0]:\n",
    "        hd_df.insert(loc=1, column='time', value=(pd.to_datetime(hd_df['Date'], format='%m/%d/%Y') + pd.to_timedelta(hd_df['Hour'], unit='h')))\n",
    "    elif '-' in hd_df['Date'][0]:\n",
    "        hd_df.insert(loc=1, column='time', value=(pd.to_datetime(hd_df['Date'], format='%d-%m-%Y') + pd.to_timedelta(hd_df['Hour'], unit='h')))\n",
    "    else:\n",
    "        print('Invalid date format')\n",
    "        break\n",
    "        \n",
    "    hd_df.drop(['Date', 'Hour'], axis=1, inplace=True)\n",
    "    \n",
    "    # Derive the uniform station_id from the station names\n",
    "    hd_df.rename(columns={'Location name': 'station_name'}, inplace=True)\n",
    "    \n",
    "    total_duplicates = {}\n",
    "    time_duplicates = {}\n",
    "    stations = hd_df.station_name.unique()\n",
    "    for station in stations:\n",
    "        station_df = hd_df[hd_df['station_name'] == station]\n",
    "        last = datetime(year=2001, month=1, day=1)\n",
    "        last_index = 0\n",
    "        for index in station_df.index:\n",
    "            time = station_df.loc[index, 'time']\n",
    "            if time <= last:\n",
    "                if station_df.loc[index, :].equals(station_df.loc[last_index, :]):\n",
    "                    total_duplicates[station] = total_duplicates.get(station, 0) + 1\n",
    "                    print(f'Total_duplicates at: {last_index}, {index}')\n",
    "                elif time == last:\n",
    "                    time_duplicates[station] = time_duplicates.get(station, 0) + 1\n",
    "                    print(f'Time_duplicates at: {last_index}, {index}')\n",
    "                    \n",
    "            last = station_df.loc[index, 'time']\n",
    "            last_index = index"
   ]
  },
  {
   "cell_type": "code",
   "execution_count": 13,
   "id": "d9a18a80",
   "metadata": {},
   "outputs": [
    {
     "name": "stdout",
     "output_type": "stream",
     "text": [
      "{'Kanheri Sarap [Offline]': 2, 'Jan Path- Bhubaneswar [Offline]': 2, 'Brahmavar': 4, 'Bhajanpura- Delhi [Offline]': 18, 'Sadar- Nagpur': 2, 'Gondur- Dhule': 2, 'Baijnathpur-Saharsa': 52, 'Jori-Saharsa [Offline]': 1, 'Sadashiv Nagar- Belgaum': 2, 'Bhadupur Sidhauli': 18, 'Arjun Nagar-Ghaziabad [Offline]': 2, 'Gogal Madgaon- Goa [Offline]': 3, 'Cuncolim- Goa': 10, 'Bhattha Mehmoodabad [Offline]': 31, 'Sector 70- Mohali': 8, 'Kakatiya Nagar- Hyderabad  [Offline]': 148, 'Kondhanpur': 3, 'Kalpataru Nagar - Nashik': 8, 'Netaji Nagar- Chennai [Offline]': 3, 'Prithvi Avenue- Chennai': 12, 'Samta Colony _Raipur': 7, 'Mavli- Udaipur [Offline]': 37, 'Civil Lines - Jaipur [Offline]': 7, 'Karsood- Palghar [Offline]': 10, 'Bamunimaidan Guwahati [Offline]': 4, 'Sumerpur-Chamoli [Offline]': 1, 'Kaulagarh Dehradun [Offline]': 1, 'Tarun Nagar Guwahati': 4, 'Capital Electrical Subdivision Guwahati': 1, 'Sri Ram Rang Pura-Bellary': 3, 'Pathauli-Agra [Offline]': 3, 'Khed Ratnagiri': 1, 'Bangi Kunta Raichur [Offline]': 1, 'Malwada- Palghar': 29, 'Kedar Nagar Agra': 1, 'Malakhedi-Hoshangabad [Offline]': 2, 'UPSIDC Site C Agra': 1, 'Khadki- Akola': 6, 'Gimhavne-Ratnagiri': 1, 'Paraspatti (W)-Sultanpur [Offline]': 25, 'Kharsoma (E) -Sultanpur [Offline]': 8, 'Purehubba-Sultanpur [Offline]': 21, 'Rishibhumi Risia [Offline]': 2, 'Ameerpeth- Hyderabad': 1, 'Muradpur -Sitapur [Offline]': 4, 'Sahakarnagar- Pune': 19, 'Kapoorthala-Lucknow': 1, 'Nai Basti Bahraich [Offline]': 8, 'Agarwal Mohalla Jarwal Kasba [Offline]': 7, 'Biswan-Sitapur [Offline]': 4, 'Kasraila-Barabanki [Offline]': 6, 'Dhanaudi (E)-Sultanpur [Offline]': 61, 'Gondaura-Barabanki [Offline]': 15, 'Firozpur Suratganj': 6, 'Ibrahimpur-Barabanki [Offline]': 6, 'Ganeshpur-Barabanki': 5, 'Huzurpur road-Kaisarganj [Offline]': 9, 'Brandawan-Barabanki': 8, 'Awas Vikas colony Barabanki': 3, 'Baldirai (E)-Sultanpur [Offline]': 11, 'Mihinpurwa-Bahraich [Offline]': 6, 'Chowk Bazar Jarwal Kasba': 3, 'Saheed Nagar Bhubaneswar': 1, 'Mukundapur Kolkata [Offline]': 1, 'Manwan- Sitapur [Offline]': 150, 'Huzurpur-Bahraich [Offline]': 5, 'Thiruvetkalam-Chidambaram [Offline]': 1, 'Kadirabag 1 Ramnagar [Offline]': 8, 'Talegaon': 2, 'Sayapettai Chinnasandhu- Semmandalam': 1, 'Kanoongopura Bahraich': 1, 'Haidergarh-Barabanki [Offline]': 8, 'Sidhauli Town [Offline]': 3, 'Takia Jarwal Kasba': 5, 'Paraspatti (E)-Sultanpur [Offline]': 8, 'Thandeswaranallur-Cuddalore [Offline]': 95, 'Dashehrabagh Barabanki [Offline]': 1, 'Kanjaya-Bahraich': 82, 'Sarwangi Mohalla Tikaitnagar': 1, 'Kharsoma (W) -Sultanpur [Offline]': 61, 'Jhauwa Khurd- Sitapur [Offline]': 76, 'Baldirai (W)-Sultanpur  [Offline]': 6, 'Khindaura- Sitapur [Offline]': 6, 'Sukhbaderi (N) - Sultanpur [Offline]': 35, 'Paisar Barabanki [Offline]': 4, 'Nurwaf Mohalla Tikaitnagar [Offline]': 20, 'Paigwa-Barabanki': 8, 'Fatehpur-Barabanki [Offline]': 13, 'Kankari- Sitapur [Offline]': 47, 'Chitegaon phata-Nashik [Offline]': 3, 'Chatori-Nashik [Offline]': 6, 'Paud': 33, 'Pabal': 3, 'Jhundapura-Noida': 1, 'Kharsoma (N) Sultanpur [Offline]': 19, 'Kharsoma (S)-Sultanpur [Offline]': 13, 'Chandori-Nashik [Offline]': 2, 'Kotanka [Offline]': 40, 'Devpur- Dhule': 18, 'Srirampura-Bengaluru': 2, 'Tap Sipaha-Barabanki [Offline]': 5, 'Bahadurpur-Bahraich': 23, 'Anand Nagar Sitapur [Offline]': 7, 'Kanjwara-Barabanki [Offline]': 7, 'Raj Nagar-Ghaziabad [Offline]': 26, 'Mohol [Offline]': 9, 'Bodireddypally-Prakasam [Offline]': 71, 'Bethora- Goa': 149, 'Nazirpura-Bahraich [Offline]': 16, 'PEG (Kothrud)- Pune': 1, 'Uttardah-Sultanpur [Offline]': 131, 'Lajpat Nagar- Delhi [Offline]': 14, 'Bardaha-Bahraich': 4, 'Ashok Nagar - Nashik [Offline]': 7, 'Jagatapur-Bahraich [Offline]': 16, 'Jamboti - Belagum': 18, 'Bhavaniyapur Baharaich [Offline]': 14, 'Tiwaripur (E)-Sultanpur [Offline]': 13, 'Guhagar (C) [Offline]': 16, 'Tiwaripur (W)-Sultanpur [Offline]': 14, 'Periyar Street Chidambaram [Offline]': 35, 'Tilak Nagar- Nagpur [Offline]': 2, 'Congress Nagar-Nagpur [Offline]': 1, 'Bhatbigha- [Offline]': 7, 'Bhopoli- Palghar': 12, 'Kadiri- Anantpur [Offline]': 13, 'West cross street Chidambaram [Offline]': 1, 'Bikwajipur-Sultanpur [Offline]': 5, 'Bikwajipur Parasin-Sultanpur [Offline]': 5, 'Thangaon-Sitapur [Offline]': 7, 'Chunaitee Gara-Saharanpur [Offline]': 11, 'Shiv Mandir -Dombivali': 1, 'KT_4355': 10, 'Sukhbaderi (S)-Sultanpur [Offline]': 9, 'Malakhedi road Hoshangabad [Offline]': 1, 'Karsanda-Barabanki [Offline]': 1, 'Kamhira Kathura - Sitapur [Offline]': 2, 'Pitampura- Delhi [Offline]': 37, 'Puthagaram Chennai [Offline]': 1}\n",
      "{'Kanheri Sarap [Offline]': 2773, 'Paraspatti (W)-Sultanpur [Offline]': 1, 'Biswan-Sitapur [Offline]': 18, 'Alandur- Chennai [Offline]': 1, 'Gondaura-Barabanki [Offline]': 2, 'Ibrahimpur-Barabanki [Offline]': 2, 'Brandawan-Barabanki': 2, 'Huzurpur-Bahraich [Offline]': 1, 'Kanoongopura Bahraich': 1, 'Kharsoma (W) -Sultanpur [Offline]': 1, 'Jhauwa Khurd- Sitapur [Offline]': 1, 'Nurwaf Mohalla Tikaitnagar [Offline]': 1, 'Renuka Nagar - Akola': 2, 'Paud': 1, 'Kharsoma (N) Sultanpur [Offline]': 1, 'Kharsoma (S)-Sultanpur [Offline]': 3, 'Kotanka [Offline]': 1, 'Tap Sipaha-Barabanki [Offline]': 2, 'Kanjwara-Barabanki [Offline]': 1, 'Bodireddypally-Prakasam [Offline]': 954, 'Uttardah-Sultanpur [Offline]': 1, 'Sukhbaderi (S)-Sultanpur [Offline]': 2, 'VSR Nagar Chidambaram [Offline]': 1, 'Baghru -Jaipur [Offline]': 1, 'Ambathur Chennai [Offline]': 1, 'Baramati [Offline]': 1, 'Govardhanagiri Avadi [Offline]': 3, 'Meerpet -Hyderabad [Offline]': 2}\n"
     ]
    }
   ],
   "source": [
    "print(total_duplicates)\n",
    "print(time_duplicates)"
   ]
  },
  {
   "cell_type": "markdown",
   "id": "a66a4565",
   "metadata": {},
   "source": [
    "We can see that two stations of special concern are Bodireddypally-Prakasam and Kanheri Sarap, as they have a large number of duplicate rows that are not duplicate in value, and thus have to be deleted. I choose to discard these two stations entirely, reasoning that their data quality is simply too low."
   ]
  },
  {
   "cell_type": "markdown",
   "id": "eac45dca",
   "metadata": {},
   "source": [
    "## Removing Erroneous Data\n",
    "In order to untangle the existing dataverse data from our uniform dataset, we have to ensure that the previous dataverse datasheets actually contain data only from before January of 2019, in order to enforce a hard cutoff on all of the non-scraped voltage stations.\n",
    "\n",
    "Then we can add the dataverse data back in, removing the problem stations, as well as any voltage values which are greater than 400, the range which seems to be typical of the other datasets."
   ]
  },
  {
   "cell_type": "code",
   "execution_count": 25,
   "id": "23c86eac",
   "metadata": {},
   "outputs": [
    {
     "name": "stdout",
     "output_type": "stream",
     "text": [
      "ESMI_harvard_dataverse_voltage_data_2014.csv\n",
      "ESMI_harvard_dataverse_voltage_data_2015.csv\n",
      "ESMI_harvard_dataverse_voltage_data_2016 Jan-Jun.csv\n",
      "ESMI_harvard_dataverse_voltage_data_2016_Jul_Dec.csv\n",
      "ESMI_harvard_dataverse_voltage_data_2017_Jan_Apr.csv\n",
      "ESMI_harvard_dataverse_voltage_data_2017_May_Aug.csv\n",
      "ESMI_harvard_dataverse_voltage_data_2017_Sep_Dec.csv\n",
      "ESMI_harvard_dataverse_voltage_data_2018_Jan_May.csv\n",
      "ESMI_harvard_dataverse_voltage_data_2018_Jun-Aug.csv\n",
      "ESMI_harvard_dataverse_voltage_data_2018_Sep_Dec.csv\n"
     ]
    }
   ],
   "source": [
    "for file in os.listdir(dataverse_dir)[:-1]:\n",
    "    print(file)\n",
    "    hd_df = pd.read_csv(os.path.join(dataverse_dir, file), header=0)\n",
    "\n",
    "    # Remove the weird excel export #VALUE! artifacts\n",
    "    hd_df.replace('#VALUE!', pd.NA, inplace=True)\n",
    "    hd_df.dropna(inplace=True)\n",
    "    hd_df.iloc[:, -60:] = hd_df.iloc[:, -60:].apply(pd.to_numeric)\n",
    "\n",
    "    # Merge the date and hour columns to create a pd datetime\n",
    "    if '/' in hd_df['Date'][0]:\n",
    "        hd_df.insert(loc=1, column='time', value=(pd.to_datetime(hd_df['Date'], format='%m/%d/%Y') + pd.to_timedelta(hd_df['Hour'], unit='h')))\n",
    "    elif '-' in hd_df['Date'][0]:\n",
    "        hd_df.insert(loc=1, column='time', value=(pd.to_datetime(hd_df['Date'], format='%d-%m-%Y') + pd.to_timedelta(hd_df['Hour'], unit='h')))\n",
    "    else:\n",
    "        print('Invalid date format')\n",
    "        break\n",
    "        \n",
    "    hd_df.drop(['Date', 'Hour'], axis=1, inplace=True)\n",
    "    \n",
    "    # Derive the uniform station_id from the station names\n",
    "    hd_df.rename(columns={'Location name': 'station_name'}, inplace=True)\n",
    "    \n",
    "    total_duplicates = {}\n",
    "    time_duplicates = {}\n",
    "    thresh = datetime(year=2019, month=1, day=1)\n",
    "    stations = hd_df.station_name.unique()\n",
    "    for station in stations:\n",
    "        station_df = hd_df[hd_df['station_name'] == station]\n",
    "        for index in station_df.index:\n",
    "            time = station_df.loc[index, 'time']\n",
    "            if time >= thresh:\n",
    "                print(f'{index} {station}, {time}')"
   ]
  },
  {
   "cell_type": "markdown",
   "id": "9fe8c4b0",
   "metadata": {},
   "source": [
    "Now that we have determined it is safe to do so, we can go through all of the stations that come from the dataverse dataset and remove datapoints after 2019."
   ]
  },
  {
   "cell_type": "code",
   "execution_count": 7,
   "id": "664e4fc1",
   "metadata": {},
   "outputs": [
    {
     "name": "stdout",
     "output_type": "stream",
     "text": [
      "Station: 498\n",
      "2222820 rows\n",
      "1968180 rows\n",
      "Station: 499\n",
      "445980 rows\n",
      "445980 rows\n",
      "Station: 500\n",
      "907860 rows\n",
      "907860 rows\n",
      "Station: 501\n",
      "326220 rows\n",
      "284340 rows\n",
      "Station: 502\n",
      "700260 rows\n",
      "700260 rows\n",
      "Station: 503\n",
      "1070760 rows\n",
      "1070760 rows\n",
      "Station: 505\n",
      "89040 rows\n",
      "89040 rows\n",
      "Station: 506\n",
      "462900 rows\n",
      "351000 rows\n",
      "Station: 508\n",
      "2188800 rows\n",
      "1681920 rows\n",
      "Station: 509\n",
      "973440 rows\n",
      "484740 rows\n",
      "Station: 510\n",
      "225120 rows\n",
      "225120 rows\n",
      "Station: 511\n",
      "483540 rows\n",
      "171780 rows\n",
      "Station: 512\n",
      "465180 rows\n",
      "152820 rows\n",
      "Station: 513\n",
      "444600 rows\n",
      "155400 rows\n",
      "Station: 514\n",
      "467160 rows\n",
      "139560 rows\n",
      "Station: 515\n",
      "475140 rows\n",
      "149640 rows\n",
      "Station: 516\n",
      "478860 rows\n",
      "172800 rows\n",
      "Station: 517\n",
      "471300 rows\n",
      "167100 rows\n",
      "Station: 518\n",
      "316320 rows\n",
      "8160 rows\n",
      "Station: 519\n",
      "440580 rows\n",
      "137520 rows\n",
      "Station: 520\n",
      "419700 rows\n",
      "175680 rows\n",
      "Station: 521\n",
      "605160 rows\n",
      "175680 rows\n",
      "Station: 522\n",
      "434280 rows\n",
      "175680 rows\n",
      "Station: 523\n",
      "447300 rows\n",
      "171780 rows\n",
      "Station: 524\n",
      "473820 rows\n",
      "155460 rows\n",
      "Station: 525\n",
      "148320 rows\n",
      "148320 rows\n",
      "Station: 526\n",
      "520380 rows\n",
      "175620 rows\n",
      "Station: 527\n",
      "543240 rows\n",
      "169920 rows\n",
      "Station: 528\n",
      "474660 rows\n",
      "161100 rows\n"
     ]
    }
   ],
   "source": [
    "thresh = datetime(year=2019, month=1, day=1)\n",
    "for station_id in locations['station_id']:\n",
    "    if station_id >= 497 and station_id < 529 and not station_id == 504:\n",
    "        if os.path.exists(os.path.join(uniform_dir, f'station_{station_id}.csv')):\n",
    "            print(f'Station: {station_id}')\n",
    "            station_df = pd.read_csv(os.path.join(uniform_dir, f'station_{station_id}.csv'), index_col=False, parse_dates=['time'])\n",
    "            print(f'{station_df.shape[0]} rows')\n",
    "            station_df = station_df[station_df['time'] < thresh]\n",
    "            print(f'{station_df.shape[0]} rows')\n",
    "            station_df.to_csv(os.path.join(uniform_dir, f'station_{station_id}.csv'), index=False)"
   ]
  },
  {
   "cell_type": "code",
   "execution_count": null,
   "id": "a019abfb",
   "metadata": {},
   "outputs": [],
   "source": []
  }
 ],
 "metadata": {
  "kernelspec": {
   "display_name": "Python 3 (ipykernel)",
   "language": "python",
   "name": "python3"
  },
  "language_info": {
   "codemirror_mode": {
    "name": "ipython",
    "version": 3
   },
   "file_extension": ".py",
   "mimetype": "text/x-python",
   "name": "python",
   "nbconvert_exporter": "python",
   "pygments_lexer": "ipython3",
   "version": "3.9.19"
  }
 },
 "nbformat": 4,
 "nbformat_minor": 5
}
