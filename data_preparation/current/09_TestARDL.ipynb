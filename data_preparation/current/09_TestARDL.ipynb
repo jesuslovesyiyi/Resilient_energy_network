{
 "cells": [
  {
   "cell_type": "code",
   "execution_count": 1,
   "metadata": {},
   "outputs": [
    {
     "name": "stderr",
     "output_type": "stream",
     "text": [
      "/var/folders/cy/f8598vm53cggn74m01d5s0rc0000gr/T/ipykernel_32735/3691202613.py:15: MatplotlibDeprecationWarning: The seaborn styles shipped by Matplotlib are deprecated since 3.6, as they no longer correspond to the styles shipped by seaborn. However, they will remain available as 'seaborn-v0_8-<style>'. Alternatively, directly use the seaborn API instead.\n",
      "  plt.style.use('seaborn-darkgrid')\n"
     ]
    }
   ],
   "source": [
    "from statsmodels.tsa.api import ARDL\n",
    "import statsmodels.api as sm\n",
    "from shapely.geometry import Point, Polygon\n",
    "import geopandas as gpd\n",
    "import pandas as pd\n",
    "import numpy as np\n",
    "import os\n",
    "import geopandas as gpd\n",
    "\n",
    "import matplotlib.pyplot as plt\n",
    "import seaborn as sns\n",
    "pd.set_option('display.max_columns', 500)\n",
    "pd.options.display.max_rows = 1000\n",
    "\n",
    "plt.style.use('seaborn-darkgrid')"
   ]
  },
  {
   "cell_type": "code",
   "execution_count": 3,
   "metadata": {},
   "outputs": [],
   "source": [
    "from statsmodels.tsa.ardl import ardl_select_order\n"
   ]
  },
  {
   "cell_type": "code",
   "execution_count": 4,
   "metadata": {},
   "outputs": [
    {
     "name": "stderr",
     "output_type": "stream",
     "text": [
      "/var/folders/cy/f8598vm53cggn74m01d5s0rc0000gr/T/ipykernel_32735/240449595.py:5: DtypeWarning: Columns (7,8,21) have mixed types. Specify dtype option on import or set low_memory=False.\n",
      "  df = pd.read_csv(\"/Users/yiyi/Desktop/df_final_geo_518.csv\")\n"
     ]
    }
   ],
   "source": [
    "# input_dir = '../../data/final'\n",
    "\n",
    "# df = pd.read_csv(os.path.join(input_dir, 'df_final_geo_518_2.csv'))\n",
    "\n",
    "df = pd.read_csv(\"/Users/yiyi/Desktop/df_final_geo_518.csv\")"
   ]
  },
  {
   "cell_type": "code",
   "execution_count": null,
   "metadata": {},
   "outputs": [],
   "source": [
    "# describe df\n",
    "df.info()"
   ]
  },
  {
   "cell_type": "code",
   "execution_count": 5,
   "metadata": {},
   "outputs": [
    {
     "data": {
      "text/plain": [
       "Index(['Unnamed: 0', 'index_x', 'datetime', 'Location name_x', 'ESMI_ID',\n",
       "       'District', 'State', 'Category', 'Connection Type_x', 'Lat', 'Lon',\n",
       "       't2m', 'u10', 'v10', 'tp', 'date', 'time', 'station_id', 'index_y',\n",
       "       'pct_blackout', 'wind_speed', 'Connection Type_y', 'climate_zone_DN',\n",
       "       'climate_zone_name', 'climate_zone_code', 'tree2000', 'gain',\n",
       "       'lossyear', 'geometry', 'wind_forest_cover', 'climate_zone_code_2_cat',\n",
       "       'climate_zone_code_2_Am', 'climate_zone_code_2_Aw',\n",
       "       'climate_zone_code_2_BSh', 'climate_zone_code_2_Cw'],\n",
       "      dtype='object')"
      ]
     },
     "execution_count": 5,
     "metadata": {},
     "output_type": "execute_result"
    }
   ],
   "source": [
    "df.columns"
   ]
  },
  {
   "cell_type": "code",
   "execution_count": null,
   "metadata": {},
   "outputs": [],
   "source": [
    "\n",
    "df['station_id'].value_counts()"
   ]
  },
  {
   "cell_type": "code",
   "execution_count": 6,
   "metadata": {},
   "outputs": [
    {
     "name": "stderr",
     "output_type": "stream",
     "text": [
      "/var/folders/cy/f8598vm53cggn74m01d5s0rc0000gr/T/ipykernel_32735/1947902021.py:2: SettingWithCopyWarning: \n",
      "A value is trying to be set on a copy of a slice from a DataFrame.\n",
      "Try using .loc[row_indexer,col_indexer] = value instead\n",
      "\n",
      "See the caveats in the documentation: https://pandas.pydata.org/pandas-docs/stable/user_guide/indexing.html#returning-a-view-versus-a-copy\n",
      "  df_377['datetime'] = pd.to_datetime(df_377['datetime'])\n"
     ]
    }
   ],
   "source": [
    "\n",
    "df_377 = df[df['station_id'] == 377]\n",
    "df_377['datetime'] = pd.to_datetime(df_377['datetime'])\n"
   ]
  },
  {
   "cell_type": "code",
   "execution_count": 7,
   "metadata": {},
   "outputs": [
    {
     "data": {
      "text/html": [
       "<div>\n",
       "<style scoped>\n",
       "    .dataframe tbody tr th:only-of-type {\n",
       "        vertical-align: middle;\n",
       "    }\n",
       "\n",
       "    .dataframe tbody tr th {\n",
       "        vertical-align: top;\n",
       "    }\n",
       "\n",
       "    .dataframe thead th {\n",
       "        text-align: right;\n",
       "    }\n",
       "</style>\n",
       "<table border=\"1\" class=\"dataframe\">\n",
       "  <thead>\n",
       "    <tr style=\"text-align: right;\">\n",
       "      <th></th>\n",
       "      <th>Unnamed: 0</th>\n",
       "      <th>index_x</th>\n",
       "      <th>datetime</th>\n",
       "      <th>Location name_x</th>\n",
       "      <th>ESMI_ID</th>\n",
       "      <th>District</th>\n",
       "      <th>State</th>\n",
       "      <th>Category</th>\n",
       "      <th>Connection Type_x</th>\n",
       "      <th>Lat</th>\n",
       "      <th>Lon</th>\n",
       "      <th>t2m</th>\n",
       "      <th>u10</th>\n",
       "      <th>v10</th>\n",
       "      <th>tp</th>\n",
       "      <th>date</th>\n",
       "      <th>time</th>\n",
       "      <th>station_id</th>\n",
       "      <th>index_y</th>\n",
       "      <th>pct_blackout</th>\n",
       "      <th>wind_speed</th>\n",
       "      <th>Connection Type_y</th>\n",
       "      <th>climate_zone_DN</th>\n",
       "      <th>climate_zone_name</th>\n",
       "      <th>climate_zone_code</th>\n",
       "      <th>tree2000</th>\n",
       "      <th>gain</th>\n",
       "      <th>lossyear</th>\n",
       "      <th>geometry</th>\n",
       "      <th>wind_forest_cover</th>\n",
       "      <th>climate_zone_code_2_cat</th>\n",
       "      <th>climate_zone_code_2_Am</th>\n",
       "      <th>climate_zone_code_2_Aw</th>\n",
       "      <th>climate_zone_code_2_BSh</th>\n",
       "      <th>climate_zone_code_2_Cw</th>\n",
       "    </tr>\n",
       "  </thead>\n",
       "  <tbody>\n",
       "    <tr>\n",
       "      <th>5293406</th>\n",
       "      <td>5301279</td>\n",
       "      <td>47724475</td>\n",
       "      <td>2018-06-09 14:00:00</td>\n",
       "      <td>Rajendra Gunj Raichur</td>\n",
       "      <td>NaN</td>\n",
       "      <td>Raichur</td>\n",
       "      <td>Karnataka</td>\n",
       "      <td>District Headquarters</td>\n",
       "      <td>Domestic</td>\n",
       "      <td>16.230193</td>\n",
       "      <td>77.360334</td>\n",
       "      <td>299.74023</td>\n",
       "      <td>4.610990</td>\n",
       "      <td>0.059518</td>\n",
       "      <td>1.814374e-02</td>\n",
       "      <td>20180609</td>\n",
       "      <td>1400</td>\n",
       "      <td>377</td>\n",
       "      <td>2032078</td>\n",
       "      <td>0.0</td>\n",
       "      <td>4.611374</td>\n",
       "      <td>Domestic</td>\n",
       "      <td>6.0</td>\n",
       "      <td>Arid, steppe, hot</td>\n",
       "      <td>BSh</td>\n",
       "      <td>0.0</td>\n",
       "      <td>0.0</td>\n",
       "      <td>2000.0</td>\n",
       "      <td>POINT (77.36033372 16.2301925)</td>\n",
       "      <td>0.0</td>\n",
       "      <td>2</td>\n",
       "      <td>0</td>\n",
       "      <td>0</td>\n",
       "      <td>1</td>\n",
       "      <td>0</td>\n",
       "    </tr>\n",
       "    <tr>\n",
       "      <th>5293407</th>\n",
       "      <td>5301280</td>\n",
       "      <td>47724476</td>\n",
       "      <td>2018-11-29 12:00:00</td>\n",
       "      <td>Rajendra Gunj Raichur</td>\n",
       "      <td>NaN</td>\n",
       "      <td>Raichur</td>\n",
       "      <td>Karnataka</td>\n",
       "      <td>District Headquarters</td>\n",
       "      <td>Domestic</td>\n",
       "      <td>16.230193</td>\n",
       "      <td>77.360334</td>\n",
       "      <td>302.49740</td>\n",
       "      <td>-1.692687</td>\n",
       "      <td>-1.023727</td>\n",
       "      <td>1.287539e-06</td>\n",
       "      <td>20181129</td>\n",
       "      <td>1200</td>\n",
       "      <td>377</td>\n",
       "      <td>2034433</td>\n",
       "      <td>0.0</td>\n",
       "      <td>1.978183</td>\n",
       "      <td>Domestic</td>\n",
       "      <td>6.0</td>\n",
       "      <td>Arid, steppe, hot</td>\n",
       "      <td>BSh</td>\n",
       "      <td>0.0</td>\n",
       "      <td>0.0</td>\n",
       "      <td>2000.0</td>\n",
       "      <td>POINT (77.36033372 16.2301925)</td>\n",
       "      <td>0.0</td>\n",
       "      <td>2</td>\n",
       "      <td>0</td>\n",
       "      <td>0</td>\n",
       "      <td>1</td>\n",
       "      <td>0</td>\n",
       "    </tr>\n",
       "    <tr>\n",
       "      <th>5293408</th>\n",
       "      <td>5301281</td>\n",
       "      <td>47724477</td>\n",
       "      <td>2018-10-08 00:00:00</td>\n",
       "      <td>Rajendra Gunj Raichur</td>\n",
       "      <td>NaN</td>\n",
       "      <td>Raichur</td>\n",
       "      <td>Karnataka</td>\n",
       "      <td>District Headquarters</td>\n",
       "      <td>Domestic</td>\n",
       "      <td>16.230193</td>\n",
       "      <td>77.360334</td>\n",
       "      <td>297.13970</td>\n",
       "      <td>-1.477317</td>\n",
       "      <td>0.405896</td>\n",
       "      <td>5.705208e-05</td>\n",
       "      <td>20181008</td>\n",
       "      <td>0</td>\n",
       "      <td>377</td>\n",
       "      <td>2033320</td>\n",
       "      <td>0.0</td>\n",
       "      <td>1.532063</td>\n",
       "      <td>Domestic</td>\n",
       "      <td>6.0</td>\n",
       "      <td>Arid, steppe, hot</td>\n",
       "      <td>BSh</td>\n",
       "      <td>0.0</td>\n",
       "      <td>0.0</td>\n",
       "      <td>2000.0</td>\n",
       "      <td>POINT (77.36033372 16.2301925)</td>\n",
       "      <td>0.0</td>\n",
       "      <td>2</td>\n",
       "      <td>0</td>\n",
       "      <td>0</td>\n",
       "      <td>1</td>\n",
       "      <td>0</td>\n",
       "    </tr>\n",
       "    <tr>\n",
       "      <th>5293409</th>\n",
       "      <td>5301282</td>\n",
       "      <td>47724478</td>\n",
       "      <td>2018-02-28 21:00:00</td>\n",
       "      <td>Rajendra Gunj Raichur</td>\n",
       "      <td>NaN</td>\n",
       "      <td>Raichur</td>\n",
       "      <td>Karnataka</td>\n",
       "      <td>District Headquarters</td>\n",
       "      <td>Domestic</td>\n",
       "      <td>16.230193</td>\n",
       "      <td>77.360334</td>\n",
       "      <td>294.95615</td>\n",
       "      <td>-1.414260</td>\n",
       "      <td>1.772476</td>\n",
       "      <td>8.531588e-07</td>\n",
       "      <td>20180228</td>\n",
       "      <td>2100</td>\n",
       "      <td>377</td>\n",
       "      <td>2030585</td>\n",
       "      <td>0.0</td>\n",
       "      <td>2.267554</td>\n",
       "      <td>Domestic</td>\n",
       "      <td>6.0</td>\n",
       "      <td>Arid, steppe, hot</td>\n",
       "      <td>BSh</td>\n",
       "      <td>0.0</td>\n",
       "      <td>0.0</td>\n",
       "      <td>2000.0</td>\n",
       "      <td>POINT (77.36033372 16.2301925)</td>\n",
       "      <td>0.0</td>\n",
       "      <td>2</td>\n",
       "      <td>0</td>\n",
       "      <td>0</td>\n",
       "      <td>1</td>\n",
       "      <td>0</td>\n",
       "    </tr>\n",
       "    <tr>\n",
       "      <th>5293410</th>\n",
       "      <td>5301283</td>\n",
       "      <td>47724479</td>\n",
       "      <td>2018-07-28 06:00:00</td>\n",
       "      <td>Rajendra Gunj Raichur</td>\n",
       "      <td>NaN</td>\n",
       "      <td>Raichur</td>\n",
       "      <td>Karnataka</td>\n",
       "      <td>District Headquarters</td>\n",
       "      <td>Domestic</td>\n",
       "      <td>16.230193</td>\n",
       "      <td>77.360334</td>\n",
       "      <td>302.63280</td>\n",
       "      <td>6.821611</td>\n",
       "      <td>-0.158919</td>\n",
       "      <td>2.614930e-04</td>\n",
       "      <td>20180728</td>\n",
       "      <td>600</td>\n",
       "      <td>377</td>\n",
       "      <td>2033246</td>\n",
       "      <td>0.0</td>\n",
       "      <td>6.823461</td>\n",
       "      <td>Domestic</td>\n",
       "      <td>6.0</td>\n",
       "      <td>Arid, steppe, hot</td>\n",
       "      <td>BSh</td>\n",
       "      <td>0.0</td>\n",
       "      <td>0.0</td>\n",
       "      <td>2000.0</td>\n",
       "      <td>POINT (77.36033372 16.2301925)</td>\n",
       "      <td>0.0</td>\n",
       "      <td>2</td>\n",
       "      <td>0</td>\n",
       "      <td>0</td>\n",
       "      <td>1</td>\n",
       "      <td>0</td>\n",
       "    </tr>\n",
       "  </tbody>\n",
       "</table>\n",
       "</div>"
      ],
      "text/plain": [
       "         Unnamed: 0   index_x            datetime        Location name_x  \\\n",
       "5293406     5301279  47724475 2018-06-09 14:00:00  Rajendra Gunj Raichur   \n",
       "5293407     5301280  47724476 2018-11-29 12:00:00  Rajendra Gunj Raichur   \n",
       "5293408     5301281  47724477 2018-10-08 00:00:00  Rajendra Gunj Raichur   \n",
       "5293409     5301282  47724478 2018-02-28 21:00:00  Rajendra Gunj Raichur   \n",
       "5293410     5301283  47724479 2018-07-28 06:00:00  Rajendra Gunj Raichur   \n",
       "\n",
       "         ESMI_ID District      State               Category Connection Type_x  \\\n",
       "5293406      NaN  Raichur  Karnataka  District Headquarters          Domestic   \n",
       "5293407      NaN  Raichur  Karnataka  District Headquarters          Domestic   \n",
       "5293408      NaN  Raichur  Karnataka  District Headquarters          Domestic   \n",
       "5293409      NaN  Raichur  Karnataka  District Headquarters          Domestic   \n",
       "5293410      NaN  Raichur  Karnataka  District Headquarters          Domestic   \n",
       "\n",
       "               Lat        Lon        t2m       u10       v10            tp  \\\n",
       "5293406  16.230193  77.360334  299.74023  4.610990  0.059518  1.814374e-02   \n",
       "5293407  16.230193  77.360334  302.49740 -1.692687 -1.023727  1.287539e-06   \n",
       "5293408  16.230193  77.360334  297.13970 -1.477317  0.405896  5.705208e-05   \n",
       "5293409  16.230193  77.360334  294.95615 -1.414260  1.772476  8.531588e-07   \n",
       "5293410  16.230193  77.360334  302.63280  6.821611 -0.158919  2.614930e-04   \n",
       "\n",
       "             date  time  station_id  index_y  pct_blackout  wind_speed  \\\n",
       "5293406  20180609  1400         377  2032078           0.0    4.611374   \n",
       "5293407  20181129  1200         377  2034433           0.0    1.978183   \n",
       "5293408  20181008     0         377  2033320           0.0    1.532063   \n",
       "5293409  20180228  2100         377  2030585           0.0    2.267554   \n",
       "5293410  20180728   600         377  2033246           0.0    6.823461   \n",
       "\n",
       "        Connection Type_y  climate_zone_DN  climate_zone_name  \\\n",
       "5293406          Domestic              6.0  Arid, steppe, hot   \n",
       "5293407          Domestic              6.0  Arid, steppe, hot   \n",
       "5293408          Domestic              6.0  Arid, steppe, hot   \n",
       "5293409          Domestic              6.0  Arid, steppe, hot   \n",
       "5293410          Domestic              6.0  Arid, steppe, hot   \n",
       "\n",
       "        climate_zone_code  tree2000  gain  lossyear  \\\n",
       "5293406               BSh       0.0   0.0    2000.0   \n",
       "5293407               BSh       0.0   0.0    2000.0   \n",
       "5293408               BSh       0.0   0.0    2000.0   \n",
       "5293409               BSh       0.0   0.0    2000.0   \n",
       "5293410               BSh       0.0   0.0    2000.0   \n",
       "\n",
       "                               geometry  wind_forest_cover  \\\n",
       "5293406  POINT (77.36033372 16.2301925)                0.0   \n",
       "5293407  POINT (77.36033372 16.2301925)                0.0   \n",
       "5293408  POINT (77.36033372 16.2301925)                0.0   \n",
       "5293409  POINT (77.36033372 16.2301925)                0.0   \n",
       "5293410  POINT (77.36033372 16.2301925)                0.0   \n",
       "\n",
       "         climate_zone_code_2_cat  climate_zone_code_2_Am  \\\n",
       "5293406                        2                       0   \n",
       "5293407                        2                       0   \n",
       "5293408                        2                       0   \n",
       "5293409                        2                       0   \n",
       "5293410                        2                       0   \n",
       "\n",
       "         climate_zone_code_2_Aw  climate_zone_code_2_BSh  \\\n",
       "5293406                       0                        1   \n",
       "5293407                       0                        1   \n",
       "5293408                       0                        1   \n",
       "5293409                       0                        1   \n",
       "5293410                       0                        1   \n",
       "\n",
       "         climate_zone_code_2_Cw  \n",
       "5293406                       0  \n",
       "5293407                       0  \n",
       "5293408                       0  \n",
       "5293409                       0  \n",
       "5293410                       0  "
      ]
     },
     "execution_count": 7,
     "metadata": {},
     "output_type": "execute_result"
    }
   ],
   "source": [
    "\n",
    "df_377.head(5)"
   ]
  },
  {
   "cell_type": "code",
   "execution_count": 10,
   "metadata": {},
   "outputs": [],
   "source": [
    "\n",
    "def testMaxLagAndTime(df, maxlag):\n",
    "\n",
    "    '''\n",
    "    This function is used to test max lag selection for ARDL model and record time.\n",
    "    \n",
    "    Args:\n",
    "    df: pd.DataFrame, the dataframe with a cerntain station_id\n",
    "    maxlag: int, the maximum lag to be tested\n",
    "    \n",
    "    Params:\n",
    "    See ardl_select_order's parameters\n",
    "    \n",
    "    Returns:\n",
    "    test_model: ARDL model, the model with the best maxlag\n",
    "    \n",
    "    '''\n",
    "    \n",
    "    print('Begin testing...')\n",
    "    print(f'testing maxlag: {maxlag}')\n",
    "    time_start = pd.Timestamp.now()\n",
    "    \n",
    "    order_selected= ardl_select_order(df['pct_blackout'],\texog=df[[\n",
    "                                   't2m', 'wind_speed', 'tp']], maxlag=maxlag, ic='aic', maxorder=maxlag).model.fit()\n",
    "    \n",
    "    time_selected = pd.Timestamp.now()\n",
    "    print(f'time elapsed for selecting order: {time_selected-time_start}')\n",
    "    \n",
    "    test_model = order_selected.model.fit()\n",
    "    time_fit = pd.Timestamp.now()\n",
    "    print(f'time elapsed for fitting model: {time_fit-time_selected}')\n",
    "    \n",
    "    time_end = pd.Timestamp.now()\n",
    "    print(f'time elapsed for the whole process: {time_end-time_start}')\n",
    "    print('End testing...')\n",
    "    print('model summary:')\n",
    "    print(test_model.summary())\n",
    "    \n",
    "    return test_model"
   ]
  },
  {
   "cell_type": "code",
   "execution_count": 11,
   "metadata": {},
   "outputs": [
    {
     "name": "stdout",
     "output_type": "stream",
     "text": [
      "Begin testing...\n",
      "testing maxlag: 10\n"
     ]
    },
    {
     "name": "stderr",
     "output_type": "stream",
     "text": [
      "/Applications/anaconda3/envs/india0/lib/python3.9/site-packages/statsmodels/tsa/base/tsa_model.py:473: ValueWarning: An unsupported index was provided. As a result, forecasts cannot be generated. To use the model for forecasting, use one of the supported classes of index.\n",
      "  self._init_dates(dates, freq)\n"
     ]
    },
    {
     "name": "stdout",
     "output_type": "stream",
     "text": [
      "time elapsed for selecting order: 0 days 00:01:34.180900\n",
      "time elapsed for fitting model: 0 days 00:00:00.016849\n",
      "time elapsed for the whole process: 0 days 00:01:34.197780\n",
      "End testing...\n",
      "model summary:\n",
      "                              ARDL Model Results                              \n",
      "==============================================================================\n",
      "Dep. Variable:           pct_blackout   No. Observations:                 5410\n",
      "Model:                  ARDL(2, 0, 5)   Log Likelihood                 281.921\n",
      "Method:               Conditional MLE   S.D. of innovations              0.230\n",
      "Date:                Wed, 11 Dec 2024   AIC                           -541.843\n",
      "Time:                        17:24:49   BIC                           -469.291\n",
      "Sample:                             5   HQIC                          -516.515\n",
      "                                 5410                                         \n",
      "===================================================================================\n",
      "                      coef    std err          z      P>|z|      [0.025      0.975]\n",
      "-----------------------------------------------------------------------------------\n",
      "const               0.4848      0.207      2.344      0.019       0.079       0.890\n",
      "pct_blackout.L1     0.0056      0.014      0.410      0.682      -0.021       0.032\n",
      "pct_blackout.L2    -0.0316      0.014     -2.323      0.020      -0.058      -0.005\n",
      "t2m.L0             -0.0014      0.001     -2.068      0.039      -0.003    -7.4e-05\n",
      "tp.L0              -2.5232      1.371     -1.841      0.066      -5.210       0.164\n",
      "tp.L1               4.0399      1.359      2.973      0.003       1.376       6.704\n",
      "tp.L2               0.2513      1.361      0.185      0.853      -2.416       2.919\n",
      "tp.L3              -0.1173      1.360     -0.086      0.931      -2.784       2.550\n",
      "tp.L4               3.2251      1.359      2.374      0.018       0.562       5.888\n",
      "tp.L5               2.4811      1.351      1.836      0.066      -0.168       5.130\n",
      "===================================================================================\n"
     ]
    },
    {
     "name": "stderr",
     "output_type": "stream",
     "text": [
      "/Applications/anaconda3/envs/india0/lib/python3.9/site-packages/statsmodels/tsa/base/tsa_model.py:473: ValueWarning: An unsupported index was provided. As a result, forecasts cannot be generated. To use the model for forecasting, use one of the supported classes of index.\n",
      "  self._init_dates(dates, freq)\n"
     ]
    }
   ],
   "source": [
    "test_model = testMaxLagAndTime(df_377, 10)\n",
    "# takes 30 seconds"
   ]
  },
  {
   "cell_type": "code",
   "execution_count": null,
   "metadata": {},
   "outputs": [],
   "source": [
    "test_model = testMaxLagAndTime(df_377, 24)\n",
    "# takes 15 min"
   ]
  },
  {
   "cell_type": "code",
   "execution_count": 37,
   "metadata": {},
   "outputs": [
    {
     "name": "stdout",
     "output_type": "stream",
     "text": [
      "testing maxlag: 17\n",
      "Begin testing\n"
     ]
    },
    {
     "name": "stderr",
     "output_type": "stream",
     "text": [
      "/Users/rainylty/opt/anaconda3/lib/python3.9/site-packages/statsmodels/tsa/base/tsa_model.py:471: ValueWarning: An unsupported index was provided and will be ignored when e.g. forecasting.\n",
      "  self._init_dates(dates, freq)\n",
      "/Users/rainylty/opt/anaconda3/lib/python3.9/site-packages/statsmodels/tsa/base/tsa_model.py:471: ValueWarning: An unsupported index was provided and will be ignored when e.g. forecasting.\n",
      "  self._init_dates(dates, freq)\n"
     ]
    },
    {
     "name": "stdout",
     "output_type": "stream",
     "text": [
      "time elapsed for selecting order: 0 days 00:08:24.925978\n",
      "time elapsed for fitting model: 0 days 00:00:00.003843\n",
      "time elapsed for the whole process: 0 days 00:08:24.929960\n",
      "End testing\n",
      "model summary:\n",
      "                              ARDL Model Results                              \n",
      "==============================================================================\n",
      "Dep. Variable:           pct_blackout   No. Observations:                 5410\n",
      "Model:                  ARDL(2, 0, 5)   Log Likelihood                 281.921\n",
      "Method:               Conditional MLE   S.D. of innovations              0.230\n",
      "Date:                Wed, 11 Dec 2024   AIC                           -541.843\n",
      "Time:                        13:13:13   BIC                           -469.291\n",
      "Sample:                             5   HQIC                          -516.515\n",
      "                                 5410                                         \n",
      "===================================================================================\n",
      "                      coef    std err          z      P>|z|      [0.025      0.975]\n",
      "-----------------------------------------------------------------------------------\n",
      "const               0.4848      0.207      2.344      0.019       0.079       0.890\n",
      "pct_blackout.L1     0.0056      0.014      0.410      0.682      -0.021       0.032\n",
      "pct_blackout.L2    -0.0316      0.014     -2.323      0.020      -0.058      -0.005\n",
      "t2m.L0             -0.0014      0.001     -2.068      0.039      -0.003    -7.4e-05\n",
      "tp.L0              -2.5232      1.371     -1.841      0.066      -5.210       0.164\n",
      "tp.L1               4.0399      1.359      2.973      0.003       1.376       6.704\n",
      "tp.L2               0.2513      1.361      0.185      0.853      -2.416       2.919\n",
      "tp.L3              -0.1173      1.360     -0.086      0.931      -2.784       2.550\n",
      "tp.L4               3.2251      1.359      2.374      0.018       0.562       5.888\n",
      "tp.L5               2.4811      1.351      1.836      0.066      -0.168       5.130\n",
      "===================================================================================\n"
     ]
    }
   ],
   "source": [
    "test_model = testMaxLagAndTime(df_377, 17)"
   ]
  },
  {
   "cell_type": "code",
   "execution_count": null,
   "metadata": {},
   "outputs": [
    {
     "name": "stderr",
     "output_type": "stream",
     "text": [
      "/var/folders/38/ttqg2y215g16g2ng7jd502_c0000gn/T/ipykernel_4100/1340261838.py:2: SettingWithCopyWarning: \n",
      "A value is trying to be set on a copy of a slice from a DataFrame.\n",
      "Try using .loc[row_indexer,col_indexer] = value instead\n",
      "\n",
      "See the caveats in the documentation: https://pandas.pydata.org/pandas-docs/stable/user_guide/indexing.html#returning-a-view-versus-a-copy\n",
      "  df_125['datetime'] = pd.to_datetime(df_125['datetime'])\n"
     ]
    }
   ],
   "source": [
    "df_125 = df[df['station_id'] == 232]\n",
    "df_232['datetime'] = pd.to_datetime(df_125['datetime'])"
   ]
  },
  {
   "cell_type": "code",
   "execution_count": 46,
   "metadata": {},
   "outputs": [
    {
     "name": "stdout",
     "output_type": "stream",
     "text": [
      "testing maxlag: 10\n",
      "Begin testing\n"
     ]
    },
    {
     "name": "stderr",
     "output_type": "stream",
     "text": [
      "/Users/rainylty/opt/anaconda3/lib/python3.9/site-packages/statsmodels/tsa/base/tsa_model.py:471: ValueWarning: An unsupported index was provided and will be ignored when e.g. forecasting.\n",
      "  self._init_dates(dates, freq)\n",
      "/Users/rainylty/opt/anaconda3/lib/python3.9/site-packages/statsmodels/tsa/base/tsa_model.py:471: ValueWarning: An unsupported index was provided and will be ignored when e.g. forecasting.\n",
      "  self._init_dates(dates, freq)\n"
     ]
    },
    {
     "name": "stdout",
     "output_type": "stream",
     "text": [
      "time elapsed for selecting order: 0 days 00:01:04.267100\n",
      "time elapsed for fitting model: 0 days 00:00:00.005279\n",
      "time elapsed for the whole process: 0 days 00:01:04.272485\n",
      "End testing\n",
      "model summary:\n",
      "                              ARDL Model Results                              \n",
      "==============================================================================\n",
      "Dep. Variable:           pct_blackout   No. Observations:                 6551\n",
      "Model:              ARDL(10, 0, 2, 0)   Log Likelihood               -1584.916\n",
      "Method:               Conditional MLE   S.D. of innovations              0.308\n",
      "Date:                Wed, 11 Dec 2024   AIC                           3203.832\n",
      "Time:                        13:34:40   BIC                           3319.191\n",
      "Sample:                            10   HQIC                          3243.719\n",
      "                                 6551                                         \n",
      "====================================================================================\n",
      "                       coef    std err          z      P>|z|      [0.025      0.975]\n",
      "------------------------------------------------------------------------------------\n",
      "const               -1.2712      0.211     -6.029      0.000      -1.685      -0.858\n",
      "pct_blackout.L1     -0.0327      0.012     -2.660      0.008      -0.057      -0.009\n",
      "pct_blackout.L2     -0.0144      0.012     -1.170      0.242      -0.038       0.010\n",
      "pct_blackout.L3     -0.0199      0.012     -1.621      0.105      -0.044       0.004\n",
      "pct_blackout.L4     -0.0153      0.012     -1.245      0.213      -0.039       0.009\n",
      "pct_blackout.L5     -0.0094      0.012     -0.766      0.444      -0.033       0.015\n",
      "pct_blackout.L6      0.0195      0.012      1.592      0.111      -0.005       0.044\n",
      "pct_blackout.L7     -0.0120      0.012     -0.980      0.327      -0.036       0.012\n",
      "pct_blackout.L8     -0.0172      0.012     -1.400      0.162      -0.041       0.007\n",
      "pct_blackout.L9      0.0130      0.012      1.062      0.288      -0.011       0.037\n",
      "pct_blackout.L10    -0.0297      0.012     -2.420      0.016      -0.054      -0.006\n",
      "t2m.L0               0.0050      0.001      7.028      0.000       0.004       0.006\n",
      "wind_speed.L0       -0.0057      0.004     -1.516      0.130      -0.013       0.002\n",
      "wind_speed.L1        0.0056      0.004      1.593      0.111      -0.001       0.013\n",
      "wind_speed.L2       -0.0070      0.004     -1.988      0.047      -0.014   -9.86e-05\n",
      "tp.L0                6.4222      0.880      7.296      0.000       4.697       8.148\n",
      "====================================================================================\n"
     ]
    },
    {
     "data": {
      "text/plain": [
       "<statsmodels.tsa.ardl.model.ARDLResultsWrapper at 0x14e0aa220>"
      ]
     },
     "execution_count": 46,
     "metadata": {},
     "output_type": "execute_result"
    }
   ],
   "source": [
    "testMaxLagAndTime(df_125, 10)"
   ]
  },
  {
   "cell_type": "code",
   "execution_count": null,
   "metadata": {},
   "outputs": [],
   "source": [
    "df_232 = df[df['station_id'] == 232]\n",
    "df_232.info()\n"
   ]
  },
  {
   "cell_type": "code",
   "execution_count": 52,
   "metadata": {},
   "outputs": [
    {
     "name": "stdout",
     "output_type": "stream",
     "text": [
      "testing maxlag: 10\n",
      "Begin testing\n"
     ]
    },
    {
     "name": "stderr",
     "output_type": "stream",
     "text": [
      "/Users/rainylty/opt/anaconda3/lib/python3.9/site-packages/statsmodels/tsa/base/tsa_model.py:471: ValueWarning: An unsupported index was provided and will be ignored when e.g. forecasting.\n",
      "  self._init_dates(dates, freq)\n",
      "/Users/rainylty/opt/anaconda3/lib/python3.9/site-packages/statsmodels/tsa/base/tsa_model.py:471: ValueWarning: An unsupported index was provided and will be ignored when e.g. forecasting.\n",
      "  self._init_dates(dates, freq)\n"
     ]
    },
    {
     "name": "stdout",
     "output_type": "stream",
     "text": [
      "time elapsed for selecting order: 0 days 00:04:18.992568\n",
      "time elapsed for fitting model: 0 days 00:00:00.016229\n",
      "time elapsed for the whole process: 0 days 00:04:19.008974\n",
      "End testing\n",
      "model summary:\n",
      "                              ARDL Model Results                              \n",
      "==============================================================================\n",
      "Dep. Variable:           pct_blackout   No. Observations:                21117\n",
      "Model:              ARDL(10, 0, 1, 0)   Log Likelihood               -7997.989\n",
      "Method:               Conditional MLE   S.D. of innovations              0.353\n",
      "Date:                Wed, 11 Dec 2024   AIC                          16027.978\n",
      "Time:                        13:47:07   BIC                          16155.296\n",
      "Sample:                            10   HQIC                         16069.524\n",
      "                                21117                                         \n",
      "====================================================================================\n",
      "                       coef    std err          z      P>|z|      [0.025      0.975]\n",
      "------------------------------------------------------------------------------------\n",
      "const               -2.3259      0.208    -11.173      0.000      -2.734      -1.918\n",
      "pct_blackout.L1      0.0027      0.007      0.398      0.691      -0.011       0.016\n",
      "pct_blackout.L2      0.0147      0.007      2.192      0.028       0.002       0.028\n",
      "pct_blackout.L3      0.0107      0.007      1.598      0.110      -0.002       0.024\n",
      "pct_blackout.L4      0.0141      0.007      2.108      0.035       0.001       0.027\n",
      "pct_blackout.L5      0.0064      0.007      0.961      0.337      -0.007       0.020\n",
      "pct_blackout.L6      0.0247      0.007      3.679      0.000       0.012       0.038\n",
      "pct_blackout.L7      0.0241      0.007      3.590      0.000       0.011       0.037\n",
      "pct_blackout.L8      0.0144      0.007      2.155      0.031       0.001       0.028\n",
      "pct_blackout.L9      0.0015      0.007      0.219      0.826      -0.012       0.015\n",
      "pct_blackout.L10     0.0151      0.007      2.249      0.025       0.002       0.028\n",
      "t2m.L0               0.0079      0.001     11.366      0.000       0.007       0.009\n",
      "wind_speed.L0        0.0320      0.002     16.745      0.000       0.028       0.036\n",
      "wind_speed.L1        0.0079      0.002      4.328      0.000       0.004       0.012\n",
      "tp.L0                6.3297      0.308     20.524      0.000       5.725       6.934\n",
      "====================================================================================\n"
     ]
    },
    {
     "data": {
      "text/plain": [
       "<statsmodels.tsa.ardl.model.ARDLResultsWrapper at 0x14e38d2b0>"
      ]
     },
     "execution_count": 52,
     "metadata": {},
     "output_type": "execute_result"
    }
   ],
   "source": [
    "testMaxLagAndTime(df_232, 10)"
   ]
  }
 ],
 "metadata": {
  "kernelspec": {
   "display_name": "base",
   "language": "python",
   "name": "python3"
  },
  "language_info": {
   "codemirror_mode": {
    "name": "ipython",
    "version": 3
   },
   "file_extension": ".py",
   "mimetype": "text/x-python",
   "name": "python",
   "nbconvert_exporter": "python",
   "pygments_lexer": "ipython3",
   "version": "3.9.16"
  }
 },
 "nbformat": 4,
 "nbformat_minor": 2
}
