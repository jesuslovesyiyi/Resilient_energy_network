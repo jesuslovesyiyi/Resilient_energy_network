{
 "cells": [
  {
   "cell_type": "code",
   "execution_count": 38,
   "metadata": {},
   "outputs": [],
   "source": [
    "from statsmodels.tsa.api import ARDL\n",
    "import statsmodels.api as sm\n",
    "from shapely.geometry import Point, Polygon\n",
    "import geopandas as gpd\n",
    "import pandas as pd\n",
    "import numpy as np\n",
    "import os\n",
    "import geopandas as gpd\n",
    "\n",
    "import matplotlib.pyplot as plt\n",
    "import seaborn as sns\n",
    "pd.set_option('display.max_columns', 500)\n",
    "pd.options.display.max_rows = 1000\n",
    "\n",
    "plt.style.use('seaborn-darkgrid')"
   ]
  },
  {
   "cell_type": "code",
   "execution_count": null,
   "metadata": {},
   "outputs": [],
   "source": [
    "from statsmodels.tsa.ardl import ardl_select_order\n"
   ]
  },
  {
   "cell_type": "code",
   "execution_count": 39,
   "metadata": {},
   "outputs": [
    {
     "name": "stderr",
     "output_type": "stream",
     "text": [
      "/var/folders/38/ttqg2y215g16g2ng7jd502_c0000gn/T/ipykernel_4100/1863682907.py:3: DtypeWarning: Columns (8,21) have mixed types. Specify dtype option on import or set low_memory=False.\n",
      "  df = pd.read_csv(os.path.join(input_dir, 'df_final_geo_518_2.csv'))\n"
     ]
    }
   ],
   "source": [
    "input_dir = '../../data/final'\n",
    "\n",
    "df = pd.read_csv(os.path.join(input_dir, 'df_final_geo_518_2.csv'))"
   ]
  },
  {
   "cell_type": "code",
   "execution_count": null,
   "metadata": {},
   "outputs": [],
   "source": [
    "# describe df\n",
    "df.info()"
   ]
  },
  {
   "cell_type": "code",
   "execution_count": null,
   "metadata": {},
   "outputs": [],
   "source": [
    "df.columns"
   ]
  },
  {
   "cell_type": "code",
   "execution_count": null,
   "metadata": {},
   "outputs": [],
   "source": [
    "\n",
    "df['station_id'].value_counts()"
   ]
  },
  {
   "cell_type": "code",
   "execution_count": null,
   "metadata": {},
   "outputs": [],
   "source": [
    "\n",
    "df_377 = df[df['station_id'] == 377]\n",
    "df_377['datetime'] = pd.to_datetime(df_377['datetime'])\n"
   ]
  },
  {
   "cell_type": "code",
   "execution_count": null,
   "metadata": {},
   "outputs": [],
   "source": [
    "\n",
    "def testMaxLagAndTime(df, maxlag):\n",
    "    print('Begin testing...')\n",
    "    print(f'testing maxlag: {maxlag}')\n",
    "    time_start = pd.Timestamp.now()\n",
    "    \n",
    "    order_selected= ardl_select_order(df['pct_blackout'],\texog=df[[\n",
    "                                   't2m', 'wind_speed', 'tp']], maxlag=maxlag, ic='aic', maxorder=maxlag).model.fit()\n",
    "    \n",
    "    time_selected = pd.Timestamp.now()\n",
    "    print(f'time elapsed for selecting order: {time_selected-time_start}')\n",
    "    \n",
    "    test_model = order_selected.model.fit()\n",
    "    time_fit = pd.Timestamp.now()\n",
    "    print(f'time elapsed for fitting model: {time_fit-time_selected}')\n",
    "    \n",
    "    time_end = pd.Timestamp.now()\n",
    "    print(f'time elapsed for the whole process: {time_end-time_start}')\n",
    "    print('End testing...')\n",
    "    print('model summary:')\n",
    "    print(test_model.summary())\n",
    "    return test_model"
   ]
  },
  {
   "cell_type": "code",
   "execution_count": null,
   "metadata": {},
   "outputs": [
    {
     "name": "stdout",
     "output_type": "stream",
     "text": [
      "testing maxlag: 10\n",
      "Begin testing\n"
     ]
    },
    {
     "name": "stderr",
     "output_type": "stream",
     "text": [
      "/Users/rainylty/opt/anaconda3/lib/python3.9/site-packages/statsmodels/tsa/base/tsa_model.py:471: ValueWarning: An unsupported index was provided and will be ignored when e.g. forecasting.\n",
      "  self._init_dates(dates, freq)\n"
     ]
    },
    {
     "name": "stdout",
     "output_type": "stream",
     "text": [
      "time elapsed for selecting order: 0 days 00:00:32.803390\n",
      "time elapsed for fitting model: 0 days 00:00:00.003176\n",
      "time elapsed for the whole process: 0 days 00:00:32.806670\n",
      "End testing\n",
      "model summary:\n",
      "                              ARDL Model Results                              \n",
      "==============================================================================\n",
      "Dep. Variable:           pct_blackout   No. Observations:                 5410\n",
      "Model:                  ARDL(2, 0, 5)   Log Likelihood                 281.921\n",
      "Method:               Conditional MLE   S.D. of innovations              0.230\n",
      "Date:                Wed, 11 Dec 2024   AIC                           -541.843\n",
      "Time:                        12:49:14   BIC                           -469.291\n",
      "Sample:                             5   HQIC                          -516.515\n",
      "                                 5410                                         \n",
      "===================================================================================\n",
      "                      coef    std err          z      P>|z|      [0.025      0.975]\n",
      "-----------------------------------------------------------------------------------\n",
      "const               0.4848      0.207      2.344      0.019       0.079       0.890\n",
      "pct_blackout.L1     0.0056      0.014      0.410      0.682      -0.021       0.032\n",
      "pct_blackout.L2    -0.0316      0.014     -2.323      0.020      -0.058      -0.005\n",
      "t2m.L0             -0.0014      0.001     -2.068      0.039      -0.003    -7.4e-05\n",
      "tp.L0              -2.5232      1.371     -1.841      0.066      -5.210       0.164\n",
      "tp.L1               4.0399      1.359      2.973      0.003       1.376       6.704\n",
      "tp.L2               0.2513      1.361      0.185      0.853      -2.416       2.919\n",
      "tp.L3              -0.1173      1.360     -0.086      0.931      -2.784       2.550\n",
      "tp.L4               3.2251      1.359      2.374      0.018       0.562       5.888\n",
      "tp.L5               2.4811      1.351      1.836      0.066      -0.168       5.130\n",
      "===================================================================================\n"
     ]
    },
    {
     "name": "stderr",
     "output_type": "stream",
     "text": [
      "/Users/rainylty/opt/anaconda3/lib/python3.9/site-packages/statsmodels/tsa/base/tsa_model.py:471: ValueWarning: An unsupported index was provided and will be ignored when e.g. forecasting.\n",
      "  self._init_dates(dates, freq)\n"
     ]
    }
   ],
   "source": [
    "test_model = testMaxLagAndTime(df_377, 10)\n",
    "# takes 30 seconds"
   ]
  },
  {
   "cell_type": "code",
   "execution_count": null,
   "metadata": {},
   "outputs": [],
   "source": [
    "test_model = testMaxLagAndTime(df_377, 24)\n",
    "# takes 15 min"
   ]
  },
  {
   "cell_type": "code",
   "execution_count": 37,
   "metadata": {},
   "outputs": [
    {
     "name": "stdout",
     "output_type": "stream",
     "text": [
      "testing maxlag: 17\n",
      "Begin testing\n"
     ]
    },
    {
     "name": "stderr",
     "output_type": "stream",
     "text": [
      "/Users/rainylty/opt/anaconda3/lib/python3.9/site-packages/statsmodels/tsa/base/tsa_model.py:471: ValueWarning: An unsupported index was provided and will be ignored when e.g. forecasting.\n",
      "  self._init_dates(dates, freq)\n",
      "/Users/rainylty/opt/anaconda3/lib/python3.9/site-packages/statsmodels/tsa/base/tsa_model.py:471: ValueWarning: An unsupported index was provided and will be ignored when e.g. forecasting.\n",
      "  self._init_dates(dates, freq)\n"
     ]
    },
    {
     "name": "stdout",
     "output_type": "stream",
     "text": [
      "time elapsed for selecting order: 0 days 00:08:24.925978\n",
      "time elapsed for fitting model: 0 days 00:00:00.003843\n",
      "time elapsed for the whole process: 0 days 00:08:24.929960\n",
      "End testing\n",
      "model summary:\n",
      "                              ARDL Model Results                              \n",
      "==============================================================================\n",
      "Dep. Variable:           pct_blackout   No. Observations:                 5410\n",
      "Model:                  ARDL(2, 0, 5)   Log Likelihood                 281.921\n",
      "Method:               Conditional MLE   S.D. of innovations              0.230\n",
      "Date:                Wed, 11 Dec 2024   AIC                           -541.843\n",
      "Time:                        13:13:13   BIC                           -469.291\n",
      "Sample:                             5   HQIC                          -516.515\n",
      "                                 5410                                         \n",
      "===================================================================================\n",
      "                      coef    std err          z      P>|z|      [0.025      0.975]\n",
      "-----------------------------------------------------------------------------------\n",
      "const               0.4848      0.207      2.344      0.019       0.079       0.890\n",
      "pct_blackout.L1     0.0056      0.014      0.410      0.682      -0.021       0.032\n",
      "pct_blackout.L2    -0.0316      0.014     -2.323      0.020      -0.058      -0.005\n",
      "t2m.L0             -0.0014      0.001     -2.068      0.039      -0.003    -7.4e-05\n",
      "tp.L0              -2.5232      1.371     -1.841      0.066      -5.210       0.164\n",
      "tp.L1               4.0399      1.359      2.973      0.003       1.376       6.704\n",
      "tp.L2               0.2513      1.361      0.185      0.853      -2.416       2.919\n",
      "tp.L3              -0.1173      1.360     -0.086      0.931      -2.784       2.550\n",
      "tp.L4               3.2251      1.359      2.374      0.018       0.562       5.888\n",
      "tp.L5               2.4811      1.351      1.836      0.066      -0.168       5.130\n",
      "===================================================================================\n"
     ]
    }
   ],
   "source": [
    "test_model = testMaxLagAndTime(df_377, 17)"
   ]
  }
 ],
 "metadata": {
  "kernelspec": {
   "display_name": "base",
   "language": "python",
   "name": "python3"
  },
  "language_info": {
   "codemirror_mode": {
    "name": "ipython",
    "version": 3
   },
   "file_extension": ".py",
   "mimetype": "text/x-python",
   "name": "python",
   "nbconvert_exporter": "python",
   "pygments_lexer": "ipython3",
   "version": "3.9.12"
  }
 },
 "nbformat": 4,
 "nbformat_minor": 2
}
