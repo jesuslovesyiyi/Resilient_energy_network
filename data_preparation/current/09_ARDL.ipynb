{
 "cells": [
  {
   "cell_type": "code",
   "execution_count": 1,
   "metadata": {},
   "outputs": [],
   "source": [
    "# -----********************-----\n",
    "\n",
    "# Created Time: 2024/12/09\n",
    "\n",
    "# Last updated: 2024/12/11\n",
    "\n",
    "# Author: Tara Liu, Yiyi He\n",
    "\n",
    "### Use Case\n",
    "\n",
    "# This notebook explores the application of autoregressive models\n",
    "# 1. \n",
    "\n",
    "# -----********************-----"
   ]
  },
  {
   "cell_type": "code",
   "execution_count": 13,
   "metadata": {},
   "outputs": [],
   "source": [
    "# Import libraries\n",
    "import os\n",
    "import warnings\n",
    "warnings.filterwarnings(\"ignore\")\n",
    "\n",
    "# Stats\n",
    "from statsmodels.tsa.api import ARDL\n",
    "import statsmodels.api as sm\n",
    "import numpy as np\n",
    "from statsmodels.tsa.ardl import ardl_select_order\n",
    "from statsmodels.tsa.api import VAR\n",
    "\n",
    "# Geo\n",
    "from shapely.geometry import Point, Polygon\n",
    "import geopandas as gpd\n",
    "import pandas as pd\n",
    "pd.set_option('display.max_columns', 500)\n",
    "pd.options.display.max_rows = 1000\n",
    "\n",
    "# Plot\n",
    "import matplotlib.pyplot as plt\n",
    "import seaborn as sns\n",
    "\n",
    "# Processing\n",
    "from tqdm import tqdm"
   ]
  },
  {
   "cell_type": "code",
   "execution_count": 17,
   "metadata": {},
   "outputs": [],
   "source": [
    "# Define functions\n",
    "def find_lag(df, maxlag):\n",
    "\n",
    "    time_start = pd.Timestamp.now()\n",
    "    \n",
    "    sel_res = ardl_select_order(\n",
    "        df['pct_blackout'],\n",
    "        exog=df[['t2m', 'wind_speed', 'tp']],\n",
    "        maxlag=maxlag,\n",
    "        ic='aic',\n",
    "        maxorder=maxlag,\n",
    "        causal=True,\n",
    "        trend='ct'\n",
    "        )\n",
    "    \n",
    "    time_selected = pd.Timestamp.now()\n",
    "    print(f'time elapsed for selecting order: {time_selected-time_start}')\n",
    "    \n",
    "    return sel_res.model.ardl_order"
   ]
  },
  {
   "cell_type": "code",
   "execution_count": 5,
   "metadata": {},
   "outputs": [
    {
     "data": {
      "text/html": [
       "<div>\n",
       "<style scoped>\n",
       "    .dataframe tbody tr th:only-of-type {\n",
       "        vertical-align: middle;\n",
       "    }\n",
       "\n",
       "    .dataframe tbody tr th {\n",
       "        vertical-align: top;\n",
       "    }\n",
       "\n",
       "    .dataframe thead th {\n",
       "        text-align: right;\n",
       "    }\n",
       "</style>\n",
       "<table border=\"1\" class=\"dataframe\">\n",
       "  <thead>\n",
       "    <tr style=\"text-align: right;\">\n",
       "      <th></th>\n",
       "      <th>datetime</th>\n",
       "      <th>pct_blackout</th>\n",
       "      <th>wind_forest_cover</th>\n",
       "      <th>t2m</th>\n",
       "      <th>tp</th>\n",
       "      <th>wind_speed</th>\n",
       "      <th>station_id</th>\n",
       "      <th>climate_zone_code</th>\n",
       "    </tr>\n",
       "  </thead>\n",
       "  <tbody>\n",
       "    <tr>\n",
       "      <th>0</th>\n",
       "      <td>2014-11-17 17:00:00</td>\n",
       "      <td>0.0</td>\n",
       "      <td>0.0</td>\n",
       "      <td>295.09723</td>\n",
       "      <td>5.645638e-04</td>\n",
       "      <td>1.310930</td>\n",
       "      <td>495</td>\n",
       "      <td>Aw</td>\n",
       "    </tr>\n",
       "    <tr>\n",
       "      <th>1</th>\n",
       "      <td>2014-11-29 17:00:00</td>\n",
       "      <td>0.0</td>\n",
       "      <td>0.0</td>\n",
       "      <td>293.04870</td>\n",
       "      <td>0.000000e+00</td>\n",
       "      <td>2.215274</td>\n",
       "      <td>495</td>\n",
       "      <td>Aw</td>\n",
       "    </tr>\n",
       "    <tr>\n",
       "      <th>2</th>\n",
       "      <td>2014-11-30 22:00:00</td>\n",
       "      <td>0.0</td>\n",
       "      <td>0.0</td>\n",
       "      <td>289.83447</td>\n",
       "      <td>4.351137e-07</td>\n",
       "      <td>2.000125</td>\n",
       "      <td>495</td>\n",
       "      <td>Aw</td>\n",
       "    </tr>\n",
       "  </tbody>\n",
       "</table>\n",
       "</div>"
      ],
      "text/plain": [
       "              datetime  pct_blackout  wind_forest_cover        t2m  \\\n",
       "0  2014-11-17 17:00:00           0.0                0.0  295.09723   \n",
       "1  2014-11-29 17:00:00           0.0                0.0  293.04870   \n",
       "2  2014-11-30 22:00:00           0.0                0.0  289.83447   \n",
       "\n",
       "             tp  wind_speed  station_id climate_zone_code  \n",
       "0  5.645638e-04    1.310930         495                Aw  \n",
       "1  0.000000e+00    2.215274         495                Aw  \n",
       "2  4.351137e-07    2.000125         495                Aw  "
      ]
     },
     "execution_count": 5,
     "metadata": {},
     "output_type": "execute_result"
    }
   ],
   "source": [
    "# Load input dataframe\n",
    "df_518 = pd.read_csv(\"/Users/yiyi/Desktop/df_for_model.csv\")\n",
    "df_518.head(3)"
   ]
  },
  {
   "cell_type": "code",
   "execution_count": 48,
   "metadata": {},
   "outputs": [
    {
     "data": {
      "text/plain": [
       "(3, 1, 1)"
      ]
     },
     "execution_count": 48,
     "metadata": {},
     "output_type": "execute_result"
    }
   ],
   "source": [
    "s_id = 100\n",
    "station_df = df_518[df_518['station_id'] == s_id]\n",
    "max_lag = 5\n",
    "sel_res = ardl_select_order(\n",
    "        station_df['pct_blackout'],\n",
    "        exog=station_df[['t2m', 'wind_speed', 'tp']],\n",
    "        maxlag=maxlag,\n",
    "        ic='aic',\n",
    "        maxorder=maxlag,\n",
    "        causal=True,\n",
    "        trend='ct'\n",
    "        )\n",
    "sel_res.model.ardl_order"
   ]
  },
  {
   "cell_type": "code",
   "execution_count": 53,
   "metadata": {},
   "outputs": [
    {
     "data": {
      "text/plain": [
       "(5, 4, 3, 5)"
      ]
     },
     "execution_count": 53,
     "metadata": {},
     "output_type": "execute_result"
    }
   ],
   "source": [
    "s_id = 8\n",
    "station_df = df_518[df_518['station_id'] == s_id]\n",
    "max_lag = 5\n",
    "sel_res = ardl_select_order(\n",
    "        station_df['pct_blackout'],\n",
    "        exog=station_df[['t2m', 'wind_speed', 'tp']],\n",
    "        maxlag=maxlag,\n",
    "        ic='aic',\n",
    "        maxorder=maxlag,\n",
    "        causal=True,\n",
    "        trend='ct'\n",
    "        )\n",
    "sel_res.model.ardl_order"
   ]
  },
  {
   "cell_type": "markdown",
   "metadata": {},
   "source": [
    "# FIND LAG"
   ]
  },
  {
   "cell_type": "code",
   "execution_count": 29,
   "metadata": {},
   "outputs": [],
   "source": [
    "# Create a list of unique station ids\n",
    "station_id_lst = list(set(df_518.station_id.unique()))\n",
    "# Initiate an empty dictionary\n",
    "station_id_lag_dic = {}\n",
    "# Set max lag\n",
    "maxlag = 5\n",
    "# Iterate through all stations\n",
    "for s_id in tqdm(station_id_lst):\n",
    "    # Subset station data\n",
    "    station_df = df_518[df_518['station_id'] == s_id]\n",
    "    # Find optimum lag and store station id with optimum lag in dictionary\n",
    "    station_id_lag_dic[s_id] = find_lag(station_df, maxlag)"
   ]
  },
  {
   "cell_type": "markdown",
   "metadata": {},
   "source": [
    "# VAR"
   ]
  },
  {
   "cell_type": "code",
   "execution_count": null,
   "metadata": {},
   "outputs": [],
   "source": [
    "# Read input csv\n",
    "df_518 = pd.read_csv('/Users/yiyi/Library/CloudStorage/OneDrive-GeorgiaInstituteofTechnology/Research/Energy_resilience/01_data/2024_9_10_Tingyu/processed/station_518_forest_perc_50kmBu_district_climate_dummy_df.csv',\n",
    "                     index_col=0)\n",
    "\n",
    "#"
   ]
  }
 ],
 "metadata": {
  "kernelspec": {
   "display_name": "base",
   "language": "python",
   "name": "python3"
  },
  "language_info": {
   "codemirror_mode": {
    "name": "ipython",
    "version": 3
   },
   "file_extension": ".py",
   "mimetype": "text/x-python",
   "name": "python",
   "nbconvert_exporter": "python",
   "pygments_lexer": "ipython3",
   "version": "3.9.16"
  }
 },
 "nbformat": 4,
 "nbformat_minor": 2
}
