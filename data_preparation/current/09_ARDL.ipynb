{
 "cells": [
  {
   "cell_type": "code",
   "execution_count": 1,
   "metadata": {},
   "outputs": [],
   "source": [
    "# -----********************-----\n",
    "\n",
    "# Created Time: 2024/12/09\n",
    "\n",
    "# Last updated: 2024/12/11\n",
    "\n",
    "# Author: Tara Liu, Yiyi He\n",
    "\n",
    "### Use Case\n",
    "\n",
    "# This notebook explores the application of autoregressive models\n",
    "# 1. \n",
    "\n",
    "# -----********************-----"
   ]
  },
  {
   "cell_type": "markdown",
   "metadata": {},
   "source": [
    "# Libraries"
   ]
  },
  {
   "cell_type": "code",
   "execution_count": 3,
   "metadata": {},
   "outputs": [],
   "source": [
    "# Import libraries\n",
    "import os\n",
    "import warnings\n",
    "warnings.filterwarnings(\"ignore\")\n",
    "\n",
    "# Stats\n",
    "from statsmodels.tsa.api import ARDL\n",
    "import statsmodels.api as sm\n",
    "import numpy as np\n",
    "from statsmodels.tsa.ardl import ardl_select_order\n",
    "from statsmodels.tsa.api import VAR\n",
    "\n",
    "# Geo\n",
    "from shapely.geometry import Point, Polygon\n",
    "import geopandas as gpd\n",
    "import pandas as pd\n",
    "pd.set_option('display.max_columns', 500)\n",
    "pd.options.display.max_rows = 1000\n",
    "\n",
    "# Plot\n",
    "import matplotlib.pyplot as plt\n",
    "import seaborn as sns\n",
    "\n",
    "# Processing\n",
    "from tqdm import tqdm"
   ]
  },
  {
   "cell_type": "code",
   "execution_count": 17,
   "metadata": {},
   "outputs": [],
   "source": [
    "# Define functions\n",
    "def find_lag(df, maxlag):\n",
    "\n",
    "    time_start = pd.Timestamp.now()\n",
    "    \n",
    "    sel_res = ardl_select_order(\n",
    "        df['pct_blackout'],\n",
    "        exog=df[['t2m', 'wind_speed', 'tp']],\n",
    "        maxlag=maxlag,\n",
    "        ic='aic',\n",
    "        maxorder=maxlag,\n",
    "        causal=True,\n",
    "        trend='ct'\n",
    "        )\n",
    "    \n",
    "    time_selected = pd.Timestamp.now()\n",
    "    print(f'time elapsed for selecting order: {time_selected-time_start}')\n",
    "    \n",
    "    return sel_res.model.ardl_order"
   ]
  },
  {
   "cell_type": "code",
   "execution_count": 5,
   "metadata": {},
   "outputs": [
    {
     "data": {
      "text/html": [
       "<div>\n",
       "<style scoped>\n",
       "    .dataframe tbody tr th:only-of-type {\n",
       "        vertical-align: middle;\n",
       "    }\n",
       "\n",
       "    .dataframe tbody tr th {\n",
       "        vertical-align: top;\n",
       "    }\n",
       "\n",
       "    .dataframe thead th {\n",
       "        text-align: right;\n",
       "    }\n",
       "</style>\n",
       "<table border=\"1\" class=\"dataframe\">\n",
       "  <thead>\n",
       "    <tr style=\"text-align: right;\">\n",
       "      <th></th>\n",
       "      <th>datetime</th>\n",
       "      <th>pct_blackout</th>\n",
       "      <th>wind_forest_cover</th>\n",
       "      <th>t2m</th>\n",
       "      <th>tp</th>\n",
       "      <th>wind_speed</th>\n",
       "      <th>station_id</th>\n",
       "      <th>climate_zone_code</th>\n",
       "    </tr>\n",
       "  </thead>\n",
       "  <tbody>\n",
       "    <tr>\n",
       "      <th>0</th>\n",
       "      <td>2014-11-17 17:00:00</td>\n",
       "      <td>0.0</td>\n",
       "      <td>0.0</td>\n",
       "      <td>295.09723</td>\n",
       "      <td>5.645638e-04</td>\n",
       "      <td>1.310930</td>\n",
       "      <td>495</td>\n",
       "      <td>Aw</td>\n",
       "    </tr>\n",
       "    <tr>\n",
       "      <th>1</th>\n",
       "      <td>2014-11-29 17:00:00</td>\n",
       "      <td>0.0</td>\n",
       "      <td>0.0</td>\n",
       "      <td>293.04870</td>\n",
       "      <td>0.000000e+00</td>\n",
       "      <td>2.215274</td>\n",
       "      <td>495</td>\n",
       "      <td>Aw</td>\n",
       "    </tr>\n",
       "    <tr>\n",
       "      <th>2</th>\n",
       "      <td>2014-11-30 22:00:00</td>\n",
       "      <td>0.0</td>\n",
       "      <td>0.0</td>\n",
       "      <td>289.83447</td>\n",
       "      <td>4.351137e-07</td>\n",
       "      <td>2.000125</td>\n",
       "      <td>495</td>\n",
       "      <td>Aw</td>\n",
       "    </tr>\n",
       "  </tbody>\n",
       "</table>\n",
       "</div>"
      ],
      "text/plain": [
       "              datetime  pct_blackout  wind_forest_cover        t2m  \\\n",
       "0  2014-11-17 17:00:00           0.0                0.0  295.09723   \n",
       "1  2014-11-29 17:00:00           0.0                0.0  293.04870   \n",
       "2  2014-11-30 22:00:00           0.0                0.0  289.83447   \n",
       "\n",
       "             tp  wind_speed  station_id climate_zone_code  \n",
       "0  5.645638e-04    1.310930         495                Aw  \n",
       "1  0.000000e+00    2.215274         495                Aw  \n",
       "2  4.351137e-07    2.000125         495                Aw  "
      ]
     },
     "execution_count": 5,
     "metadata": {},
     "output_type": "execute_result"
    }
   ],
   "source": [
    "# Load input dataframe\n",
    "df_518 = pd.read_csv(\"/Users/yiyi/Desktop/df_for_model.csv\")\n",
    "df_518.head(3)"
   ]
  },
  {
   "cell_type": "code",
   "execution_count": 48,
   "metadata": {},
   "outputs": [
    {
     "data": {
      "text/plain": [
       "(3, 1, 1)"
      ]
     },
     "execution_count": 48,
     "metadata": {},
     "output_type": "execute_result"
    }
   ],
   "source": [
    "s_id = 100\n",
    "station_df = df_518[df_518['station_id'] == s_id]\n",
    "max_lag = 5\n",
    "sel_res = ardl_select_order(\n",
    "        station_df['pct_blackout'],\n",
    "        exog=station_df[['t2m', 'wind_speed', 'tp']],\n",
    "        maxlag=maxlag,\n",
    "        ic='aic',\n",
    "        maxorder=maxlag,\n",
    "        causal=True,\n",
    "        trend='ct'\n",
    "        )\n",
    "sel_res.model.ardl_order"
   ]
  },
  {
   "cell_type": "markdown",
   "metadata": {},
   "source": [
    "# FIND LAG"
   ]
  },
  {
   "cell_type": "code",
   "execution_count": 29,
   "metadata": {},
   "outputs": [],
   "source": [
    "# Create a list of unique station ids\n",
    "station_id_lst = list(set(df_518.station_id.unique()))\n",
    "# Initiate an empty dictionary\n",
    "station_id_lag_dic = {}\n",
    "# Set max lag\n",
    "maxlag = 5\n",
    "# Iterate through all stations\n",
    "for s_id in tqdm(station_id_lst):\n",
    "    # Subset station data\n",
    "    station_df = df_518[df_518['station_id'] == s_id]\n",
    "    # Find optimum lag and store station id with optimum lag in dictionary\n",
    "    station_id_lag_dic[s_id] = find_lag(station_df, maxlag)"
   ]
  },
  {
   "cell_type": "markdown",
   "metadata": {},
   "source": [
    "# VAR"
   ]
  },
  {
   "cell_type": "code",
   "execution_count": 26,
   "metadata": {},
   "outputs": [],
   "source": [
    "def testMaxLagAndTime_VAR(df, maxlag):\n",
    "    '''\n",
    "    This function is used to test max lag selection for VAR model and record time.\n",
    "    \n",
    "    Args:\n",
    "    df: pd.DataFrame, the dataframe with a cerntain station_id\n",
    "    maxlag: int, the maximum lag to be tested\n",
    "    \n",
    "    Params:\n",
    "    See var_select_order's parameters\n",
    "    \n",
    "    Returns:\n",
    "    test_model: VAR model, the model with the best maxlag\n",
    "    '''\n",
    "\n",
    "    print('Begin testing...')\n",
    "    print(f'testing maxlag: {maxlag}')\n",
    "    time_start = pd.Timestamp.now()\n",
    "\n",
    "    # select order with VAR\n",
    "    order_selected = VAR(df[['pct_blackout', 't2m', 'wind_speed', 'tp']]).select_order(\n",
    "        maxlags=maxlag)\n",
    "    \n",
    "    # fit VAR model\n",
    "    time_selected = pd.Timestamp.now()\n",
    "    print(f'time elapsed for selecting order: {time_selected-time_start}')\n",
    "    \n",
    "    test_model = VAR(df[['pct_blackout', 't2m', 'wind_speed', 'tp']]).fit(\n",
    "        maxlags=maxlag, method='ols', ic='aic', verbose=True, trend='ctt')\n",
    "    \n",
    "    # print results\n",
    "    print(f'order selected: {order_selected}')\n",
    "    # print aic\n",
    "    print(f'AIC: {test_model.aic}')\n",
    "    \n",
    "    \n",
    "    time_fit = pd.Timestamp.now()\n",
    "    print(f'time elapsed for fitting model: {time_fit-time_selected}')\n",
    "\n",
    "    time_end = pd.Timestamp.now()\n",
    "    print(f'time elapsed for the whole process: {time_end-time_start}')\n",
    "    print('End testing...')\n",
    "    print('model summary:')\n",
    "    print(test_model.summary())\n",
    "\n",
    "    return test_model"
   ]
  },
  {
   "cell_type": "code",
   "execution_count": 4,
   "metadata": {},
   "outputs": [],
   "source": [
    "# Read input csv\n",
    "df_518 = pd.read_csv('/Users/yiyi/Library/CloudStorage/OneDrive-GeorgiaInstituteofTechnology/Research/Energy_resilience/01_data/2024_9_10_Tingyu/processed/station_518_forest_perc_50kmBu_district_climate_dummy_df.csv',\n",
    "                     index_col=0)"
   ]
  },
  {
   "cell_type": "code",
   "execution_count": 5,
   "metadata": {},
   "outputs": [],
   "source": [
    "s_id = 100\n",
    "station_df = df_518[df_518['station_id'] == s_id]\n",
    "max_lag = 5"
   ]
  },
  {
   "cell_type": "code",
   "execution_count": null,
   "metadata": {},
   "outputs": [],
   "source": [
    "df.head(10)"
   ]
  },
  {
   "cell_type": "code",
   "execution_count": 27,
   "metadata": {},
   "outputs": [
    {
     "name": "stdout",
     "output_type": "stream",
     "text": [
      "Begin testing...\n",
      "testing maxlag: 4\n",
      "time elapsed for selecting order: 0 days 00:00:00.012770\n",
      "<statsmodels.tsa.vector_ar.var_model.LagOrderResults object. Selected orders are: AIC -> 1, BIC -> 0, FPE -> 1, HQIC ->  0>\n",
      "Using 1 based on aic criterion\n",
      "order selected: <statsmodels.tsa.vector_ar.var_model.LagOrderResults object. Selected orders are: AIC -> 1, BIC -> 0, FPE -> 1, HQIC ->  0>\n",
      "AIC: -15.533333109884271\n",
      "time elapsed for fitting model: 0 days 00:00:00.010178\n",
      "time elapsed for the whole process: 0 days 00:00:00.022983\n",
      "End testing...\n",
      "model summary:\n",
      "  Summary of Regression Results   \n",
      "==================================\n",
      "Model:                         VAR\n",
      "Method:                        OLS\n",
      "Date:           Mon, 16, Dec, 2024\n",
      "Time:                     19:46:21\n",
      "--------------------------------------------------------------------\n",
      "No. of Equations:         4.00000    BIC:                   -15.3590\n",
      "Nobs:                     740.000    HQIC:                  -15.4661\n",
      "Log likelihood:           1575.28    FPE:                1.79457e-07\n",
      "AIC:                     -15.5333    Det(Omega_mle):     1.72824e-07\n",
      "--------------------------------------------------------------------\n",
      "Results for equation pct_blackout\n",
      "==================================================================================\n",
      "                     coefficient       std. error           t-stat            prob\n",
      "----------------------------------------------------------------------------------\n",
      "const                  -0.878591         0.929191           -0.946           0.344\n",
      "trend                   0.000746         0.000288            2.591           0.010\n",
      "trend**2               -0.000001         0.000000           -2.672           0.008\n",
      "L1.pct_blackout        -0.074269         0.036800           -2.018           0.044\n",
      "L1.t2m                  0.003218         0.003152            1.021           0.307\n",
      "L1.wind_speed           0.033010         0.017797            1.855           0.064\n",
      "L1.tp                 258.357850        70.404443            3.670           0.000\n",
      "==================================================================================\n",
      "\n",
      "Results for equation t2m\n",
      "==================================================================================\n",
      "                     coefficient       std. error           t-stat            prob\n",
      "----------------------------------------------------------------------------------\n",
      "const                 318.062485        12.330821           25.794           0.000\n",
      "trend                   0.002314         0.003821            0.605           0.545\n",
      "trend**2               -0.000003         0.000005           -0.687           0.492\n",
      "L1.pct_blackout         0.520689         0.488350            1.066           0.286\n",
      "L1.t2m                 -0.056727         0.041826           -1.356           0.175\n",
      "L1.wind_speed          -0.321011         0.236181           -1.359           0.174\n",
      "L1.tp                -717.261405       934.301817           -0.768           0.443\n",
      "==================================================================================\n",
      "\n",
      "Results for equation wind_speed\n",
      "==================================================================================\n",
      "                     coefficient       std. error           t-stat            prob\n",
      "----------------------------------------------------------------------------------\n",
      "const                   1.763913         2.190213            0.805           0.421\n",
      "trend                  -0.001149         0.000679           -1.692           0.091\n",
      "trend**2                0.000002         0.000001            1.772           0.076\n",
      "L1.pct_blackout        -0.017478         0.086741           -0.201           0.840\n",
      "L1.t2m                  0.001809         0.007429            0.243           0.808\n",
      "L1.wind_speed          -0.037249         0.041951           -0.888           0.375\n",
      "L1.tp                -250.648950       165.951607           -1.510           0.131\n",
      "==================================================================================\n",
      "\n",
      "Results for equation tp\n",
      "==================================================================================\n",
      "                     coefficient       std. error           t-stat            prob\n",
      "----------------------------------------------------------------------------------\n",
      "const                   0.000645         0.000486            1.326           0.185\n",
      "trend                  -0.000000         0.000000           -0.355           0.722\n",
      "trend**2                0.000000         0.000000            0.390           0.697\n",
      "L1.pct_blackout         0.000083         0.000019            4.315           0.000\n",
      "L1.t2m                 -0.000002         0.000002           -1.136           0.256\n",
      "L1.wind_speed          -0.000013         0.000009           -1.443           0.149\n",
      "L1.tp                  -0.045914         0.036861           -1.246           0.213\n",
      "==================================================================================\n",
      "\n",
      "Correlation matrix of residuals\n",
      "                pct_blackout       t2m  wind_speed        tp\n",
      "pct_blackout        1.000000  0.106515    0.069761 -0.114281\n",
      "t2m                 0.106515  1.000000    0.468401  0.002278\n",
      "wind_speed          0.069761  0.468401    1.000000 -0.092299\n",
      "tp                 -0.114281  0.002278   -0.092299  1.000000\n",
      "\n",
      "\n",
      "\n"
     ]
    },
    {
     "name": "stderr",
     "output_type": "stream",
     "text": [
      "/Applications/anaconda3/envs/india0/lib/python3.9/site-packages/statsmodels/tsa/base/tsa_model.py:473: ValueWarning: An unsupported index was provided. As a result, forecasts cannot be generated. To use the model for forecasting, use one of the supported classes of index.\n",
      "  self._init_dates(dates, freq)\n",
      "/Applications/anaconda3/envs/india0/lib/python3.9/site-packages/statsmodels/tsa/base/tsa_model.py:473: ValueWarning: An unsupported index was provided. As a result, forecasts cannot be generated. To use the model for forecasting, use one of the supported classes of index.\n",
      "  self._init_dates(dates, freq)\n"
     ]
    },
    {
     "data": {
      "text/plain": [
       "<statsmodels.tsa.vector_ar.var_model.VARResultsWrapper at 0x48483bc40>"
      ]
     },
     "execution_count": 27,
     "metadata": {},
     "output_type": "execute_result"
    }
   ],
   "source": [
    "testMaxLagAndTime_VAR(station_df, 4)"
   ]
  }
 ],
 "metadata": {
  "kernelspec": {
   "display_name": "base",
   "language": "python",
   "name": "python3"
  },
  "language_info": {
   "codemirror_mode": {
    "name": "ipython",
    "version": 3
   },
   "file_extension": ".py",
   "mimetype": "text/x-python",
   "name": "python",
   "nbconvert_exporter": "python",
   "pygments_lexer": "ipython3",
   "version": "3.9.16"
  }
 },
 "nbformat": 4,
 "nbformat_minor": 2
}
