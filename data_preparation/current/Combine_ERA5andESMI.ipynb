{
 "cells": [
  {
   "cell_type": "code",
   "execution_count": 35,
   "id": "b40ae3b3-50bd-44e0-bea6-745b5369f6f8",
   "metadata": {},
   "outputs": [],
   "source": [
    "import os\n",
    "import pandas as pd\n",
    "from tqdm import tqdm"
   ]
  },
  {
   "cell_type": "code",
   "execution_count": 46,
   "id": "85138c52-ccf5-410f-ad0e-d2a63c1a1425",
   "metadata": {},
   "outputs": [],
   "source": [
    "def read_blackout_data(input_dir):\n",
    "\tfiles = os.listdir(input_dir)\n",
    "\tprint(files)\n",
    "\tdf_blackout = pd.DataFrame()\n",
    "\n",
    "\tfor file in files:\n",
    "\t\tdf = pd.read_csv(input_dir + '/' + file)\n",
    "\t\tdf['station_id'] = file.split('_')[-1].split('.')[0]\n",
    "\t\tdf_blackout = pd.concat([df_blackout, df])\n",
    "\n",
    "\tdf_blackout['hour'] = pd.to_datetime(\n",
    "\t\tdf_blackout['hour'], format='%Y-%m-%d %H:%M:%S')\n",
    "\n",
    "\tdf_blackout.set_index('hour', inplace=True)\n",
    "\tprint('Finished reading data...info below:')\n",
    "\tprint(df_blackout.info())\n",
    "\tprint('index:', df_blackout.index)\n",
    "\treturn df_blackout"
   ]
  },
  {
   "cell_type": "markdown",
   "id": "ceb38813-8089-4538-b5ee-aae4ff84c73e",
   "metadata": {},
   "source": [
    "# Process climate dataset into one csv file"
   ]
  },
  {
   "cell_type": "code",
   "execution_count": 40,
   "id": "03c57246-2d28-495d-b44a-3d125b2ad04d",
   "metadata": {},
   "outputs": [
    {
     "name": "stderr",
     "output_type": "stream",
     "text": [
      "100%|████████████████████████████████████████| 13/13 [2:03:59<00:00, 572.30s/it]\n"
     ]
    }
   ],
   "source": [
    "input_dir = 'data/station_climate_by_year/'\n",
    "folders = os.listdir(input_dir)\n",
    "df_climate = pd.DataFrame()\n",
    "for folder in tqdm(folders):\n",
    "    if not folder.startswith('.'):\n",
    "        files = os.listdir(input_dir + '/' + folder)\n",
    "        for file in files:\n",
    "            if file.endswith('.csv'):\n",
    "                df = pd.read_csv(input_dir + '/' + folder + '/' + file, index_col=0)\n",
    "                # add station_id, which is in the file name\n",
    "                df['station_id'] = file.split('_')[1]\n",
    "                df_climate = pd.concat([df_climate, df])\n",
    "            else:\n",
    "                continue\n",
    "    else:\n",
    "        continue\n",
    "df_climate.drop(['From date', 'To date'], axis=1, inplace=True)\n",
    "df_climate['date'] = df_climate['date'].astype(str)\n",
    "df_climate['time'] = df_climate['time'].astype(str).apply(lambda x: x.zfill(4))\n",
    "df_climate['datetime'] = pd.to_datetime(df_climate['date'] + df_climate['time'], format='%Y%m%d%H%M')\n",
    "df_climate.set_index('datetime', inplace=True)"
   ]
  },
  {
   "cell_type": "code",
   "execution_count": 41,
   "id": "5a418944-b561-4c7a-9159-54f032f73724",
   "metadata": {},
   "outputs": [],
   "source": [
    "df_climate.to_csv(\"df_climate.csv\")"
   ]
  },
  {
   "cell_type": "code",
   "execution_count": 45,
   "id": "86d3701f-6e9e-443f-8f9a-ce189941c31f",
   "metadata": {},
   "outputs": [
    {
     "data": {
      "text/html": [
       "<div>\n",
       "<style scoped>\n",
       "    .dataframe tbody tr th:only-of-type {\n",
       "        vertical-align: middle;\n",
       "    }\n",
       "\n",
       "    .dataframe tbody tr th {\n",
       "        vertical-align: top;\n",
       "    }\n",
       "\n",
       "    .dataframe thead th {\n",
       "        text-align: right;\n",
       "    }\n",
       "</style>\n",
       "<table border=\"1\" class=\"dataframe\">\n",
       "  <thead>\n",
       "    <tr style=\"text-align: right;\">\n",
       "      <th></th>\n",
       "      <th>Location name</th>\n",
       "      <th>ESMI_ID</th>\n",
       "      <th>District</th>\n",
       "      <th>State</th>\n",
       "      <th>Category</th>\n",
       "      <th>Connection Type</th>\n",
       "      <th>Lat</th>\n",
       "      <th>Lon</th>\n",
       "      <th>t2m</th>\n",
       "      <th>u10</th>\n",
       "      <th>v10</th>\n",
       "      <th>tp</th>\n",
       "      <th>date</th>\n",
       "      <th>time</th>\n",
       "      <th>station_id</th>\n",
       "    </tr>\n",
       "    <tr>\n",
       "      <th>datetime</th>\n",
       "      <th></th>\n",
       "      <th></th>\n",
       "      <th></th>\n",
       "      <th></th>\n",
       "      <th></th>\n",
       "      <th></th>\n",
       "      <th></th>\n",
       "      <th></th>\n",
       "      <th></th>\n",
       "      <th></th>\n",
       "      <th></th>\n",
       "      <th></th>\n",
       "      <th></th>\n",
       "      <th></th>\n",
       "      <th></th>\n",
       "    </tr>\n",
       "  </thead>\n",
       "  <tbody>\n",
       "    <tr>\n",
       "      <th>2013-11-15 10:00:00</th>\n",
       "      <td>Tiwaripur (E)</td>\n",
       "      <td>NaN</td>\n",
       "      <td>Sultanpur</td>\n",
       "      <td>Uttar Pradesh</td>\n",
       "      <td>Gram Panchayat</td>\n",
       "      <td>Domestic</td>\n",
       "      <td>26.178897</td>\n",
       "      <td>82.265947</td>\n",
       "      <td>298.70874</td>\n",
       "      <td>-0.164597</td>\n",
       "      <td>-0.954286</td>\n",
       "      <td>0.000000</td>\n",
       "      <td>20131115</td>\n",
       "      <td>1000</td>\n",
       "      <td>526</td>\n",
       "    </tr>\n",
       "    <tr>\n",
       "      <th>2013-12-09 02:00:00</th>\n",
       "      <td>Tiwaripur (E)</td>\n",
       "      <td>NaN</td>\n",
       "      <td>Sultanpur</td>\n",
       "      <td>Uttar Pradesh</td>\n",
       "      <td>Gram Panchayat</td>\n",
       "      <td>Domestic</td>\n",
       "      <td>26.178897</td>\n",
       "      <td>82.265947</td>\n",
       "      <td>284.78270</td>\n",
       "      <td>1.009763</td>\n",
       "      <td>-0.009255</td>\n",
       "      <td>0.000000</td>\n",
       "      <td>20131209</td>\n",
       "      <td>0200</td>\n",
       "      <td>526</td>\n",
       "    </tr>\n",
       "    <tr>\n",
       "      <th>2013-07-14 04:00:00</th>\n",
       "      <td>Tiwaripur (E)</td>\n",
       "      <td>NaN</td>\n",
       "      <td>Sultanpur</td>\n",
       "      <td>Uttar Pradesh</td>\n",
       "      <td>Gram Panchayat</td>\n",
       "      <td>Domestic</td>\n",
       "      <td>26.178897</td>\n",
       "      <td>82.265947</td>\n",
       "      <td>302.07202</td>\n",
       "      <td>-1.178657</td>\n",
       "      <td>0.284906</td>\n",
       "      <td>0.000858</td>\n",
       "      <td>20130714</td>\n",
       "      <td>0400</td>\n",
       "      <td>526</td>\n",
       "    </tr>\n",
       "  </tbody>\n",
       "</table>\n",
       "</div>"
      ],
      "text/plain": [
       "                     Location name  ESMI_ID   District          State  \\\n",
       "datetime                                                                \n",
       "2013-11-15 10:00:00  Tiwaripur (E)      NaN  Sultanpur  Uttar Pradesh   \n",
       "2013-12-09 02:00:00  Tiwaripur (E)      NaN  Sultanpur  Uttar Pradesh   \n",
       "2013-07-14 04:00:00  Tiwaripur (E)      NaN  Sultanpur  Uttar Pradesh   \n",
       "\n",
       "                           Category Connection Type        Lat        Lon  \\\n",
       "datetime                                                                    \n",
       "2013-11-15 10:00:00  Gram Panchayat        Domestic  26.178897  82.265947   \n",
       "2013-12-09 02:00:00  Gram Panchayat        Domestic  26.178897  82.265947   \n",
       "2013-07-14 04:00:00  Gram Panchayat        Domestic  26.178897  82.265947   \n",
       "\n",
       "                           t2m       u10       v10        tp      date  time  \\\n",
       "datetime                                                                       \n",
       "2013-11-15 10:00:00  298.70874 -0.164597 -0.954286  0.000000  20131115  1000   \n",
       "2013-12-09 02:00:00  284.78270  1.009763 -0.009255  0.000000  20131209  0200   \n",
       "2013-07-14 04:00:00  302.07202 -1.178657  0.284906  0.000858  20130714  0400   \n",
       "\n",
       "                    station_id  \n",
       "datetime                        \n",
       "2013-11-15 10:00:00        526  \n",
       "2013-12-09 02:00:00        526  \n",
       "2013-07-14 04:00:00        526  "
      ]
     },
     "execution_count": 45,
     "metadata": {},
     "output_type": "execute_result"
    }
   ],
   "source": [
    "df_climate.head(3)"
   ]
  },
  {
   "cell_type": "markdown",
   "id": "b74b8c07-b7dc-45b1-9380-e093ab774a2a",
   "metadata": {},
   "source": [
    "# Process hourly voltage data into one csv file"
   ]
  },
  {
   "cell_type": "code",
   "execution_count": 57,
   "id": "10f1db47-4e74-4369-853d-edc8aac80f2a",
   "metadata": {},
   "outputs": [
    {
     "name": "stderr",
     "output_type": "stream",
     "text": [
      "100%|█████████████████████████████████████████| 536/536 [01:51<00:00,  4.79it/s]\n"
     ]
    }
   ],
   "source": [
    "input_dir = \"/Users/yiyi/Library/CloudStorage/OneDrive-GeorgiaInstituteofTechnology/Research/Energy_resilience/01_data/final_verification/india_processing/india_hourly\"\n",
    "files = os.listdir(input_dir)\n",
    "df_blackout = pd.DataFrame()\n",
    "\n",
    "for file in tqdm(files):\n",
    "    if file.endswith('.csv'):\n",
    "        df = pd.read_csv(input_dir + '/' + file)\n",
    "        df['station_id'] = file.split('_')[-1].split('.')[0]\n",
    "        df_blackout = pd.concat([df_blackout, df])\n",
    "    else:\n",
    "        continue"
   ]
  },
  {
   "cell_type": "code",
   "execution_count": 58,
   "id": "3d4d9176-8c55-4a24-9ae8-ab05085a94c6",
   "metadata": {},
   "outputs": [],
   "source": [
    "df_blackout['hour'] = pd.to_datetime(df_blackout['hour'], format='%Y-%m-%d %H:%M:%S')\n",
    "df_blackout.set_index('hour', inplace=True)"
   ]
  },
  {
   "cell_type": "code",
   "execution_count": 63,
   "id": "8360d655-7fd0-4bf8-8203-1af606dc9624",
   "metadata": {},
   "outputs": [],
   "source": [
    "df_blackout.to_csv(\"df_blackout.csv\")"
   ]
  },
  {
   "cell_type": "markdown",
   "id": "5695addb-989f-439c-9a26-d316a8b36736",
   "metadata": {},
   "source": [
    "# Merge Voltage dataframe with Climate dataframe"
   ]
  },
  {
   "cell_type": "code",
   "execution_count": 65,
   "id": "5340449a-a841-4ad8-9504-dcdae0b6f85a",
   "metadata": {},
   "outputs": [
    {
     "data": {
      "text/html": [
       "<div>\n",
       "<style scoped>\n",
       "    .dataframe tbody tr th:only-of-type {\n",
       "        vertical-align: middle;\n",
       "    }\n",
       "\n",
       "    .dataframe tbody tr th {\n",
       "        vertical-align: top;\n",
       "    }\n",
       "\n",
       "    .dataframe thead th {\n",
       "        text-align: right;\n",
       "    }\n",
       "</style>\n",
       "<table border=\"1\" class=\"dataframe\">\n",
       "  <thead>\n",
       "    <tr style=\"text-align: right;\">\n",
       "      <th></th>\n",
       "      <th>hour</th>\n",
       "      <th>pct_blackout</th>\n",
       "      <th>station_id</th>\n",
       "    </tr>\n",
       "  </thead>\n",
       "  <tbody>\n",
       "    <tr>\n",
       "      <th>0</th>\n",
       "      <td>2015-10-08 00:00:00</td>\n",
       "      <td>0.00</td>\n",
       "      <td>103</td>\n",
       "    </tr>\n",
       "    <tr>\n",
       "      <th>1</th>\n",
       "      <td>2015-10-08 01:00:00</td>\n",
       "      <td>0.00</td>\n",
       "      <td>103</td>\n",
       "    </tr>\n",
       "    <tr>\n",
       "      <th>2</th>\n",
       "      <td>2015-10-08 02:00:00</td>\n",
       "      <td>0.00</td>\n",
       "      <td>103</td>\n",
       "    </tr>\n",
       "    <tr>\n",
       "      <th>3</th>\n",
       "      <td>2015-10-08 03:00:00</td>\n",
       "      <td>0.95</td>\n",
       "      <td>103</td>\n",
       "    </tr>\n",
       "    <tr>\n",
       "      <th>4</th>\n",
       "      <td>2015-10-08 04:00:00</td>\n",
       "      <td>1.00</td>\n",
       "      <td>103</td>\n",
       "    </tr>\n",
       "  </tbody>\n",
       "</table>\n",
       "</div>"
      ],
      "text/plain": [
       "                 hour  pct_blackout station_id\n",
       "0 2015-10-08 00:00:00          0.00        103\n",
       "1 2015-10-08 01:00:00          0.00        103\n",
       "2 2015-10-08 02:00:00          0.00        103\n",
       "3 2015-10-08 03:00:00          0.95        103\n",
       "4 2015-10-08 04:00:00          1.00        103"
      ]
     },
     "execution_count": 65,
     "metadata": {},
     "output_type": "execute_result"
    }
   ],
   "source": [
    "# First, reset the index to make the datetime index a regular column temporarily.\n",
    "df_climate_reset = df_climate.reset_index()\n",
    "df_blackout_reset = df_blackout.reset_index()"
   ]
  },
  {
   "cell_type": "code",
   "execution_count": 71,
   "id": "711ffaa1-8ac3-4d74-8755-118e8507613d",
   "metadata": {},
   "outputs": [],
   "source": [
    "df_blackout_reset.rename(columns={\"hour\": \"datetime\"}, inplace=True)"
   ]
  },
  {
   "cell_type": "code",
   "execution_count": 75,
   "id": "a7208d3c-8fc2-41f2-b133-a56c28be8609",
   "metadata": {},
   "outputs": [],
   "source": [
    "# Merge based on 'station_id' and 'datetime' (which was previously the index).\n",
    "df_merged_outer = pd.merge(df_climate_reset, df_blackout_reset, on=['station_id', 'datetime'], how='outer')"
   ]
  },
  {
   "cell_type": "code",
   "execution_count": 76,
   "id": "144b9e9d-423e-4886-919c-f68885362794",
   "metadata": {},
   "outputs": [],
   "source": [
    "df_merged_inner = pd.merge(df_climate_reset, df_blackout_reset, on=['station_id', 'datetime'], how='inner')"
   ]
  },
  {
   "cell_type": "code",
   "execution_count": 89,
   "id": "454c3b85-475d-4175-a2c3-5d2d0093e82b",
   "metadata": {},
   "outputs": [],
   "source": [
    "df_merged_outer.to_csv(\"df_merged_outer.csv\")"
   ]
  },
  {
   "cell_type": "code",
   "execution_count": 90,
   "id": "050c6709-d790-4746-a721-517ea16ecf55",
   "metadata": {},
   "outputs": [],
   "source": [
    "df_merged_inner.to_csv(\"df_merged_inner.csv\")"
   ]
  },
  {
   "cell_type": "code",
   "execution_count": null,
   "id": "a974db21-f6fa-46c2-b4e6-a60c3ff854f7",
   "metadata": {},
   "outputs": [],
   "source": []
  }
 ],
 "metadata": {
  "kernelspec": {
   "display_name": "india0",
   "language": "python",
   "name": "india0"
  },
  "language_info": {
   "codemirror_mode": {
    "name": "ipython",
    "version": 3
   },
   "file_extension": ".py",
   "mimetype": "text/x-python",
   "name": "python",
   "nbconvert_exporter": "python",
   "pygments_lexer": "ipython3",
   "version": "3.9.19"
  }
 },
 "nbformat": 4,
 "nbformat_minor": 5
}
