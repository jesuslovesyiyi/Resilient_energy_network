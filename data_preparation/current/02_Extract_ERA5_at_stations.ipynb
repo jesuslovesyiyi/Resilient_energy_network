{
 "cells": [
  {
   "cell_type": "code",
   "execution_count": null,
   "id": "5060fc00",
   "metadata": {},
   "outputs": [],
   "source": [
    "# -----********************-----\n",
    "\n",
    "# Created Time: 2024/09/21\n",
    "\n",
    "# Author: Tara Liu, Yiyi He\n",
    "\n",
    "### Use Case\n",
    "\n",
    "# This notebook reads downloaded GRIB files and join weather attributes by location to each station,\n",
    "#  assigning grid data (df) to stations from station_df based on the nearest grid point.\n",
    "\n",
    "### Climate variables:\n",
    "# t2m: Temperature of air at 2m above the surface of land, sea or in-land waters.\n",
    "# u10: Eastward component of the 10m wind.\n",
    "# v10: Northward component of the 10m wind.\n",
    "# tp: Total precipitation. Accumulated liquid and frozen water, including rain and snow, that falls to the Earth's surface.\n",
    "\n",
    "### Method:\n",
    "# scipy.spatial.KDTree for nearest neighbor searches\n",
    "\n",
    "# -----********************-----"
   ]
  },
  {
   "cell_type": "code",
   "execution_count": null,
   "id": "e451098e",
   "metadata": {},
   "outputs": [],
   "source": [
    "# Import libraries\n",
    "import pandas as pd\n",
    "import pygrib\n",
    "import os\n",
    "import numpy as np\n",
    "import cfgrib \n",
    "import xarray as xr\n",
    "import datetime\n",
    "from datetime import datetime\n",
    "from scipy.spatial import KDTree"
   ]
  },
  {
   "cell_type": "code",
   "execution_count": 11,
   "id": "2ba247ee-b732-4578-8be6-d263d24d9b5a",
   "metadata": {},
   "outputs": [],
   "source": [
    "def read_grib_file(file_path):\n",
    "\tgrbs = pygrib.open(file_path)\n",
    "\tfor grb in grbs:\n",
    "\t\tprint(grb)\n",
    "\tgrbs.close()\n",
    "\t\n",
    "\treturn grbs"
   ]
  },
  {
   "cell_type": "code",
   "execution_count": 12,
   "id": "8980ce0d-30df-40f1-89aa-e0bf5157a0bf",
   "metadata": {},
   "outputs": [],
   "source": [
    "def build_kdtree(df):\n",
    "    \"\"\"\n",
    "    Build a KDTree from the gridded dataset.\n",
    "    \n",
    "    Args:\n",
    "        df (pd.DataFrame): DataFrame containing the grib data with lat and lon as the index.\n",
    "\n",
    "    Returns:\n",
    "        KDTree: A KDTree built on lat/lon coordinates.\n",
    "        np.array: Grid points as an array of lat/lon pairs.\n",
    "    \"\"\"\n",
    "    # Ensure lat/lon values are floats and create an array of lat/lon pairs\n",
    "    grid_points = np.array(list(zip(df.index.get_level_values('latitude').astype(float), df.index.get_level_values('longitude').astype(float))))\n",
    "    \n",
    "    # Build and return the KDTree\n",
    "    return KDTree(grid_points), grid_points"
   ]
  },
  {
   "cell_type": "code",
   "execution_count": null,
   "id": "c43c7689",
   "metadata": {},
   "outputs": [],
   "source": [
    "station_file='STATION.csv'\n",
    "station_df = pd.read_csv(station_file)"
   ]
  },
  {
   "cell_type": "code",
   "execution_count": 1,
   "id": "f7144aa3-77c5-49dc-8b07-63b574af7234",
   "metadata": {},
   "outputs": [],
   "source": [
    "for year in range(2013,2025):\n",
    "    input_dir = f'{year}'\n",
    "    output_dir = f'station_by_datetime_csv/{year}'\n",
    "    print(year)\n",
    "    # Check if file already exists\n",
    "    existing_files = set()\n",
    "    for filename in os.listdir(output_dir):\n",
    "        if filename.endswith('.grib'):\n",
    "            # Extract the date and time from the filename (assuming format: era5_land_YYYYMMDD_HHMM.grib)\n",
    "            date_part = filename.split('_')[0]  # Extract YYYYMMDD part\n",
    "            time_part = filename.split('_')[1].replace('.grib', '')  # Extract HHMM part\n",
    "            existing_files.add(f\"{date_part}_{time_part}\")\n",
    "    \n",
    "    for file in os.listdir(input_dir):\n",
    "        if file.endswith('.grib'):\n",
    "            # print(file)\n",
    "            grbs = read_grib_file(os.path.join(input_dir, file))\n",
    "            \n",
    "            date = file.split('_')[2]  # Extract YYYYMMDD part\n",
    "            time = file.split('_')[3].replace('.grib', '')  # Extract HHMM part\n",
    "            date_time = date+'_'+time\n",
    "            \n",
    "            if date_time in existing_files:\n",
    "                continue\n",
    "\n",
    "            else:\n",
    "                \n",
    "                with xr.open_dataset(os.path.join(input_dir, file)) as ds:\n",
    "                    df_raw = ds.to_dataframe()\n",
    "                    df = df_raw.drop(columns=['number', 'time', 'step', 'surface', 'valid_time'])\n",
    "                    # get date and time\n",
    "                    date = file.split('_')[2]\n",
    "                    time = file.split('_')[3].split('.')[0]\n",
    "                    \n",
    "                    df['date'] = date\n",
    "                    df['time'] = time\n",
    "                    # build KDTree\n",
    "                    tree, grid_points = build_kdtree(df)\n",
    "        \n",
    "                    station_coords = station_df[['Lat', 'Lon']].to_numpy()\n",
    "        \n",
    "                    _, nearest_grid_idx = tree.query(station_coords)\n",
    "        \n",
    "                    nearest_grid_points = grid_points[nearest_grid_idx]\n",
    "                    \n",
    "                    nearest_grid_points = [(round(lat, 3), round(lon, 3)) for lat, lon in nearest_grid_points]\n",
    "        \n",
    "                    df.index = pd.MultiIndex.from_tuples([(round(lat, 3), round(lon, 3)) for lat, lon in df.index], names=['lat', 'lon'])\n",
    "        \n",
    "                    nearest_grid_values = df.loc[nearest_grid_points].reset_index()\n",
    "        \n",
    "                    station_df_final = pd.concat([station_df.reset_index(drop=True), nearest_grid_values[['t2m', 'u10', 'v10','tp','date','time']]], axis=1)\n",
    "        \n",
    "                    station_df_final.to_csv(f'{output_dir}/{date}_{time}_station.csv') "
   ]
  },
  {
   "cell_type": "code",
   "execution_count": null,
   "id": "9b6c8ffd-8c50-40a6-a017-5c87611012a3",
   "metadata": {},
   "outputs": [],
   "source": []
  }
 ],
 "metadata": {
  "kernelspec": {
   "display_name": "india0",
   "language": "python",
   "name": "python3"
  },
  "language_info": {
   "codemirror_mode": {
    "name": "ipython",
    "version": 3
   },
   "file_extension": ".py",
   "mimetype": "text/x-python",
   "name": "python",
   "nbconvert_exporter": "python",
   "pygments_lexer": "ipython3",
   "version": "3.9.19"
  }
 },
 "nbformat": 4,
 "nbformat_minor": 5
}
