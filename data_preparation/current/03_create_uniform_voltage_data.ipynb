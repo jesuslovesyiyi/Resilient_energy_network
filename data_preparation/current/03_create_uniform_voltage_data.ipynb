{
 "cells": [
  {
   "cell_type": "code",
   "execution_count": null,
   "metadata": {},
   "outputs": [],
   "source": [
    "# -----********************-----\n",
    "\n",
    "# Created Time: 2025/07/03\n",
    "\n",
    "# Author: Yiyi He, Tiger Peng\n",
    "\n",
    "### Use Case\n",
    "\n",
    "# This notebook create uniform voltage data using the scraped minute-wise voltage data\n",
    "# The two main data sources in this project are the current operating ESMI station data,\n",
    "# which is scraped from the Prayas ESMI website using the india_esmi_scraper.py scraper,\n",
    "# as well as the Harvard Dataverse Data\n",
    "\n",
    "\n",
    "# The Harvard Dataverse Data is formatted in a 60 x n grid, with each row being labelled with an hour in the day, from 0-23,\n",
    "# and each of the columns being a minute of the hour from 0-59.\n",
    "\n",
    "# The scraped data is formatted in two columns, with the time column being the datetime down to the minute,\n",
    "# and the voltage column being the voltage from 0-255.\n",
    "# -----********************-----"
   ]
  },
  {
   "cell_type": "markdown",
   "metadata": {
    "vscode": {
     "languageId": "bat"
    }
   },
   "source": [
    "# Libraries"
   ]
  },
  {
   "cell_type": "code",
   "execution_count": 1,
   "metadata": {},
   "outputs": [],
   "source": [
    "import os\n",
    "import pandas as pd\n",
    "from tqdm import tqdm\n",
    "import shutil\n",
    "from datetime import datetime, timedelta\n",
    "import numpy as np\n",
    "import math"
   ]
  },
  {
   "cell_type": "markdown",
   "metadata": {},
   "source": [
    "# ESMI and Harvard Dataverse ID\n",
    "\n",
    "In addition to having different data formats, the two data sources also use different numbering systems.\n",
    "Harvard Dataverse uses the names of the 528 stations covered in the time period of the dataset, between 2014-2018.\n",
    "The ESMI scraper uses the ESMI ids assigned in the dropdown elements used by the web scraper to select stations on the Prayas website.\n",
    "\n",
    "The India station locations were all cross-referenced (still need to document this), with duplicates and stations outside of the ERA5-land dataset removed. Each of the newly-scraped ESMI stations was given an ID number proceeding 528 (the last number assigned to the Dataverse stations), with duplicates in the Dataverse data removed.\n",
    "\n",
    "After this process, we have ids from 1-572 (with some missing because duplicates were removed), and a uniform data format.\n",
    "\n",
    "These files will all be stored in the india_processing/india_uniform directory, and their IDs can be referenced in the file ESMI_India_538_locations.csv."
   ]
  },
  {
   "cell_type": "markdown",
   "metadata": {},
   "source": [
    "## Converting Dataverse Voltage Data\n",
    "\n",
    "We first need to verify that all of the stations deemed to be in the ERA5 dataset's range is in either the Dataverse dataset or the ESMI dataset."
   ]
  },
  {
   "cell_type": "code",
   "execution_count": 2,
   "metadata": {},
   "outputs": [],
   "source": [
    "def strip_name(name, exceptions = None):\n",
    "    formatted = name.split('-')[0].split('[')[0].strip()\n",
    "    \n",
    "    if exceptions:\n",
    "        return exceptions(formatted) # run the name through the entered exceptions function, if provided\n",
    "    else:\n",
    "        return formatted"
   ]
  },
  {
   "cell_type": "code",
   "execution_count": null,
   "metadata": {},
   "outputs": [],
   "source": [
    "# Import the location information table, which we can use to map between station_id, ESMI_ID, and station names.\n",
    "locations_path = \"../ESMI_India_538_locations.csv\"\n",
    "locations = pd.read_csv(locations_path, dtype={\"ESMI_ID\" : str, \"station_id\" : int}, usecols=[\"station_id\", \"ESMI_ID\", \"Location name\", \"District\", \"State\", \"Lat\", \"Lon\"])\n",
    "locations.rename(columns={\"Location name\": \"station_name\", \"District\" : \"district\", \"State\": \"state\", \"Lat\": \"lat\", \"Lon\": \"lon\"}, inplace=True)\n",
    "locations[\"station_name\"] = locations[\"station_name\"].apply(strip_name)"
   ]
  }
 ],
 "metadata": {
  "kernelspec": {
   "display_name": "Python 3",
   "language": "python",
   "name": "python3"
  },
  "language_info": {
   "codemirror_mode": {
    "name": "ipython",
    "version": 3
   },
   "file_extension": ".py",
   "mimetype": "text/x-python",
   "name": "python",
   "nbconvert_exporter": "python",
   "pygments_lexer": "ipython3",
   "version": "3.9.16"
  }
 },
 "nbformat": 4,
 "nbformat_minor": 2
}
