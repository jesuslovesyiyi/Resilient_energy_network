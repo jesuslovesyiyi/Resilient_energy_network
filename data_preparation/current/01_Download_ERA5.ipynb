{
  "cells": [
    {
      "cell_type": "code",
      "execution_count": null,
      "metadata": {},
      "outputs": [],
      "source": [
        "# -----********************-----\n",
        "\n",
        "# Created Time: 2024/09/06\n",
        "\n",
        "# Author: Tara Liu, Yiyi He\n",
        "\n",
        "### Use Case\n",
        "\n",
        "# This notebook downloads ERA5-land data in GRIB format.\n",
        "# Main function: download_era5_data(start_date, end_date, area, variables, folder_path)\n",
        "\n",
        "# To use: \n",
        "# 1. add your API key\n",
        "# 2. change to desired folder_path\n",
        "# 3. input main function params\n",
        "\n",
        "# -----********************-----"
      ]
    },
    {
      "cell_type": "code",
      "execution_count": 1,
      "metadata": {
        "colab": {
          "base_uri": "https://localhost:8080/"
        },
        "id": "o5huO0jjJp4d",
        "outputId": "be963542-fcf8-4e62-8717-2d6bc32ab643"
      },
      "outputs": [],
      "source": [
        "# Import libraries\n",
        "import cdsapi\n",
        "import os\n",
        "import time\n",
        "from datetime import datetime, timedelta"
      ]
    },
    {
      "cell_type": "code",
      "execution_count": 2,
      "metadata": {
        "colab": {
          "base_uri": "https://localhost:8080/"
        },
        "id": "1yDIckNTKEIH",
        "outputId": "3d57cca2-8072-4c7d-bec1-9851daea9165"
      },
      "outputs": [],
      "source": [
        "# Create configuration file\n",
        "def create_cdsapirc_in_home(content=\"\"):\n",
        "    \"\"\"\n",
        "    Creates or updates the .cdsapirc file in the user's home directory.\n",
        "    \"\"\"\n",
        "    home_dir = os.path.expanduser(\"~\")\n",
        "    cdsapirc_path = os.path.join(home_dir, \".cdsapirc\")\n",
        "\n",
        "    try:\n",
        "        with open(cdsapirc_path, 'w') as f:\n",
        "            f.write(content)\n",
        "        print(f\"File '{cdsapirc_path}' created/updated successfully.\")\n",
        "    except Exception as e:\n",
        "        print(f\"Error creating/updating '{cdsapirc_path}': {e}\")\n"
      ]
    },
    {
      "cell_type": "code",
      "execution_count": 12,
      "metadata": {},
      "outputs": [
        {
          "name": "stdout",
          "output_type": "stream",
          "text": [
            "File '/Users/yiyi/.cdsapirc' created/updated successfully.\n"
          ]
        }
      ],
      "source": [
        "# Populate configuration file with url and api key\n",
        "if __name__ == \"__main__\":\n",
        "    config_content = \"\"\"\n",
        "url: https://cds.climate.copernicus.eu/api\n",
        "key: 034022d1-0a8d-404b-86c3-b14a01b7c1bd\n",
        "\"\"\"\n",
        "    create_cdsapirc_in_home(config_content)"
      ]
    },
    {
      "cell_type": "code",
      "execution_count": 28,
      "metadata": {
        "colab": {
          "background_save": true,
          "base_uri": "https://localhost:8080/",
          "referenced_widgets": [
            "87d482495d5b422f8d1c29ee57848364",
            "b5d9b494ea314fbebb96b41164344a12",
            "3d6bc5bf72cc4ea6bb992b1003e1d358",
            "b1e1f829f5bc4fdbb7b8ef8b1ee092d0",
            "c225433df4a74539beeef95c04ab6987",
            "3300f687cae242e59456dbc8570e6465",
            "e1914100cd554e3c933ed31a85a6b0b4",
            "88d7a3b8f5f54f1cb397fde0a4ab0f57",
            "18ef6bcd006b429f8891791d043d38e2",
            "aa9e2b0411514a4eb9a878c192ced66d",
            "59e56ec5fad94669b3faea8972f1952a",
            "7982e2186c6349478237b1000c270734",
            "213174075f0b46dbb97243b2b5f08407",
            "31c29416533a4bb1896520278b08ae43",
            "8d271089ac1d4240a05569c7431f2357",
            "239d7d4b278f4f1c921ce6bea6e8a046",
            "53d5cd2dd0104f08bf451abb5638333e",
            "2f4c4e22f3a84f9e87025bc471250151",
            "225558bcad624426b462cc842c232e51",
            "cbc2f41330f64a168c4098c3225071fc",
            "2acadde2b64e43f9bee33af9907debb8",
            "2be2c770bc57460e88f09f8e8efc3f56",
            "4f3212270bc64a90b3b46577fe8db810",
            "53d96cd276ca45309d4fc91d295f34f7",
            "1e903d30132749d0837df6830d5fbe6d",
            "d34977fac9284dd588242afe06e9f71b",
            "82ac5733519c4da8b37584c514a1b328",
            "4c88cb2a42d04ac08f9cb45dc9028ad6",
            "6aea52c525e84b40be0d63be5b83fe7c",
            "a397a290622048b6a8fb4f3a1508b725",
            "c501091a27a34a9f84c3bb615e34dec0",
            "1f87fb1caac54633bf59b20895e752ad",
            "519f598df23b42b29c15d4231a3aee6b",
            "c555e9bbd20849838f92fd9ed0e33d08",
            "22c6e1e3c3144246ac614ca73a348afb",
            "ed34ad9cdc104d68b1d47f7d79436981",
            "2d30b5b14f6547d59fdca135ba5bfd9c",
            "17ebf7c6acfa442c8467ca098bb2ff9c",
            "97c486a06f3c48e388af876ec65d6884",
            "6166f2bcfddd45c185192dc5d6dbcdbd",
            "21e927b261f249ad910e37c33cf30a9e",
            "5e108113357447e3b34aecc7f8b0b442",
            "614d247b8e3b49a892d342aebad3ba2f",
            "f65fa5aabea7489caa19ada431ec41f8",
            "c178c215bcf742b4affcccf961aa6590",
            "5254f57773b744039e9460fd89b42619",
            "d42534541e36407dae810a397d9b9df2",
            "8bfe58331fb646ac81ca00036d642eea",
            "feffc3fa27e34c98932acd9c4dba4bd3",
            "a5dd58070ac2458f81f6ebcd247216f0",
            "6b36d59978f74594bdd8f69219b72ec2",
            "9b0678e043414104b0b3ec18a363091e",
            "a13ff87d820849099887f12b3455bbd5",
            "94b0f3eeb62a470ba62c4bbca431c497",
            "239995d5ea8545419e603c9de8531cbc",
            "3aafc6ab538246a78fb65b390ac93854",
            "6ca2edac04c54f8bb0146d8d4162a8c4",
            "bba94cdd7a1b4e42890bd6c2c86d0813",
            "a366d758deab4385b085c48fd52bf20e",
            "5ac60168c96b487ca256dd61573ee4be",
            "84b934570ddc408c844a7ee73174d654",
            "510d231ea2a844499fc0834a4a5c9523",
            "65e07e1123a44a35a74ae737a00bdcf7",
            "aec41936696841c99632fc68e7c4feb7",
            "58424a5df1a34a94ad5772fe13ce4ef9",
            "5fcff01ce0f54da7b088baeec6f4cfc2",
            "c72433545557436da207df42b1a3e971",
            "58299f0ec6f64dd2bd76c32f638ac214",
            "a16e7d4d2d0a4bad9d2a453c87fb0ec9",
            "63596e8fd3674541aaafb8cfba06a27f",
            "b81a561f3a694a9cb4e751a6c508ef01",
            "bf7e5145114c485aa87be9daa55a302b",
            "08defe29cd394145b39a7de41c2e1eb4",
            "bd97e118126e4f6fa61fe189586d479d",
            "e5f77d23f2d64b7c81494f1128915c05",
            "d5d0ebf1e4bb4d5c98a39b4f0e3de87f",
            "ae63b5fb12d2499394a9a1bf6df53608",
            "e6a8f32263534ca5b7bccc0f9622d103",
            "9b8c150cfc7346cc952494fb1c878eff",
            "bc13037449c348f7ae1a75fef249905b",
            "a74cfa32c65b4a918d739d952e3929cc",
            "5280a8d780f442b48e98b5681836f47c",
            "c326bfd155fe428496a07bf12f55af3c",
            "41c25a1afe7d4d0f9ed909c12835f8b2",
            "48cf87b621da44a0bdbce23de52048ee",
            "be53fc1943034b308d61fb2fdcb4a325",
            "94a2e77045654a428660c65e15af3943",
            "52d403b9e49a422ba2b95c818b5f8bcf",
            "87536eab739841a6bfae71d73b84447a",
            "06e1566ba14a49ab99cee2ea0a87fc82",
            "9d4db94ec78c4381a7c4af0beb27fff4",
            "30583a3d7af64d13a6afc82baacaaeac",
            "44ee98fc3279410b897097f71e8a1d89",
            "ad3469c4d5b04975ad9c3af5748ea03d",
            "4015f5e66290484cbdfeec0929e1cfcd",
            "42e60648b992427b859dceb47df95524",
            "44e0fb71a6414f789e78a73723ae5a2f",
            "0d510db48e3f446ead70541501bb4938",
            "53b66f1334854938a82e66c0630802ee",
            "cb9fc461cc7a44c1bbe957aaa0e79406",
            "461e8be36a394e61b1099b1be7bbfcb7",
            "e73d30a039274360928743d2be953983",
            "ab696766252a4ec8a4ba90953641d983",
            "f60e35a00ab44c93806b1e8f2efe96fb",
            "1964a373ffb74d7a92f9c70e702ecd2c",
            "afda6704e9524898aebbd7c80ca7a14b",
            "afada0ece9f741b8ac699705872f8f17",
            "f24e589f0d274c6aa2b7603453c506c8",
            "d359cd81e6e54457b50f209c8085d42d",
            "f98d83ae13904ce6b01e54b799509ad2",
            "e35d6d95fb69406988ab7b1d0b8c8ef9",
            "e986866b60d2457c8a915fbc6e197fa2",
            "f628e5b707044f50b74e703ac637809d",
            "41439e3bcc55423e8a0ff271b7f7563a",
            "432ceb53afb345278e77d30cd31b906d",
            "1d27e8804ebe48978d14838ab5b930d2",
            "30ebb52512674f2991b0d09037df9b2d",
            "9adae6e4382744a6b38211dfb3ea30ab",
            "a6bc8a077a0f4712ba92468b17fc3e08",
            "bd2631784cca413d991aeed36578e5a4",
            "937e3d962f4141d9bf628e2f5f9ba68c",
            "8dcab3bce15d4fe7b111a8ecaa5715d2",
            "75c0dd2e040f4e38b86705b057a8b8e7",
            "a56255ea54a7492cb8c9613fe5ac0e5c",
            "70beec535c9a454e800751b7458bd8a3",
            "20783e41a0c54ca9b81a92fa1f7ed510",
            "12a43de48bac4c8babe069e493a197b6",
            "8c009c9514174045a5156540c06d28ef",
            "e73c5ec47c8344c9a241e2afcd049e7a",
            "c7babbc929c8462288b2a9b2ed089ab9",
            "1260e818608d4cf5a99b6170fd68458c",
            "e5462b1dc1624d4ca09e2e033d64f067",
            "46b0f6fb660c4a5a815d0c1c7968b469",
            "cf9f000e19c74719aaa6e2baf270db4c",
            "f95c83485041490e9dbfad5add25b75f",
            "db7bef16fa7d4b5b98e52ca7dd4a8cb6",
            "3770501ee5924604893a4ccbcaa4249b",
            "bc2a68a66efe44c2aca931377fd0d418",
            "936feff53bbb4ec9978c810b8a05fbdf",
            "2c9ccaf9ef8d4a0aadbbfbb55506c27e",
            "33539d3f1347481ebfdfbd7468e69de7",
            "02bd4443388c43029114d35751dfba58",
            "c22e651153384e75aa341c00702a50b1",
            "65914d7ca9964a62958e205fecb67f1b",
            "e29604cd267e4930b2fbeff6397aaf90",
            "9fa88f1c3c0e49ae8a8ea377fd106694",
            "39c696b390b44146ad3083815614385f",
            "fd0d5084759e4b1fb5b643b2ef96148a",
            "f8d7ee650a4844faaf8fdef78228d09b",
            "a06fb5f39c7f4c8297bb458f8444127e",
            "449bf54a4dad4baaaff5bb0495ad2771",
            "24770ab3d3df4e93b0ff53ac83d3af39",
            "e7d32602638546239014ab126fc0ae2e",
            "522a2f83996140749717029700cab777",
            "6f3b7d6938c949e48be4523cc9a815ed",
            "a0f235af3dcd4141bc5b77c638e9a174",
            "98c0cf8db1b04327b3c336d24fc49b7c",
            "e18ef391d3444f8fad7aa6714509fb06",
            "013b319bbe184a8f892221c75b0a877a",
            "06bc1bc3882940849b4fefb5600d605a",
            "53a8552e3115498c827d4c0c05c0993a",
            "37c068063ab84d11a96ae6d28fafd6e5",
            "a9c2193a1acd455fae36d7f6b282b7b7",
            "ac3037126b334798b1958f2999ba3c6d",
            "393619a2f4af4de1bedb5708d16e763d",
            "4b5a01d3aaa94a1199db0fcdff944ad2",
            "438dcc4206dd45e4a659e234ccafec15",
            "0209d7a6eeea41f6b149c353c32b8113",
            "1a2dc178ef9f416b91b24f53dfa87296",
            "d78b58237ad243aea518c3002c7b1717",
            "3eafd1d0bbb84f28990332e6600cb0d6",
            "653b7b47bf88489e94e5c84d3fe16cb1",
            "527baada4469424aaf2aa36872f1d73e",
            "85b9cbda6b8a4240931df5ffa153b371",
            "353a8be8cd394222b40a167aa306c578",
            "726e626f14094a0a98f1cd4a25892f85",
            "5cef6aae79a748ad901290ef6d2c1e9d",
            "6ef71713d47d4a6a9ac95ba1c3b7fcdf",
            "76f2490879f74576b645e06548a853cc",
            "a3eb8383604448f099f80be374f06810",
            "f6bee85ccb6c4157a8f21ada327030a6",
            "bcd4a43416764d529361f96537288f77",
            "b0ff739f4e634fb19346cdb11d8e6ff3",
            "200ee28adfc54c71bf8181104a2cbbce",
            "ff195ce2ee6148ca866e5dc860aeb449",
            "9b3f5274a2da4803a3d14107422be4ab",
            "407cdff908514301b9c481dbc2ff271e",
            "15870a998b644ad29ecde8c38adbbb75",
            "428ed7b3dda2462591a33fd85039dcfd",
            "49da33fefb1248df962dbb036fc77c70"
          ]
        },
        "id": "Y-j13z3ILc0G",
        "outputId": "7d9f1636-b22a-4e03-e525-44f0e90d775e"
      },
      "outputs": [],
      "source": [
        "# Initialize \n",
        "c = cdsapi.Client()\n",
        "\n",
        "# Define the folder path where the GRIB files will be saved\n",
        "folder_path = '/Users/yiyi/Library/CloudStorage/OneDrive-GeorgiaInstituteofTechnology(2)/Research/Energy_resilience/01_data/raw/ERA5_GRIB/2025/'\n",
        "\n",
        "# Ensure the folder exists (create if necessary)\n",
        "os.makedirs(folder_path, exist_ok=True)\n",
        "\n",
        "def get_existing_files(folder):\n",
        "    \"\"\"Get a set of filenames that already exist in the folder, and return them with their date and time.\"\"\"\n",
        "    existing_files = set()\n",
        "    for filename in os.listdir(folder):\n",
        "        if filename.endswith('.grib'):\n",
        "            # Extract the date and time from the filename (assuming format: era5_land_YYYYMMDD_HHMM.grib)\n",
        "            date_part = filename.split('_')[2]  # Extract YYYYMMDD part\n",
        "            time_part = filename.split('_')[3].replace('.grib', '')  # Extract HHMM part\n",
        "            existing_files.add(f\"{date_part}_{time_part}\")\n",
        "    return existing_files\n",
        "\n",
        "def print_existing_files_range(existing_files):\n",
        "    \"\"\"Print the date range of the existing files.\"\"\"\n",
        "    if not existing_files:\n",
        "        print(\"No existing files found.\")\n",
        "        return\n",
        "    dates = sorted([datetime.strptime(f\"{f[:8]} {f[9:]}00\", \"%Y%m%d %H%M%S\") for f in existing_files])\n",
        "    print(f\"Existing files cover from {dates[0]} to {dates[-1]}\")\n",
        "\n",
        "def download_era5_data(start_date, end_date, area, variables, folder_path):\n",
        "    \"\"\"\n",
        "    \n",
        "    Downloads ERA5 data for a specified date range and all hours of the day.\n",
        "    Skips downloading if the file already exists.\n",
        "\n",
        "    params:\n",
        "\n",
        "    start_date: datetime object, the start date of the range\n",
        "    end_date: datetime object, the end date of the range\n",
        "    area: list of floats, the bounding box coordinates [N, W, S, E]\n",
        "    variables: str, the variables to download\n",
        "    folder_path: str, the folder path to save the GRIB files\n",
        "\n",
        "\n",
        "    \"\"\"\n",
        "    # Get existing files\n",
        "    existing_files = get_existing_files(folder_path)\n",
        "    print_existing_files_range(existing_files)\n",
        "\n",
        "    # Loop through each day in the range\n",
        "    current_date = start_date\n",
        "    while current_date <= end_date:\n",
        "        # Extract the year, month, and day\n",
        "        year = current_date.strftime('%Y')\n",
        "        month = current_date.strftime('%m')\n",
        "        day = current_date.strftime('%d')\n",
        "\n",
        "        # Loop through all hours (00:00 to 23:00)\n",
        "        for hour in range(24):\n",
        "            # Format the hour as two digits\n",
        "            hour_str = f\"{hour:02d}:00\"\n",
        "            hour_for_filename = f\"{hour:02d}00\"\n",
        "\n",
        "            # Filename for the GRIB file with the date and hour in the name\n",
        "            filename = os.path.join(folder_path, f\"era5_land_{year}{month}{day}_{hour_for_filename}.grib\")\n",
        "\n",
        "            # Check if the file already exists\n",
        "            file_key = f\"{year}{month}{day}_{hour_for_filename}\"\n",
        "            if file_key in existing_files:\n",
        "                print(f\"File for {year}-{month}-{day} {hour_str} already exists. Skipping download.\")\n",
        "                continue\n",
        "\n",
        "            # Make the API call to retrieve data for the specific day and hour\n",
        "            c.retrieve(\n",
        "                'reanalysis-era5-land',\n",
        "                {\n",
        "                    'variable': variables,\n",
        "                    'year': year,\n",
        "                    'month': month,\n",
        "                    'day': [day],\n",
        "                    'time': [hour_str],  # Request for this specific hour\n",
        "                    'area': area,\n",
        "                    'data_format': 'grib',\n",
        "                    \"download_format\": \"unarchived\"\n",
        "                },\n",
        "                filename\n",
        "            )\n",
        "\n",
        "            # Print a message when the file is saved\n",
        "            print(f\"Downloaded data for {year}-{month}-{day} {hour_str} and saved as {filename}\")\n",
        "\n",
        "        # Move to the next day\n",
        "        current_date += timedelta(days=1)\n",
        "\n"
      ]
    },
    {
      "cell_type": "code",
      "execution_count": null,
      "metadata": {},
      "outputs": [
        {
          "name": "stdout",
          "output_type": "stream",
          "text": [
            "No existing files found.\n"
          ]
        },
        {
          "name": "stderr",
          "output_type": "stream",
          "text": [
            "2025-07-09 15:31:44,405 INFO Request ID is ed2c316a-573a-4882-9711-b473d03953ea\n",
            "2025-07-09 15:31:44,575 INFO status has been updated to accepted\n",
            "2025-07-09 15:31:57,530 INFO status has been updated to running\n",
            "2025-07-09 15:32:05,279 INFO status has been updated to successful\n",
            "                                                                                        \r"
          ]
        },
        {
          "name": "stdout",
          "output_type": "stream",
          "text": [
            "Downloaded data for 2025-01-01 00:00 and saved as /Users/yiyi/Library/CloudStorage/OneDrive-GeorgiaInstituteofTechnology(2)/Research/Energy_resilience/01_data/raw/ERA5_GRIB/2025/era5_land_20250101_0000.grib\n"
          ]
        },
        {
          "name": "stderr",
          "output_type": "stream",
          "text": [
            "2025-07-09 15:32:07,016 INFO Request ID is 250eedfa-b4f6-4174-b990-e0cf972f49e0\n",
            "2025-07-09 15:32:07,196 INFO status has been updated to accepted\n",
            "2025-07-09 15:32:19,978 INFO status has been updated to running\n",
            "2025-07-09 15:32:27,714 INFO status has been updated to successful\n",
            "                                                                                        \r"
          ]
        },
        {
          "name": "stdout",
          "output_type": "stream",
          "text": [
            "Downloaded data for 2025-01-01 01:00 and saved as /Users/yiyi/Library/CloudStorage/OneDrive-GeorgiaInstituteofTechnology(2)/Research/Energy_resilience/01_data/raw/ERA5_GRIB/2025/era5_land_20250101_0100.grib\n"
          ]
        },
        {
          "name": "stderr",
          "output_type": "stream",
          "text": [
            "2025-07-09 15:32:29,401 INFO Request ID is d47c0ecd-da7f-43c6-a1ed-8e45d58aef70\n",
            "2025-07-09 15:32:29,583 INFO status has been updated to accepted\n",
            "2025-07-09 15:32:37,167 INFO status has been updated to running\n",
            "2025-07-09 15:32:50,172 INFO status has been updated to successful\n",
            "                                                                                        \r"
          ]
        },
        {
          "name": "stdout",
          "output_type": "stream",
          "text": [
            "Downloaded data for 2025-01-01 02:00 and saved as /Users/yiyi/Library/CloudStorage/OneDrive-GeorgiaInstituteofTechnology(2)/Research/Energy_resilience/01_data/raw/ERA5_GRIB/2025/era5_land_20250101_0200.grib\n"
          ]
        },
        {
          "name": "stderr",
          "output_type": "stream",
          "text": [
            "2025-07-09 15:32:52,152 INFO Request ID is d4fb85a1-3dc0-4339-8e60-5eb1eaf9bed7\n",
            "2025-07-09 15:32:52,319 INFO status has been updated to accepted\n",
            "2025-07-09 15:32:59,973 INFO status has been updated to running\n",
            "2025-07-09 15:33:05,196 INFO status has been updated to successful\n",
            "                                                                                        \r"
          ]
        },
        {
          "name": "stdout",
          "output_type": "stream",
          "text": [
            "Downloaded data for 2025-01-01 03:00 and saved as /Users/yiyi/Library/CloudStorage/OneDrive-GeorgiaInstituteofTechnology(2)/Research/Energy_resilience/01_data/raw/ERA5_GRIB/2025/era5_land_20250101_0300.grib\n"
          ]
        },
        {
          "name": "stderr",
          "output_type": "stream",
          "text": [
            "2025-07-09 15:33:06,955 INFO Request ID is ae147a7e-e167-4f09-b56a-9019830c67f1\n",
            "2025-07-09 15:33:07,134 INFO status has been updated to accepted\n",
            "2025-07-09 15:33:14,743 INFO status has been updated to running\n",
            "2025-07-09 15:33:19,949 INFO status has been updated to successful\n",
            "2025-07-09 15:33:21,743 INFO Request ID is bf7af220-ed10-414a-a371-23638c061491         \n"
          ]
        },
        {
          "name": "stdout",
          "output_type": "stream",
          "text": [
            "Downloaded data for 2025-01-01 04:00 and saved as /Users/yiyi/Library/CloudStorage/OneDrive-GeorgiaInstituteofTechnology(2)/Research/Energy_resilience/01_data/raw/ERA5_GRIB/2025/era5_land_20250101_0400.grib\n"
          ]
        },
        {
          "name": "stderr",
          "output_type": "stream",
          "text": [
            "2025-07-09 15:33:21,878 INFO status has been updated to accepted\n",
            "2025-07-09 15:33:29,416 INFO status has been updated to running\n",
            "2025-07-09 15:33:34,626 INFO status has been updated to successful\n",
            "2025-07-09 15:33:36,287 INFO Request ID is 8045fb8b-8589-4e6d-9847-94d77f329a07         \n"
          ]
        },
        {
          "name": "stdout",
          "output_type": "stream",
          "text": [
            "Downloaded data for 2025-01-01 05:00 and saved as /Users/yiyi/Library/CloudStorage/OneDrive-GeorgiaInstituteofTechnology(2)/Research/Energy_resilience/01_data/raw/ERA5_GRIB/2025/era5_land_20250101_0500.grib\n"
          ]
        },
        {
          "name": "stderr",
          "output_type": "stream",
          "text": [
            "2025-07-09 15:33:36,661 INFO status has been updated to accepted\n",
            "2025-07-09 15:33:44,219 INFO status has been updated to running\n",
            "2025-07-09 15:33:49,439 INFO status has been updated to successful\n",
            "                                                                                        \r"
          ]
        },
        {
          "name": "stdout",
          "output_type": "stream",
          "text": [
            "Downloaded data for 2025-01-01 06:00 and saved as /Users/yiyi/Library/CloudStorage/OneDrive-GeorgiaInstituteofTechnology(2)/Research/Energy_resilience/01_data/raw/ERA5_GRIB/2025/era5_land_20250101_0600.grib\n"
          ]
        },
        {
          "name": "stderr",
          "output_type": "stream",
          "text": [
            "2025-07-09 15:33:51,291 INFO Request ID is ece01231-c6cd-4f6d-9333-bd3506193255\n",
            "2025-07-09 15:33:51,456 INFO status has been updated to accepted\n",
            "2025-07-09 15:33:55,495 INFO status has been updated to running\n",
            "2025-07-09 15:34:04,446 INFO status has been updated to successful\n",
            "2025-07-09 15:34:06,135 INFO Request ID is 3702b6b1-b268-4611-8a61-ff34d129bc06         \n"
          ]
        },
        {
          "name": "stdout",
          "output_type": "stream",
          "text": [
            "Downloaded data for 2025-01-01 07:00 and saved as /Users/yiyi/Library/CloudStorage/OneDrive-GeorgiaInstituteofTechnology(2)/Research/Energy_resilience/01_data/raw/ERA5_GRIB/2025/era5_land_20250101_0700.grib\n"
          ]
        },
        {
          "name": "stderr",
          "output_type": "stream",
          "text": [
            "2025-07-09 15:34:06,415 INFO status has been updated to accepted\n",
            "2025-07-09 15:34:14,007 INFO status has been updated to running\n",
            "2025-07-09 15:34:19,230 INFO status has been updated to successful\n",
            "2025-07-09 15:34:20,922 INFO Request ID is 55634f04-659d-443f-ac8e-73810be94ef9         \n"
          ]
        },
        {
          "name": "stdout",
          "output_type": "stream",
          "text": [
            "Downloaded data for 2025-01-01 08:00 and saved as /Users/yiyi/Library/CloudStorage/OneDrive-GeorgiaInstituteofTechnology(2)/Research/Energy_resilience/01_data/raw/ERA5_GRIB/2025/era5_land_20250101_0800.grib\n"
          ]
        },
        {
          "name": "stderr",
          "output_type": "stream",
          "text": [
            "2025-07-09 15:34:21,058 INFO status has been updated to accepted\n",
            "2025-07-09 15:34:28,747 INFO status has been updated to running\n",
            "2025-07-09 15:34:33,950 INFO status has been updated to accepted\n",
            "2025-07-09 15:34:41,693 INFO status has been updated to successful\n",
            "2025-07-09 15:34:43,354 INFO Request ID is 5c530852-a057-4a62-a391-43daca3a63af         \n"
          ]
        },
        {
          "name": "stdout",
          "output_type": "stream",
          "text": [
            "Downloaded data for 2025-01-01 09:00 and saved as /Users/yiyi/Library/CloudStorage/OneDrive-GeorgiaInstituteofTechnology(2)/Research/Energy_resilience/01_data/raw/ERA5_GRIB/2025/era5_land_20250101_0900.grib\n"
          ]
        },
        {
          "name": "stderr",
          "output_type": "stream",
          "text": [
            "2025-07-09 15:34:43,490 INFO status has been updated to accepted\n",
            "2025-07-09 15:34:56,277 INFO status has been updated to running\n",
            "2025-07-09 15:35:04,028 INFO status has been updated to successful\n",
            "                                                                                        \r"
          ]
        },
        {
          "name": "stdout",
          "output_type": "stream",
          "text": [
            "Downloaded data for 2025-01-01 10:00 and saved as /Users/yiyi/Library/CloudStorage/OneDrive-GeorgiaInstituteofTechnology(2)/Research/Energy_resilience/01_data/raw/ERA5_GRIB/2025/era5_land_20250101_1000.grib\n"
          ]
        },
        {
          "name": "stderr",
          "output_type": "stream",
          "text": [
            "2025-07-09 15:35:05,780 INFO Request ID is f95afac2-b045-45da-a5d2-e447a2730331\n",
            "2025-07-09 15:35:05,935 INFO status has been updated to accepted\n",
            "2025-07-09 15:35:13,523 INFO status has been updated to running\n",
            "2025-07-09 15:35:18,729 INFO status has been updated to successful\n",
            "                                                                                        \r"
          ]
        },
        {
          "name": "stdout",
          "output_type": "stream",
          "text": [
            "Downloaded data for 2025-01-01 11:00 and saved as /Users/yiyi/Library/CloudStorage/OneDrive-GeorgiaInstituteofTechnology(2)/Research/Energy_resilience/01_data/raw/ERA5_GRIB/2025/era5_land_20250101_1100.grib\n"
          ]
        },
        {
          "name": "stderr",
          "output_type": "stream",
          "text": [
            "2025-07-09 15:35:20,485 INFO Request ID is c99ea5ce-b3ba-46b7-9973-7fa53a0d7d52\n",
            "2025-07-09 15:35:20,633 INFO status has been updated to accepted\n",
            "2025-07-09 15:35:28,234 INFO status has been updated to running\n",
            "2025-07-09 15:35:33,480 INFO status has been updated to successful\n",
            "                                                                                       \r"
          ]
        },
        {
          "name": "stdout",
          "output_type": "stream",
          "text": [
            "Downloaded data for 2025-01-01 12:00 and saved as /Users/yiyi/Library/CloudStorage/OneDrive-GeorgiaInstituteofTechnology(2)/Research/Energy_resilience/01_data/raw/ERA5_GRIB/2025/era5_land_20250101_1200.grib\n"
          ]
        },
        {
          "name": "stderr",
          "output_type": "stream",
          "text": [
            "2025-07-09 15:35:35,317 INFO Request ID is f9cee42f-bbf9-4d68-9028-d0e5384d9d70\n",
            "2025-07-09 15:35:35,514 INFO status has been updated to accepted\n",
            "2025-07-09 15:35:43,098 INFO status has been updated to running\n",
            "2025-07-09 15:35:48,302 INFO status has been updated to successful\n",
            "2025-07-09 15:35:49,986 INFO Request ID is 431191a3-b982-4fb6-b681-525c42248dd8         \n"
          ]
        },
        {
          "name": "stdout",
          "output_type": "stream",
          "text": [
            "Downloaded data for 2025-01-01 13:00 and saved as /Users/yiyi/Library/CloudStorage/OneDrive-GeorgiaInstituteofTechnology(2)/Research/Energy_resilience/01_data/raw/ERA5_GRIB/2025/era5_land_20250101_1300.grib\n"
          ]
        },
        {
          "name": "stderr",
          "output_type": "stream",
          "text": [
            "2025-07-09 15:35:50,159 INFO status has been updated to accepted\n",
            "2025-07-09 15:35:57,797 INFO status has been updated to running\n",
            "2025-07-09 15:36:10,766 INFO status has been updated to successful\n",
            "2025-07-09 15:36:12,457 INFO Request ID is c22f319a-6e2a-40e2-9d63-1186b4015ec1        \n"
          ]
        },
        {
          "name": "stdout",
          "output_type": "stream",
          "text": [
            "Downloaded data for 2025-01-01 14:00 and saved as /Users/yiyi/Library/CloudStorage/OneDrive-GeorgiaInstituteofTechnology(2)/Research/Energy_resilience/01_data/raw/ERA5_GRIB/2025/era5_land_20250101_1400.grib\n"
          ]
        },
        {
          "name": "stderr",
          "output_type": "stream",
          "text": [
            "2025-07-09 15:36:12,609 INFO status has been updated to accepted\n",
            "2025-07-09 15:36:20,164 INFO status has been updated to running\n",
            "2025-07-09 15:36:25,366 INFO status has been updated to successful\n",
            "2025-07-09 15:36:27,080 INFO Request ID is ad022720-9170-4be4-8714-cb2c74d46747         \n"
          ]
        },
        {
          "name": "stdout",
          "output_type": "stream",
          "text": [
            "Downloaded data for 2025-01-01 15:00 and saved as /Users/yiyi/Library/CloudStorage/OneDrive-GeorgiaInstituteofTechnology(2)/Research/Energy_resilience/01_data/raw/ERA5_GRIB/2025/era5_land_20250101_1500.grib\n"
          ]
        },
        {
          "name": "stderr",
          "output_type": "stream",
          "text": [
            "2025-07-09 15:36:27,215 INFO status has been updated to accepted\n",
            "2025-07-09 15:36:39,952 INFO status has been updated to running\n",
            "2025-07-09 15:36:47,707 INFO status has been updated to successful\n",
            "2025-07-09 15:36:49,550 INFO Request ID is 7ede210d-4e40-43e1-a3f0-9c75bc08f3a5         \n"
          ]
        },
        {
          "name": "stdout",
          "output_type": "stream",
          "text": [
            "Downloaded data for 2025-01-01 16:00 and saved as /Users/yiyi/Library/CloudStorage/OneDrive-GeorgiaInstituteofTechnology(2)/Research/Energy_resilience/01_data/raw/ERA5_GRIB/2025/era5_land_20250101_1600.grib\n"
          ]
        },
        {
          "name": "stderr",
          "output_type": "stream",
          "text": [
            "2025-07-09 15:36:49,766 INFO status has been updated to accepted\n",
            "2025-07-09 15:37:02,641 INFO status has been updated to running\n",
            "2025-07-09 15:37:10,374 INFO status has been updated to successful\n",
            "                                                                                       \r"
          ]
        },
        {
          "name": "stdout",
          "output_type": "stream",
          "text": [
            "Downloaded data for 2025-01-01 17:00 and saved as /Users/yiyi/Library/CloudStorage/OneDrive-GeorgiaInstituteofTechnology(2)/Research/Energy_resilience/01_data/raw/ERA5_GRIB/2025/era5_land_20250101_1700.grib\n"
          ]
        },
        {
          "name": "stderr",
          "output_type": "stream",
          "text": [
            "2025-07-09 15:37:12,558 INFO Request ID is 5447e4b2-1edc-4674-8a70-6ab1e804e57a\n",
            "2025-07-09 15:37:12,690 INFO status has been updated to accepted\n",
            "2025-07-09 15:37:25,468 INFO status has been updated to running\n",
            "2025-07-09 15:37:33,218 INFO status has been updated to successful\n",
            "                                                                                        \r"
          ]
        },
        {
          "name": "stdout",
          "output_type": "stream",
          "text": [
            "Downloaded data for 2025-01-01 18:00 and saved as /Users/yiyi/Library/CloudStorage/OneDrive-GeorgiaInstituteofTechnology(2)/Research/Energy_resilience/01_data/raw/ERA5_GRIB/2025/era5_land_20250101_1800.grib\n"
          ]
        },
        {
          "name": "stderr",
          "output_type": "stream",
          "text": [
            "2025-07-09 15:37:34,973 INFO Request ID is 3c13c838-95dd-445b-9509-5f62bf3e1099\n",
            "2025-07-09 15:37:35,117 INFO status has been updated to accepted\n",
            "2025-07-09 15:37:42,750 INFO status has been updated to running\n",
            "2025-07-09 15:37:47,957 INFO status has been updated to successful\n",
            "                                                                                        \r"
          ]
        },
        {
          "name": "stdout",
          "output_type": "stream",
          "text": [
            "Downloaded data for 2025-01-01 19:00 and saved as /Users/yiyi/Library/CloudStorage/OneDrive-GeorgiaInstituteofTechnology(2)/Research/Energy_resilience/01_data/raw/ERA5_GRIB/2025/era5_land_20250101_1900.grib\n"
          ]
        },
        {
          "name": "stderr",
          "output_type": "stream",
          "text": [
            "2025-07-09 15:37:49,774 INFO Request ID is 1b9294d3-88d9-48c2-aa29-8653b8fa2ec7\n",
            "2025-07-09 15:37:50,008 INFO status has been updated to accepted\n",
            "2025-07-09 15:38:02,982 INFO status has been updated to running\n",
            "2025-07-09 15:38:10,712 INFO status has been updated to successful\n",
            "                                                                                        \r"
          ]
        },
        {
          "name": "stdout",
          "output_type": "stream",
          "text": [
            "Downloaded data for 2025-01-01 20:00 and saved as /Users/yiyi/Library/CloudStorage/OneDrive-GeorgiaInstituteofTechnology(2)/Research/Energy_resilience/01_data/raw/ERA5_GRIB/2025/era5_land_20250101_2000.grib\n"
          ]
        },
        {
          "name": "stderr",
          "output_type": "stream",
          "text": [
            "2025-07-09 15:38:12,536 INFO Request ID is 6cdc227c-0a91-416f-9b70-108dcac1dbdb\n",
            "2025-07-09 15:38:12,686 INFO status has been updated to accepted\n",
            "2025-07-09 15:38:20,291 INFO status has been updated to running\n",
            "2025-07-09 15:38:25,508 INFO status has been updated to successful\n",
            "                                                                                        \r"
          ]
        },
        {
          "name": "stdout",
          "output_type": "stream",
          "text": [
            "Downloaded data for 2025-01-01 21:00 and saved as /Users/yiyi/Library/CloudStorage/OneDrive-GeorgiaInstituteofTechnology(2)/Research/Energy_resilience/01_data/raw/ERA5_GRIB/2025/era5_land_20250101_2100.grib\n"
          ]
        },
        {
          "name": "stderr",
          "output_type": "stream",
          "text": [
            "2025-07-09 15:38:27,560 INFO Request ID is fef9d8b2-5837-41ab-ba7c-1fef51f71ff6\n",
            "2025-07-09 15:38:27,691 INFO status has been updated to accepted\n",
            "2025-07-09 15:38:40,484 INFO status has been updated to successful\n",
            "                                                                                        \r"
          ]
        },
        {
          "name": "stdout",
          "output_type": "stream",
          "text": [
            "Downloaded data for 2025-01-01 22:00 and saved as /Users/yiyi/Library/CloudStorage/OneDrive-GeorgiaInstituteofTechnology(2)/Research/Energy_resilience/01_data/raw/ERA5_GRIB/2025/era5_land_20250101_2200.grib\n"
          ]
        },
        {
          "name": "stderr",
          "output_type": "stream",
          "text": [
            "2025-07-09 15:38:42,761 INFO Request ID is 6242b1e7-62d4-4714-adb0-3fef9290bbe1\n",
            "2025-07-09 15:38:42,950 INFO status has been updated to accepted\n",
            "2025-07-09 15:38:50,592 INFO status has been updated to running\n",
            "2025-07-09 15:39:03,629 INFO status has been updated to successful\n",
            "                                                                                        \r"
          ]
        },
        {
          "name": "stdout",
          "output_type": "stream",
          "text": [
            "Downloaded data for 2025-01-01 23:00 and saved as /Users/yiyi/Library/CloudStorage/OneDrive-GeorgiaInstituteofTechnology(2)/Research/Energy_resilience/01_data/raw/ERA5_GRIB/2025/era5_land_20250101_2300.grib\n"
          ]
        },
        {
          "name": "stderr",
          "output_type": "stream",
          "text": [
            "2025-07-09 15:39:05,414 INFO Request ID is e86a5b8d-9701-48f9-837c-779fc5013454\n",
            "2025-07-09 15:39:06,140 INFO status has been updated to accepted\n",
            "2025-07-09 15:39:13,821 INFO status has been updated to successful\n",
            "                                                                                        \r"
          ]
        },
        {
          "name": "stdout",
          "output_type": "stream",
          "text": [
            "Downloaded data for 2025-01-02 00:00 and saved as /Users/yiyi/Library/CloudStorage/OneDrive-GeorgiaInstituteofTechnology(2)/Research/Energy_resilience/01_data/raw/ERA5_GRIB/2025/era5_land_20250102_0000.grib\n"
          ]
        },
        {
          "name": "stderr",
          "output_type": "stream",
          "text": [
            "2025-07-09 15:39:15,681 INFO Request ID is 891fe1a5-2d15-499b-a96f-9c632f693d83\n",
            "2025-07-09 15:39:15,816 INFO status has been updated to accepted\n",
            "2025-07-09 15:39:23,432 INFO status has been updated to running\n",
            "2025-07-09 15:39:36,584 INFO status has been updated to successful\n",
            "2025-07-09 15:39:38,409 INFO Request ID is 24845769-153f-4225-aa31-537886076db3         \n"
          ]
        },
        {
          "name": "stdout",
          "output_type": "stream",
          "text": [
            "Downloaded data for 2025-01-02 01:00 and saved as /Users/yiyi/Library/CloudStorage/OneDrive-GeorgiaInstituteofTechnology(2)/Research/Energy_resilience/01_data/raw/ERA5_GRIB/2025/era5_land_20250102_0100.grib\n"
          ]
        },
        {
          "name": "stderr",
          "output_type": "stream",
          "text": [
            "2025-07-09 15:39:38,538 INFO status has been updated to accepted\n",
            "2025-07-09 15:39:46,125 INFO status has been updated to running\n",
            "2025-07-09 15:39:51,325 INFO status has been updated to successful\n",
            "                                                                                        \r"
          ]
        },
        {
          "name": "stdout",
          "output_type": "stream",
          "text": [
            "Downloaded data for 2025-01-02 02:00 and saved as /Users/yiyi/Library/CloudStorage/OneDrive-GeorgiaInstituteofTechnology(2)/Research/Energy_resilience/01_data/raw/ERA5_GRIB/2025/era5_land_20250102_0200.grib\n"
          ]
        },
        {
          "name": "stderr",
          "output_type": "stream",
          "text": [
            "2025-07-09 15:39:53,005 INFO Request ID is 02084ead-87cd-4e91-947c-354d3683979a\n",
            "2025-07-09 15:39:53,150 INFO status has been updated to accepted\n",
            "2025-07-09 15:40:00,744 INFO status has been updated to running\n",
            "2025-07-09 15:40:06,012 INFO status has been updated to successful\n",
            "2025-07-09 15:40:07,754 INFO Request ID is 7ddb3eb2-28ff-4c32-bfdf-52dbc461bb51         \n"
          ]
        },
        {
          "name": "stdout",
          "output_type": "stream",
          "text": [
            "Downloaded data for 2025-01-02 03:00 and saved as /Users/yiyi/Library/CloudStorage/OneDrive-GeorgiaInstituteofTechnology(2)/Research/Energy_resilience/01_data/raw/ERA5_GRIB/2025/era5_land_20250102_0300.grib\n"
          ]
        },
        {
          "name": "stderr",
          "output_type": "stream",
          "text": [
            "2025-07-09 15:40:07,910 INFO status has been updated to accepted\n",
            "2025-07-09 15:40:15,559 INFO status has been updated to running\n",
            "2025-07-09 15:40:28,487 INFO status has been updated to successful\n",
            "2025-07-09 15:40:30,164 INFO Request ID is d4efb45b-097d-4e81-a99b-aa3919b47b88         \n"
          ]
        },
        {
          "name": "stdout",
          "output_type": "stream",
          "text": [
            "Downloaded data for 2025-01-02 04:00 and saved as /Users/yiyi/Library/CloudStorage/OneDrive-GeorgiaInstituteofTechnology(2)/Research/Energy_resilience/01_data/raw/ERA5_GRIB/2025/era5_land_20250102_0400.grib\n"
          ]
        },
        {
          "name": "stderr",
          "output_type": "stream",
          "text": [
            "2025-07-09 15:40:30,298 INFO status has been updated to accepted\n",
            "2025-07-09 15:40:38,047 INFO status has been updated to running\n",
            "2025-07-09 15:40:43,252 INFO status has been updated to successful\n",
            "                                                                                        \r"
          ]
        },
        {
          "name": "stdout",
          "output_type": "stream",
          "text": [
            "Downloaded data for 2025-01-02 05:00 and saved as /Users/yiyi/Library/CloudStorage/OneDrive-GeorgiaInstituteofTechnology(2)/Research/Energy_resilience/01_data/raw/ERA5_GRIB/2025/era5_land_20250102_0500.grib\n"
          ]
        },
        {
          "name": "stderr",
          "output_type": "stream",
          "text": [
            "2025-07-09 15:40:44,992 INFO Request ID is f698a6fc-6823-4225-8f17-c010244ffbf9\n",
            "2025-07-09 15:40:45,168 INFO status has been updated to accepted\n",
            "2025-07-09 15:40:52,744 INFO status has been updated to running\n",
            "2025-07-09 15:41:05,689 INFO status has been updated to successful\n",
            "2025-07-09 15:41:07,393 INFO Request ID is 9228738c-81e6-478b-a3a4-b3a1cae86aa7         \n"
          ]
        },
        {
          "name": "stdout",
          "output_type": "stream",
          "text": [
            "Downloaded data for 2025-01-02 06:00 and saved as /Users/yiyi/Library/CloudStorage/OneDrive-GeorgiaInstituteofTechnology(2)/Research/Energy_resilience/01_data/raw/ERA5_GRIB/2025/era5_land_20250102_0600.grib\n"
          ]
        },
        {
          "name": "stderr",
          "output_type": "stream",
          "text": [
            "2025-07-09 15:41:07,524 INFO status has been updated to accepted\n"
          ]
        }
      ],
      "source": [
        "# Specify start and end date, bounding geometry, and variables to download\n",
        "start_date = datetime(2025, 1, 1)\n",
        "end_date = datetime(2025, 12, 31)\n",
        "area = [31.0954, 72.4750, 12.4319, 94.802]  # North, West, South, East bounding box\n",
        "variables = ['2m_temperature', '10m_u_component_of_wind', '10m_v_component_of_wind', 'total_precipitation']\n",
        "\n",
        "# Run the function\n",
        "download_era5_data(start_date, end_date, area, variables, folder_path)\n"
      ]
    },
    {
      "cell_type": "code",
      "execution_count": 5,
      "metadata": {},
      "outputs": [
        {
          "ename": "NameError",
          "evalue": "name 'existing_files' is not defined",
          "output_type": "error",
          "traceback": [
            "\u001b[0;31m---------------------------------------------------------------------------\u001b[0m",
            "\u001b[0;31mNameError\u001b[0m                                 Traceback (most recent call last)",
            "Cell \u001b[0;32mIn[5], line 1\u001b[0m\n\u001b[0;32m----> 1\u001b[0m \u001b[43mexisting_files\u001b[49m\n",
            "\u001b[0;31mNameError\u001b[0m: name 'existing_files' is not defined"
          ]
        }
      ],
      "source": [
        "existing_files"
      ]
    }
  ],
  "metadata": {
    "colab": {
      "provenance": []
    },
    "kernelspec": {
      "display_name": "Python 3",
      "name": "python3"
    },
    "language_info": {
      "codemirror_mode": {
        "name": "ipython",
        "version": 3
      },
      "file_extension": ".py",
      "mimetype": "text/x-python",
      "name": "python",
      "nbconvert_exporter": "python",
      "pygments_lexer": "ipython3",
      "version": "3.9.16"
    },
    "widgets": {
      "application/vnd.jupyter.widget-state+json": {
        "0e485bf86da245dcad353d4fb4c3aa3b": {
          "model_module": "@jupyter-widgets/controls",
          "model_module_version": "1.5.0",
          "model_name": "ProgressStyleModel",
          "state": {
            "_model_module": "@jupyter-widgets/controls",
            "_model_module_version": "1.5.0",
            "_model_name": "ProgressStyleModel",
            "_view_count": null,
            "_view_module": "@jupyter-widgets/base",
            "_view_module_version": "1.2.0",
            "_view_name": "StyleView",
            "bar_color": null,
            "description_width": ""
          }
        },
        "116dfd1f9afc49e396d97b6f0dc91d05": {
          "model_module": "@jupyter-widgets/controls",
          "model_module_version": "1.5.0",
          "model_name": "FloatProgressModel",
          "state": {
            "_dom_classes": [],
            "_model_module": "@jupyter-widgets/controls",
            "_model_module_version": "1.5.0",
            "_model_name": "FloatProgressModel",
            "_view_count": null,
            "_view_module": "@jupyter-widgets/controls",
            "_view_module_version": "1.5.0",
            "_view_name": "ProgressView",
            "bar_style": "",
            "description": "",
            "description_tooltip": null,
            "layout": "IPY_MODEL_fe0ae162cc2740478383251fdee98441",
            "max": 293614,
            "min": 0,
            "orientation": "horizontal",
            "style": "IPY_MODEL_42ebf8baf5104a07aec5ef349f715a0f",
            "value": 293614
          }
        },
        "1a6f22530f91400db4d55c5b6771141c": {
          "model_module": "@jupyter-widgets/base",
          "model_module_version": "1.2.0",
          "model_name": "LayoutModel",
          "state": {
            "_model_module": "@jupyter-widgets/base",
            "_model_module_version": "1.2.0",
            "_model_name": "LayoutModel",
            "_view_count": null,
            "_view_module": "@jupyter-widgets/base",
            "_view_module_version": "1.2.0",
            "_view_name": "LayoutView",
            "align_content": null,
            "align_items": null,
            "align_self": null,
            "border": null,
            "bottom": null,
            "display": null,
            "flex": null,
            "flex_flow": null,
            "grid_area": null,
            "grid_auto_columns": null,
            "grid_auto_flow": null,
            "grid_auto_rows": null,
            "grid_column": null,
            "grid_gap": null,
            "grid_row": null,
            "grid_template_areas": null,
            "grid_template_columns": null,
            "grid_template_rows": null,
            "height": null,
            "justify_content": null,
            "justify_items": null,
            "left": null,
            "margin": null,
            "max_height": null,
            "max_width": null,
            "min_height": null,
            "min_width": null,
            "object_fit": null,
            "object_position": null,
            "order": null,
            "overflow": null,
            "overflow_x": null,
            "overflow_y": null,
            "padding": null,
            "right": null,
            "top": null,
            "visibility": null,
            "width": null
          }
        },
        "26b56e13662141d3b43872821781a0cc": {
          "model_module": "@jupyter-widgets/controls",
          "model_module_version": "1.5.0",
          "model_name": "DescriptionStyleModel",
          "state": {
            "_model_module": "@jupyter-widgets/controls",
            "_model_module_version": "1.5.0",
            "_model_name": "DescriptionStyleModel",
            "_view_count": null,
            "_view_module": "@jupyter-widgets/base",
            "_view_module_version": "1.2.0",
            "_view_name": "StyleView",
            "description_width": ""
          }
        },
        "2ac12211a353421e9a740a5aebbce9c8": {
          "model_module": "@jupyter-widgets/controls",
          "model_module_version": "1.5.0",
          "model_name": "DescriptionStyleModel",
          "state": {
            "_model_module": "@jupyter-widgets/controls",
            "_model_module_version": "1.5.0",
            "_model_name": "DescriptionStyleModel",
            "_view_count": null,
            "_view_module": "@jupyter-widgets/base",
            "_view_module_version": "1.2.0",
            "_view_name": "StyleView",
            "description_width": ""
          }
        },
        "2d35131415004c2283b5b72615750fc8": {
          "model_module": "@jupyter-widgets/controls",
          "model_module_version": "1.5.0",
          "model_name": "HTMLModel",
          "state": {
            "_dom_classes": [],
            "_model_module": "@jupyter-widgets/controls",
            "_model_module_version": "1.5.0",
            "_model_name": "HTMLModel",
            "_view_count": null,
            "_view_module": "@jupyter-widgets/controls",
            "_view_module_version": "1.5.0",
            "_view_name": "HTMLView",
            "description": "",
            "description_tooltip": null,
            "layout": "IPY_MODEL_fc1ab6711f534e4d8c909b3291f13ef9",
            "placeholder": "​",
            "style": "IPY_MODEL_2ac12211a353421e9a740a5aebbce9c8",
            "value": " 287k/287k [00:00&lt;00:00, 888kB/s]"
          }
        },
        "3507478e036141a2b79c2c74f14207a7": {
          "model_module": "@jupyter-widgets/controls",
          "model_module_version": "1.5.0",
          "model_name": "DescriptionStyleModel",
          "state": {
            "_model_module": "@jupyter-widgets/controls",
            "_model_module_version": "1.5.0",
            "_model_name": "DescriptionStyleModel",
            "_view_count": null,
            "_view_module": "@jupyter-widgets/base",
            "_view_module_version": "1.2.0",
            "_view_name": "StyleView",
            "description_width": ""
          }
        },
        "3a588098072c47a9a7e6ce1043802217": {
          "model_module": "@jupyter-widgets/controls",
          "model_module_version": "1.5.0",
          "model_name": "HBoxModel",
          "state": {
            "_dom_classes": [],
            "_model_module": "@jupyter-widgets/controls",
            "_model_module_version": "1.5.0",
            "_model_name": "HBoxModel",
            "_view_count": null,
            "_view_module": "@jupyter-widgets/controls",
            "_view_module_version": "1.5.0",
            "_view_name": "HBoxView",
            "box_style": "",
            "children": [
              "IPY_MODEL_be2702be2c3e408cb73fc0401008ccec",
              "IPY_MODEL_597bfef02425433f8862de3dfffe20a8",
              "IPY_MODEL_a2e90e3ea78449d0af079957c554076f"
            ],
            "layout": "IPY_MODEL_bb84d7ac57664353864a02c0295c2b40"
          }
        },
        "3daa81cb137d4304b95a8d8a87b1db52": {
          "model_module": "@jupyter-widgets/base",
          "model_module_version": "1.2.0",
          "model_name": "LayoutModel",
          "state": {
            "_model_module": "@jupyter-widgets/base",
            "_model_module_version": "1.2.0",
            "_model_name": "LayoutModel",
            "_view_count": null,
            "_view_module": "@jupyter-widgets/base",
            "_view_module_version": "1.2.0",
            "_view_name": "LayoutView",
            "align_content": null,
            "align_items": null,
            "align_self": null,
            "border": null,
            "bottom": null,
            "display": null,
            "flex": null,
            "flex_flow": null,
            "grid_area": null,
            "grid_auto_columns": null,
            "grid_auto_flow": null,
            "grid_auto_rows": null,
            "grid_column": null,
            "grid_gap": null,
            "grid_row": null,
            "grid_template_areas": null,
            "grid_template_columns": null,
            "grid_template_rows": null,
            "height": null,
            "justify_content": null,
            "justify_items": null,
            "left": null,
            "margin": null,
            "max_height": null,
            "max_width": null,
            "min_height": null,
            "min_width": null,
            "object_fit": null,
            "object_position": null,
            "order": null,
            "overflow": null,
            "overflow_x": null,
            "overflow_y": null,
            "padding": null,
            "right": null,
            "top": null,
            "visibility": null,
            "width": null
          }
        },
        "42ebf8baf5104a07aec5ef349f715a0f": {
          "model_module": "@jupyter-widgets/controls",
          "model_module_version": "1.5.0",
          "model_name": "ProgressStyleModel",
          "state": {
            "_model_module": "@jupyter-widgets/controls",
            "_model_module_version": "1.5.0",
            "_model_name": "ProgressStyleModel",
            "_view_count": null,
            "_view_module": "@jupyter-widgets/base",
            "_view_module_version": "1.2.0",
            "_view_name": "StyleView",
            "bar_color": null,
            "description_width": ""
          }
        },
        "45a0685607ea46ca83c7414f65c45367": {
          "model_module": "@jupyter-widgets/controls",
          "model_module_version": "1.5.0",
          "model_name": "HTMLModel",
          "state": {
            "_dom_classes": [],
            "_model_module": "@jupyter-widgets/controls",
            "_model_module_version": "1.5.0",
            "_model_name": "HTMLModel",
            "_view_count": null,
            "_view_module": "@jupyter-widgets/controls",
            "_view_module_version": "1.5.0",
            "_view_name": "HTMLView",
            "description": "",
            "description_tooltip": null,
            "layout": "IPY_MODEL_d58f66fa94e4466f88218334f6bec8c4",
            "placeholder": "​",
            "style": "IPY_MODEL_d0a4fc4709dc46eba750263f2dac22a3",
            "value": "7d5f1c96211e749ddc0b1bbc5e545771.grib: 100%"
          }
        },
        "597bfef02425433f8862de3dfffe20a8": {
          "model_module": "@jupyter-widgets/controls",
          "model_module_version": "1.5.0",
          "model_name": "FloatProgressModel",
          "state": {
            "_dom_classes": [],
            "_model_module": "@jupyter-widgets/controls",
            "_model_module_version": "1.5.0",
            "_model_name": "FloatProgressModel",
            "_view_count": null,
            "_view_module": "@jupyter-widgets/controls",
            "_view_module_version": "1.5.0",
            "_view_name": "ProgressView",
            "bar_style": "",
            "description": "",
            "description_tooltip": null,
            "layout": "IPY_MODEL_1a6f22530f91400db4d55c5b6771141c",
            "max": 65842,
            "min": 0,
            "orientation": "horizontal",
            "style": "IPY_MODEL_0e485bf86da245dcad353d4fb4c3aa3b",
            "value": 65842
          }
        },
        "a2e90e3ea78449d0af079957c554076f": {
          "model_module": "@jupyter-widgets/controls",
          "model_module_version": "1.5.0",
          "model_name": "HTMLModel",
          "state": {
            "_dom_classes": [],
            "_model_module": "@jupyter-widgets/controls",
            "_model_module_version": "1.5.0",
            "_model_name": "HTMLModel",
            "_view_count": null,
            "_view_module": "@jupyter-widgets/controls",
            "_view_module_version": "1.5.0",
            "_view_name": "HTMLView",
            "description": "",
            "description_tooltip": null,
            "layout": "IPY_MODEL_fd3499f0b3754567a68ac1268e05cef4",
            "placeholder": "​",
            "style": "IPY_MODEL_3507478e036141a2b79c2c74f14207a7",
            "value": " 64.3k/64.3k [00:00&lt;00:00, 301kB/s]"
          }
        },
        "bb84d7ac57664353864a02c0295c2b40": {
          "model_module": "@jupyter-widgets/base",
          "model_module_version": "1.2.0",
          "model_name": "LayoutModel",
          "state": {
            "_model_module": "@jupyter-widgets/base",
            "_model_module_version": "1.2.0",
            "_model_name": "LayoutModel",
            "_view_count": null,
            "_view_module": "@jupyter-widgets/base",
            "_view_module_version": "1.2.0",
            "_view_name": "LayoutView",
            "align_content": null,
            "align_items": null,
            "align_self": null,
            "border": null,
            "bottom": null,
            "display": null,
            "flex": null,
            "flex_flow": null,
            "grid_area": null,
            "grid_auto_columns": null,
            "grid_auto_flow": null,
            "grid_auto_rows": null,
            "grid_column": null,
            "grid_gap": null,
            "grid_row": null,
            "grid_template_areas": null,
            "grid_template_columns": null,
            "grid_template_rows": null,
            "height": null,
            "justify_content": null,
            "justify_items": null,
            "left": null,
            "margin": null,
            "max_height": null,
            "max_width": null,
            "min_height": null,
            "min_width": null,
            "object_fit": null,
            "object_position": null,
            "order": null,
            "overflow": null,
            "overflow_x": null,
            "overflow_y": null,
            "padding": null,
            "right": null,
            "top": null,
            "visibility": "hidden",
            "width": null
          }
        },
        "be2702be2c3e408cb73fc0401008ccec": {
          "model_module": "@jupyter-widgets/controls",
          "model_module_version": "1.5.0",
          "model_name": "HTMLModel",
          "state": {
            "_dom_classes": [],
            "_model_module": "@jupyter-widgets/controls",
            "_model_module_version": "1.5.0",
            "_model_name": "HTMLModel",
            "_view_count": null,
            "_view_module": "@jupyter-widgets/controls",
            "_view_module_version": "1.5.0",
            "_view_name": "HTMLView",
            "description": "",
            "description_tooltip": null,
            "layout": "IPY_MODEL_3daa81cb137d4304b95a8d8a87b1db52",
            "placeholder": "​",
            "style": "IPY_MODEL_26b56e13662141d3b43872821781a0cc",
            "value": "374cb40effdc26117c641a0957e0293a.grib: 100%"
          }
        },
        "d0a4fc4709dc46eba750263f2dac22a3": {
          "model_module": "@jupyter-widgets/controls",
          "model_module_version": "1.5.0",
          "model_name": "DescriptionStyleModel",
          "state": {
            "_model_module": "@jupyter-widgets/controls",
            "_model_module_version": "1.5.0",
            "_model_name": "DescriptionStyleModel",
            "_view_count": null,
            "_view_module": "@jupyter-widgets/base",
            "_view_module_version": "1.2.0",
            "_view_name": "StyleView",
            "description_width": ""
          }
        },
        "d58f66fa94e4466f88218334f6bec8c4": {
          "model_module": "@jupyter-widgets/base",
          "model_module_version": "1.2.0",
          "model_name": "LayoutModel",
          "state": {
            "_model_module": "@jupyter-widgets/base",
            "_model_module_version": "1.2.0",
            "_model_name": "LayoutModel",
            "_view_count": null,
            "_view_module": "@jupyter-widgets/base",
            "_view_module_version": "1.2.0",
            "_view_name": "LayoutView",
            "align_content": null,
            "align_items": null,
            "align_self": null,
            "border": null,
            "bottom": null,
            "display": null,
            "flex": null,
            "flex_flow": null,
            "grid_area": null,
            "grid_auto_columns": null,
            "grid_auto_flow": null,
            "grid_auto_rows": null,
            "grid_column": null,
            "grid_gap": null,
            "grid_row": null,
            "grid_template_areas": null,
            "grid_template_columns": null,
            "grid_template_rows": null,
            "height": null,
            "justify_content": null,
            "justify_items": null,
            "left": null,
            "margin": null,
            "max_height": null,
            "max_width": null,
            "min_height": null,
            "min_width": null,
            "object_fit": null,
            "object_position": null,
            "order": null,
            "overflow": null,
            "overflow_x": null,
            "overflow_y": null,
            "padding": null,
            "right": null,
            "top": null,
            "visibility": null,
            "width": null
          }
        },
        "ddb578128c9f4f60b967341059226e7a": {
          "model_module": "@jupyter-widgets/controls",
          "model_module_version": "1.5.0",
          "model_name": "HBoxModel",
          "state": {
            "_dom_classes": [],
            "_model_module": "@jupyter-widgets/controls",
            "_model_module_version": "1.5.0",
            "_model_name": "HBoxModel",
            "_view_count": null,
            "_view_module": "@jupyter-widgets/controls",
            "_view_module_version": "1.5.0",
            "_view_name": "HBoxView",
            "box_style": "",
            "children": [
              "IPY_MODEL_45a0685607ea46ca83c7414f65c45367",
              "IPY_MODEL_116dfd1f9afc49e396d97b6f0dc91d05",
              "IPY_MODEL_2d35131415004c2283b5b72615750fc8"
            ],
            "layout": "IPY_MODEL_f3b459061e834bf5be34a668c179a24b"
          }
        },
        "f3b459061e834bf5be34a668c179a24b": {
          "model_module": "@jupyter-widgets/base",
          "model_module_version": "1.2.0",
          "model_name": "LayoutModel",
          "state": {
            "_model_module": "@jupyter-widgets/base",
            "_model_module_version": "1.2.0",
            "_model_name": "LayoutModel",
            "_view_count": null,
            "_view_module": "@jupyter-widgets/base",
            "_view_module_version": "1.2.0",
            "_view_name": "LayoutView",
            "align_content": null,
            "align_items": null,
            "align_self": null,
            "border": null,
            "bottom": null,
            "display": null,
            "flex": null,
            "flex_flow": null,
            "grid_area": null,
            "grid_auto_columns": null,
            "grid_auto_flow": null,
            "grid_auto_rows": null,
            "grid_column": null,
            "grid_gap": null,
            "grid_row": null,
            "grid_template_areas": null,
            "grid_template_columns": null,
            "grid_template_rows": null,
            "height": null,
            "justify_content": null,
            "justify_items": null,
            "left": null,
            "margin": null,
            "max_height": null,
            "max_width": null,
            "min_height": null,
            "min_width": null,
            "object_fit": null,
            "object_position": null,
            "order": null,
            "overflow": null,
            "overflow_x": null,
            "overflow_y": null,
            "padding": null,
            "right": null,
            "top": null,
            "visibility": "hidden",
            "width": null
          }
        },
        "fc1ab6711f534e4d8c909b3291f13ef9": {
          "model_module": "@jupyter-widgets/base",
          "model_module_version": "1.2.0",
          "model_name": "LayoutModel",
          "state": {
            "_model_module": "@jupyter-widgets/base",
            "_model_module_version": "1.2.0",
            "_model_name": "LayoutModel",
            "_view_count": null,
            "_view_module": "@jupyter-widgets/base",
            "_view_module_version": "1.2.0",
            "_view_name": "LayoutView",
            "align_content": null,
            "align_items": null,
            "align_self": null,
            "border": null,
            "bottom": null,
            "display": null,
            "flex": null,
            "flex_flow": null,
            "grid_area": null,
            "grid_auto_columns": null,
            "grid_auto_flow": null,
            "grid_auto_rows": null,
            "grid_column": null,
            "grid_gap": null,
            "grid_row": null,
            "grid_template_areas": null,
            "grid_template_columns": null,
            "grid_template_rows": null,
            "height": null,
            "justify_content": null,
            "justify_items": null,
            "left": null,
            "margin": null,
            "max_height": null,
            "max_width": null,
            "min_height": null,
            "min_width": null,
            "object_fit": null,
            "object_position": null,
            "order": null,
            "overflow": null,
            "overflow_x": null,
            "overflow_y": null,
            "padding": null,
            "right": null,
            "top": null,
            "visibility": null,
            "width": null
          }
        },
        "fd3499f0b3754567a68ac1268e05cef4": {
          "model_module": "@jupyter-widgets/base",
          "model_module_version": "1.2.0",
          "model_name": "LayoutModel",
          "state": {
            "_model_module": "@jupyter-widgets/base",
            "_model_module_version": "1.2.0",
            "_model_name": "LayoutModel",
            "_view_count": null,
            "_view_module": "@jupyter-widgets/base",
            "_view_module_version": "1.2.0",
            "_view_name": "LayoutView",
            "align_content": null,
            "align_items": null,
            "align_self": null,
            "border": null,
            "bottom": null,
            "display": null,
            "flex": null,
            "flex_flow": null,
            "grid_area": null,
            "grid_auto_columns": null,
            "grid_auto_flow": null,
            "grid_auto_rows": null,
            "grid_column": null,
            "grid_gap": null,
            "grid_row": null,
            "grid_template_areas": null,
            "grid_template_columns": null,
            "grid_template_rows": null,
            "height": null,
            "justify_content": null,
            "justify_items": null,
            "left": null,
            "margin": null,
            "max_height": null,
            "max_width": null,
            "min_height": null,
            "min_width": null,
            "object_fit": null,
            "object_position": null,
            "order": null,
            "overflow": null,
            "overflow_x": null,
            "overflow_y": null,
            "padding": null,
            "right": null,
            "top": null,
            "visibility": null,
            "width": null
          }
        },
        "fe0ae162cc2740478383251fdee98441": {
          "model_module": "@jupyter-widgets/base",
          "model_module_version": "1.2.0",
          "model_name": "LayoutModel",
          "state": {
            "_model_module": "@jupyter-widgets/base",
            "_model_module_version": "1.2.0",
            "_model_name": "LayoutModel",
            "_view_count": null,
            "_view_module": "@jupyter-widgets/base",
            "_view_module_version": "1.2.0",
            "_view_name": "LayoutView",
            "align_content": null,
            "align_items": null,
            "align_self": null,
            "border": null,
            "bottom": null,
            "display": null,
            "flex": null,
            "flex_flow": null,
            "grid_area": null,
            "grid_auto_columns": null,
            "grid_auto_flow": null,
            "grid_auto_rows": null,
            "grid_column": null,
            "grid_gap": null,
            "grid_row": null,
            "grid_template_areas": null,
            "grid_template_columns": null,
            "grid_template_rows": null,
            "height": null,
            "justify_content": null,
            "justify_items": null,
            "left": null,
            "margin": null,
            "max_height": null,
            "max_width": null,
            "min_height": null,
            "min_width": null,
            "object_fit": null,
            "object_position": null,
            "order": null,
            "overflow": null,
            "overflow_x": null,
            "overflow_y": null,
            "padding": null,
            "right": null,
            "top": null,
            "visibility": null,
            "width": null
          }
        }
      }
    }
  },
  "nbformat": 4,
  "nbformat_minor": 0
}
