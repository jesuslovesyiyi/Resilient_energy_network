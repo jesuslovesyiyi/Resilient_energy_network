{
 "cells": [
  {
   "cell_type": "markdown",
   "metadata": {},
   "source": [
    "# Downloading and Processing Weather Data\n",
    "In order to properly download the weather data, we need to know which of the ERA5 grid cells they fall into. In order to do this, I will create a modified version of the locations dataset, corresponding each voltage station to a netCDF grid cell. The lat and lon of which represents the center of its respective grid cell. Through experimentation, we know that these lie on the 0.1 marks of lat and lon, meaning the grid cells all span from +- 0.05 of that center, for example from lat 30.15 to 30.25, and lon 76.25 to 76.35."
   ]
  },
  {
   "cell_type": "code",
   "execution_count": 58,
   "metadata": {},
   "outputs": [],
   "source": [
    "import netCDF4 as nc\n",
    "import pandas as pd\n",
    "from datetime import datetime, timedelta\n",
    "import os\n",
    "from tqdm import tqdm\n",
    "import numpy as np\n",
    "import cdsapi\n",
    "\n",
    "import geopandas as gpd\n",
    "from shapely.geometry import Point"
   ]
  },
  {
   "cell_type": "code",
<<<<<<< Updated upstream
   "execution_count": 59,
=======
   "execution_count": 3,
   "metadata": {},
   "outputs": [
    {
     "name": "stderr",
     "output_type": "stream",
     "text": [
      "2024-09-03 16:30:21,105 INFO Request ID is eebdac4a-8dfe-4044-b2b4-ec918075ae37\n",
      "2024-09-03 16:30:21,262 INFO status has been updated to accepted\n",
      "2024-09-03 16:34:39,887 INFO Creating download object as as_source with files:\n",
      "['data.grib']\n",
      "2024-09-03 16:34:39,888 INFO status has been updated to successful\n",
      "                                                                                     \r"
     ]
    },
    {
     "data": {
      "text/plain": [
       "'Download-2.grib'"
      ]
     },
     "execution_count": 3,
     "metadata": {},
     "output_type": "execute_result"
    }
   ],
   "source": [
    "\n",
    "\n",
    "c = cdsapi.Client()\n",
    "\n",
    "c.retrieve(\n",
    "    'reanalysis-era5-land',\n",
    "    {\n",
    "        'variable': '2m_temperature',\n",
    "        'year': '2023',\n",
    "        'day': '01',\n",
    "        'month': '01',\n",
    "        'time': '00:00',\n",
    "        'area': [\n",
    "            15.6473, 76.0168, 14.8961,\n",
    "            76.9590,\n",
    "        ],\n",
    "        'format': 'grib',\n",
    "    },\n",
    "    'Download-2.grib')"
   ]
  },
  {
   "cell_type": "code",
   "execution_count": 2,
>>>>>>> Stashed changes
   "metadata": {},
   "outputs": [],
   "source": [
    "locations_path = \"../ESMI_India_538_locations.csv\"\n",
    "locations = pd.read_csv(locations_path, dtype={\"ESMI_ID\" : str, \"station_id\" : int}, usecols=[\"station_id\", \"ESMI_ID\", \"Location name\", \"District\", \"State\", \"Lat\", \"Lon\"])\n"
   ]
  },
  {
   "cell_type": "code",
   "execution_count": 60,
   "metadata": {},
   "outputs": [
    {
     "name": "stderr",
     "output_type": "stream",
     "text": [
      "/var/folders/38/ttqg2y215g16g2ng7jd502_c0000gn/T/ipykernel_65325/3947353928.py:5: FutureWarning: The geopandas.dataset module is deprecated and will be removed in GeoPandas 1.0. You can get the original 'naturalearth_lowres' data from https://www.naturalearthdata.com/downloads/110m-cultural-vectors/.\n",
      "  world = gpd.read_file(gpd.datasets.get_path('naturalearth_lowres'))\n"
     ]
    },
    {
     "data": {
      "text/html": [
       "<div>\n",
       "<style scoped>\n",
       "    .dataframe tbody tr th:only-of-type {\n",
       "        vertical-align: middle;\n",
       "    }\n",
       "\n",
       "    .dataframe tbody tr th {\n",
       "        vertical-align: top;\n",
       "    }\n",
       "\n",
       "    .dataframe thead th {\n",
       "        text-align: right;\n",
       "    }\n",
       "</style>\n",
       "<table border=\"1\" class=\"dataframe\">\n",
       "  <thead>\n",
       "    <tr style=\"text-align: right;\">\n",
       "      <th></th>\n",
       "      <th>station_id</th>\n",
       "      <th>Location name</th>\n",
       "      <th>ESMI_ID</th>\n",
       "      <th>District</th>\n",
       "      <th>State</th>\n",
       "      <th>Lat</th>\n",
       "      <th>Lon</th>\n",
       "      <th>geometry</th>\n",
       "    </tr>\n",
       "  </thead>\n",
       "  <tbody>\n",
       "    <tr>\n",
       "      <th>0</th>\n",
       "      <td>1</td>\n",
       "      <td>5th phase JP Nagar</td>\n",
       "      <td>NaN</td>\n",
       "      <td>Bengaluru Urban</td>\n",
       "      <td>Karnataka</td>\n",
       "      <td>12.901092</td>\n",
       "      <td>77.589150</td>\n",
       "      <td>POINT (77.58915 12.90109)</td>\n",
       "    </tr>\n",
       "    <tr>\n",
       "      <th>1</th>\n",
       "      <td>2</td>\n",
       "      <td>80 feet road</td>\n",
       "      <td>NaN</td>\n",
       "      <td>Dhule</td>\n",
       "      <td>Maharashtra</td>\n",
       "      <td>20.895199</td>\n",
       "      <td>74.775982</td>\n",
       "      <td>POINT (74.77598 20.89520)</td>\n",
       "    </tr>\n",
       "    <tr>\n",
       "      <th>2</th>\n",
       "      <td>3</td>\n",
       "      <td>Adarsh Nagar</td>\n",
       "      <td>NaN</td>\n",
       "      <td>Saharsa</td>\n",
       "      <td>Bihar</td>\n",
       "      <td>25.883507</td>\n",
       "      <td>86.614919</td>\n",
       "      <td>POINT (86.61492 25.88351)</td>\n",
       "    </tr>\n",
       "    <tr>\n",
       "      <th>3</th>\n",
       "      <td>4</td>\n",
       "      <td>Adgaon</td>\n",
       "      <td>NaN</td>\n",
       "      <td>Nashik</td>\n",
       "      <td>Maharashtra</td>\n",
       "      <td>20.037184</td>\n",
       "      <td>73.850136</td>\n",
       "      <td>POINT (73.85014 20.03718)</td>\n",
       "    </tr>\n",
       "    <tr>\n",
       "      <th>4</th>\n",
       "      <td>5</td>\n",
       "      <td>Agarchitti</td>\n",
       "      <td>NaN</td>\n",
       "      <td>Chamoli</td>\n",
       "      <td>Uttarakhand</td>\n",
       "      <td>30.016116</td>\n",
       "      <td>79.308735</td>\n",
       "      <td>POINT (79.30874 30.01612)</td>\n",
       "    </tr>\n",
       "  </tbody>\n",
       "</table>\n",
       "</div>"
      ],
      "text/plain": [
       "   station_id       Location name ESMI_ID         District        State  \\\n",
       "0           1  5th phase JP Nagar     NaN  Bengaluru Urban    Karnataka   \n",
       "1           2        80 feet road     NaN            Dhule  Maharashtra   \n",
       "2           3       Adarsh Nagar      NaN          Saharsa        Bihar   \n",
       "3           4              Adgaon     NaN           Nashik  Maharashtra   \n",
       "4           5          Agarchitti     NaN          Chamoli  Uttarakhand   \n",
       "\n",
       "         Lat        Lon                   geometry  \n",
       "0  12.901092  77.589150  POINT (77.58915 12.90109)  \n",
       "1  20.895199  74.775982  POINT (74.77598 20.89520)  \n",
       "2  25.883507  86.614919  POINT (86.61492 25.88351)  \n",
       "3  20.037184  73.850136  POINT (73.85014 20.03718)  \n",
       "4  30.016116  79.308735  POINT (79.30874 30.01612)  "
      ]
     },
     "execution_count": 60,
     "metadata": {},
     "output_type": "execute_result"
    },
    {
     "data": {
      "image/png": "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",
      "text/plain": [
       "<Figure size 1000x600 with 1 Axes>"
      ]
     },
     "metadata": {},
     "output_type": "display_data"
    }
   ],
   "source": [
    "\n",
    "locations.head(5)\n",
    "\n",
    "geometry = [Point(xy) for xy in zip(locations[\"Lon\"], locations[\"Lat\"])]\n",
    "gdf = gpd.GeoDataFrame(locations, geometry=geometry)\n",
    "world = gpd.read_file(gpd.datasets.get_path('naturalearth_lowres'))\n",
    "world = world[world.name == \"India\"]\n",
    "\n",
    "# world.plot(figsize=(10, 6))\n",
    "gdf.plot(ax=world.boundary.plot(figsize=(10, 6)), marker='o', color='red', markersize=5)\n",
    "gdf.head(5)\n"
   ]
  },
  {
   "cell_type": "code",
   "execution_count": 71,
   "metadata": {},
   "outputs": [
    {
     "name": "stderr",
     "output_type": "stream",
     "text": [
      "100%|██████████| 536/536 [07:51<00:00,  1.14it/s]\n"
     ]
    }
   ],
   "source": [
    "uniform_dir = \"../india_processing/india_uniform\"\n",
    "\n",
    "\n",
    "# For every station that we have collected the uniform data for, we list down the minimum and maximum time for that station, giving it a month on either side\n",
    "for file in tqdm(os.listdir(uniform_dir)):\n",
    "    station_id = int(file.split(\"_\")[1].split(\".\")[0])\n",
    "    station_df = pd.read_csv(os.path.join(uniform_dir, file), header=0, index_col=False, parse_dates=['time'])\n",
    "    station_min = station_df['time'].min()\n",
    "    station_max = station_df['time'].max()\n",
    "    \n",
    "    if station_min.month == 1:\n",
    "        station_min = datetime(station_min.year - 1, 12, 1)\n",
    "    else:\n",
    "        station_min = datetime(station_min.year, station_min.month - 1, 1)\n",
    "\n",
    "    if station_max.month == 12:\n",
    "        station_max = datetime(station_max.year + 1, 1, 1)\n",
    "    else:\n",
    "        station_max = datetime(station_max.year, station_max.month + 1, 1)\n",
    "\n",
    "    locations.loc[locations['station_id'] == station_id, 'era_min_time'] = station_min\n",
    "    locations.loc[locations['station_id'] == station_id, 'era_max_time'] = station_max"
   ]
  },
  {
   "cell_type": "markdown",
   "metadata": {},
   "source": [
    "We drop all those locations that we didn't create uniform data for."
   ]
  },
  {
   "cell_type": "code",
   "execution_count": 72,
   "metadata": {},
   "outputs": [],
   "source": [
    "locations = locations.dropna(subset=['era_min_time', 'era_max_time'])"
   ]
  },
  {
   "cell_type": "markdown",
   "metadata": {},
   "source": [
    "Then for each station, we consider which grid cell we need to download. We'll do this simply by calculating which grid center (multiple of 0.1) it is closest to in terms of both longitude and latitude."
   ]
  },
  {
   "cell_type": "code",
   "execution_count": 73,
   "metadata": {},
   "outputs": [
    {
     "name": "stderr",
     "output_type": "stream",
     "text": [
      "100%|██████████| 536/536 [00:01<00:00, 479.52it/s]\n"
     ]
    }
   ],
   "source": [
    "for station_id in tqdm(locations['station_id']):\n",
    "    lat = locations.loc[locations['station_id'] == station_id, 'Lat']\n",
    "    lon = locations.loc[locations['station_id'] == station_id, 'Lon']\n",
    "\n",
    "    era_lat = np.round(lat * 10) / 10\n",
    "    era_lon = np.round(lon * 10) / 10\n",
    "\n",
    "    locations.loc[locations['station_id'] == station_id, 'era_lat'] = era_lat\n",
    "    locations.loc[locations['station_id'] == station_id, 'era_lon'] = era_lon\n"
   ]
  },
  {
   "cell_type": "code",
   "execution_count": 74,
   "metadata": {},
   "outputs": [
    {
     "data": {
      "text/html": [
       "<div>\n",
       "<style scoped>\n",
       "    .dataframe tbody tr th:only-of-type {\n",
       "        vertical-align: middle;\n",
       "    }\n",
       "\n",
       "    .dataframe tbody tr th {\n",
       "        vertical-align: top;\n",
       "    }\n",
       "\n",
       "    .dataframe thead th {\n",
       "        text-align: right;\n",
       "    }\n",
       "</style>\n",
       "<table border=\"1\" class=\"dataframe\">\n",
       "  <thead>\n",
       "    <tr style=\"text-align: right;\">\n",
       "      <th></th>\n",
       "      <th>station_id</th>\n",
       "      <th>Location name</th>\n",
       "      <th>ESMI_ID</th>\n",
       "      <th>District</th>\n",
       "      <th>State</th>\n",
       "      <th>Lat</th>\n",
       "      <th>Lon</th>\n",
       "      <th>era_min_time</th>\n",
       "      <th>era_max_time</th>\n",
       "      <th>era_lat</th>\n",
       "      <th>era_lon</th>\n",
       "    </tr>\n",
       "  </thead>\n",
       "  <tbody>\n",
       "    <tr>\n",
       "      <th>0</th>\n",
       "      <td>1</td>\n",
       "      <td>5th phase JP Nagar</td>\n",
       "      <td>NaN</td>\n",
       "      <td>Bengaluru Urban</td>\n",
       "      <td>Karnataka</td>\n",
       "      <td>12.901092</td>\n",
       "      <td>77.589150</td>\n",
       "      <td>2016-06-01</td>\n",
       "      <td>2017-07-01</td>\n",
       "      <td>12.9</td>\n",
       "      <td>77.6</td>\n",
       "    </tr>\n",
       "    <tr>\n",
       "      <th>1</th>\n",
       "      <td>2</td>\n",
       "      <td>80 feet road</td>\n",
       "      <td>NaN</td>\n",
       "      <td>Dhule</td>\n",
       "      <td>Maharashtra</td>\n",
       "      <td>20.895199</td>\n",
       "      <td>74.775982</td>\n",
       "      <td>2015-08-01</td>\n",
       "      <td>2018-11-01</td>\n",
       "      <td>20.9</td>\n",
       "      <td>74.8</td>\n",
       "    </tr>\n",
       "    <tr>\n",
       "      <th>2</th>\n",
       "      <td>3</td>\n",
       "      <td>Adarsh Nagar</td>\n",
       "      <td>NaN</td>\n",
       "      <td>Saharsa</td>\n",
       "      <td>Bihar</td>\n",
       "      <td>25.883507</td>\n",
       "      <td>86.614919</td>\n",
       "      <td>2016-02-01</td>\n",
       "      <td>2017-02-01</td>\n",
       "      <td>25.9</td>\n",
       "      <td>86.6</td>\n",
       "    </tr>\n",
       "    <tr>\n",
       "      <th>3</th>\n",
       "      <td>4</td>\n",
       "      <td>Adgaon</td>\n",
       "      <td>NaN</td>\n",
       "      <td>Nashik</td>\n",
       "      <td>Maharashtra</td>\n",
       "      <td>20.037184</td>\n",
       "      <td>73.850136</td>\n",
       "      <td>2018-04-01</td>\n",
       "      <td>2019-01-01</td>\n",
       "      <td>20.0</td>\n",
       "      <td>73.9</td>\n",
       "    </tr>\n",
       "    <tr>\n",
       "      <th>4</th>\n",
       "      <td>5</td>\n",
       "      <td>Agarchitti</td>\n",
       "      <td>NaN</td>\n",
       "      <td>Chamoli</td>\n",
       "      <td>Uttarakhand</td>\n",
       "      <td>30.016116</td>\n",
       "      <td>79.308735</td>\n",
       "      <td>2016-10-01</td>\n",
       "      <td>2017-07-01</td>\n",
       "      <td>30.0</td>\n",
       "      <td>79.3</td>\n",
       "    </tr>\n",
       "  </tbody>\n",
       "</table>\n",
       "</div>"
      ],
      "text/plain": [
       "   station_id       Location name ESMI_ID         District        State  \\\n",
       "0           1  5th phase JP Nagar     NaN  Bengaluru Urban    Karnataka   \n",
       "1           2        80 feet road     NaN            Dhule  Maharashtra   \n",
       "2           3       Adarsh Nagar      NaN          Saharsa        Bihar   \n",
       "3           4              Adgaon     NaN           Nashik  Maharashtra   \n",
       "4           5          Agarchitti     NaN          Chamoli  Uttarakhand   \n",
       "\n",
       "         Lat        Lon era_min_time era_max_time  era_lat  era_lon  \n",
       "0  12.901092  77.589150   2016-06-01   2017-07-01     12.9     77.6  \n",
       "1  20.895199  74.775982   2015-08-01   2018-11-01     20.9     74.8  \n",
       "2  25.883507  86.614919   2016-02-01   2017-02-01     25.9     86.6  \n",
       "3  20.037184  73.850136   2018-04-01   2019-01-01     20.0     73.9  \n",
       "4  30.016116  79.308735   2016-10-01   2017-07-01     30.0     79.3  "
      ]
     },
     "execution_count": 74,
     "metadata": {},
     "output_type": "execute_result"
    }
   ],
   "source": [
    "\n",
    "locations.head(5)\n"
   ]
  },
  {
   "cell_type": "code",
   "execution_count": null,
   "metadata": {},
   "outputs": [
    {
     "name": "stderr",
     "output_type": "stream",
     "text": [
      "/Users/rainylty/opt/anaconda3/envs/cp6542/lib/python3.11/site-packages/geopandas/plotting.py:732: FutureWarning: is_categorical_dtype is deprecated and will be removed in a future version. Use isinstance(dtype, CategoricalDtype) instead\n",
      "  if pd.api.types.is_categorical_dtype(values.dtype):\n"
     ]
    },
    {
     "data": {
      "text/plain": [
       "<Axes: >"
      ]
     },
     "execution_count": 51,
     "metadata": {},
     "output_type": "execute_result"
    },
    {
     "data": {
      "image/png": "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",
      "text/plain": [
       "<Figure size 1000x600 with 2 Axes>"
      ]
     },
     "metadata": {},
     "output_type": "display_data"
    }
   ],
   "source": [
    "\n",
    "# give the locations different colors based on the era_min_time, use year as unit, then plot\n",
    "locations_viz = locations.dropna(subset=['era_min_time'])\n",
    "\n",
    "locations_viz['era_min_time'] = pd.to_datetime(locations_viz['era_min_time'])\n",
    "locations_viz['era_min_year'] = locations_viz['era_min_time'].dt.strftime('%Y')\n",
    "\n",
    "geometry = [Point(xy) for xy in zip(locations_viz[\"Lon\"], locations_viz[\"Lat\"])]\n",
    "gdf.plot(ax=world.boundary.plot(figsize=(10, 6)), marker='o', column='era_min_time', cmap='viridis', legend=True, markersize=5)\n"
   ]
  },
  {
   "cell_type": "markdown",
   "metadata": {},
   "source": [
    "Below we can determine that some of the stations share the same ERA5 grid cell. Therefore, we'll download the ERA5 data and label it by its actual grid cell, that way we can reuse as needed."
   ]
  },
  {
   "cell_type": "code",
   "execution_count": 65,
   "metadata": {},
   "outputs": [
    {
     "name": "stdout",
     "output_type": "stream",
     "text": [
      "522\n"
     ]
    }
   ],
   "source": [
    "weather = set()\n",
    "for i in range(len(locations)):\n",
    "    weather.add((locations.iloc[i]['Lat'], locations.iloc[i]['Lon']))\n",
    "\n",
    "print(len(weather))"
   ]
  },
  {
   "cell_type": "code",
   "execution_count": null,
   "metadata": {},
   "outputs": [],
   "source": [
    "locations.to_csv(\"../era5_locations.csv\", index=False)"
   ]
  },
  {
   "cell_type": "markdown",
   "metadata": {},
   "source": [
    "We can now proceed to actual perform the downloading of the data, looping through each station and time, skipping the ones that have already been downloaded."
   ]
  },
  {
   "cell_type": "code",
   "execution_count": 80,
   "metadata": {},
   "outputs": [
    {
     "name": "stdout",
     "output_type": "stream",
     "text": [
      "2016-06-01 00:00:00\n",
      "2016\n",
      "06\n"
     ]
    },
    {
     "name": "stderr",
     "output_type": "stream",
     "text": [
      "2024-08-22 15:35:57,528 INFO Request ID is 5bdb58ce-496f-4795-bc49-126c70cbbebc\n",
      "2024-08-22 15:35:57,685 INFO status has been updated to accepted\n",
      "2024-08-22 15:36:18,182 INFO status has been updated to running\n",
      "2024-08-22 15:46:17,843 INFO Creating download object as as_source with files:\n",
      "['data_0.nc']\n",
      "2024-08-22 15:46:17,844 INFO status has been updated to successful\n",
      "                                                                                        \r"
     ]
    },
    {
     "name": "stdout",
     "output_type": "stream",
     "text": [
      "2016-07-01 00:00:00\n",
      "2016\n",
      "07\n"
     ]
    },
    {
     "name": "stderr",
     "output_type": "stream",
     "text": [
      "2024-08-22 15:46:19,843 INFO Request ID is facd9029-51e1-43ad-bcc8-d6781478cb96\n",
      "2024-08-22 15:46:19,974 INFO status has been updated to accepted\n",
      "2024-08-22 15:46:27,511 INFO status has been updated to running\n",
      "2024-08-22 16:08:42,470 INFO Creating download object as as_source with files:\n",
      "['data_0.nc']\n",
      "2024-08-22 16:08:42,486 INFO status has been updated to successful\n",
      "2024-08-22 16:08:44,694 INFO Request ID is d576078c-d7fe-43fc-a676-7eb9d0dfb12c       \n"
     ]
    },
    {
     "name": "stdout",
     "output_type": "stream",
     "text": [
      "2016-08-01 00:00:00\n",
      "2016\n",
      "08\n"
     ]
    },
    {
     "name": "stderr",
     "output_type": "stream",
     "text": [
      "2024-08-22 16:08:44,831 INFO status has been updated to accepted\n",
      "2024-08-22 16:09:34,073 INFO status has been updated to running\n",
      "2024-08-22 16:23:07,489 INFO Creating download object as as_source with files:\n",
      "['data_0.nc']\n",
      "2024-08-22 16:23:07,506 INFO status has been updated to successful\n",
      "                                                                                        \r"
     ]
    },
    {
     "name": "stdout",
     "output_type": "stream",
     "text": [
      "2016-09-01 00:00:00\n",
      "2016\n",
      "09\n"
     ]
    },
    {
     "name": "stderr",
     "output_type": "stream",
     "text": [
      "2024-08-22 16:23:09,542 INFO Request ID is 14d1a4be-7860-4b2f-b8de-cce215d86771\n",
      "2024-08-22 16:23:09,688 INFO status has been updated to accepted\n",
      "2024-08-22 16:23:41,645 INFO status has been updated to running\n",
      "2024-08-22 16:33:29,628 INFO Creating download object as as_source with files:\n",
      "['data_0.nc']\n",
      "2024-08-22 16:33:29,630 INFO status has been updated to successful\n",
      "                                                                                        \r"
     ]
    },
    {
     "name": "stdout",
     "output_type": "stream",
     "text": [
      "2016-10-01 00:00:00\n",
      "2016\n",
      "10\n"
     ]
    },
    {
     "name": "stderr",
     "output_type": "stream",
     "text": [
      "2024-08-22 16:33:31,618 INFO Request ID is fb99dbb1-c601-461d-a6c3-57322508e454\n",
      "2024-08-22 16:33:31,744 INFO status has been updated to accepted\n",
      "2024-08-22 16:33:39,276 INFO status has been updated to running\n",
      "2024-08-22 16:41:51,128 INFO Creating download object as as_source with files:\n",
      "['data_0.nc']\n",
      "2024-08-22 16:41:51,131 INFO status has been updated to successful\n",
      "2024-08-22 16:41:53,023 INFO Request ID is b198e0e1-a5e5-4e17-8502-4c39da13df68         \n"
     ]
    },
    {
     "name": "stdout",
     "output_type": "stream",
     "text": [
      "2016-11-01 00:00:00\n",
      "2016\n",
      "11\n"
     ]
    },
    {
     "name": "stderr",
     "output_type": "stream",
     "text": [
      "2024-08-22 16:41:53,168 INFO status has been updated to accepted\n",
      "2024-08-22 16:41:54,799 INFO status has been updated to running\n",
      "2024-08-22 16:50:14,863 INFO Creating download object as as_source with files:\n",
      "['data_0.nc']\n",
      "2024-08-22 16:50:14,865 INFO status has been updated to successful\n",
      "2024-08-22 16:50:16,762 INFO Request ID is 8a8cc7a8-2daf-4eac-aeb8-b374880b978a         \n"
     ]
    },
    {
     "name": "stdout",
     "output_type": "stream",
     "text": [
      "2016-12-01 00:00:00\n",
      "2016\n",
      "12\n"
     ]
    },
    {
     "name": "stderr",
     "output_type": "stream",
     "text": [
      "2024-08-22 16:50:16,892 INFO status has been updated to accepted\n",
      "2024-08-22 16:50:20,913 INFO status has been updated to running\n",
      "Recovering from connection error [('Connection aborted.', RemoteDisconnected('Remote end closed connection without response'))], attemps 1 of 500\n",
      "Retrying in 120 seconds\n",
      "2024-08-22 17:47:10,798 INFO Creating download object as as_source with files:\n",
      "['data_0.nc']\n",
      "2024-08-22 17:47:10,805 INFO status has been updated to successful\n",
      "                                                                                        \r"
     ]
    },
    {
     "name": "stdout",
     "output_type": "stream",
     "text": [
      "2017-01-01 00:00:00\n",
      "2017\n",
      "01\n"
     ]
    },
    {
     "name": "stderr",
     "output_type": "stream",
     "text": [
      "2024-08-22 17:47:12,826 INFO Request ID is c0b1b1da-8590-4e57-b38c-52280d5ddd0d\n",
      "2024-08-22 17:47:12,954 INFO status has been updated to accepted\n",
      "2024-08-22 17:47:16,973 INFO status has been updated to running\n",
      "2024-08-22 17:57:32,689 INFO Creating download object as as_source with files:\n",
      "['data_0.nc']\n",
      "2024-08-22 17:57:32,689 INFO status has been updated to successful\n",
      "2024-08-22 17:57:34,647 INFO Request ID is 43c371a8-865f-49bf-9ac4-938da117849e         \n"
     ]
    },
    {
     "name": "stdout",
     "output_type": "stream",
     "text": [
      "2017-02-01 00:00:00\n",
      "2017\n",
      "02\n"
     ]
    },
    {
     "name": "stderr",
     "output_type": "stream",
     "text": [
      "2024-08-22 17:57:34,788 INFO status has been updated to accepted\n",
      "2024-08-22 17:57:55,266 INFO status has been updated to running\n",
      "2024-08-22 18:07:54,641 INFO Creating download object as as_source with files:\n",
      "['data_0.nc']\n",
      "2024-08-22 18:07:54,641 INFO status has been updated to successful\n",
      "                                                                                        \r"
     ]
    },
    {
     "name": "stdout",
     "output_type": "stream",
     "text": [
      "2017-03-01 00:00:00\n",
      "2017\n",
      "03\n"
     ]
    },
    {
     "name": "stderr",
     "output_type": "stream",
     "text": [
      "2024-08-22 18:07:56,641 INFO Request ID is f6495500-8bcb-4734-b113-3b1aa875063d\n",
      "2024-08-22 18:07:56,772 INFO status has been updated to accepted\n",
      "2024-08-22 18:08:45,982 INFO status has been updated to running\n",
      "2024-08-22 18:18:16,573 INFO Creating download object as as_source with files:\n",
      "['data_0.nc']\n",
      "2024-08-22 18:18:16,575 INFO status has been updated to successful\n",
      "                                                                                        \r"
     ]
    },
    {
     "name": "stdout",
     "output_type": "stream",
     "text": [
      "2017-04-01 00:00:00\n",
      "2017\n",
      "04\n"
     ]
    },
    {
     "name": "stderr",
     "output_type": "stream",
     "text": [
      "2024-08-22 18:18:18,592 INFO Request ID is b1314de8-ae55-4874-b549-bb2c8d4960b6\n",
      "2024-08-22 18:18:18,730 INFO status has been updated to accepted\n",
      "2024-08-22 18:18:31,510 INFO status has been updated to running\n",
      "2024-08-22 18:26:38,228 INFO Creating download object as as_source with files:\n",
      "['data_0.nc']\n",
      "2024-08-22 18:26:38,230 INFO status has been updated to successful\n",
      "                                                                                        \r"
     ]
    },
    {
     "name": "stdout",
     "output_type": "stream",
     "text": [
      "2017-05-01 00:00:00\n",
      "2017\n",
      "05\n"
     ]
    },
    {
     "name": "stderr",
     "output_type": "stream",
     "text": [
      "2024-08-22 18:26:40,498 INFO Request ID is 4080cf6f-daed-42e0-bcbb-a8837ecb3b4f\n",
      "2024-08-22 18:26:40,630 INFO status has been updated to accepted\n",
      "2024-08-22 18:27:29,833 INFO status has been updated to running\n",
      "2024-08-22 18:35:00,044 INFO Creating download object as as_source with files:\n",
      "['data_0.nc']\n",
      "2024-08-22 18:35:00,045 INFO status has been updated to successful\n",
      "                                                                                        \r"
     ]
    },
    {
     "name": "stdout",
     "output_type": "stream",
     "text": [
      "2017-06-01 00:00:00\n",
      "2017\n",
      "06\n"
     ]
    },
    {
     "name": "stderr",
     "output_type": "stream",
     "text": [
      "2024-08-22 18:35:02,017 INFO Request ID is eb7fe455-c0a4-4d66-ada5-da43e8894178\n",
      "2024-08-22 18:35:02,149 INFO status has been updated to accepted\n",
      "2024-08-22 18:35:34,148 INFO status has been updated to running\n",
      "2024-08-22 18:43:21,552 INFO Creating download object as as_source with files:\n",
      "['data_0.nc']\n",
      "2024-08-22 18:43:21,553 INFO status has been updated to successful\n",
      "2024-08-22 18:43:23,492 INFO Request ID is a83ccbc5-ca73-4040-b20d-44f3f9a929b8         \n"
     ]
    },
    {
     "name": "stdout",
     "output_type": "stream",
     "text": [
      "2017-07-01 00:00:00\n",
      "2017\n",
      "07\n"
     ]
    },
    {
     "name": "stderr",
     "output_type": "stream",
     "text": [
      "2024-08-22 18:43:23,617 INFO status has been updated to accepted\n",
      "2024-08-22 18:43:25,252 INFO status has been updated to running\n",
      "2024-08-22 18:49:42,597 INFO Creating download object as as_source with files:\n",
      "['data_0.nc']\n",
      "2024-08-22 18:49:42,599 INFO status has been updated to successful\n",
      "                                                                                        \r"
     ]
    },
    {
     "name": "stdout",
     "output_type": "stream",
     "text": [
      "2017-08-01 00:00:00\n",
      "2017-07-01 00:00:00\n",
      "\n",
      "2015-08-01 00:00:00\n",
      "2015\n",
      "08\n"
     ]
    },
    {
     "name": "stderr",
     "output_type": "stream",
     "text": [
      "2024-08-22 18:49:44,507 INFO Request ID is c0db80a8-f7b4-45a0-8876-a907034c6309\n",
      "2024-08-22 18:49:44,689 INFO status has been updated to accepted\n",
      "2024-08-22 18:49:48,721 INFO status has been updated to running\n",
      "2024-08-22 18:58:04,093 INFO Creating download object as as_source with files:\n",
      "['data_0.nc']\n",
      "2024-08-22 18:58:04,094 INFO status has been updated to successful\n",
      "2024-08-22 18:58:06,074 INFO Request ID is cfaeec00-63f9-4862-9c32-2a15ff113556       \n"
     ]
    },
    {
     "name": "stdout",
     "output_type": "stream",
     "text": [
      "2015-09-01 00:00:00\n",
      "2015\n",
      "09\n"
     ]
    },
    {
     "name": "stderr",
     "output_type": "stream",
     "text": [
      "2024-08-22 18:58:06,204 INFO status has been updated to accepted\n",
      "2024-08-22 20:25:14,837 INFO status has been updated to running\n",
      "2024-08-22 20:33:16,480 INFO Creating download object as as_source with files:\n",
      "['data_0.nc']\n",
      "2024-08-22 20:33:16,481 INFO status has been updated to successful\n",
      "2024-08-22 20:33:18,430 INFO Request ID is 32deb65e-417c-4966-894b-ee9c54d592e8        \n"
     ]
    },
    {
     "name": "stdout",
     "output_type": "stream",
     "text": [
      "2015-10-01 00:00:00\n",
      "2015\n",
      "10\n"
     ]
    },
    {
     "name": "stderr",
     "output_type": "stream",
     "text": [
      "2024-08-22 20:33:18,573 INFO status has been updated to accepted\n",
      "2024-08-22 20:33:31,298 INFO status has been updated to running\n",
      "2024-08-22 21:27:05,961 INFO Creating download object as as_source with files:\n",
      "['data_0.nc']\n",
      "2024-08-22 21:27:05,964 INFO status has been updated to successful\n",
      "2024-08-22 21:27:07,858 INFO Request ID is 107c262c-ccd3-4241-86ad-7dff4a1cc290       \n"
     ]
    },
    {
     "name": "stdout",
     "output_type": "stream",
     "text": [
      "2015-11-01 00:00:00\n",
      "2015\n",
      "11\n"
     ]
    },
    {
     "name": "stderr",
     "output_type": "stream",
     "text": [
      "2024-08-22 21:27:07,983 INFO status has been updated to accepted\n",
      "2024-08-22 21:27:11,995 INFO status has been updated to running\n",
      "2024-08-22 21:35:27,424 INFO Creating download object as as_source with files:\n",
      "['data_0.nc']\n",
      "2024-08-22 21:35:27,426 INFO status has been updated to successful\n",
      "2024-08-22 21:35:29,282 INFO Request ID is 69a254d3-5bd4-448d-a92f-77e72049321c         \n"
     ]
    },
    {
     "name": "stdout",
     "output_type": "stream",
     "text": [
      "2015-12-01 00:00:00\n",
      "2015\n",
      "12\n"
     ]
    },
    {
     "name": "stderr",
     "output_type": "stream",
     "text": [
      "2024-08-22 21:35:29,409 INFO status has been updated to accepted\n",
      "2024-08-22 21:35:33,421 INFO status has been updated to running\n",
      "2024-08-22 21:45:49,232 INFO Creating download object as as_source with files:\n",
      "['data_0.nc']\n",
      "2024-08-22 21:45:49,236 INFO status has been updated to successful\n",
      "2024-08-22 21:45:51,121 INFO Request ID is 035c1974-900b-451b-ad21-5dd66af43a2f       \n"
     ]
    },
    {
     "name": "stdout",
     "output_type": "stream",
     "text": [
      "2016-01-01 00:00:00\n",
      "2016\n",
      "01\n"
     ]
    },
    {
     "name": "stderr",
     "output_type": "stream",
     "text": [
      "2024-08-22 21:45:51,257 INFO status has been updated to accepted\n",
      "2024-08-22 21:45:58,860 INFO status has been updated to running\n",
      "2024-08-22 21:56:11,685 INFO Creating download object as as_source with files:\n",
      "['data_0.nc']\n",
      "2024-08-22 21:56:11,686 INFO status has been updated to successful\n",
      "2024-08-22 21:56:13,579 INFO Request ID is 8117301e-335a-4b8b-afd3-7943a23341ab         \n"
     ]
    },
    {
     "name": "stdout",
     "output_type": "stream",
     "text": [
      "2016-02-01 00:00:00\n",
      "2016\n",
      "02\n"
     ]
    },
    {
     "name": "stderr",
     "output_type": "stream",
     "text": [
      "2024-08-22 21:56:13,709 INFO status has been updated to accepted\n",
      "2024-08-22 21:56:21,258 INFO status has been updated to running\n",
      "2024-08-22 22:00:32,325 INFO status has been updated to accepted\n",
      "2024-08-22 22:06:33,543 INFO Creating download object as as_source with files:\n",
      "['data_0.nc']\n",
      "2024-08-22 23:16:52,710 INFO status has been updated to successful\n",
      "2024-08-22 23:16:54,671 INFO Request ID is d09d0f23-5f45-4a5b-96b3-81c32573c807         \n"
     ]
    },
    {
     "name": "stdout",
     "output_type": "stream",
     "text": [
      "2016-03-01 00:00:00\n",
      "2016\n",
      "03\n"
     ]
    },
    {
     "name": "stderr",
     "output_type": "stream",
     "text": [
      "2024-08-22 23:16:54,804 INFO status has been updated to accepted\n",
      "2024-08-22 23:16:56,437 INFO status has been updated to running\n",
      "2024-08-22 23:33:16,505 INFO Creating download object as as_source with files:\n",
      "['data_0.nc']\n",
      "2024-08-22 23:33:16,506 INFO status has been updated to successful\n",
      "2024-08-22 23:33:18,491 INFO Request ID is 147db2d0-39ce-4ebf-9b34-a9b579a5f1bd       \n"
     ]
    },
    {
     "name": "stdout",
     "output_type": "stream",
     "text": [
      "2016-04-01 00:00:00\n",
      "2016\n",
      "04\n"
     ]
    },
    {
     "name": "stderr",
     "output_type": "stream",
     "text": [
      "2024-08-22 23:33:18,620 INFO status has been updated to accepted\n",
      "2024-08-22 23:33:22,662 INFO status has been updated to running\n",
      "2024-08-22 23:41:38,139 INFO Creating download object as as_source with files:\n",
      "['data_0.nc']\n",
      "2024-08-22 23:41:38,140 INFO status has been updated to successful\n",
      "2024-08-22 23:41:40,014 INFO Request ID is e2cdac1c-52a3-4848-85c9-05d00a8aadf4         \n"
     ]
    },
    {
     "name": "stdout",
     "output_type": "stream",
     "text": [
      "2016-05-01 00:00:00\n",
      "2016\n",
      "05\n"
     ]
    },
    {
     "name": "stderr",
     "output_type": "stream",
     "text": [
      "2024-08-22 23:41:40,141 INFO status has been updated to accepted\n",
      "2024-08-22 23:42:29,379 INFO status has been updated to running\n",
      "2024-08-22 23:51:59,964 INFO Creating download object as as_source with files:\n",
      "['data_0.nc']\n",
      "2024-08-22 23:51:59,964 INFO status has been updated to successful\n",
      "                                                                                      \r"
     ]
    },
    {
     "name": "stdout",
     "output_type": "stream",
     "text": [
      "2016-06-01 00:00:00\n",
      "2016\n",
      "06\n"
     ]
    },
    {
     "name": "stderr",
     "output_type": "stream",
     "text": [
      "2024-08-22 23:52:01,917 INFO Request ID is 3d1188ec-820a-4a8e-93d5-31c28c372160\n",
      "2024-08-22 23:52:02,047 INFO status has been updated to accepted\n",
      "2024-08-22 23:52:34,042 INFO status has been updated to running\n",
      "2024-08-23 00:02:22,028 INFO Creating download object as as_source with files:\n",
      "['data_0.nc']\n",
      "2024-08-23 00:02:22,029 INFO status has been updated to successful\n",
      "2024-08-23 00:02:24,016 INFO Request ID is b7f951d1-21f3-438e-be3c-e0a0118eab89         \n"
     ]
    },
    {
     "name": "stdout",
     "output_type": "stream",
     "text": [
      "2016-07-01 00:00:00\n",
      "2016\n",
      "07\n"
     ]
    },
    {
     "name": "stderr",
     "output_type": "stream",
     "text": [
      "2024-08-23 00:02:24,162 INFO status has been updated to accepted\n",
      "2024-08-23 01:20:59,706 INFO status has been updated to running\n",
      "2024-08-23 01:31:01,756 INFO Creating download object as as_source with files:\n",
      "['data_0.nc']\n",
      "2024-08-23 01:31:01,757 INFO status has been updated to successful\n",
      "2024-08-23 01:31:03,676 INFO Request ID is 0130f03f-2fdc-47d4-86d9-09aab365d3f5         \n"
     ]
    },
    {
     "name": "stdout",
     "output_type": "stream",
     "text": [
      "2016-08-01 00:00:00\n",
      "2016\n",
      "08\n"
     ]
    },
    {
     "name": "stderr",
     "output_type": "stream",
     "text": [
      "2024-08-23 01:31:03,809 INFO status has been updated to accepted\n",
      "2024-08-23 01:31:35,821 INFO status has been updated to running\n",
      "2024-08-23 01:43:24,019 INFO Creating download object as as_source with files:\n",
      "['data_0.nc']\n",
      "2024-08-23 01:43:24,020 INFO status has been updated to successful\n",
      "                                                                                        \r"
     ]
    },
    {
     "name": "stdout",
     "output_type": "stream",
     "text": [
      "2016-09-01 00:00:00\n",
      "2016\n",
      "09\n"
     ]
    },
    {
     "name": "stderr",
     "output_type": "stream",
     "text": [
      "2024-08-23 01:43:26,030 INFO Request ID is 6667a4b8-a4a0-4568-aa8f-3f7cb1bda25d\n",
      "2024-08-23 01:43:26,161 INFO status has been updated to accepted\n",
      "2024-08-23 01:43:46,616 INFO status has been updated to running\n",
      "2024-08-23 01:53:46,634 INFO Creating download object as as_source with files:\n",
      "['data_0.nc']\n",
      "2024-08-23 01:53:46,637 INFO status has been updated to successful\n",
      "2024-08-23 01:53:48,548 INFO Request ID is ff217697-0b83-46e9-ac38-36e4c3a5a335         \n"
     ]
    },
    {
     "name": "stdout",
     "output_type": "stream",
     "text": [
      "2016-10-01 00:00:00\n",
      "2016\n",
      "10\n"
     ]
    },
    {
     "name": "stderr",
     "output_type": "stream",
     "text": [
      "2024-08-23 01:53:48,680 INFO status has been updated to accepted\n",
      "2024-08-23 01:54:09,172 INFO status has been updated to running\n",
      "2024-08-23 02:10:09,682 INFO Creating download object as as_source with files:\n",
      "['data_0.nc']\n",
      "2024-08-23 02:10:09,685 INFO status has been updated to successful\n",
      "2024-08-23 02:10:11,757 INFO Request ID is 386287a3-0cf8-4b75-a285-8f6e0eea8525       \n"
     ]
    },
    {
     "name": "stdout",
     "output_type": "stream",
     "text": [
      "2016-11-01 00:00:00\n",
      "2016\n",
      "11\n"
     ]
    },
    {
     "name": "stderr",
     "output_type": "stream",
     "text": [
      "2024-08-23 02:10:11,938 INFO status has been updated to accepted\n",
      "2024-08-23 02:10:43,956 INFO status has been updated to running\n",
      "2024-08-23 02:20:31,747 INFO Creating download object as as_source with files:\n",
      "['data_0.nc']\n",
      "2024-08-23 02:20:31,748 INFO status has been updated to successful\n",
      "2024-08-23 02:20:33,634 INFO Request ID is b354d5f6-7646-40d9-b393-ed7127db9d92         \n"
     ]
    },
    {
     "name": "stdout",
     "output_type": "stream",
     "text": [
      "2016-12-01 00:00:00\n",
      "2016\n",
      "12\n"
     ]
    },
    {
     "name": "stderr",
     "output_type": "stream",
     "text": [
      "2024-08-23 02:20:33,763 INFO status has been updated to accepted\n",
      "2024-08-23 02:20:41,308 INFO status has been updated to running\n",
      "2024-08-23 02:30:53,544 INFO Creating download object as as_source with files:\n",
      "['data_0.nc']\n",
      "2024-08-23 02:30:53,545 INFO status has been updated to successful\n",
      "2024-08-23 02:30:55,449 INFO Request ID is c03222c9-324f-40e3-bb4a-aa731b1e726b         \n"
     ]
    },
    {
     "name": "stdout",
     "output_type": "stream",
     "text": [
      "2017-01-01 00:00:00\n",
      "2017\n",
      "01\n"
     ]
    },
    {
     "name": "stderr",
     "output_type": "stream",
     "text": [
      "2024-08-23 02:30:55,581 INFO status has been updated to accepted\n",
      "2024-08-23 02:31:16,166 INFO status has been updated to running\n",
      "2024-08-23 02:43:15,965 INFO Creating download object as as_source with files:\n",
      "['data_0.nc']\n",
      "2024-08-23 02:43:15,967 INFO status has been updated to successful\n",
      "2024-08-23 02:43:17,874 INFO Request ID is cc0f9816-62c9-4c50-9f86-d72060b3c989       \n"
     ]
    },
    {
     "name": "stdout",
     "output_type": "stream",
     "text": [
      "2017-02-01 00:00:00\n",
      "2017\n",
      "02\n"
     ]
    },
    {
     "name": "stderr",
     "output_type": "stream",
     "text": [
      "2024-08-23 02:43:18,008 INFO status has been updated to accepted\n",
      "2024-08-23 02:43:30,763 INFO status has been updated to running\n",
      "2024-08-23 02:55:39,084 INFO Creating download object as as_source with files:\n",
      "['data_0.nc']\n",
      "2024-08-23 02:55:39,085 INFO status has been updated to successful\n",
      "2024-08-23 02:55:41,150 INFO Request ID is a72313ad-8d7a-497f-84ee-5a36f02338b3         \n"
     ]
    },
    {
     "name": "stdout",
     "output_type": "stream",
     "text": [
      "2017-03-01 00:00:00\n",
      "2017\n",
      "03\n"
     ]
    },
    {
     "name": "stderr",
     "output_type": "stream",
     "text": [
      "2024-08-23 02:55:41,280 INFO status has been updated to accepted\n",
      "2024-08-23 02:56:01,771 INFO status has been updated to running\n",
      "2024-08-23 03:06:01,070 INFO Creating download object as as_source with files:\n",
      "['data_0.nc']\n",
      "2024-08-23 03:06:01,070 INFO status has been updated to successful\n",
      "2024-08-23 03:06:02,999 INFO Request ID is 02bb77d4-3c32-4596-bbc5-d69e59323236         \n"
     ]
    },
    {
     "name": "stdout",
     "output_type": "stream",
     "text": [
      "2017-04-01 00:00:00\n",
      "2017\n",
      "04\n"
     ]
    },
    {
     "name": "stderr",
     "output_type": "stream",
     "text": [
      "2024-08-23 03:06:03,149 INFO status has been updated to accepted\n",
      "2024-08-23 03:06:52,353 INFO status has been updated to running\n",
      "2024-08-23 03:16:23,344 INFO Creating download object as as_source with files:\n",
      "['data_0.nc']\n",
      "2024-08-23 03:16:23,345 INFO status has been updated to successful\n",
      "2024-08-23 03:16:25,298 INFO Request ID is 75a53751-1f64-450c-904a-a82d9bd9d28e         \n"
     ]
    },
    {
     "name": "stdout",
     "output_type": "stream",
     "text": [
      "2017-05-01 00:00:00\n",
      "2017\n",
      "05\n"
     ]
    },
    {
     "name": "stderr",
     "output_type": "stream",
     "text": [
      "2024-08-23 03:16:25,443 INFO status has been updated to accepted\n",
      "2024-08-23 03:16:38,208 INFO status has been updated to running\n",
      "2024-08-23 03:24:44,816 INFO Creating download object as as_source with files:\n",
      "['data_0.nc']\n",
      "2024-08-23 03:24:44,816 INFO status has been updated to successful\n",
      "                                                                                        \r"
     ]
    },
    {
     "name": "stdout",
     "output_type": "stream",
     "text": [
      "2017-06-01 00:00:00\n",
      "2017\n",
      "06\n"
     ]
    },
    {
     "name": "stderr",
     "output_type": "stream",
     "text": [
      "2024-08-23 03:24:46,738 INFO Request ID is f473f3cc-5995-406d-857b-c30e4796cddb\n",
      "2024-08-23 03:24:46,873 INFO status has been updated to accepted\n",
      "2024-08-23 03:26:01,896 INFO status has been updated to running\n",
      "2024-08-23 03:33:06,315 INFO Creating download object as as_source with files:\n",
      "['data_0.nc']\n",
      "2024-08-23 03:33:06,316 INFO status has been updated to successful\n",
      "                                                                                       \r"
     ]
    },
    {
     "name": "stdout",
     "output_type": "stream",
     "text": [
      "2017-07-01 00:00:00\n",
      "2017\n",
      "07\n"
     ]
    },
    {
     "name": "stderr",
     "output_type": "stream",
     "text": [
      "2024-08-23 03:33:08,237 INFO Request ID is 18edfd4d-b5be-4e11-b694-24e456cf6ab6\n",
      "2024-08-23 03:33:08,366 INFO status has been updated to accepted\n",
      "2024-08-23 03:33:12,398 INFO status has been updated to running\n",
      "2024-08-23 03:39:27,355 INFO Creating download object as as_source with files:\n",
      "['data_0.nc']\n",
      "2024-08-23 03:39:27,356 INFO status has been updated to successful\n",
      "2024-08-23 03:39:29,278 INFO Request ID is b5b56829-7c60-499a-b0d3-8602cc2cd33f       \n"
     ]
    },
    {
     "name": "stdout",
     "output_type": "stream",
     "text": [
      "2017-08-01 00:00:00\n",
      "2017\n",
      "08\n"
     ]
    },
    {
     "name": "stderr",
     "output_type": "stream",
     "text": [
      "2024-08-23 03:39:29,404 INFO status has been updated to accepted\n",
      "2024-08-23 03:39:49,902 INFO status has been updated to running\n",
      "2024-08-23 03:49:49,223 INFO Creating download object as as_source with files:\n",
      "['data_0.nc']\n",
      "2024-08-23 03:49:49,224 INFO status has been updated to successful\n",
      "2024-08-23 03:49:51,149 INFO Request ID is 2c39e645-d8a7-49d0-a55f-6fe6e8803f7c       \n"
     ]
    },
    {
     "name": "stdout",
     "output_type": "stream",
     "text": [
      "2017-09-01 00:00:00\n",
      "2017\n",
      "09\n"
     ]
    },
    {
     "name": "stderr",
     "output_type": "stream",
     "text": [
      "2024-08-23 03:49:51,283 INFO status has been updated to accepted\n",
      "2024-08-23 03:49:52,935 INFO status has been updated to running\n",
      "2024-08-23 04:04:12,005 INFO Creating download object as as_source with files:\n",
      "['data_0.nc']\n",
      "2024-08-23 04:04:12,006 INFO status has been updated to successful\n",
      "2024-08-23 04:04:13,905 INFO Request ID is d3e8a128-4dda-47d7-acb2-f3a432392e49         \n"
     ]
    },
    {
     "name": "stdout",
     "output_type": "stream",
     "text": [
      "2017-10-01 00:00:00\n",
      "2017\n",
      "10\n"
     ]
    },
    {
     "name": "stderr",
     "output_type": "stream",
     "text": [
      "2024-08-23 04:04:14,038 INFO status has been updated to accepted\n",
      "2024-08-23 04:04:26,791 INFO status has been updated to running\n",
      "2024-08-23 04:12:33,652 INFO status has been updated to accepted\n",
      "2024-08-23 04:14:34,440 INFO Creating download object as as_source with files:\n",
      "['data_0.nc']\n",
      "2024-08-23 04:50:43,540 INFO status has been updated to successful\n",
      "                                                                                      \r"
     ]
    },
    {
     "name": "stdout",
     "output_type": "stream",
     "text": [
      "2017-11-01 00:00:00\n",
      "2017\n",
      "11\n"
     ]
    },
    {
     "name": "stderr",
     "output_type": "stream",
     "text": [
      "2024-08-23 04:50:45,487 INFO Request ID is 262e23c2-fe46-4ee5-937b-e4f572e6ee88\n",
      "2024-08-23 04:50:45,633 INFO status has been updated to accepted\n",
      "2024-08-23 05:43:14,274 INFO status has been updated to running\n",
      "2024-08-23 05:51:15,955 INFO Creating download object as as_source with files:\n",
      "['data_0.nc']\n",
      "2024-08-23 05:51:15,956 INFO status has been updated to successful\n",
      "2024-08-23 05:51:17,881 INFO Request ID is f7def391-4bf6-41fd-8e09-e1f04f98da38         \n"
     ]
    },
    {
     "name": "stdout",
     "output_type": "stream",
     "text": [
      "2017-12-01 00:00:00\n",
      "2017\n",
      "12\n"
     ]
    },
    {
     "name": "stderr",
     "output_type": "stream",
     "text": [
      "2024-08-23 05:51:18,008 INFO status has been updated to accepted\n",
      "2024-08-23 06:15:41,763 INFO status has been updated to running\n",
      "2024-08-23 06:27:44,491 INFO Creating download object as as_source with files:\n",
      "['data_0.nc']\n",
      "2024-08-23 06:27:44,492 INFO status has been updated to successful\n",
      "2024-08-23 06:27:46,455 INFO Request ID is 075ebfcb-aa83-4628-bb1c-cad8eeb28924       \n"
     ]
    },
    {
     "name": "stdout",
     "output_type": "stream",
     "text": [
      "2018-01-01 00:00:00\n",
      "2018\n",
      "01\n"
     ]
    },
    {
     "name": "stderr",
     "output_type": "stream",
     "text": [
      "2024-08-23 06:27:46,906 INFO status has been updated to accepted\n",
      "2024-08-23 06:50:09,309 INFO status has been updated to running\n",
      "2024-08-23 06:56:10,660 INFO Creating download object as as_source with files:\n",
      "['data_0.nc']\n",
      "2024-08-23 06:56:10,660 INFO status has been updated to successful\n",
      "                                                                                      \r"
     ]
    },
    {
     "name": "stdout",
     "output_type": "stream",
     "text": [
      "2018-02-01 00:00:00\n",
      "2018\n",
      "02\n"
     ]
    },
    {
     "name": "stderr",
     "output_type": "stream",
     "text": [
      "2024-08-23 06:56:12,674 INFO Request ID is ad20cf18-71df-485d-9b45-059e35c0682a\n",
      "2024-08-23 06:56:12,802 INFO status has been updated to accepted\n",
      "2024-08-23 07:16:35,050 INFO status has been updated to running\n",
      "2024-08-23 07:24:36,720 INFO Creating download object as as_source with files:\n",
      "['data_0.nc']\n",
      "2024-08-23 07:24:36,721 INFO status has been updated to successful\n",
      "2024-08-23 07:24:38,638 INFO Request ID is c99b3df6-fd00-4d58-a368-b30be298a8ef         \n"
     ]
    },
    {
     "name": "stdout",
     "output_type": "stream",
     "text": [
      "2018-03-01 00:00:00\n",
      "2018\n",
      "03\n"
     ]
    },
    {
     "name": "stderr",
     "output_type": "stream",
     "text": [
      "2024-08-23 07:24:38,784 INFO status has been updated to accepted\n",
      "2024-08-23 07:38:59,472 INFO status has been updated to running\n",
      "2024-08-23 07:45:00,724 INFO Creating download object as as_source with files:\n",
      "['data_0.nc']\n",
      "2024-08-23 07:45:00,725 INFO status has been updated to successful\n",
      "                                                                                      \r"
     ]
    },
    {
     "name": "stdout",
     "output_type": "stream",
     "text": [
      "2018-04-01 00:00:00\n",
      "2018\n",
      "04\n"
     ]
    },
    {
     "name": "stderr",
     "output_type": "stream",
     "text": [
      "2024-08-23 07:45:02,747 INFO Request ID is ebf36b8c-a96a-4c79-97c9-489869b7831c\n",
      "2024-08-23 07:45:02,876 INFO status has been updated to accepted\n",
      "2024-08-23 07:57:23,176 INFO status has been updated to running\n",
      "2024-08-23 08:05:24,921 INFO Creating download object as as_source with files:\n",
      "['data_0.nc']\n",
      "2024-08-23 08:05:24,922 INFO status has been updated to successful\n",
      "2024-08-23 08:05:26,832 INFO Request ID is ebe4fcd5-6933-40c6-8b58-201d9c79cc61         \n"
     ]
    },
    {
     "name": "stdout",
     "output_type": "stream",
     "text": [
      "2018-05-01 00:00:00\n",
      "2018\n",
      "05\n"
     ]
    },
    {
     "name": "stderr",
     "output_type": "stream",
     "text": [
      "2024-08-23 08:05:26,963 INFO status has been updated to accepted\n",
      "2024-08-23 08:17:48,206 INFO status has been updated to running\n",
      "2024-08-23 08:27:50,256 INFO Creating download object as as_source with files:\n",
      "['data_0.nc']\n",
      "2024-08-23 08:27:50,257 INFO status has been updated to successful\n",
      "2024-08-23 08:27:52,150 INFO Request ID is 69afe2e0-0d27-4938-abb3-28451e54c502         \n"
     ]
    },
    {
     "name": "stdout",
     "output_type": "stream",
     "text": [
      "2018-06-01 00:00:00\n",
      "2018\n",
      "06\n"
     ]
    },
    {
     "name": "stderr",
     "output_type": "stream",
     "text": [
      "2024-08-23 08:27:52,293 INFO status has been updated to accepted\n",
      "2024-08-23 08:38:12,109 INFO status has been updated to running\n",
      "2024-08-23 08:48:14,167 INFO Creating download object as as_source with files:\n",
      "['data_0.nc']\n",
      "2024-08-23 08:48:14,168 INFO status has been updated to successful\n",
      "2024-08-23 08:48:16,056 INFO Request ID is 88a398a6-2259-4909-a3d5-7d54d78e2128         \n"
     ]
    },
    {
     "name": "stdout",
     "output_type": "stream",
     "text": [
      "2018-07-01 00:00:00\n",
      "2018\n",
      "07\n"
     ]
    },
    {
     "name": "stderr",
     "output_type": "stream",
     "text": [
      "2024-08-23 08:48:16,184 INFO status has been updated to accepted\n",
      "2024-08-23 08:58:37,346 INFO status has been updated to running\n",
      "2024-08-23 09:04:38,612 INFO Creating download object as as_source with files:\n",
      "['data_0.nc']\n",
      "2024-08-23 09:04:38,613 INFO status has been updated to successful\n",
      "2024-08-23 09:04:40,538 INFO Request ID is c88fe251-92bf-4bce-b823-a6c5a01909c8       \n"
     ]
    },
    {
     "name": "stdout",
     "output_type": "stream",
     "text": [
      "2018-08-01 00:00:00\n",
      "2018\n",
      "08\n"
     ]
    },
    {
     "name": "stderr",
     "output_type": "stream",
     "text": [
      "2024-08-23 09:04:40,716 INFO status has been updated to accepted\n",
      "2024-08-23 09:19:01,338 INFO status has been updated to running\n",
      "2024-08-23 09:29:03,397 INFO Creating download object as as_source with files:\n",
      "['data_0.nc']\n",
      "2024-08-23 09:29:03,398 INFO status has been updated to successful\n",
      "2024-08-23 09:29:05,438 INFO Request ID is 7aa0ea9e-1867-4af8-9e63-231b60115a2e       \n"
     ]
    },
    {
     "name": "stdout",
     "output_type": "stream",
     "text": [
      "2018-09-01 00:00:00\n",
      "2018\n",
      "09\n"
     ]
    },
    {
     "name": "stderr",
     "output_type": "stream",
     "text": [
      "2024-08-23 09:29:05,582 INFO status has been updated to accepted\n",
      "2024-08-23 09:43:26,235 INFO status has been updated to running\n",
      "2024-08-23 09:49:27,484 INFO Creating download object as as_source with files:\n",
      "['data_0.nc']\n",
      "2024-08-23 09:49:27,486 INFO status has been updated to successful\n",
      "2024-08-23 09:49:29,343 INFO Request ID is f86d6667-409a-43b8-a178-c1d44114e73b         \n"
     ]
    },
    {
     "name": "stdout",
     "output_type": "stream",
     "text": [
      "2018-10-01 00:00:00\n",
      "2018\n",
      "10\n"
     ]
    },
    {
     "name": "stderr",
     "output_type": "stream",
     "text": [
      "2024-08-23 09:49:29,484 INFO status has been updated to accepted\n",
      "2024-08-23 10:01:50,192 INFO status has been updated to running\n",
      "2024-08-23 10:17:54,416 INFO Creating download object as as_source with files:\n",
      "['data_0.nc']\n",
      "2024-08-23 10:17:54,417 INFO status has been updated to successful\n",
      "2024-08-23 10:17:56,298 INFO Request ID is 46a509f1-8109-4586-8df3-0fc4d5d1910c         \n"
     ]
    },
    {
     "name": "stdout",
     "output_type": "stream",
     "text": [
      "2018-11-01 00:00:00\n",
      "2018\n",
      "11\n"
     ]
    },
    {
     "name": "stderr",
     "output_type": "stream",
     "text": [
      "2024-08-23 10:17:56,433 INFO status has been updated to accepted\n",
      "2024-08-23 10:28:16,314 INFO status has been updated to running\n",
      "2024-08-23 10:34:17,721 INFO Creating download object as as_source with files:\n",
      "['data_0.nc']\n",
      "2024-08-23 10:34:17,723 INFO status has been updated to successful\n",
      "                                                                                        \r"
     ]
    },
    {
     "name": "stdout",
     "output_type": "stream",
     "text": [
      "2018-12-01 00:00:00\n",
      "2018-11-01 00:00:00\n",
      "\n",
      "2016-02-01 00:00:00\n",
      "2016\n",
      "02\n"
     ]
    },
    {
     "name": "stderr",
     "output_type": "stream",
     "text": [
      "2024-08-23 10:34:19,665 INFO Request ID is 4c1b0feb-9147-4120-85d4-4585b2c1e075\n",
      "2024-08-23 10:34:19,793 INFO status has been updated to accepted\n",
      "2024-08-23 10:48:40,419 INFO status has been updated to running\n",
      "2024-08-23 10:56:45,237 INFO Creating download object as as_source with files:\n",
      "['data_0.nc']\n",
      "2024-08-23 10:56:45,238 INFO status has been updated to successful\n",
      "2024-08-23 10:56:47,153 INFO Request ID is 30685e67-9023-4e10-9c31-591eb6f59dd7         \n"
     ]
    },
    {
     "name": "stdout",
     "output_type": "stream",
     "text": [
      "2016-03-01 00:00:00\n",
      "2016\n",
      "03\n"
     ]
    },
    {
     "name": "stderr",
     "output_type": "stream",
     "text": [
      "2024-08-23 10:56:47,279 INFO status has been updated to accepted\n",
      "2024-08-23 11:07:07,090 INFO status has been updated to running\n",
      "2024-08-23 11:21:10,000 INFO Creating download object as as_source with files:\n",
      "['data_0.nc']\n",
      "2024-08-23 11:21:10,001 INFO status has been updated to successful\n",
      "                                                                                     \r"
     ]
    },
    {
     "name": "stdout",
     "output_type": "stream",
     "text": [
      "2016-04-01 00:00:00\n",
      "2016\n",
      "04\n"
     ]
    },
    {
     "name": "stderr",
     "output_type": "stream",
     "text": [
      "2024-08-23 11:21:11,946 INFO Request ID is a06ec159-098f-44cf-b972-5d6cc3440107\n",
      "2024-08-23 11:21:12,078 INFO status has been updated to accepted\n",
      "2024-08-23 11:33:32,344 INFO status has been updated to running\n",
      "2024-08-23 11:39:33,589 INFO Creating download object as as_source with files:\n",
      "['data_0.nc']\n",
      "2024-08-23 11:39:33,590 INFO status has been updated to successful\n",
      "2024-08-23 11:39:35,508 INFO Request ID is c21ac688-ba90-4113-8509-f366e3c2e7ca         \n"
     ]
    },
    {
     "name": "stdout",
     "output_type": "stream",
     "text": [
      "2016-05-01 00:00:00\n",
      "2016\n",
      "05\n"
     ]
    },
    {
     "name": "stderr",
     "output_type": "stream",
     "text": [
      "2024-08-23 11:39:35,640 INFO status has been updated to accepted\n",
      "2024-08-23 11:55:56,912 INFO status has been updated to running\n",
      "2024-08-23 12:05:58,962 INFO Creating download object as as_source with files:\n",
      "['data_0.nc']\n",
      "2024-08-23 12:05:58,963 INFO status has been updated to successful\n",
      "                                                                                        \r"
     ]
    },
    {
     "name": "stdout",
     "output_type": "stream",
     "text": [
      "2016-06-01 00:00:00\n",
      "2016\n",
      "06\n"
     ]
    },
    {
     "name": "stderr",
     "output_type": "stream",
     "text": [
      "2024-08-23 12:06:01,099 INFO Request ID is 648c5eab-7265-4fd2-9a14-bd0d023ec6ed\n",
      "2024-08-23 12:06:01,226 INFO status has been updated to accepted\n",
      "2024-08-23 12:28:23,533 INFO status has been updated to running\n",
      "2024-08-23 12:36:25,267 INFO Creating download object as as_source with files:\n",
      "['data_0.nc']\n",
      "2024-08-23 12:36:25,268 INFO status has been updated to successful\n",
      "2024-08-23 12:36:27,212 INFO Request ID is 359e459a-aafa-45ef-8975-2f2b696ee321         \n"
     ]
    },
    {
     "name": "stdout",
     "output_type": "stream",
     "text": [
      "2016-07-01 00:00:00\n",
      "2016\n",
      "07\n"
     ]
    },
    {
     "name": "stderr",
     "output_type": "stream",
     "text": [
      "2024-08-23 12:36:27,359 INFO status has been updated to accepted\n",
      "2024-08-23 12:56:49,382 INFO status has been updated to running\n",
      "2024-08-23 13:06:51,456 INFO Creating download object as as_source with files:\n",
      "['data_0.nc']\n",
      "2024-08-23 13:06:51,457 INFO status has been updated to successful\n",
      "2024-08-23 13:06:53,446 INFO Request ID is a5cb2e00-7ebb-47d2-ba68-9e6f147253c1       \n"
     ]
    },
    {
     "name": "stdout",
     "output_type": "stream",
     "text": [
      "2016-08-01 00:00:00\n",
      "2016\n",
      "08\n"
     ]
    },
    {
     "name": "stderr",
     "output_type": "stream",
     "text": [
      "2024-08-23 13:06:53,570 INFO status has been updated to accepted\n",
      "2024-08-23 13:19:11,550 INFO status has been updated to running\n",
      "2024-08-23 13:29:13,624 INFO Creating download object as as_source with files:\n",
      "['data_0.nc']\n",
      "2024-08-23 13:29:13,628 INFO status has been updated to successful\n",
      "                                                                                      \r"
     ]
    },
    {
     "name": "stdout",
     "output_type": "stream",
     "text": [
      "2016-09-01 00:00:00\n",
      "2016\n",
      "09\n"
     ]
    },
    {
     "name": "stderr",
     "output_type": "stream",
     "text": [
      "2024-08-23 13:29:15,625 INFO Request ID is a64087dd-f08a-4943-a678-0ccf9b553bb5\n",
      "2024-08-23 13:29:15,767 INFO status has been updated to accepted\n",
      "2024-08-23 13:35:34,838 INFO status has been updated to running\n",
      "2024-08-23 13:43:36,471 INFO Creating download object as as_source with files:\n",
      "['data_0.nc']\n",
      "2024-08-23 13:43:36,472 INFO status has been updated to successful\n",
      "                                                                                        \r"
     ]
    },
    {
     "name": "stdout",
     "output_type": "stream",
     "text": [
      "2016-10-01 00:00:00\n",
      "2016\n",
      "10\n"
     ]
    },
    {
     "name": "stderr",
     "output_type": "stream",
     "text": [
      "2024-08-23 13:43:38,379 INFO Request ID is f914312c-a809-47fa-b751-1c4fab2e27a3\n",
      "2024-08-23 13:43:38,520 INFO status has been updated to accepted\n",
      "2024-08-23 13:54:00,578 INFO status has been updated to running\n",
      "2024-08-23 14:00:01,875 INFO Creating download object as as_source with files:\n",
      "['data_0.nc']\n",
      "2024-08-23 14:00:01,877 INFO status has been updated to successful\n",
      "2024-08-23 14:00:04,735 INFO Request ID is 7447f046-2b3e-4dea-8216-ba1f55f6beea       \n"
     ]
    },
    {
     "name": "stdout",
     "output_type": "stream",
     "text": [
      "2016-11-01 00:00:00\n",
      "2016\n",
      "11\n"
     ]
    },
    {
     "name": "stderr",
     "output_type": "stream",
     "text": [
      "2024-08-23 14:00:04,863 INFO status has been updated to accepted\n",
      "2024-08-23 14:08:24,210 INFO status has been updated to running\n",
      "2024-08-23 14:16:27,584 INFO Creating download object as as_source with files:\n",
      "['data_0.nc']\n",
      "2024-08-23 14:16:27,585 INFO status has been updated to successful\n",
      "                                                                                        \r"
     ]
    },
    {
     "name": "stdout",
     "output_type": "stream",
     "text": [
      "2016-12-01 00:00:00\n",
      "2016\n",
      "12\n"
     ]
    },
    {
     "name": "stderr",
     "output_type": "stream",
     "text": [
      "2024-08-23 14:16:29,531 INFO Request ID is 31cf1860-3b48-40ef-8357-1668492efeb3\n",
      "2024-08-23 14:16:29,662 INFO status has been updated to accepted\n",
      "2024-08-23 14:22:48,762 INFO status has been updated to running\n",
      "2024-08-23 14:44:11,975 INFO Creating download object as as_source with files:\n",
      "['data_0.nc']\n",
      "2024-08-23 14:44:11,980 INFO status has been updated to successful\n",
      "                                                                                      \r"
     ]
    },
    {
     "name": "stdout",
     "output_type": "stream",
     "text": [
      "2017-01-01 00:00:00\n",
      "2017\n",
      "01\n"
     ]
    },
    {
     "name": "stderr",
     "output_type": "stream",
     "text": [
      "2024-08-23 14:44:14,128 INFO Request ID is 3d537b46-2bca-4256-bbea-5ceef1c2bf4f\n",
      "2024-08-23 14:44:14,294 INFO status has been updated to accepted\n",
      "2024-08-23 14:48:33,226 INFO status has been updated to running\n"
     ]
    }
   ],
   "source": [
    "weather_dir = '../EAR5/final_verification/ERA5'\n",
    "\n",
    "if os.path.exists(weather_dir) == False:\n",
    "    os.makedirs(weather_dir)\n",
    "\n",
    "c = cdsapi.Client()\n",
    "\n",
    "for i in range(len(locations)):\n",
    "    lat = locations.iloc[i]['Lat']\n",
    "    lon = locations.iloc[i]['Lon']\n",
    "    min_time = locations.iloc[i]['era_min_time']\n",
    "    max_time = locations.iloc[i]['era_max_time']\n",
    "\n",
    "    year = min_time.year\n",
    "    month = min_time.month\n",
    "    curr_time = datetime(year, month, 1)\n",
    "\n",
    "    while curr_time <= max_time:\n",
    "        year_s = str(curr_time.year)\n",
    "        month_s = str(curr_time.month).zfill(2)\n",
    "\n",
    "        print(curr_time)\n",
    "        print(year_s)\n",
    "        print(month_s)\n",
    "\n",
    "        filename = f'ERA5_{year_s}_{month_s}_{lat}_{lon}.nc'\n",
    "        if os.path.exists(os.path.join(weather_dir, filename)) == False:\n",
    "            r = c.retrieve(\n",
    "            'reanalysis-era5-land', {\n",
    "                    'variable'    : ['2m_temperature', '10m_u_component_of_wind', '10m_v_component_of_wind', 'total_precipitation'],\n",
    "                    'year'        : year_s,\n",
    "                    'month'       : month_s,\n",
    "                    'day': [\n",
    "                        '01', '02', '03',\n",
    "                        '04', '05', '06',\n",
    "                        '07', '08', '09',\n",
    "                        '10', '11', '12',\n",
    "                        '13', '14', '15',\n",
    "                        '16', '17', '18',\n",
    "                        '19', '20', '21',\n",
    "                        '22', '23', '24',\n",
    "                        '25', '26', '27',\n",
    "                        '28', '29', '30',\n",
    "                        '31',\n",
    "                        ],\n",
    "                    'time': [\n",
    "                        '00:00', '01:00', '02:00',\n",
    "                        '03:00', '04:00', '05:00',\n",
    "                        '06:00', '07:00', '08:00',\n",
    "                        '09:00', '10:00', '11:00',\n",
    "                        '12:00', '13:00', '14:00',\n",
    "                        '15:00', '16:00', '17:00',\n",
    "                        '18:00', '19:00', '20:00',\n",
    "                        '21:00', '22:00', '23:00',\n",
    "                    ],\n",
    "                    'area'          : [lat, lon, lat, lon],\n",
    "                    'format'      : 'netcdf'\n",
    "            })\n",
    "\n",
    "            r.download(os.path.join(weather_dir, filename))\n",
    "        else:\n",
    "            print(f'File {filename} already exists')\n",
    "\n",
    "        if curr_time.month == 12:\n",
    "            curr_time = datetime(curr_time.year + 1, 1, 1)\n",
    "        else:\n",
    "            curr_time = datetime(curr_time.year, curr_time.month + 1, 1)\n",
    "    \n",
    "    print(f'{curr_time}')\n",
    "    print(str(max_time))\n",
    "    print()"
   ]
  },
  {
   "cell_type": "code",
   "execution_count": null,
   "metadata": {},
   "outputs": [],
   "source": [
    "!pip install cdsapi"
   ]
  },
  {
   "cell_type": "code",
   "execution_count": null,
   "metadata": {},
   "outputs": [],
   "source": [
    "year_s = str(curr_time.year)\n",
    "month_s = str(curr_time.month).zfill(2)\n",
    "\n",
    "for file in os.listdir(weather_dir):\n",
    "    if file.endswith(\".nc\"):\n",
    "        parts = file.split(\"_\")\n",
    "        parts[2] = parts[2].zfill(2)\n",
    "        \n",
    "        new_file_name = \"\".join(parts)\n",
    "        print(new_file_name)\n",
    "        #path = os.path.join(weather_dir, file)"
   ]
  },
  {
   "cell_type": "code",
   "execution_count": null,
   "metadata": {},
   "outputs": [],
   "source": [
    "nc_file = nc.Dataset(r'C:\\Users\\nytig\\repos\\Resilient_energy_network\\weather_2017_01.nc', 'r')\n",
    "\n",
    "print(nc_file.variables.keys())"
   ]
  },
  {
   "cell_type": "code",
   "execution_count": null,
   "metadata": {},
   "outputs": [],
   "source": [
    "lon = nc_file.variables['longitude'][:]\n",
    "time = nc_file.variables['time']\n",
    "time = nc_file.variables[''][:]"
   ]
  },
  {
   "cell_type": "code",
   "execution_count": null,
   "metadata": {},
   "outputs": [],
   "source": [
    "lon = test.variables.keys()\n",
    "lon"
   ]
  },
  {
   "cell_type": "code",
   "execution_count": null,
   "metadata": {},
   "outputs": [],
   "source": [
    "tp = test.variables['tp'][:]\n",
    "len(tp)"
   ]
  },
  {
   "cell_type": "code",
   "execution_count": null,
   "metadata": {},
   "outputs": [],
   "source": [
    "time = test.variables['time'][:]"
   ]
  },
  {
   "cell_type": "code",
   "execution_count": null,
   "metadata": {},
   "outputs": [],
   "source": [
    "time[0]"
   ]
  },
  {
   "cell_type": "code",
   "execution_count": null,
   "metadata": {},
   "outputs": [],
   "source": [
    "int(time[0])"
   ]
  },
  {
   "cell_type": "code",
   "execution_count": null,
   "metadata": {},
   "outputs": [],
   "source": [
    "test.close()"
   ]
  },
  {
   "cell_type": "code",
   "execution_count": null,
   "metadata": {},
   "outputs": [],
   "source": [
    "base = datetime(1900, 1, 1)\n",
    "print(base + timedelta(hours = int(time[-1])))"
   ]
  },
  {
   "cell_type": "code",
   "execution_count": null,
   "metadata": {},
   "outputs": [],
   "source": []
  }
 ],
 "metadata": {
  "kernelspec": {
   "display_name": "Python 3 (ipykernel)",
   "language": "python",
   "name": "python3"
  },
  "language_info": {
   "codemirror_mode": {
    "name": "ipython",
    "version": 3
   },
   "file_extension": ".py",
   "mimetype": "text/x-python",
   "name": "python",
   "nbconvert_exporter": "python",
   "pygments_lexer": "ipython3",
<<<<<<< Updated upstream
   "version": "3.10.5"
=======
   "version": "3.11.5"
>>>>>>> Stashed changes
  }
 },
 "nbformat": 4,
 "nbformat_minor": 2
}
