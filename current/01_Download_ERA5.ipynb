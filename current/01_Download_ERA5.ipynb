{
  "cells": [
    {
      "cell_type": "code",
      "execution_count": null,
      "metadata": {},
      "outputs": [],
      "source": [
        "# -----********************-----\n",
        "\n",
        "# Created Time: 2024/09/06\n",
        "\n",
        "# Author: Tara Liu, Yiyi He\n",
        "\n",
        "### Use Case\n",
        "\n",
        "# This notebook downloads ERA5-land data in GRIB format.\n",
        "# Main function: download_era5_data(start_date, end_date, area, variables, folder_path)\n",
        "\n",
        "# To use: \n",
        "# 1. add your API key\n",
        "# 2. change to desired folder_path\n",
        "# 3. input main function params\n",
        "\n",
        "# -----********************-----"
      ]
    },
    {
      "cell_type": "code",
      "execution_count": 1,
      "metadata": {
        "colab": {
          "base_uri": "https://localhost:8080/"
        },
        "id": "o5huO0jjJp4d",
        "outputId": "be963542-fcf8-4e62-8717-2d6bc32ab643"
      },
      "outputs": [],
      "source": [
        "# Import libraries\n",
        "import cdsapi\n",
        "import os\n",
        "import time\n",
        "from datetime import datetime, timedelta"
      ]
    },
    {
      "cell_type": "code",
      "execution_count": 2,
      "metadata": {
        "colab": {
          "base_uri": "https://localhost:8080/"
        },
        "id": "1yDIckNTKEIH",
        "outputId": "3d57cca2-8072-4c7d-bec1-9851daea9165"
      },
      "outputs": [],
      "source": [
        "# Create configuration file\n",
        "def create_cdsapirc_in_home(content=\"\"):\n",
        "    \"\"\"\n",
        "    Creates or updates the .cdsapirc file in the user's home directory.\n",
        "    \"\"\"\n",
        "    home_dir = os.path.expanduser(\"~\")\n",
        "    cdsapirc_path = os.path.join(home_dir, \".cdsapirc\")\n",
        "\n",
        "    try:\n",
        "        with open(cdsapirc_path, 'w') as f:\n",
        "            f.write(content)\n",
        "        print(f\"File '{cdsapirc_path}' created/updated successfully.\")\n",
        "    except Exception as e:\n",
        "        print(f\"Error creating/updating '{cdsapirc_path}': {e}\")\n"
      ]
    },
    {
      "cell_type": "code",
      "execution_count": 12,
      "metadata": {},
      "outputs": [
        {
          "name": "stdout",
          "output_type": "stream",
          "text": [
            "File '/Users/yiyi/.cdsapirc' created/updated successfully.\n"
          ]
        }
      ],
      "source": [
        "# Populate configuration file with url and api key\n",
        "if __name__ == \"__main__\":\n",
        "    config_content = \"\"\"\n",
        "url: https://cds.climate.copernicus.eu/api\n",
        "key: 034022d1-0a8d-404b-86c3-b14a01b7c1bd\n",
        "\"\"\"\n",
        "    create_cdsapirc_in_home(config_content)"
      ]
    },
    {
      "cell_type": "code",
      "execution_count": null,
      "metadata": {
        "colab": {
          "background_save": true,
          "base_uri": "https://localhost:8080/",
          "referenced_widgets": [
            "87d482495d5b422f8d1c29ee57848364",
            "b5d9b494ea314fbebb96b41164344a12",
            "3d6bc5bf72cc4ea6bb992b1003e1d358",
            "b1e1f829f5bc4fdbb7b8ef8b1ee092d0",
            "c225433df4a74539beeef95c04ab6987",
            "3300f687cae242e59456dbc8570e6465",
            "e1914100cd554e3c933ed31a85a6b0b4",
            "88d7a3b8f5f54f1cb397fde0a4ab0f57",
            "18ef6bcd006b429f8891791d043d38e2",
            "aa9e2b0411514a4eb9a878c192ced66d",
            "59e56ec5fad94669b3faea8972f1952a",
            "7982e2186c6349478237b1000c270734",
            "213174075f0b46dbb97243b2b5f08407",
            "31c29416533a4bb1896520278b08ae43",
            "8d271089ac1d4240a05569c7431f2357",
            "239d7d4b278f4f1c921ce6bea6e8a046",
            "53d5cd2dd0104f08bf451abb5638333e",
            "2f4c4e22f3a84f9e87025bc471250151",
            "225558bcad624426b462cc842c232e51",
            "cbc2f41330f64a168c4098c3225071fc",
            "2acadde2b64e43f9bee33af9907debb8",
            "2be2c770bc57460e88f09f8e8efc3f56",
            "4f3212270bc64a90b3b46577fe8db810",
            "53d96cd276ca45309d4fc91d295f34f7",
            "1e903d30132749d0837df6830d5fbe6d",
            "d34977fac9284dd588242afe06e9f71b",
            "82ac5733519c4da8b37584c514a1b328",
            "4c88cb2a42d04ac08f9cb45dc9028ad6",
            "6aea52c525e84b40be0d63be5b83fe7c",
            "a397a290622048b6a8fb4f3a1508b725",
            "c501091a27a34a9f84c3bb615e34dec0",
            "1f87fb1caac54633bf59b20895e752ad",
            "519f598df23b42b29c15d4231a3aee6b",
            "c555e9bbd20849838f92fd9ed0e33d08",
            "22c6e1e3c3144246ac614ca73a348afb",
            "ed34ad9cdc104d68b1d47f7d79436981",
            "2d30b5b14f6547d59fdca135ba5bfd9c",
            "17ebf7c6acfa442c8467ca098bb2ff9c",
            "97c486a06f3c48e388af876ec65d6884",
            "6166f2bcfddd45c185192dc5d6dbcdbd",
            "21e927b261f249ad910e37c33cf30a9e",
            "5e108113357447e3b34aecc7f8b0b442",
            "614d247b8e3b49a892d342aebad3ba2f",
            "f65fa5aabea7489caa19ada431ec41f8",
            "c178c215bcf742b4affcccf961aa6590",
            "5254f57773b744039e9460fd89b42619",
            "d42534541e36407dae810a397d9b9df2",
            "8bfe58331fb646ac81ca00036d642eea",
            "feffc3fa27e34c98932acd9c4dba4bd3",
            "a5dd58070ac2458f81f6ebcd247216f0",
            "6b36d59978f74594bdd8f69219b72ec2",
            "9b0678e043414104b0b3ec18a363091e",
            "a13ff87d820849099887f12b3455bbd5",
            "94b0f3eeb62a470ba62c4bbca431c497",
            "239995d5ea8545419e603c9de8531cbc",
            "3aafc6ab538246a78fb65b390ac93854",
            "6ca2edac04c54f8bb0146d8d4162a8c4",
            "bba94cdd7a1b4e42890bd6c2c86d0813",
            "a366d758deab4385b085c48fd52bf20e",
            "5ac60168c96b487ca256dd61573ee4be",
            "84b934570ddc408c844a7ee73174d654",
            "510d231ea2a844499fc0834a4a5c9523",
            "65e07e1123a44a35a74ae737a00bdcf7",
            "aec41936696841c99632fc68e7c4feb7",
            "58424a5df1a34a94ad5772fe13ce4ef9",
            "5fcff01ce0f54da7b088baeec6f4cfc2",
            "c72433545557436da207df42b1a3e971",
            "58299f0ec6f64dd2bd76c32f638ac214",
            "a16e7d4d2d0a4bad9d2a453c87fb0ec9",
            "63596e8fd3674541aaafb8cfba06a27f",
            "b81a561f3a694a9cb4e751a6c508ef01",
            "bf7e5145114c485aa87be9daa55a302b",
            "08defe29cd394145b39a7de41c2e1eb4",
            "bd97e118126e4f6fa61fe189586d479d",
            "e5f77d23f2d64b7c81494f1128915c05",
            "d5d0ebf1e4bb4d5c98a39b4f0e3de87f",
            "ae63b5fb12d2499394a9a1bf6df53608",
            "e6a8f32263534ca5b7bccc0f9622d103",
            "9b8c150cfc7346cc952494fb1c878eff",
            "bc13037449c348f7ae1a75fef249905b",
            "a74cfa32c65b4a918d739d952e3929cc",
            "5280a8d780f442b48e98b5681836f47c",
            "c326bfd155fe428496a07bf12f55af3c",
            "41c25a1afe7d4d0f9ed909c12835f8b2",
            "48cf87b621da44a0bdbce23de52048ee",
            "be53fc1943034b308d61fb2fdcb4a325",
            "94a2e77045654a428660c65e15af3943",
            "52d403b9e49a422ba2b95c818b5f8bcf",
            "87536eab739841a6bfae71d73b84447a",
            "06e1566ba14a49ab99cee2ea0a87fc82",
            "9d4db94ec78c4381a7c4af0beb27fff4",
            "30583a3d7af64d13a6afc82baacaaeac",
            "44ee98fc3279410b897097f71e8a1d89",
            "ad3469c4d5b04975ad9c3af5748ea03d",
            "4015f5e66290484cbdfeec0929e1cfcd",
            "42e60648b992427b859dceb47df95524",
            "44e0fb71a6414f789e78a73723ae5a2f",
            "0d510db48e3f446ead70541501bb4938",
            "53b66f1334854938a82e66c0630802ee",
            "cb9fc461cc7a44c1bbe957aaa0e79406",
            "461e8be36a394e61b1099b1be7bbfcb7",
            "e73d30a039274360928743d2be953983",
            "ab696766252a4ec8a4ba90953641d983",
            "f60e35a00ab44c93806b1e8f2efe96fb",
            "1964a373ffb74d7a92f9c70e702ecd2c",
            "afda6704e9524898aebbd7c80ca7a14b",
            "afada0ece9f741b8ac699705872f8f17",
            "f24e589f0d274c6aa2b7603453c506c8",
            "d359cd81e6e54457b50f209c8085d42d",
            "f98d83ae13904ce6b01e54b799509ad2",
            "e35d6d95fb69406988ab7b1d0b8c8ef9",
            "e986866b60d2457c8a915fbc6e197fa2",
            "f628e5b707044f50b74e703ac637809d",
            "41439e3bcc55423e8a0ff271b7f7563a",
            "432ceb53afb345278e77d30cd31b906d",
            "1d27e8804ebe48978d14838ab5b930d2",
            "30ebb52512674f2991b0d09037df9b2d",
            "9adae6e4382744a6b38211dfb3ea30ab",
            "a6bc8a077a0f4712ba92468b17fc3e08",
            "bd2631784cca413d991aeed36578e5a4",
            "937e3d962f4141d9bf628e2f5f9ba68c",
            "8dcab3bce15d4fe7b111a8ecaa5715d2",
            "75c0dd2e040f4e38b86705b057a8b8e7",
            "a56255ea54a7492cb8c9613fe5ac0e5c",
            "70beec535c9a454e800751b7458bd8a3",
            "20783e41a0c54ca9b81a92fa1f7ed510",
            "12a43de48bac4c8babe069e493a197b6",
            "8c009c9514174045a5156540c06d28ef",
            "e73c5ec47c8344c9a241e2afcd049e7a",
            "c7babbc929c8462288b2a9b2ed089ab9",
            "1260e818608d4cf5a99b6170fd68458c",
            "e5462b1dc1624d4ca09e2e033d64f067",
            "46b0f6fb660c4a5a815d0c1c7968b469",
            "cf9f000e19c74719aaa6e2baf270db4c",
            "f95c83485041490e9dbfad5add25b75f",
            "db7bef16fa7d4b5b98e52ca7dd4a8cb6",
            "3770501ee5924604893a4ccbcaa4249b",
            "bc2a68a66efe44c2aca931377fd0d418",
            "936feff53bbb4ec9978c810b8a05fbdf",
            "2c9ccaf9ef8d4a0aadbbfbb55506c27e",
            "33539d3f1347481ebfdfbd7468e69de7",
            "02bd4443388c43029114d35751dfba58",
            "c22e651153384e75aa341c00702a50b1",
            "65914d7ca9964a62958e205fecb67f1b",
            "e29604cd267e4930b2fbeff6397aaf90",
            "9fa88f1c3c0e49ae8a8ea377fd106694",
            "39c696b390b44146ad3083815614385f",
            "fd0d5084759e4b1fb5b643b2ef96148a",
            "f8d7ee650a4844faaf8fdef78228d09b",
            "a06fb5f39c7f4c8297bb458f8444127e",
            "449bf54a4dad4baaaff5bb0495ad2771",
            "24770ab3d3df4e93b0ff53ac83d3af39",
            "e7d32602638546239014ab126fc0ae2e",
            "522a2f83996140749717029700cab777",
            "6f3b7d6938c949e48be4523cc9a815ed",
            "a0f235af3dcd4141bc5b77c638e9a174",
            "98c0cf8db1b04327b3c336d24fc49b7c",
            "e18ef391d3444f8fad7aa6714509fb06",
            "013b319bbe184a8f892221c75b0a877a",
            "06bc1bc3882940849b4fefb5600d605a",
            "53a8552e3115498c827d4c0c05c0993a",
            "37c068063ab84d11a96ae6d28fafd6e5",
            "a9c2193a1acd455fae36d7f6b282b7b7",
            "ac3037126b334798b1958f2999ba3c6d",
            "393619a2f4af4de1bedb5708d16e763d",
            "4b5a01d3aaa94a1199db0fcdff944ad2",
            "438dcc4206dd45e4a659e234ccafec15",
            "0209d7a6eeea41f6b149c353c32b8113",
            "1a2dc178ef9f416b91b24f53dfa87296",
            "d78b58237ad243aea518c3002c7b1717",
            "3eafd1d0bbb84f28990332e6600cb0d6",
            "653b7b47bf88489e94e5c84d3fe16cb1",
            "527baada4469424aaf2aa36872f1d73e",
            "85b9cbda6b8a4240931df5ffa153b371",
            "353a8be8cd394222b40a167aa306c578",
            "726e626f14094a0a98f1cd4a25892f85",
            "5cef6aae79a748ad901290ef6d2c1e9d",
            "6ef71713d47d4a6a9ac95ba1c3b7fcdf",
            "76f2490879f74576b645e06548a853cc",
            "a3eb8383604448f099f80be374f06810",
            "f6bee85ccb6c4157a8f21ada327030a6",
            "bcd4a43416764d529361f96537288f77",
            "b0ff739f4e634fb19346cdb11d8e6ff3",
            "200ee28adfc54c71bf8181104a2cbbce",
            "ff195ce2ee6148ca866e5dc860aeb449",
            "9b3f5274a2da4803a3d14107422be4ab",
            "407cdff908514301b9c481dbc2ff271e",
            "15870a998b644ad29ecde8c38adbbb75",
            "428ed7b3dda2462591a33fd85039dcfd",
            "49da33fefb1248df962dbb036fc77c70"
          ]
        },
        "id": "Y-j13z3ILc0G",
        "outputId": "7d9f1636-b22a-4e03-e525-44f0e90d775e"
      },
      "outputs": [],
      "source": [
        "# Initialize \n",
        "c = cdsapi.Client()\n",
        "\n",
        "# Define the folder path where the GRIB files will be saved\n",
        "folder_path = '/Users/yiyi/Desktop/FOLDER_HERE'\n",
        "\n",
        "# Ensure the folder exists (create if necessary)\n",
        "os.makedirs(folder_path, exist_ok=True)\n",
        "\n",
        "def get_existing_files(folder):\n",
        "    \"\"\"Get a set of filenames that already exist in the folder, and return them with their date and time.\"\"\"\n",
        "    existing_files = set()\n",
        "    for filename in os.listdir(folder):\n",
        "        if filename.endswith('.grib'):\n",
        "            # Extract the date and time from the filename (assuming format: era5_land_YYYYMMDD_HHMM.grib)\n",
        "            date_part = filename.split('_')[2]  # Extract YYYYMMDD part\n",
        "            time_part = filename.split('_')[3].replace('.grib', '')  # Extract HHMM part\n",
        "            existing_files.add(f\"{date_part}_{time_part}\")\n",
        "    return existing_files\n",
        "\n",
        "def print_existing_files_range(existing_files):\n",
        "    \"\"\"Print the date range of the existing files.\"\"\"\n",
        "    if not existing_files:\n",
        "        print(\"No existing files found.\")\n",
        "        return\n",
        "    dates = sorted([datetime.strptime(f\"{f[:8]} {f[9:]}00\", \"%Y%m%d %H%M%S\") for f in existing_files])\n",
        "    print(f\"Existing files cover from {dates[0]} to {dates[-1]}\")\n",
        "\n",
        "def download_era5_data(start_date, end_date, area, variables, folder_path):\n",
        "    \"\"\"\n",
        "    \n",
        "    Downloads ERA5 data for a specified date range and all hours of the day.\n",
        "    Skips downloading if the file already exists.\n",
        "\n",
        "    params:\n",
        "\n",
        "    start_date: datetime object, the start date of the range\n",
        "    end_date: datetime object, the end date of the range\n",
        "    area: list of floats, the bounding box coordinates [N, W, S, E]\n",
        "    variables: str, the variables to download\n",
        "    folder_path: str, the folder path to save the GRIB files\n",
        "\n",
        "\n",
        "    \"\"\"\n",
        "    # Get existing files\n",
        "    existing_files = get_existing_files(folder_path)\n",
        "    print_existing_files_range(existing_files)\n",
        "\n",
        "    # Loop through each day in the range\n",
        "    current_date = start_date\n",
        "    while current_date <= end_date:\n",
        "        # Extract the year, month, and day\n",
        "        year = current_date.strftime('%Y')\n",
        "        month = current_date.strftime('%m')\n",
        "        day = current_date.strftime('%d')\n",
        "\n",
        "        # Loop through all hours (00:00 to 23:00)\n",
        "        for hour in range(24):\n",
        "            # Format the hour as two digits\n",
        "            hour_str = f\"{hour:02d}:00\"\n",
        "            hour_for_filename = f\"{hour:02d}00\"\n",
        "\n",
        "            # Filename for the GRIB file with the date and hour in the name\n",
        "            filename = os.path.join(folder_path, f\"era5_land_{year}{month}{day}_{hour_for_filename}.grib\")\n",
        "\n",
        "            # Check if the file already exists\n",
        "            file_key = f\"{year}{month}{day}_{hour_for_filename}\"\n",
        "            if file_key in existing_files:\n",
        "                print(f\"File for {year}-{month}-{day} {hour_str} already exists. Skipping download.\")\n",
        "                continue\n",
        "\n",
        "            # Make the API call to retrieve data for the specific day and hour\n",
        "            c.retrieve(\n",
        "                'reanalysis-era5-land',\n",
        "                {\n",
        "                    'variable': variables,\n",
        "                    'year': year,\n",
        "                    'month': month,\n",
        "                    'day': [day],\n",
        "                    'time': [hour_str],  # Request for this specific hour\n",
        "                    'area': area,\n",
        "                    'data_format': 'grib',\n",
        "                    \"download_format\": \"unarchived\"\n",
        "                },\n",
        "                filename\n",
        "            )\n",
        "\n",
        "            # Print a message when the file is saved\n",
        "            print(f\"Downloaded data for {year}-{month}-{day} {hour_str} and saved as {filename}\")\n",
        "\n",
        "        # Move to the next day\n",
        "        current_date += timedelta(days=1)\n",
        "\n"
      ]
    },
    {
      "cell_type": "code",
      "execution_count": 35,
      "metadata": {},
      "outputs": [
        {
          "name": "stdout",
          "output_type": "stream",
          "text": [
            "No existing files found.\n"
          ]
        },
        {
          "name": "stderr",
          "output_type": "stream",
          "text": [
            "2025-07-12 16:08:04,298 INFO Request ID is e9f0a9cf-90de-4943-8c08-c329ca9cdb06\n",
            "2025-07-12 16:08:04,454 INFO status has been updated to accepted\n",
            "2025-07-12 16:08:12,238 INFO status has been updated to running\n",
            "2025-07-12 16:08:17,460 INFO status has been updated to successful\n",
            "                                                                                        \r"
          ]
        },
        {
          "name": "stdout",
          "output_type": "stream",
          "text": [
            "Downloaded data for 2025-01-14 00:00 and saved as /Users/yiyi/Desktop/2025_1/era5_land_20250114_0000.grib\n"
          ]
        },
        {
          "name": "stderr",
          "output_type": "stream",
          "text": [
            "2025-07-12 16:08:19,401 INFO Request ID is 80783e8d-16d0-4461-b3cb-1057ebdce40c\n",
            "2025-07-12 16:08:19,545 INFO status has been updated to accepted\n",
            "2025-07-12 16:08:27,137 INFO status has been updated to successful\n",
            "2025-07-12 16:08:28,832 INFO Request ID is 7251f171-4695-45d0-bda0-1d4c70b96056         \n"
          ]
        },
        {
          "name": "stdout",
          "output_type": "stream",
          "text": [
            "Downloaded data for 2025-01-14 01:00 and saved as /Users/yiyi/Desktop/2025_1/era5_land_20250114_0100.grib\n"
          ]
        },
        {
          "name": "stderr",
          "output_type": "stream",
          "text": [
            "2025-07-12 16:08:28,962 INFO status has been updated to accepted\n",
            "2025-07-12 16:08:36,529 INFO status has been updated to running\n",
            "2025-07-12 16:08:41,856 INFO status has been updated to successful\n",
            "2025-07-12 16:08:43,522 INFO Request ID is 0f6a4cf0-1709-4790-b3c6-4b438f0c0cca         \n"
          ]
        },
        {
          "name": "stdout",
          "output_type": "stream",
          "text": [
            "Downloaded data for 2025-01-14 02:00 and saved as /Users/yiyi/Desktop/2025_1/era5_land_20250114_0200.grib\n"
          ]
        },
        {
          "name": "stderr",
          "output_type": "stream",
          "text": [
            "2025-07-12 16:08:43,648 INFO status has been updated to accepted\n",
            "2025-07-12 16:08:51,359 INFO status has been updated to successful\n",
            "                                                                                        \r"
          ]
        },
        {
          "name": "stdout",
          "output_type": "stream",
          "text": [
            "Downloaded data for 2025-01-14 03:00 and saved as /Users/yiyi/Desktop/2025_1/era5_land_20250114_0300.grib\n"
          ]
        },
        {
          "name": "stderr",
          "output_type": "stream",
          "text": [
            "2025-07-12 16:08:53,070 INFO Request ID is 8d5f3d75-087b-4bed-9f51-ff3ad73c4efe\n",
            "2025-07-12 16:08:53,202 INFO status has been updated to accepted\n",
            "2025-07-12 16:09:00,743 INFO status has been updated to successful\n",
            "2025-07-12 16:09:02,578 INFO Request ID is 8a33dd2d-c03a-4d0d-9721-2bbf9e744e70         \n"
          ]
        },
        {
          "name": "stdout",
          "output_type": "stream",
          "text": [
            "Downloaded data for 2025-01-14 04:00 and saved as /Users/yiyi/Desktop/2025_1/era5_land_20250114_0400.grib\n"
          ]
        },
        {
          "name": "stderr",
          "output_type": "stream",
          "text": [
            "2025-07-12 16:09:02,712 INFO status has been updated to accepted\n",
            "2025-07-12 16:09:10,243 INFO status has been updated to successful\n",
            "                                                                                        \r"
          ]
        },
        {
          "name": "stdout",
          "output_type": "stream",
          "text": [
            "Downloaded data for 2025-01-14 05:00 and saved as /Users/yiyi/Desktop/2025_1/era5_land_20250114_0500.grib\n"
          ]
        },
        {
          "name": "stderr",
          "output_type": "stream",
          "text": [
            "2025-07-12 16:09:11,945 INFO Request ID is ee8fca06-43f0-4da5-9942-261c1758dd68\n",
            "2025-07-12 16:09:12,233 INFO status has been updated to accepted\n",
            "2025-07-12 16:09:20,134 INFO status has been updated to successful\n",
            "2025-07-12 16:09:21,960 INFO Request ID is fe436880-38bd-4965-abed-1e8204aca0f1         \n"
          ]
        },
        {
          "name": "stdout",
          "output_type": "stream",
          "text": [
            "Downloaded data for 2025-01-14 06:00 and saved as /Users/yiyi/Desktop/2025_1/era5_land_20250114_0600.grib\n"
          ]
        },
        {
          "name": "stderr",
          "output_type": "stream",
          "text": [
            "2025-07-12 16:09:22,115 INFO status has been updated to accepted\n",
            "2025-07-12 16:09:34,847 INFO status has been updated to running\n",
            "2025-07-12 16:09:54,149 INFO status has been updated to successful\n",
            "                                                                                        \r"
          ]
        },
        {
          "name": "stdout",
          "output_type": "stream",
          "text": [
            "Downloaded data for 2025-01-14 07:00 and saved as /Users/yiyi/Desktop/2025_1/era5_land_20250114_0700.grib\n"
          ]
        },
        {
          "name": "stderr",
          "output_type": "stream",
          "text": [
            "2025-07-12 16:09:55,981 INFO Request ID is 1672d251-658e-42f2-b053-a4779db46f05\n",
            "2025-07-12 16:09:56,111 INFO status has been updated to accepted\n",
            "2025-07-12 16:10:03,642 INFO status has been updated to successful\n",
            "                                                                                       \r"
          ]
        },
        {
          "name": "stdout",
          "output_type": "stream",
          "text": [
            "Downloaded data for 2025-01-14 08:00 and saved as /Users/yiyi/Desktop/2025_1/era5_land_20250114_0800.grib\n"
          ]
        },
        {
          "name": "stderr",
          "output_type": "stream",
          "text": [
            "2025-07-12 16:10:05,379 INFO Request ID is 79cb19c4-7d51-400f-a991-b73d44fe7ae0\n",
            "2025-07-12 16:10:05,631 INFO status has been updated to accepted\n",
            "2025-07-12 16:10:13,160 INFO status has been updated to successful\n",
            "2025-07-12 16:10:14,852 INFO Request ID is e63ff00a-c65b-485f-b12b-7744627847e0         \n"
          ]
        },
        {
          "name": "stdout",
          "output_type": "stream",
          "text": [
            "Downloaded data for 2025-01-14 09:00 and saved as /Users/yiyi/Desktop/2025_1/era5_land_20250114_0900.grib\n"
          ]
        },
        {
          "name": "stderr",
          "output_type": "stream",
          "text": [
            "2025-07-12 16:10:14,982 INFO status has been updated to accepted\n",
            "2025-07-12 16:10:22,610 INFO status has been updated to running\n",
            "2025-07-12 16:10:27,827 INFO status has been updated to successful\n",
            "                                                                                       \r"
          ]
        },
        {
          "name": "stdout",
          "output_type": "stream",
          "text": [
            "Downloaded data for 2025-01-14 10:00 and saved as /Users/yiyi/Desktop/2025_1/era5_land_20250114_1000.grib\n"
          ]
        },
        {
          "name": "stderr",
          "output_type": "stream",
          "text": [
            "2025-07-12 16:10:29,750 INFO Request ID is ea3ac9d3-4ab7-4ea6-869c-d97dfc4f6b74\n",
            "2025-07-12 16:10:30,290 INFO status has been updated to accepted\n",
            "2025-07-12 16:10:37,822 INFO status has been updated to successful\n",
            "                                                                                        \r"
          ]
        },
        {
          "name": "stdout",
          "output_type": "stream",
          "text": [
            "Downloaded data for 2025-01-14 11:00 and saved as /Users/yiyi/Desktop/2025_1/era5_land_20250114_1100.grib\n"
          ]
        },
        {
          "name": "stderr",
          "output_type": "stream",
          "text": [
            "2025-07-12 16:10:39,663 INFO Request ID is ed58ac58-61bf-411d-82af-f34de63fd99a\n",
            "2025-07-12 16:10:39,792 INFO status has been updated to accepted\n",
            "2025-07-12 16:10:47,974 INFO status has been updated to running\n",
            "2025-07-12 16:10:53,173 INFO status has been updated to successful\n",
            "2025-07-12 16:10:54,865 INFO Request ID is 2c62c6c2-ce4c-40fd-ac88-b7eb9889d952         \n"
          ]
        },
        {
          "name": "stdout",
          "output_type": "stream",
          "text": [
            "Downloaded data for 2025-01-14 12:00 and saved as /Users/yiyi/Desktop/2025_1/era5_land_20250114_1200.grib\n"
          ]
        },
        {
          "name": "stderr",
          "output_type": "stream",
          "text": [
            "2025-07-12 16:10:55,200 INFO status has been updated to accepted\n",
            "2025-07-12 16:11:08,042 INFO status has been updated to running\n",
            "2025-07-12 16:11:15,772 INFO status has been updated to successful\n",
            "                                                                                        \r"
          ]
        },
        {
          "name": "stdout",
          "output_type": "stream",
          "text": [
            "Downloaded data for 2025-01-14 13:00 and saved as /Users/yiyi/Desktop/2025_1/era5_land_20250114_1300.grib\n"
          ]
        },
        {
          "name": "stderr",
          "output_type": "stream",
          "text": [
            "2025-07-12 16:11:17,499 INFO Request ID is 7440e5de-99b1-4d3d-840d-894d59626579\n",
            "2025-07-12 16:11:17,736 INFO status has been updated to accepted\n",
            "2025-07-12 16:11:21,765 INFO status has been updated to running\n",
            "2025-07-12 16:11:25,267 INFO status has been updated to accepted\n",
            "2025-07-12 16:11:30,490 INFO status has been updated to successful\n",
            "                                                                                       \r"
          ]
        },
        {
          "name": "stdout",
          "output_type": "stream",
          "text": [
            "Downloaded data for 2025-01-14 14:00 and saved as /Users/yiyi/Desktop/2025_1/era5_land_20250114_1400.grib\n"
          ]
        },
        {
          "name": "stderr",
          "output_type": "stream",
          "text": [
            "2025-07-12 16:11:32,270 INFO Request ID is e8d5b4cc-cef0-4d8c-a244-f91f52ff7b1a\n",
            "2025-07-12 16:11:32,402 INFO status has been updated to accepted\n",
            "2025-07-12 16:11:39,936 INFO status has been updated to successful\n",
            "                                                                                        \r"
          ]
        },
        {
          "name": "stdout",
          "output_type": "stream",
          "text": [
            "Downloaded data for 2025-01-14 15:00 and saved as /Users/yiyi/Desktop/2025_1/era5_land_20250114_1500.grib\n"
          ]
        },
        {
          "name": "stderr",
          "output_type": "stream",
          "text": [
            "2025-07-12 16:11:41,669 INFO Request ID is fd63d6e8-66a4-45a4-a950-142afc7f48a7\n",
            "2025-07-12 16:11:41,795 INFO status has been updated to accepted\n",
            "2025-07-12 16:11:49,354 INFO status has been updated to successful\n",
            "2025-07-12 16:11:51,113 INFO Request ID is 17dd6bc3-ec9a-4143-9e7e-79fb6a913404         \n"
          ]
        },
        {
          "name": "stdout",
          "output_type": "stream",
          "text": [
            "Downloaded data for 2025-01-14 16:00 and saved as /Users/yiyi/Desktop/2025_1/era5_land_20250114_1600.grib\n"
          ]
        },
        {
          "name": "stderr",
          "output_type": "stream",
          "text": [
            "2025-07-12 16:11:51,322 INFO status has been updated to accepted\n",
            "2025-07-12 16:11:58,856 INFO status has been updated to successful\n",
            "                                                                                        \r"
          ]
        },
        {
          "name": "stdout",
          "output_type": "stream",
          "text": [
            "Downloaded data for 2025-01-14 17:00 and saved as /Users/yiyi/Desktop/2025_1/era5_land_20250114_1700.grib\n"
          ]
        },
        {
          "name": "stderr",
          "output_type": "stream",
          "text": [
            "2025-07-12 16:12:00,846 INFO Request ID is d43ba611-d832-4aa3-8f2e-da7677333a8f\n",
            "2025-07-12 16:12:00,976 INFO status has been updated to accepted\n",
            "2025-07-12 16:12:21,632 INFO status has been updated to successful\n",
            "                                                                                       \r"
          ]
        },
        {
          "name": "stdout",
          "output_type": "stream",
          "text": [
            "Downloaded data for 2025-01-14 18:00 and saved as /Users/yiyi/Desktop/2025_1/era5_land_20250114_1800.grib\n"
          ]
        },
        {
          "name": "stderr",
          "output_type": "stream",
          "text": [
            "2025-07-12 16:12:23,474 INFO Request ID is 0c9e445b-e8ac-4efd-ac6a-592ea8b6c294\n",
            "2025-07-12 16:12:23,613 INFO status has been updated to accepted\n",
            "2025-07-12 16:12:36,359 INFO status has been updated to successful\n",
            "                                                                                        \r"
          ]
        },
        {
          "name": "stdout",
          "output_type": "stream",
          "text": [
            "Downloaded data for 2025-01-14 19:00 and saved as /Users/yiyi/Desktop/2025_1/era5_land_20250114_1900.grib\n"
          ]
        },
        {
          "name": "stderr",
          "output_type": "stream",
          "text": [
            "2025-07-12 16:12:38,487 INFO Request ID is 3dcb9f37-30ac-4d3a-b03e-5ea8a9098b6b\n",
            "2025-07-12 16:12:38,634 INFO status has been updated to accepted\n",
            "2025-07-12 16:12:46,181 INFO status has been updated to successful\n",
            "                                                                                        \r"
          ]
        },
        {
          "name": "stdout",
          "output_type": "stream",
          "text": [
            "Downloaded data for 2025-01-14 20:00 and saved as /Users/yiyi/Desktop/2025_1/era5_land_20250114_2000.grib\n"
          ]
        },
        {
          "name": "stderr",
          "output_type": "stream",
          "text": [
            "2025-07-12 16:12:48,046 INFO Request ID is d5a6e357-2b2f-4641-b9a2-f41be55b5d12\n",
            "2025-07-12 16:12:48,188 INFO status has been updated to accepted\n",
            "2025-07-12 16:12:52,224 INFO status has been updated to running\n",
            "2025-07-12 16:12:55,733 INFO status has been updated to successful\n",
            "                                                                                        \r"
          ]
        },
        {
          "name": "stdout",
          "output_type": "stream",
          "text": [
            "Downloaded data for 2025-01-14 21:00 and saved as /Users/yiyi/Desktop/2025_1/era5_land_20250114_2100.grib\n"
          ]
        },
        {
          "name": "stderr",
          "output_type": "stream",
          "text": [
            "2025-07-12 16:12:57,488 INFO Request ID is 939691ad-e5af-40c9-bb0f-5a8039332bd2\n",
            "2025-07-12 16:12:57,617 INFO status has been updated to accepted\n",
            "2025-07-12 16:13:01,684 INFO status has been updated to running\n",
            "2025-07-12 16:13:05,191 INFO status has been updated to successful\n",
            "2025-07-12 16:13:07,102 INFO Request ID is e9ae9fef-1dd6-4289-b360-6b47b75f301e         \n"
          ]
        },
        {
          "name": "stdout",
          "output_type": "stream",
          "text": [
            "Downloaded data for 2025-01-14 22:00 and saved as /Users/yiyi/Desktop/2025_1/era5_land_20250114_2200.grib\n"
          ]
        },
        {
          "name": "stderr",
          "output_type": "stream",
          "text": [
            "2025-07-12 16:13:07,229 INFO status has been updated to accepted\n",
            "2025-07-12 16:13:19,944 INFO status has been updated to successful\n",
            "                                                                                       \r"
          ]
        },
        {
          "name": "stdout",
          "output_type": "stream",
          "text": [
            "Downloaded data for 2025-01-14 23:00 and saved as /Users/yiyi/Desktop/2025_1/era5_land_20250114_2300.grib\n"
          ]
        },
        {
          "name": "stderr",
          "output_type": "stream",
          "text": [
            "2025-07-12 16:13:21,721 INFO Request ID is b58cf108-47d1-4b13-bb56-36d91b52b63e\n",
            "2025-07-12 16:13:21,866 INFO status has been updated to accepted\n",
            "2025-07-12 16:13:29,419 INFO status has been updated to successful\n",
            "2025-07-12 16:13:31,113 INFO Request ID is c3da620c-ccb6-4b33-bae5-1545ddc08e36         \n"
          ]
        },
        {
          "name": "stdout",
          "output_type": "stream",
          "text": [
            "Downloaded data for 2025-01-15 00:00 and saved as /Users/yiyi/Desktop/2025_1/era5_land_20250115_0000.grib\n"
          ]
        },
        {
          "name": "stderr",
          "output_type": "stream",
          "text": [
            "2025-07-12 16:13:31,241 INFO status has been updated to accepted\n",
            "2025-07-12 16:13:38,817 INFO status has been updated to successful\n",
            "2025-07-12 16:13:40,561 INFO Request ID is 07447ec5-f8e1-49bf-9fbf-efb2ecf8d41c         \n"
          ]
        },
        {
          "name": "stdout",
          "output_type": "stream",
          "text": [
            "Downloaded data for 2025-01-15 01:00 and saved as /Users/yiyi/Desktop/2025_1/era5_land_20250115_0100.grib\n"
          ]
        },
        {
          "name": "stderr",
          "output_type": "stream",
          "text": [
            "2025-07-12 16:13:40,695 INFO status has been updated to accepted\n",
            "2025-07-12 16:13:48,241 INFO status has been updated to successful\n",
            "                                                                                        \r"
          ]
        },
        {
          "name": "stdout",
          "output_type": "stream",
          "text": [
            "Downloaded data for 2025-01-15 02:00 and saved as /Users/yiyi/Desktop/2025_1/era5_land_20250115_0200.grib\n"
          ]
        },
        {
          "name": "stderr",
          "output_type": "stream",
          "text": [
            "2025-07-12 16:13:50,039 INFO Request ID is 3efb2c28-0786-4a0c-8aa1-1598e3b9156a\n",
            "2025-07-12 16:13:50,171 INFO status has been updated to accepted\n",
            "2025-07-12 16:13:57,845 INFO status has been updated to successful\n",
            "                                                                                        \r"
          ]
        },
        {
          "name": "stdout",
          "output_type": "stream",
          "text": [
            "Downloaded data for 2025-01-15 03:00 and saved as /Users/yiyi/Desktop/2025_1/era5_land_20250115_0300.grib\n"
          ]
        },
        {
          "name": "stderr",
          "output_type": "stream",
          "text": [
            "2025-07-12 16:13:59,642 INFO Request ID is 5c155017-ad8a-4039-a6e6-18d40d430eed\n",
            "2025-07-12 16:13:59,829 INFO status has been updated to accepted\n",
            "2025-07-12 16:14:07,411 INFO status has been updated to successful\n",
            "                                                                                        \r"
          ]
        },
        {
          "name": "stdout",
          "output_type": "stream",
          "text": [
            "Downloaded data for 2025-01-15 04:00 and saved as /Users/yiyi/Desktop/2025_1/era5_land_20250115_0400.grib\n"
          ]
        },
        {
          "name": "stderr",
          "output_type": "stream",
          "text": [
            "2025-07-12 16:14:09,171 INFO Request ID is c8383671-4de0-4976-ad3f-8ba8b1da6472\n",
            "2025-07-12 16:14:09,665 INFO status has been updated to accepted\n",
            "2025-07-12 16:14:17,272 INFO status has been updated to successful\n",
            "                                                                                        \r"
          ]
        },
        {
          "name": "stdout",
          "output_type": "stream",
          "text": [
            "Downloaded data for 2025-01-15 05:00 and saved as /Users/yiyi/Desktop/2025_1/era5_land_20250115_0500.grib\n"
          ]
        },
        {
          "name": "stderr",
          "output_type": "stream",
          "text": [
            "2025-07-12 16:14:18,987 INFO Request ID is fde4a2f3-2dec-4dc5-9983-18359454796d\n",
            "2025-07-12 16:14:19,114 INFO status has been updated to accepted\n",
            "2025-07-12 16:14:32,024 INFO status has been updated to successful\n",
            "2025-07-12 16:14:33,707 INFO Request ID is 0aac1205-a59f-4fdb-9192-46984a421069         \n"
          ]
        },
        {
          "name": "stdout",
          "output_type": "stream",
          "text": [
            "Downloaded data for 2025-01-15 06:00 and saved as /Users/yiyi/Desktop/2025_1/era5_land_20250115_0600.grib\n"
          ]
        },
        {
          "name": "stderr",
          "output_type": "stream",
          "text": [
            "2025-07-12 16:14:33,848 INFO status has been updated to accepted\n",
            "2025-07-12 16:14:46,599 INFO status has been updated to successful\n",
            "                                                                                        \r"
          ]
        },
        {
          "name": "stdout",
          "output_type": "stream",
          "text": [
            "Downloaded data for 2025-01-15 07:00 and saved as /Users/yiyi/Desktop/2025_1/era5_land_20250115_0700.grib\n"
          ]
        },
        {
          "name": "stderr",
          "output_type": "stream",
          "text": [
            "2025-07-12 16:14:48,316 INFO Request ID is a5de2010-9615-4e84-a99f-2b9f55e3938d\n",
            "2025-07-12 16:14:48,600 INFO status has been updated to accepted\n",
            "2025-07-12 16:14:56,281 INFO status has been updated to running\n",
            "2025-07-12 16:15:01,478 INFO status has been updated to successful\n",
            "2025-07-12 16:15:03,158 INFO Request ID is 9dcb26e0-13d3-4b4b-adec-292408aad218       \n"
          ]
        },
        {
          "name": "stdout",
          "output_type": "stream",
          "text": [
            "Downloaded data for 2025-01-15 08:00 and saved as /Users/yiyi/Desktop/2025_1/era5_land_20250115_0800.grib\n"
          ]
        },
        {
          "name": "stderr",
          "output_type": "stream",
          "text": [
            "2025-07-12 16:15:03,287 INFO status has been updated to accepted\n",
            "2025-07-12 16:15:11,029 INFO status has been updated to successful\n",
            "2025-07-12 16:15:12,777 INFO Request ID is 14deb926-acec-4e25-a114-7b1d2bcbb10b         \n"
          ]
        },
        {
          "name": "stdout",
          "output_type": "stream",
          "text": [
            "Downloaded data for 2025-01-15 09:00 and saved as /Users/yiyi/Desktop/2025_1/era5_land_20250115_0900.grib\n"
          ]
        },
        {
          "name": "stderr",
          "output_type": "stream",
          "text": [
            "2025-07-12 16:15:12,941 INFO status has been updated to accepted\n",
            "2025-07-12 16:15:16,970 INFO status has been updated to running\n",
            "2025-07-12 16:15:20,485 INFO status has been updated to successful\n",
            "2025-07-12 16:15:22,143 INFO Request ID is 5f1bf268-e3ee-4c11-b350-406fcc98f69a         \n"
          ]
        },
        {
          "name": "stdout",
          "output_type": "stream",
          "text": [
            "Downloaded data for 2025-01-15 10:00 and saved as /Users/yiyi/Desktop/2025_1/era5_land_20250115_1000.grib\n"
          ]
        },
        {
          "name": "stderr",
          "output_type": "stream",
          "text": [
            "2025-07-12 16:15:22,279 INFO status has been updated to accepted\n",
            "2025-07-12 16:15:29,852 INFO status has been updated to running\n",
            "2025-07-12 16:15:35,168 INFO status has been updated to successful\n",
            "                                                                                        \r"
          ]
        },
        {
          "name": "stdout",
          "output_type": "stream",
          "text": [
            "Downloaded data for 2025-01-15 11:00 and saved as /Users/yiyi/Desktop/2025_1/era5_land_20250115_1100.grib\n"
          ]
        },
        {
          "name": "stderr",
          "output_type": "stream",
          "text": [
            "2025-07-12 16:15:36,863 INFO Request ID is 3a50e1a2-0f61-48d3-803e-a7feb19e6a55\n",
            "2025-07-12 16:15:37,024 INFO status has been updated to accepted\n",
            "2025-07-12 16:15:44,591 INFO status has been updated to running\n",
            "2025-07-12 16:15:49,796 INFO status has been updated to successful\n",
            "                                                                                        \r"
          ]
        },
        {
          "name": "stdout",
          "output_type": "stream",
          "text": [
            "Downloaded data for 2025-01-15 12:00 and saved as /Users/yiyi/Desktop/2025_1/era5_land_20250115_1200.grib\n"
          ]
        },
        {
          "name": "stderr",
          "output_type": "stream",
          "text": [
            "2025-07-12 16:15:51,592 INFO Request ID is 026df49e-f54b-4fd2-aa86-585c262bfcca\n",
            "2025-07-12 16:15:51,720 INFO status has been updated to accepted\n",
            "2025-07-12 16:16:04,501 INFO status has been updated to running\n",
            "2025-07-12 16:16:12,251 INFO status has been updated to successful\n",
            "2025-07-12 16:16:13,931 INFO Request ID is 56847a2d-6466-41cb-879a-1da97f0b4947         \n"
          ]
        },
        {
          "name": "stdout",
          "output_type": "stream",
          "text": [
            "Downloaded data for 2025-01-15 13:00 and saved as /Users/yiyi/Desktop/2025_1/era5_land_20250115_1300.grib\n"
          ]
        },
        {
          "name": "stderr",
          "output_type": "stream",
          "text": [
            "2025-07-12 16:16:14,060 INFO status has been updated to accepted\n",
            "2025-07-12 16:16:26,814 INFO status has been updated to successful\n",
            "                                                                                        \r"
          ]
        },
        {
          "name": "stdout",
          "output_type": "stream",
          "text": [
            "Downloaded data for 2025-01-15 14:00 and saved as /Users/yiyi/Desktop/2025_1/era5_land_20250115_1400.grib\n"
          ]
        },
        {
          "name": "stderr",
          "output_type": "stream",
          "text": [
            "2025-07-12 16:16:28,510 INFO Request ID is fd173ebe-b949-410d-8048-531a6989e9f7\n",
            "2025-07-12 16:16:28,662 INFO status has been updated to accepted\n",
            "2025-07-12 16:16:41,529 INFO status has been updated to successful\n",
            "                                                                                        \r"
          ]
        },
        {
          "name": "stdout",
          "output_type": "stream",
          "text": [
            "Downloaded data for 2025-01-15 15:00 and saved as /Users/yiyi/Desktop/2025_1/era5_land_20250115_1500.grib\n"
          ]
        },
        {
          "name": "stderr",
          "output_type": "stream",
          "text": [
            "2025-07-12 16:16:43,222 INFO Request ID is cd9fa3ff-c4aa-4b30-8a83-f4a9ce7b0acd\n",
            "2025-07-12 16:16:43,347 INFO status has been updated to accepted\n",
            "2025-07-12 16:16:50,897 INFO status has been updated to running\n",
            "2025-07-12 16:16:56,095 INFO status has been updated to successful\n",
            "                                                                                        \r"
          ]
        },
        {
          "name": "stdout",
          "output_type": "stream",
          "text": [
            "Downloaded data for 2025-01-15 16:00 and saved as /Users/yiyi/Desktop/2025_1/era5_land_20250115_1600.grib\n"
          ]
        },
        {
          "name": "stderr",
          "output_type": "stream",
          "text": [
            "2025-07-12 16:16:58,235 INFO Request ID is cfb01634-ab0d-4a5e-8a22-16ea38ec7d25\n",
            "2025-07-12 16:16:58,360 INFO status has been updated to accepted\n",
            "2025-07-12 16:17:05,891 INFO status has been updated to running\n",
            "2025-07-12 16:17:18,906 INFO status has been updated to successful\n",
            "                                                                                        \r"
          ]
        },
        {
          "name": "stdout",
          "output_type": "stream",
          "text": [
            "Downloaded data for 2025-01-15 17:00 and saved as /Users/yiyi/Desktop/2025_1/era5_land_20250115_1700.grib\n"
          ]
        },
        {
          "name": "stderr",
          "output_type": "stream",
          "text": [
            "2025-07-12 16:17:20,827 INFO Request ID is 896b6e95-01cf-4083-845b-cea21a0fe690\n",
            "2025-07-12 16:17:20,982 INFO status has been updated to accepted\n",
            "2025-07-12 16:17:28,765 INFO status has been updated to running\n",
            "2025-07-12 16:17:33,963 INFO status has been updated to successful\n",
            "                                                                                        \r"
          ]
        },
        {
          "name": "stdout",
          "output_type": "stream",
          "text": [
            "Downloaded data for 2025-01-15 18:00 and saved as /Users/yiyi/Desktop/2025_1/era5_land_20250115_1800.grib\n"
          ]
        },
        {
          "name": "stderr",
          "output_type": "stream",
          "text": [
            "2025-07-12 16:17:35,671 INFO Request ID is 9acc30bf-1c6c-4fef-b4a1-aee541111f65\n",
            "2025-07-12 16:17:35,811 INFO status has been updated to accepted\n",
            "2025-07-12 16:17:43,386 INFO status has been updated to successful\n",
            "                                                                                        \r"
          ]
        },
        {
          "name": "stdout",
          "output_type": "stream",
          "text": [
            "Downloaded data for 2025-01-15 19:00 and saved as /Users/yiyi/Desktop/2025_1/era5_land_20250115_1900.grib\n"
          ]
        },
        {
          "name": "stderr",
          "output_type": "stream",
          "text": [
            "2025-07-12 16:17:45,099 INFO Request ID is 20399101-eddd-4831-b5a3-adc6187e6adf\n",
            "2025-07-12 16:17:45,232 INFO status has been updated to accepted\n",
            "2025-07-12 16:17:52,816 INFO status has been updated to successful\n",
            "2025-07-12 16:17:54,508 INFO Request ID is 161f70b3-b246-4c51-bea7-f2636d85cd70         \n"
          ]
        },
        {
          "name": "stdout",
          "output_type": "stream",
          "text": [
            "Downloaded data for 2025-01-15 20:00 and saved as /Users/yiyi/Desktop/2025_1/era5_land_20250115_2000.grib\n"
          ]
        },
        {
          "name": "stderr",
          "output_type": "stream",
          "text": [
            "2025-07-12 16:17:54,636 INFO status has been updated to accepted\n",
            "2025-07-12 16:18:02,308 INFO status has been updated to successful\n",
            "2025-07-12 16:18:04,657 INFO Request ID is 4df0d3f5-6ca2-4ead-80d0-640a516a92f2         \n"
          ]
        },
        {
          "name": "stdout",
          "output_type": "stream",
          "text": [
            "Downloaded data for 2025-01-15 21:00 and saved as /Users/yiyi/Desktop/2025_1/era5_land_20250115_2100.grib\n"
          ]
        },
        {
          "name": "stderr",
          "output_type": "stream",
          "text": [
            "2025-07-12 16:18:04,808 INFO status has been updated to accepted\n",
            "2025-07-12 16:18:08,828 INFO status has been updated to running\n",
            "2025-07-12 16:18:12,345 INFO status has been updated to successful\n",
            "                                                                                        \r"
          ]
        },
        {
          "name": "stdout",
          "output_type": "stream",
          "text": [
            "Downloaded data for 2025-01-15 22:00 and saved as /Users/yiyi/Desktop/2025_1/era5_land_20250115_2200.grib\n"
          ]
        },
        {
          "name": "stderr",
          "output_type": "stream",
          "text": [
            "2025-07-12 16:18:14,111 INFO Request ID is 83b6b9c8-25f1-4338-a50d-62f9982c5cdc\n",
            "2025-07-12 16:18:14,243 INFO status has been updated to accepted\n",
            "2025-07-12 16:18:22,044 INFO status has been updated to running\n",
            "2025-07-12 16:18:27,234 INFO status has been updated to successful\n",
            "                                                                                        "
          ]
        },
        {
          "name": "stdout",
          "output_type": "stream",
          "text": [
            "Downloaded data for 2025-01-15 23:00 and saved as /Users/yiyi/Desktop/2025_1/era5_land_20250115_2300.grib\n"
          ]
        },
        {
          "name": "stderr",
          "output_type": "stream",
          "text": [
            "\r"
          ]
        }
      ],
      "source": [
        "# Specify start and end date, bounding geometry, and variables to download\n",
        "start_date = datetime(2025, 1, 14)\n",
        "end_date = datetime(2025, 1, 15)\n",
        "area = [31.0954, 72.4750, 12.4319, 94.802]  # North, West, South, East bounding box\n",
        "variables = ['2m_temperature', '10m_u_component_of_wind', '10m_v_component_of_wind', 'total_precipitation']\n",
        "\n",
        "# Run the function\n",
        "download_era5_data(start_date, end_date, area, variables, folder_path)\n"
      ]
    }
  ],
  "metadata": {
    "colab": {
      "provenance": []
    },
    "kernelspec": {
      "display_name": "Python 3",
      "name": "python3"
    },
    "language_info": {
      "codemirror_mode": {
        "name": "ipython",
        "version": 3
      },
      "file_extension": ".py",
      "mimetype": "text/x-python",
      "name": "python",
      "nbconvert_exporter": "python",
      "pygments_lexer": "ipython3",
      "version": "3.9.16"
    },
    "widgets": {
      "application/vnd.jupyter.widget-state+json": {
        "0e485bf86da245dcad353d4fb4c3aa3b": {
          "model_module": "@jupyter-widgets/controls",
          "model_module_version": "1.5.0",
          "model_name": "ProgressStyleModel",
          "state": {
            "_model_module": "@jupyter-widgets/controls",
            "_model_module_version": "1.5.0",
            "_model_name": "ProgressStyleModel",
            "_view_count": null,
            "_view_module": "@jupyter-widgets/base",
            "_view_module_version": "1.2.0",
            "_view_name": "StyleView",
            "bar_color": null,
            "description_width": ""
          }
        },
        "116dfd1f9afc49e396d97b6f0dc91d05": {
          "model_module": "@jupyter-widgets/controls",
          "model_module_version": "1.5.0",
          "model_name": "FloatProgressModel",
          "state": {
            "_dom_classes": [],
            "_model_module": "@jupyter-widgets/controls",
            "_model_module_version": "1.5.0",
            "_model_name": "FloatProgressModel",
            "_view_count": null,
            "_view_module": "@jupyter-widgets/controls",
            "_view_module_version": "1.5.0",
            "_view_name": "ProgressView",
            "bar_style": "",
            "description": "",
            "description_tooltip": null,
            "layout": "IPY_MODEL_fe0ae162cc2740478383251fdee98441",
            "max": 293614,
            "min": 0,
            "orientation": "horizontal",
            "style": "IPY_MODEL_42ebf8baf5104a07aec5ef349f715a0f",
            "value": 293614
          }
        },
        "1a6f22530f91400db4d55c5b6771141c": {
          "model_module": "@jupyter-widgets/base",
          "model_module_version": "1.2.0",
          "model_name": "LayoutModel",
          "state": {
            "_model_module": "@jupyter-widgets/base",
            "_model_module_version": "1.2.0",
            "_model_name": "LayoutModel",
            "_view_count": null,
            "_view_module": "@jupyter-widgets/base",
            "_view_module_version": "1.2.0",
            "_view_name": "LayoutView",
            "align_content": null,
            "align_items": null,
            "align_self": null,
            "border": null,
            "bottom": null,
            "display": null,
            "flex": null,
            "flex_flow": null,
            "grid_area": null,
            "grid_auto_columns": null,
            "grid_auto_flow": null,
            "grid_auto_rows": null,
            "grid_column": null,
            "grid_gap": null,
            "grid_row": null,
            "grid_template_areas": null,
            "grid_template_columns": null,
            "grid_template_rows": null,
            "height": null,
            "justify_content": null,
            "justify_items": null,
            "left": null,
            "margin": null,
            "max_height": null,
            "max_width": null,
            "min_height": null,
            "min_width": null,
            "object_fit": null,
            "object_position": null,
            "order": null,
            "overflow": null,
            "overflow_x": null,
            "overflow_y": null,
            "padding": null,
            "right": null,
            "top": null,
            "visibility": null,
            "width": null
          }
        },
        "26b56e13662141d3b43872821781a0cc": {
          "model_module": "@jupyter-widgets/controls",
          "model_module_version": "1.5.0",
          "model_name": "DescriptionStyleModel",
          "state": {
            "_model_module": "@jupyter-widgets/controls",
            "_model_module_version": "1.5.0",
            "_model_name": "DescriptionStyleModel",
            "_view_count": null,
            "_view_module": "@jupyter-widgets/base",
            "_view_module_version": "1.2.0",
            "_view_name": "StyleView",
            "description_width": ""
          }
        },
        "2ac12211a353421e9a740a5aebbce9c8": {
          "model_module": "@jupyter-widgets/controls",
          "model_module_version": "1.5.0",
          "model_name": "DescriptionStyleModel",
          "state": {
            "_model_module": "@jupyter-widgets/controls",
            "_model_module_version": "1.5.0",
            "_model_name": "DescriptionStyleModel",
            "_view_count": null,
            "_view_module": "@jupyter-widgets/base",
            "_view_module_version": "1.2.0",
            "_view_name": "StyleView",
            "description_width": ""
          }
        },
        "2d35131415004c2283b5b72615750fc8": {
          "model_module": "@jupyter-widgets/controls",
          "model_module_version": "1.5.0",
          "model_name": "HTMLModel",
          "state": {
            "_dom_classes": [],
            "_model_module": "@jupyter-widgets/controls",
            "_model_module_version": "1.5.0",
            "_model_name": "HTMLModel",
            "_view_count": null,
            "_view_module": "@jupyter-widgets/controls",
            "_view_module_version": "1.5.0",
            "_view_name": "HTMLView",
            "description": "",
            "description_tooltip": null,
            "layout": "IPY_MODEL_fc1ab6711f534e4d8c909b3291f13ef9",
            "placeholder": "​",
            "style": "IPY_MODEL_2ac12211a353421e9a740a5aebbce9c8",
            "value": " 287k/287k [00:00&lt;00:00, 888kB/s]"
          }
        },
        "3507478e036141a2b79c2c74f14207a7": {
          "model_module": "@jupyter-widgets/controls",
          "model_module_version": "1.5.0",
          "model_name": "DescriptionStyleModel",
          "state": {
            "_model_module": "@jupyter-widgets/controls",
            "_model_module_version": "1.5.0",
            "_model_name": "DescriptionStyleModel",
            "_view_count": null,
            "_view_module": "@jupyter-widgets/base",
            "_view_module_version": "1.2.0",
            "_view_name": "StyleView",
            "description_width": ""
          }
        },
        "3a588098072c47a9a7e6ce1043802217": {
          "model_module": "@jupyter-widgets/controls",
          "model_module_version": "1.5.0",
          "model_name": "HBoxModel",
          "state": {
            "_dom_classes": [],
            "_model_module": "@jupyter-widgets/controls",
            "_model_module_version": "1.5.0",
            "_model_name": "HBoxModel",
            "_view_count": null,
            "_view_module": "@jupyter-widgets/controls",
            "_view_module_version": "1.5.0",
            "_view_name": "HBoxView",
            "box_style": "",
            "children": [
              "IPY_MODEL_be2702be2c3e408cb73fc0401008ccec",
              "IPY_MODEL_597bfef02425433f8862de3dfffe20a8",
              "IPY_MODEL_a2e90e3ea78449d0af079957c554076f"
            ],
            "layout": "IPY_MODEL_bb84d7ac57664353864a02c0295c2b40"
          }
        },
        "3daa81cb137d4304b95a8d8a87b1db52": {
          "model_module": "@jupyter-widgets/base",
          "model_module_version": "1.2.0",
          "model_name": "LayoutModel",
          "state": {
            "_model_module": "@jupyter-widgets/base",
            "_model_module_version": "1.2.0",
            "_model_name": "LayoutModel",
            "_view_count": null,
            "_view_module": "@jupyter-widgets/base",
            "_view_module_version": "1.2.0",
            "_view_name": "LayoutView",
            "align_content": null,
            "align_items": null,
            "align_self": null,
            "border": null,
            "bottom": null,
            "display": null,
            "flex": null,
            "flex_flow": null,
            "grid_area": null,
            "grid_auto_columns": null,
            "grid_auto_flow": null,
            "grid_auto_rows": null,
            "grid_column": null,
            "grid_gap": null,
            "grid_row": null,
            "grid_template_areas": null,
            "grid_template_columns": null,
            "grid_template_rows": null,
            "height": null,
            "justify_content": null,
            "justify_items": null,
            "left": null,
            "margin": null,
            "max_height": null,
            "max_width": null,
            "min_height": null,
            "min_width": null,
            "object_fit": null,
            "object_position": null,
            "order": null,
            "overflow": null,
            "overflow_x": null,
            "overflow_y": null,
            "padding": null,
            "right": null,
            "top": null,
            "visibility": null,
            "width": null
          }
        },
        "42ebf8baf5104a07aec5ef349f715a0f": {
          "model_module": "@jupyter-widgets/controls",
          "model_module_version": "1.5.0",
          "model_name": "ProgressStyleModel",
          "state": {
            "_model_module": "@jupyter-widgets/controls",
            "_model_module_version": "1.5.0",
            "_model_name": "ProgressStyleModel",
            "_view_count": null,
            "_view_module": "@jupyter-widgets/base",
            "_view_module_version": "1.2.0",
            "_view_name": "StyleView",
            "bar_color": null,
            "description_width": ""
          }
        },
        "45a0685607ea46ca83c7414f65c45367": {
          "model_module": "@jupyter-widgets/controls",
          "model_module_version": "1.5.0",
          "model_name": "HTMLModel",
          "state": {
            "_dom_classes": [],
            "_model_module": "@jupyter-widgets/controls",
            "_model_module_version": "1.5.0",
            "_model_name": "HTMLModel",
            "_view_count": null,
            "_view_module": "@jupyter-widgets/controls",
            "_view_module_version": "1.5.0",
            "_view_name": "HTMLView",
            "description": "",
            "description_tooltip": null,
            "layout": "IPY_MODEL_d58f66fa94e4466f88218334f6bec8c4",
            "placeholder": "​",
            "style": "IPY_MODEL_d0a4fc4709dc46eba750263f2dac22a3",
            "value": "7d5f1c96211e749ddc0b1bbc5e545771.grib: 100%"
          }
        },
        "597bfef02425433f8862de3dfffe20a8": {
          "model_module": "@jupyter-widgets/controls",
          "model_module_version": "1.5.0",
          "model_name": "FloatProgressModel",
          "state": {
            "_dom_classes": [],
            "_model_module": "@jupyter-widgets/controls",
            "_model_module_version": "1.5.0",
            "_model_name": "FloatProgressModel",
            "_view_count": null,
            "_view_module": "@jupyter-widgets/controls",
            "_view_module_version": "1.5.0",
            "_view_name": "ProgressView",
            "bar_style": "",
            "description": "",
            "description_tooltip": null,
            "layout": "IPY_MODEL_1a6f22530f91400db4d55c5b6771141c",
            "max": 65842,
            "min": 0,
            "orientation": "horizontal",
            "style": "IPY_MODEL_0e485bf86da245dcad353d4fb4c3aa3b",
            "value": 65842
          }
        },
        "a2e90e3ea78449d0af079957c554076f": {
          "model_module": "@jupyter-widgets/controls",
          "model_module_version": "1.5.0",
          "model_name": "HTMLModel",
          "state": {
            "_dom_classes": [],
            "_model_module": "@jupyter-widgets/controls",
            "_model_module_version": "1.5.0",
            "_model_name": "HTMLModel",
            "_view_count": null,
            "_view_module": "@jupyter-widgets/controls",
            "_view_module_version": "1.5.0",
            "_view_name": "HTMLView",
            "description": "",
            "description_tooltip": null,
            "layout": "IPY_MODEL_fd3499f0b3754567a68ac1268e05cef4",
            "placeholder": "​",
            "style": "IPY_MODEL_3507478e036141a2b79c2c74f14207a7",
            "value": " 64.3k/64.3k [00:00&lt;00:00, 301kB/s]"
          }
        },
        "bb84d7ac57664353864a02c0295c2b40": {
          "model_module": "@jupyter-widgets/base",
          "model_module_version": "1.2.0",
          "model_name": "LayoutModel",
          "state": {
            "_model_module": "@jupyter-widgets/base",
            "_model_module_version": "1.2.0",
            "_model_name": "LayoutModel",
            "_view_count": null,
            "_view_module": "@jupyter-widgets/base",
            "_view_module_version": "1.2.0",
            "_view_name": "LayoutView",
            "align_content": null,
            "align_items": null,
            "align_self": null,
            "border": null,
            "bottom": null,
            "display": null,
            "flex": null,
            "flex_flow": null,
            "grid_area": null,
            "grid_auto_columns": null,
            "grid_auto_flow": null,
            "grid_auto_rows": null,
            "grid_column": null,
            "grid_gap": null,
            "grid_row": null,
            "grid_template_areas": null,
            "grid_template_columns": null,
            "grid_template_rows": null,
            "height": null,
            "justify_content": null,
            "justify_items": null,
            "left": null,
            "margin": null,
            "max_height": null,
            "max_width": null,
            "min_height": null,
            "min_width": null,
            "object_fit": null,
            "object_position": null,
            "order": null,
            "overflow": null,
            "overflow_x": null,
            "overflow_y": null,
            "padding": null,
            "right": null,
            "top": null,
            "visibility": "hidden",
            "width": null
          }
        },
        "be2702be2c3e408cb73fc0401008ccec": {
          "model_module": "@jupyter-widgets/controls",
          "model_module_version": "1.5.0",
          "model_name": "HTMLModel",
          "state": {
            "_dom_classes": [],
            "_model_module": "@jupyter-widgets/controls",
            "_model_module_version": "1.5.0",
            "_model_name": "HTMLModel",
            "_view_count": null,
            "_view_module": "@jupyter-widgets/controls",
            "_view_module_version": "1.5.0",
            "_view_name": "HTMLView",
            "description": "",
            "description_tooltip": null,
            "layout": "IPY_MODEL_3daa81cb137d4304b95a8d8a87b1db52",
            "placeholder": "​",
            "style": "IPY_MODEL_26b56e13662141d3b43872821781a0cc",
            "value": "374cb40effdc26117c641a0957e0293a.grib: 100%"
          }
        },
        "d0a4fc4709dc46eba750263f2dac22a3": {
          "model_module": "@jupyter-widgets/controls",
          "model_module_version": "1.5.0",
          "model_name": "DescriptionStyleModel",
          "state": {
            "_model_module": "@jupyter-widgets/controls",
            "_model_module_version": "1.5.0",
            "_model_name": "DescriptionStyleModel",
            "_view_count": null,
            "_view_module": "@jupyter-widgets/base",
            "_view_module_version": "1.2.0",
            "_view_name": "StyleView",
            "description_width": ""
          }
        },
        "d58f66fa94e4466f88218334f6bec8c4": {
          "model_module": "@jupyter-widgets/base",
          "model_module_version": "1.2.0",
          "model_name": "LayoutModel",
          "state": {
            "_model_module": "@jupyter-widgets/base",
            "_model_module_version": "1.2.0",
            "_model_name": "LayoutModel",
            "_view_count": null,
            "_view_module": "@jupyter-widgets/base",
            "_view_module_version": "1.2.0",
            "_view_name": "LayoutView",
            "align_content": null,
            "align_items": null,
            "align_self": null,
            "border": null,
            "bottom": null,
            "display": null,
            "flex": null,
            "flex_flow": null,
            "grid_area": null,
            "grid_auto_columns": null,
            "grid_auto_flow": null,
            "grid_auto_rows": null,
            "grid_column": null,
            "grid_gap": null,
            "grid_row": null,
            "grid_template_areas": null,
            "grid_template_columns": null,
            "grid_template_rows": null,
            "height": null,
            "justify_content": null,
            "justify_items": null,
            "left": null,
            "margin": null,
            "max_height": null,
            "max_width": null,
            "min_height": null,
            "min_width": null,
            "object_fit": null,
            "object_position": null,
            "order": null,
            "overflow": null,
            "overflow_x": null,
            "overflow_y": null,
            "padding": null,
            "right": null,
            "top": null,
            "visibility": null,
            "width": null
          }
        },
        "ddb578128c9f4f60b967341059226e7a": {
          "model_module": "@jupyter-widgets/controls",
          "model_module_version": "1.5.0",
          "model_name": "HBoxModel",
          "state": {
            "_dom_classes": [],
            "_model_module": "@jupyter-widgets/controls",
            "_model_module_version": "1.5.0",
            "_model_name": "HBoxModel",
            "_view_count": null,
            "_view_module": "@jupyter-widgets/controls",
            "_view_module_version": "1.5.0",
            "_view_name": "HBoxView",
            "box_style": "",
            "children": [
              "IPY_MODEL_45a0685607ea46ca83c7414f65c45367",
              "IPY_MODEL_116dfd1f9afc49e396d97b6f0dc91d05",
              "IPY_MODEL_2d35131415004c2283b5b72615750fc8"
            ],
            "layout": "IPY_MODEL_f3b459061e834bf5be34a668c179a24b"
          }
        },
        "f3b459061e834bf5be34a668c179a24b": {
          "model_module": "@jupyter-widgets/base",
          "model_module_version": "1.2.0",
          "model_name": "LayoutModel",
          "state": {
            "_model_module": "@jupyter-widgets/base",
            "_model_module_version": "1.2.0",
            "_model_name": "LayoutModel",
            "_view_count": null,
            "_view_module": "@jupyter-widgets/base",
            "_view_module_version": "1.2.0",
            "_view_name": "LayoutView",
            "align_content": null,
            "align_items": null,
            "align_self": null,
            "border": null,
            "bottom": null,
            "display": null,
            "flex": null,
            "flex_flow": null,
            "grid_area": null,
            "grid_auto_columns": null,
            "grid_auto_flow": null,
            "grid_auto_rows": null,
            "grid_column": null,
            "grid_gap": null,
            "grid_row": null,
            "grid_template_areas": null,
            "grid_template_columns": null,
            "grid_template_rows": null,
            "height": null,
            "justify_content": null,
            "justify_items": null,
            "left": null,
            "margin": null,
            "max_height": null,
            "max_width": null,
            "min_height": null,
            "min_width": null,
            "object_fit": null,
            "object_position": null,
            "order": null,
            "overflow": null,
            "overflow_x": null,
            "overflow_y": null,
            "padding": null,
            "right": null,
            "top": null,
            "visibility": "hidden",
            "width": null
          }
        },
        "fc1ab6711f534e4d8c909b3291f13ef9": {
          "model_module": "@jupyter-widgets/base",
          "model_module_version": "1.2.0",
          "model_name": "LayoutModel",
          "state": {
            "_model_module": "@jupyter-widgets/base",
            "_model_module_version": "1.2.0",
            "_model_name": "LayoutModel",
            "_view_count": null,
            "_view_module": "@jupyter-widgets/base",
            "_view_module_version": "1.2.0",
            "_view_name": "LayoutView",
            "align_content": null,
            "align_items": null,
            "align_self": null,
            "border": null,
            "bottom": null,
            "display": null,
            "flex": null,
            "flex_flow": null,
            "grid_area": null,
            "grid_auto_columns": null,
            "grid_auto_flow": null,
            "grid_auto_rows": null,
            "grid_column": null,
            "grid_gap": null,
            "grid_row": null,
            "grid_template_areas": null,
            "grid_template_columns": null,
            "grid_template_rows": null,
            "height": null,
            "justify_content": null,
            "justify_items": null,
            "left": null,
            "margin": null,
            "max_height": null,
            "max_width": null,
            "min_height": null,
            "min_width": null,
            "object_fit": null,
            "object_position": null,
            "order": null,
            "overflow": null,
            "overflow_x": null,
            "overflow_y": null,
            "padding": null,
            "right": null,
            "top": null,
            "visibility": null,
            "width": null
          }
        },
        "fd3499f0b3754567a68ac1268e05cef4": {
          "model_module": "@jupyter-widgets/base",
          "model_module_version": "1.2.0",
          "model_name": "LayoutModel",
          "state": {
            "_model_module": "@jupyter-widgets/base",
            "_model_module_version": "1.2.0",
            "_model_name": "LayoutModel",
            "_view_count": null,
            "_view_module": "@jupyter-widgets/base",
            "_view_module_version": "1.2.0",
            "_view_name": "LayoutView",
            "align_content": null,
            "align_items": null,
            "align_self": null,
            "border": null,
            "bottom": null,
            "display": null,
            "flex": null,
            "flex_flow": null,
            "grid_area": null,
            "grid_auto_columns": null,
            "grid_auto_flow": null,
            "grid_auto_rows": null,
            "grid_column": null,
            "grid_gap": null,
            "grid_row": null,
            "grid_template_areas": null,
            "grid_template_columns": null,
            "grid_template_rows": null,
            "height": null,
            "justify_content": null,
            "justify_items": null,
            "left": null,
            "margin": null,
            "max_height": null,
            "max_width": null,
            "min_height": null,
            "min_width": null,
            "object_fit": null,
            "object_position": null,
            "order": null,
            "overflow": null,
            "overflow_x": null,
            "overflow_y": null,
            "padding": null,
            "right": null,
            "top": null,
            "visibility": null,
            "width": null
          }
        },
        "fe0ae162cc2740478383251fdee98441": {
          "model_module": "@jupyter-widgets/base",
          "model_module_version": "1.2.0",
          "model_name": "LayoutModel",
          "state": {
            "_model_module": "@jupyter-widgets/base",
            "_model_module_version": "1.2.0",
            "_model_name": "LayoutModel",
            "_view_count": null,
            "_view_module": "@jupyter-widgets/base",
            "_view_module_version": "1.2.0",
            "_view_name": "LayoutView",
            "align_content": null,
            "align_items": null,
            "align_self": null,
            "border": null,
            "bottom": null,
            "display": null,
            "flex": null,
            "flex_flow": null,
            "grid_area": null,
            "grid_auto_columns": null,
            "grid_auto_flow": null,
            "grid_auto_rows": null,
            "grid_column": null,
            "grid_gap": null,
            "grid_row": null,
            "grid_template_areas": null,
            "grid_template_columns": null,
            "grid_template_rows": null,
            "height": null,
            "justify_content": null,
            "justify_items": null,
            "left": null,
            "margin": null,
            "max_height": null,
            "max_width": null,
            "min_height": null,
            "min_width": null,
            "object_fit": null,
            "object_position": null,
            "order": null,
            "overflow": null,
            "overflow_x": null,
            "overflow_y": null,
            "padding": null,
            "right": null,
            "top": null,
            "visibility": null,
            "width": null
          }
        }
      }
    }
  },
  "nbformat": 4,
  "nbformat_minor": 0
}
